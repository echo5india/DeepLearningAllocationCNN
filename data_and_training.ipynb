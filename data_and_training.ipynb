{
 "cells": [
  {
   "cell_type": "code",
   "execution_count": 1,
   "metadata": {},
   "outputs": [
    {
     "name": "stderr",
     "output_type": "stream",
     "text": [
      "C:\\ProgramData\\Anaconda3\\lib\\site-packages\\h5py\\__init__.py:36: FutureWarning: Conversion of the second argument of issubdtype from `float` to `np.floating` is deprecated. In future, it will be treated as `np.float64 == np.dtype(float).type`.\n",
      "  from ._conv import register_converters as _register_converters\n"
     ]
    }
   ],
   "source": [
    "from models import train_predict,CondensedGoogLeNet\n",
    "from models.train_predict import get_confusion_matrix\n",
    "from data.data_processing import generate_dummy_data,DataHandler,get_training_data_from_path\n",
    "from config.hyperparams import GoogleNet_hyperparams\n",
    "from backtest.backtest import Backtester\n",
    "\n",
    "\n",
    "import tensorflow as tf\n",
    "import pandas as pd\n",
    "import numpy as np\n",
    "import os\n",
    "\n",
    "%load_ext autoreload\n",
    "%autoreload 2\n",
    "%matplotlib inline"
   ]
  },
  {
   "cell_type": "code",
   "execution_count": 2,
   "metadata": {},
   "outputs": [],
   "source": [
    "folder_for_samples = 'data/cnn_samples'"
   ]
  },
  {
   "cell_type": "markdown",
   "metadata": {},
   "source": [
    "# Data Processing"
   ]
  },
  {
   "cell_type": "markdown",
   "metadata": {},
   "source": [
    "## Get stock data in Handler object"
   ]
  },
  {
   "cell_type": "code",
   "execution_count": 12,
   "metadata": {},
   "outputs": [],
   "source": [
    "# path_to_dump_samples = os.path.join(folder_for_samples,'regular')\n",
    "path_to_dump_samples = os.path.join(folder_for_samples,'close-1_week-2015_2018-16_pixels')\n",
    "\n",
    "handler = DataHandler(encoding_method='GADF', window_len=64, image_size=16, retrain_freq=5,\n",
    "                 start_date = 20150101, end_date= 20200102, frac_of_stocks=0.07,\n",
    "                stock_data_dir_path= 'data/2019_stock_data',targets_methods=['close'],\n",
    "                 dir_for_samples=path_to_dump_samples, nb_of_stocks_by_file=100,\n",
    "                      kwargs_target_methods = {'up_return':0.012,'down_return':-0.012,'buy_on_last_date':True}\n",
    "                 )"
   ]
  },
  {
   "cell_type": "code",
   "execution_count": 13,
   "metadata": {},
   "outputs": [
    {
     "data": {
      "application/vnd.jupyter.widget-view+json": {
       "model_id": "995d6694205d444ab0ab45ba0320ef9f",
       "version_major": 2,
       "version_minor": 0
      },
      "text/plain": [
       "Textarea(value='', layout=Layout(border='1px solid #999999', height='200px', width='100%'))"
      ]
     },
     "metadata": {},
     "output_type": "display_data"
    }
   ],
   "source": [
    "handler.get_df_data()"
   ]
  },
  {
   "cell_type": "code",
   "execution_count": 14,
   "metadata": {},
   "outputs": [],
   "source": [
    "# handler.show_image(handler.df_data)"
   ]
  },
  {
   "cell_type": "markdown",
   "metadata": {},
   "source": [
    "## Builds images and targets and creates pickles\n",
    "+ Be careful for the folder name (specified in handler object), this function will delete all files in this folder before dumping pickles"
   ]
  },
  {
   "cell_type": "code",
   "execution_count": 15,
   "metadata": {
    "scrolled": false
   },
   "outputs": [
    {
     "data": {
      "application/vnd.jupyter.widget-view+json": {
       "model_id": "1971e4fa5ad249a6bb7e9362d167105c",
       "version_major": 2,
       "version_minor": 0
      },
      "text/plain": [
       "Textarea(value='', layout=Layout(border='1px solid #999999', height='200px', width='100%'))"
      ]
     },
     "metadata": {},
     "output_type": "display_data"
    },
    {
     "name": "stderr",
     "output_type": "stream",
     "text": [
      "C:\\Users\\elior illouz\\Notebooks\\Deep Learning\\DeepLearningAllocationCNN\\data\\data_processing.py:313: FutureWarning: Sorting because non-concatenation axis is not aligned. A future version\n",
      "of pandas will change to not sort by default.\n",
      "\n",
      "To accept the future behavior, pass 'sort=False'.\n",
      "\n",
      "To retain the current behavior and silence the warning, pass 'sort=True'.\n",
      "\n",
      "  df_res = pd.concat([df_res, df_res_one_permno])\n"
     ]
    }
   ],
   "source": [
    "handler.build_and_dump_images_and_targets()"
   ]
  },
  {
   "cell_type": "markdown",
   "metadata": {},
   "source": [
    "# Training"
   ]
  },
  {
   "cell_type": "markdown",
   "metadata": {},
   "source": [
    "## Retrieve data from the specified folder\n",
    "+ '/regular' is the default to retrieve samples\n",
    "+ '/VWAP_1_week_2015_2017_all_stocks' is another one"
   ]
  },
  {
   "cell_type": "code",
   "execution_count": 18,
   "metadata": {},
   "outputs": [
    {
     "data": {
      "application/vnd.jupyter.widget-view+json": {
       "model_id": "ce71740e331342d790903a9dea9f05d8",
       "version_major": 2,
       "version_minor": 0
      },
      "text/plain": [
       "Textarea(value='', layout=Layout(border='1px solid #999999', height='200px', width='100%'))"
      ]
     },
     "metadata": {},
     "output_type": "display_data"
    },
    {
     "name": "stdout",
     "output_type": "stream",
     "text": [
      "Wall time: 879 ms\n"
     ]
    }
   ],
   "source": [
    "%%time\n",
    "\n",
    "# path_to_retrieve_samples = folder_for_samples+'/regular'\n",
    "path_to_retrieve_samples = folder_for_samples+'/close-1_week-2015_2018-16_pixels'\n",
    "\n",
    "\n",
    "\n",
    "X_train, X_val, X_test, Y_train, Y_val, Y_test = get_training_data_from_path(samples_path=path_to_retrieve_samples,\n",
    "                                targets_type='close',\n",
    "                                train_val_size=2 / 3.,\n",
    "                                train_size=0.75,\n",
    "                                logger_env='Training')\n"
   ]
  },
  {
   "cell_type": "markdown",
   "metadata": {},
   "source": [
    "## Build the neural network object and Train the network \n",
    "+ Choose your params BE CAREFUL about the path to drop the model_checkpoints\n",
    "+ Choose or update hyperparameters\n",
    "+ If you run restore = True Choose the checkpoint.meta file to use for the model to load\n",
    "\n",
    "###### Then \n",
    "\n",
    "+ Choose parameters for the train_predict function \n",
    "+ Run the next cell to build the network object and train"
   ]
  },
  {
   "cell_type": "code",
   "execution_count": 19,
   "metadata": {},
   "outputs": [],
   "source": [
    "shape_x,shape_y = list(X_train.shape),list(Y_train.shape)\n",
    "shape_x[0],shape_y[0] = None,None\n",
    "\n",
    "GoogleNet_hyperparams.update({'learning_rate':0.003,'dropout':0.1})\n",
    "\n",
    "# penalty factor assigned for misclassifying i to j. It used to combine sample prior (distribution of classes in the training\n",
    "# sample) to compute expected penalty of misclassifying i-th class\n",
    "cost_matrix=np.array([[0, 1.1, 1.4], [1.1, 0, 1.1], [1.4, 1.1, 0]])\n",
    "\n",
    "n_test = 5000\n",
    "checkpoints_folder = 'model_checkpoints'\n",
    "checkpoint_prefix = 'ckpt-close-1_week-2015_2018-16_pixels'\n",
    "model_checkpoints_path = os.path.join(checkpoints_folder,checkpoint_prefix)\n",
    "\n",
    "# X_train1, X_val1, Y_train1, Y_val1 =  X_train[:n_test], X_val[:n_test], Y_train[:n_test], Y_val[:n_test]\n",
    "# X_train1, X_val1, Y_train1, Y_val1 =  X_train[n_test:], X_val[:n_test], Y_train[n_test:], Y_val[:n_test]\n",
    "X_train1, X_val1, Y_train1, Y_val1 =  X_train, X_val, Y_train, Y_val\n",
    "\n",
    "\n",
    "\n",
    "path_restore = (tf.train.latest_checkpoint('model_checkpoints') or '')+'.meta'"
   ]
  },
  {
   "cell_type": "markdown",
   "metadata": {},
   "source": [
    "#### Run the training"
   ]
  },
  {
   "cell_type": "code",
   "execution_count": null,
   "metadata": {
    "scrolled": true
   },
   "outputs": [
    {
     "data": {
      "application/vnd.jupyter.widget-view+json": {
       "model_id": "f2c358c5bd0040d69c5267018ddc6f07",
       "version_major": 2,
       "version_minor": 0
      },
      "text/plain": [
       "Textarea(value='', layout=Layout(border='1px solid #999999', height='200px', width='100%'))"
      ]
     },
     "metadata": {},
     "output_type": "display_data"
    }
   ],
   "source": [
    "network = CondensedGoogLeNet(shape_x=shape_x,shape_y=shape_y,hyperparams=GoogleNet_hyperparams)\n",
    "\n",
    "\n",
    "GN_pred, GN_training_loss, GN_val_loss = train_predict(X=X_train1, Y=Y_train1, batch_size=50, valX=X_val1, valY=Y_val1,\n",
    "                                                       model_ckpt_path=model_checkpoints_path, is_bayesian=True,cost_matrix=cost_matrix,\n",
    "                                                       epochs=4, net=network,save_step =2,cost_sensitive_loss=True,restore=False,\n",
    "                                                       model_ckpt_path_to_restore=path_restore)"
   ]
  },
  {
   "cell_type": "code",
   "execution_count": 22,
   "metadata": {},
   "outputs": [
    {
     "data": {
      "text/plain": [
       "<matplotlib.axes._subplots.AxesSubplot at 0x137849ef780>"
      ]
     },
     "execution_count": 22,
     "metadata": {},
     "output_type": "execute_result"
    },
    {
     "data": {
      "image/png": "[encoded data removed]",
      "text/plain": [
       "<Figure size 432x288 with 1 Axes>"
      ]
     },
     "metadata": {},
     "output_type": "display_data"
    }
   ],
   "source": [
    "pd.DataFrame([GN_training_loss,GN_val_loss]).T.plot()"
   ]
  },
  {
   "cell_type": "markdown",
   "metadata": {},
   "source": [
    "# Backtest"
   ]
  },
  {
   "cell_type": "code",
   "execution_count": 14,
   "metadata": {},
   "outputs": [],
   "source": [
    "checkpoints_folder = 'model_checkpoints'\n",
    "checkpoint_prefix = 'ckpt-close-1_week-2015_2018-16_pixels'\n",
    "model_checkpoints_path = os.path.join(checkpoints_folder,checkpoint_prefix)\n",
    "\n",
    "path_to_retrieve_samples = folder_for_samples+'/close-1_week-2015_2018-16_pixels'\n",
    "\n",
    "\n",
    "model_checkpoints_path_file = model_checkpoints_path+'-400.meta'\n",
    "\n",
    "backtester = Backtester(path_data=path_to_retrieve_samples,path_model_to_restore=model_checkpoints_path_file,start_date=20150406,end_date=20151103)"
   ]
  },
  {
   "cell_type": "code",
   "execution_count": 15,
   "metadata": {
    "scrolled": false
   },
   "outputs": [
    {
     "data": {
      "application/vnd.jupyter.widget-view+json": {
       "model_id": "7b8b12563821462086018b9c9d046557",
       "version_major": 2,
       "version_minor": 0
      },
      "text/plain": [
       "Textarea(value='', layout=Layout(border='1px solid #999999', height='200px', width='100%'))"
      ]
     },
     "metadata": {},
     "output_type": "display_data"
    },
    {
     "name": "stdout",
     "output_type": "stream",
     "text": [
      "(6000, 16, 16, 4)\n",
      "INFO:tensorflow:Restoring parameters from model_checkpoints\\ckpt-close-1_week-2015_2018-16_pixels-400\n"
     ]
    }
   ],
   "source": [
    "backtester.run_backtest()"
   ]
  },
  {
   "cell_type": "code",
   "execution_count": 16,
   "metadata": {},
   "outputs": [
    {
     "data": {
      "text/html": [
       "\n",
       "\n",
       "\n",
       "<link rel=\"stylesheet\" type=\"text/css\" href=\"https://cdn.datatables.net/1.10.10/css/jquery.dataTables.min.css\">\n",
       "\n",
       "<style>\n",
       "div.output_area .rendered_html table.dataTable {\n",
       "    margin: auto;\n",
       "    border: 0;\n",
       "    border-bottom: 1px solid #111;\n",
       "}\n",
       ".rendered_html table.dataTable tr, .rendered_html table.dataTable th, .rendered_html table.dataTable td {\n",
       "    border: inherit;\n",
       "}\n",
       ".rendered_html table.dataTable th {\n",
       "    border-bottom: 1px solid #111;\n",
       "}\n",
       "\n",
       "</style>\n",
       "\n",
       "<div id=\"8562f864_36fd_415d_90ef_bec473e439bd\">\n",
       "    <div id=\"8562f864_36fd_415d_90ef_bec473e439bdcontainer_chart\"></div>\n",
       "    <br/>\n",
       "    <div class=\"container_table\"></div>\n",
       "    <br/>        \n",
       "    <div class=\"container_table2\">\n",
       "        <div class=\"table_date\" style=\"width:100%; margin:0 auto; text-align:center; \"></div>\n",
       "        <br/>\n",
       "        <div class=\"container_slider\" style=\"width:100%; margin:0 auto; text-align:center;\">\n",
       "            Drawdown Number of bdays\n",
       "            <input class=\"slider\" type=range min=0 max=260 val=20 step=1 style=\"width:150px; display: inline;\"></input>\n",
       "            <input class=\"nb_bdays\" val=20 size=3 maxlength=3 style=\"display: inline;\"></input>\n",
       "        </div>\n",
       "    </div>\n",
       "</div>\n",
       "\n",
       "<div id=\"8562f864_36fd_415d_90ef_bec473e439bdcontainer_chart\"></div><script>\n",
       "    // the Jupyter notebook loads jquery.min.js  and require.js and at the top of the page\n",
       "    // then to make jquery available inside a require module\n",
       "    // the trick is http://www.manuel-strehl.de/dev/load_jquery_before_requirejs.en.html\n",
       "    define('jquery', [], function() {\n",
       "        return jQuery;\n",
       "    });\n",
       "\n",
       "    // hardcoded var - temporary\n",
       "    require(['jquery', 'https://code.highcharts.com/stock/7.0.3/highstock.js', 'https://d3js.org/d3.v3.min.js'], function(jquery,\n",
       "                         Highcharts,\n",
       "                         d3\n",
       "                         ) {\n",
       "        // hardcoded var - temporary\n",
       "        require(['https://code.highcharts.com/stock/7.0.3/highcharts-more.js', 'https://code.highcharts.com/stock/7.0.3/modules/exporting.js', 'https://code.highcharts.com/stock/7.0.3/modules/offline-exporting.js', 'https://code.highcharts.com/stock/7.0.3/modules/export-data.js', 'https://code.highcharts.com/stock/7.0.3/modules/drilldown.js', 'https://code.highcharts.com/stock/7.0.3/modules/heatmap.js', 'https://code.highcharts.com/stock/7.0.3/modules/treemap.js', 'https://code.highcharts.com/stock/7.0.3/modules/sunburst.js', 'https://cdn.datatables.net/1.10.10/js/jquery.dataTables.min.js'], function(hcMore,\n",
       "                             exporting,\n",
       "                             offLineExporting,\n",
       "                             exportData,\n",
       "                             drilldown,\n",
       "                             heatmap,\n",
       "                             treemap,\n",
       "                             sunburst,\n",
       "                             dataTables,\n",
       "                             ) {\n",
       "            hcMore(Highcharts);\n",
       "            exporting(Highcharts);\n",
       "            offLineExporting(Highcharts);\n",
       "            exportData(Highcharts);\n",
       "            drilldown(Highcharts);\n",
       "            heatmap(Highcharts);\n",
       "            treemap(Highcharts);\n",
       "            sunburst(Highcharts);\n",
       "            \n",
       "    var options = {\"credits\":{\"enabled\":false},\"exporting\":{\"enabled\":true},\"chart\":{\"animation\":false,\"width\":1000,\"height\":600,\"zoomType\":\"xy\",\"renderTo\":\"8562f864_36fd_415d_90ef_bec473e439bdcontainer_chart\"},\"plotOptions\":{\"series\":{\"animation\":false,\"compare\":\"percent\"},\"line\":{\"animation\":false},\"column\":{\"animation\":false}},\"legend\":{\"enabled\":true,\"layout\":\"horizontal\",\"align\":\"center\",\"maxHeight\":100},\"tooltip\":{\"enabled\":true,\"valueDecimals\":2},\"title\":{\"text\":\"Backtest for different strategies\"},\"subtitle\":{\"text\":\"Subtitle ? \"},\"xAxis\":{\"gridLineWidth\":1.0,\"gridLineDashStyle\":\"Dot\"},\"yAxis\":{\"gridLineWidth\":1.0,\"gridLineDashStyle\":\"Dot\"},\"series\":[{\"name\":\"10_max_long\",\"yAxis\":0,\"data\":[[1428883200000,0.9871819238],[1429488000000,0.992805655],[1430092800000,1.0088829002],[1430697600000,1.0023947514],[1431302400000,1.0126922123],[1431907200000,1.0219237856],[1432598400000,0.9924643524],[1433203200000,0.9826849164],[1433808000000,0.9939132119],[1434412800000,1.0054192765],[1435017600000,1.01432854],[1435622400000,0.998442899],[1436313600000,0.9976505811],[1436918400000,0.9964222218],[1437523200000,0.971437305],[1438128000000,0.9897510523],[1438732800000,0.9591129206],[1439337600000,0.9781059637],[1439942400000,0.9639695982],[1440547200000,0.9063713398],[1441152000000,0.9225997852],[1441843200000,0.9198740962],[1442448000000,0.9559467721],[1443052800000,0.919232993],[1443657600000,0.9041121816],[1444262400000,0.9688796099],[1444867200000,0.9781405267],[1445472000000,0.9904147906],[1446076800000,1.013267149]]},{\"name\":\"20_max_long\",\"yAxis\":0,\"data\":[[1428883200000,0.9930722635],[1429488000000,0.9989805654],[1430092800000,1.005313612],[1430697600000,0.9983930909],[1431302400000,1.0001436006],[1431907200000,1.0094938919],[1432598400000,0.982188592],[1433203200000,0.9851745487],[1433808000000,0.9815638635],[1434412800000,0.9898433189],[1435017600000,1.0019527102],[1435622400000,0.9784213869],[1436313600000,0.9438135382],[1436918400000,0.9490494534],[1437523200000,0.9303519631],[1438128000000,0.9490762651],[1438732800000,0.9221849755],[1439337600000,0.952060266],[1439942400000,0.9488294647],[1440547200000,0.8865776867],[1441152000000,0.9164399221],[1441843200000,0.9166094371],[1442448000000,0.949249666],[1443052800000,0.9191047118],[1443657600000,0.9085182971],[1444262400000,0.955483326],[1444867200000,0.9617484431],[1445472000000,0.9664909675],[1446076800000,0.9742229309]]},{\"name\":\"2_max_long\",\"yAxis\":0,\"data\":[[1428883200000,0.9712479765],[1429488000000,0.9603826431],[1430092800000,0.9765650165],[1430697600000,0.9878464137],[1431302400000,0.990168613],[1431907200000,0.9565656487],[1432598400000,0.9288663859],[1433203200000,0.9240504876],[1433808000000,0.9410242476],[1434412800000,0.9493187066],[1435017600000,0.9611731648],[1435622400000,0.9485333857],[1436313600000,0.9675605194],[1436918400000,0.9155038689],[1437523200000,0.9229931856],[1438128000000,0.9092642297],[1438732800000,0.8850495279],[1439337600000,0.9130094549],[1439942400000,0.8611517613],[1440547200000,0.7780860661],[1441152000000,0.7834959251],[1441843200000,0.7162284061],[1442448000000,0.750230882],[1443052800000,0.6811241797],[1443657600000,0.6789836893],[1444262400000,0.6906986166],[1444867200000,0.6956601859],[1445472000000,0.7038436975],[1446076800000,0.7109583788]]},{\"name\":\"Cash\",\"yAxis\":0,\"data\":[[1428883200000,1.0005866562],[1429488000000,1.0011736565],[1430092800000,1.0017610013],[1430697600000,1.0023486905],[1431302400000,1.0029367246],[1431907200000,1.0035251036],[1432598400000,1.0041138279],[1433203200000,1.0047028974],[1433808000000,1.0052923126],[1434412800000,1.0058820736],[1435017600000,1.0064721805],[1435622400000,1.0070626336],[1436313600000,1.0076534332],[1436918400000,1.0082445793],[1437523200000,1.0088360722],[1438128000000,1.0094279121],[1438732800000,1.0100200993],[1439337600000,1.0106126338],[1439942400000,1.011205516],[1440547200000,1.0117987459],[1441152000000,1.0123923239],[1441843200000,1.0129862501],[1442448000000,1.0135805248],[1443052800000,1.0141751481],[1443657600000,1.0147701202],[1444262400000,1.0153654414],[1444867200000,1.0159611118],[1445472000000,1.0165571317],[1446076800000,1.0171535012]]}]};\n",
       "    \n",
       "options = JSON.stringify(options);\n",
       "\n",
       "options = JSON.parse(options, function (key, value) {\n",
       "\n",
       "\tif (value && (typeof value === \"string\")) {\n",
       "\n",
       "\t\t\t\tvar check1 = (value.replace(/\\s+/g, '').replace(/\\r?\\n|\\r/g, '').substr(0, 8) == \"function\"),\n",
       "\t\t\tcheck2 = (value.replace(/\\s+/g, '').replace(/\\r?\\n|\\r/g, '').substr(0, 9) == \"(function\");\n",
       "\n",
       "\n",
       "\t\tif (check1) {\n",
       "\t\t\tvar startBody = value.indexOf('{') + 1;\n",
       "\t\t\tvar endBody = value.lastIndexOf('}');\n",
       "\t\t\tvar startArgs = value.indexOf('(') + 1;\n",
       "\t\t\tvar endArgs = value.indexOf(')');\n",
       "\n",
       "\t\t\treturn new Function(value.substring(startArgs, endArgs),\n",
       "\t\t\t\tvalue.substring(startBody, endBody));\n",
       "\t\t}\n",
       "\t\tif (check2) {\n",
       "\t\t\treturn eval(value);\n",
       "\t\t}\n",
       "\n",
       "\t}\n",
       "\n",
       "\treturn value;\n",
       "\n",
       "});\n",
       "    \n",
       "if (options.xAxis==undefined) {\n",
       "\toptions.xAxis = {};\n",
       "}\n",
       "if (options.xAxis.event==undefined) {\n",
       "\toptions.xAxis.events = {};\t\n",
       "}\n",
       "\n",
       "options.xAxis.events = {\n",
       "    setExtremes:      function() { update_table_1('8562f864_36fd_415d_90ef_bec473e439bd'); },\n",
       "    afterSetExtremes: function() { update_table_1('8562f864_36fd_415d_90ef_bec473e439bd'); }\n",
       "};\n",
       "\n",
       "options.plotOptions.series.events = {\n",
       "    hide: function() { update_table_1('8562f864_36fd_415d_90ef_bec473e439bd'); },\n",
       "    show: function() { update_table_1('8562f864_36fd_415d_90ef_bec473e439bd'); }\n",
       "};\n",
       "\n",
       "\n",
       "    var opt = $.extend(true, {}, options);\n",
       "    if (window.opts==undefined) {\n",
       "        window.opts = {};\n",
       "    }\n",
       "    window.opts['8562f864_36fd_415d_90ef_bec473e439bd'] = opt;\n",
       "\n",
       "    console.log('Highcharts/Highstock options accessible as opts[\"8562f864_36fd_415d_90ef_bec473e439bd\"]');\n",
       "    \n",
       "            \n",
       "var isNumber = function(n) { return !isNaN(parseFloat(n)) && isFinite(n); };\n",
       "\n",
       "var fmt_nb_pct = function(d) { if (isNumber(d)) { var f = d3.format(\"+,.1%\"); return f(d) }\n",
       "                               else { return d; }\n",
       "                             }\n",
       "var fmt_nb_flo = function(d) { if (isNumber(d)) { var f = d3.format(\"+,.2f\"); return f(d) }\n",
       "                               else { return d; }\n",
       "                             }\n",
       "\n",
       "\n",
       "function cash_idx_in_series(uuid) {\n",
       "    var t = -1,\n",
       "        opt = window.opts[uuid];\n",
       "\n",
       "    for (var i=1; i<opt.series.length; i++) {\n",
       "        if (opt.series[i].name==\"Cash\") {\n",
       "            t = i;\n",
       "            break;\n",
       "        }\n",
       "    }\n",
       "    return t;\n",
       "}\n",
       "\n",
       "\n",
       "function get_timeseries(uuid, n, extremes) {\n",
       "    var opt = window.opts[uuid],\n",
       "        data = opt.series[n].data,\n",
       "        name = opt.series[n].name,\n",
       "        mint = extremes.min,\n",
       "        maxt = extremes.max,\n",
       "        ts = { 'name':name, 'data': [] };\n",
       "        \n",
       "    for (var i=0; i<data.length; i++) {\n",
       "        var t = data[i][0];\n",
       "        if (t>=mint & t<=maxt) {        \n",
       "            ts.data.push({t: t, v: data[i][1]})\n",
       "        }\n",
       "    }\n",
       "    return ts;\n",
       "}\n",
       "\n",
       "\n",
       "function get_perf(ts) {\n",
       "    var n = ts.data.length,\n",
       "        first_val = ts.data[0].v,\n",
       "        last_val = ts.data[n-1].v;\n",
       "    perf = last_val/first_val-1.0;\n",
       "    return perf;\n",
       "}\n",
       "\n",
       "\n",
       "function get_irr(ts) {\n",
       "    var n = ts.data.length,\n",
       "        first_date = new Date(ts.data[0].t),\n",
       "        last_date = new Date(ts.data[n-1].t),\n",
       "        first_val = ts.data[0].v,\n",
       "        last_val = ts.data[n-1].v,\n",
       "        dt, irr;\n",
       "    dt = parseInt((last_date - first_date) / (1000 * 60 * 60 * 24));\n",
       "    irr = Math.pow((last_val/first_val), 365/dt)-1.0;\n",
       "    return irr;\n",
       "}\n",
       "\n",
       "\n",
       "function get_vol(ts) {\n",
       "    var sum = 0,\n",
       "        date, prev_date = new Date(ts.data[0].t),\n",
       "        val, prev_val = ts.data[0].v,\n",
       "        dt, vol;\n",
       "    for (var i=1; i<ts.data.length; i++) {\n",
       "        date = new Date(ts.data[i].t);\n",
       "        val = ts.data[i].v;\n",
       "        dt = parseInt((date - prev_date) / (1000 * 60 * 60 * 24)); \n",
       "        sum += Math.pow(Math.log(val/prev_val), 2)*365/dt;\n",
       "        prev_date = date;\n",
       "        prev_val = val;\n",
       "    }\n",
       "    vol = Math.sqrt(sum/(ts.data.length-1));\n",
       "    return vol;\n",
       "}\n",
       "\n",
       "\n",
       "function get_max_drawdown(ts, nb_bd) {\n",
       "    var dd = Number.POSITIVE_INFINITY,\n",
       "        val, ref_val;\n",
       "\n",
       "    for (var i=nb_bd; i<ts.data.length; i++) {\n",
       "        val = ts.data[i].v;\n",
       "        ref_val = ts.data[i-nb_bd].v;\n",
       "        dd = Math.min(val/ref_val-1, dd);\n",
       "    }\n",
       "    return dd;\n",
       "}\n",
       "\n",
       "\n",
       "function create_table_1(uuid, chart) {\n",
       "    if (typeof window.charts == \"undefined\") {\n",
       "        window.charts = {};\n",
       "    }\n",
       "    window.charts[uuid] = chart;\n",
       "\n",
       "    $('#'+uuid+' .nb_bdays').val(20)\n",
       "    $('#'+uuid+' .slider').val(20)\n",
       "\n",
       "    $('#'+uuid+' .slider').on('input', function(){\n",
       "        $('#'+uuid+' .nb_bdays').val($(this).val());\n",
       "        update_table_1(uuid);\n",
       "    });\n",
       "\n",
       "    $('#'+uuid+' .nb_bdays').on('input', function(){\n",
       "        $('#'+uuid+' .slider').val($(this).val());\n",
       "        update_table_1(uuid);\n",
       "    });\n",
       "\n",
       "    $('#'+uuid+' .container_table').html('<table class=\"dtable display compact\" cellspacing=\"0\" style=\"width: 75%\"></table>' );\n",
       "\n",
       "    var data = update_table_data_1(uuid, chart);\n",
       "    var dtable = init_table_1(uuid, chart, data);\n",
       "\n",
       "    window.data = data;\n",
       "    window.dtable = dtable;\n",
       "    console.log('create_table_1 '+uuid);\n",
       "}\n",
       "\n",
       "\n",
       "function init_table_1(uuid, chart, data) {\n",
       "    var dtable = $('#'+uuid+' .dtable').DataTable( {\n",
       "        data: data.arr,\n",
       "        columns: data.col,\n",
       "                dom: \"tB\",\n",
       "        order: [],        \n",
       "        lengthMenu: [[-1], [\"All\"]],\n",
       "        columnDefs: [\n",
       "            { \"width\": \"35%\", \"targets\": 0 },\n",
       "            { \"width\": \"13%\", \"targets\": [1, 2, 3, 4, 5] }\n",
       "          ],\n",
       "    } );\n",
       "    var dtablejq = $('#'+uuid+' .dtable').dataTable();\n",
       "    color_dtable_series_name_1(uuid, chart, dtablejq);\n",
       "\n",
       "    window.dtable = dtable;\n",
       "    window.dtablejq = dtablejq;\n",
       "\n",
       "    console.log('init_table_1 '+uuid);\n",
       "    return dtable;\n",
       "}\n",
       "\n",
       "\n",
       "function color_dtable_series_name_1(uuid, chart, dtablejq) {\n",
       "    window.toto = chart;\n",
       "\n",
       "    var color_series = chart.series.map(function(d) { return d.color; });\n",
       "    $('#'+uuid+' td:first-child').each(function(i, d) { $(this).css('color', color_series[i]); })\n",
       "}\n",
       "\n",
       "\n",
       "function update_table_1(uuid) {\n",
       "    var chart = window.charts[uuid],\n",
       "        data = update_table_data_1(uuid, chart),\n",
       "        dtable = $('#'+uuid+' .dtable').DataTable()\n",
       "    dtable.clear();\n",
       "    dtable.rows.add(data.arr);\n",
       "    dtable.draw();\n",
       "    color_dtable_series_name_1(uuid, chart, dtablejq)\n",
       "\n",
       "    window.data = data;\n",
       "    console.log('update_table_1 '+uuid);\n",
       "}\n",
       "\n",
       "\n",
       "function update_table_data_1(uuid, chart) {\n",
       "    var extremes = chart.xAxis[0].getExtremes(),\n",
       "        results = [],\n",
       "        ts, perf, irr, vol, irr_cash, sharpe, max_dd;\n",
       "\n",
       "    window.extremes = extremes;\n",
       "\n",
       "    var c = cash_idx_in_series(uuid);\n",
       "    if (c>0) {\n",
       "        cash_ts = get_timeseries(uuid, c, extremes);\n",
       "        irr_cash = get_irr(cash_ts);\n",
       "    }\n",
       "    else {\n",
       "        irr_cash = 0;   \n",
       "    }\n",
       "\n",
       "    for (var k=0; k<chart.series.length-1; k++) {\n",
       "        var name = chart.series[k].name,\n",
       "            is_visible = chart.series[k].visible;\n",
       "\n",
       "        if ((name!=\"Cash\") & (is_visible)) {\n",
       "            ts = get_timeseries(uuid, k, extremes);\n",
       "            perf = get_perf(ts);\n",
       "            irr = get_irr(ts);\n",
       "            vol = get_vol(ts);\n",
       "            sharpe = (irr-irr_cash)/vol;\n",
       "            nb_bdays = $('#'+uuid+' .nb_bdays').val();\n",
       "            max_dd = get_max_drawdown(ts, nb_bdays);\n",
       "            \n",
       "            results.push({'name': name,\n",
       "                          'perf': perf,\n",
       "                          'irr': irr,\n",
       "                          'vol': vol,\n",
       "                          'sharpe': sharpe,\n",
       "                          'max_dd': max_dd,\n",
       "                        })\n",
       "        }\n",
       "\n",
       "    }\n",
       "\n",
       "    dtable_arr = results.map(function(d) { return [ d.name,\n",
       "                                                    fmt_nb_pct(d.perf), \n",
       "                                                    fmt_nb_pct(d.irr),\n",
       "                                                    fmt_nb_pct(d.vol),\n",
       "                                                    fmt_nb_flo(d.sharpe),\n",
       "                                                    fmt_nb_pct(d.max_dd)\n",
       "                                                    ]; });\n",
       "    dtable_col = ['Series', 'Perf', 'IRR', 'Vol', 'Sharpe', 'Max Drawdown'].map(function(d) { return {title: d}; });\n",
       "    data = {arr: dtable_arr, col: dtable_col};\n",
       "\n",
       "    $('#'+uuid+' .table_date').text(ts.data.length+' business days from '+Highcharts.dateFormat('%d-%b-%y', extremes.min) + ' to ' + Highcharts.dateFormat('%d-%b-%y', extremes.max));\n",
       "    \n",
       "    console.log('update_table_data_1 '+uuid);\n",
       "    return data;\n",
       "\n",
       "};\n",
       "\n",
       "\n",
       "            window.chart = new Highcharts.StockChart(options, function(chart) { console.log(\"callback_1 beg \"+\"8562f864_36fd_415d_90ef_bec473e439bd\"); create_table_1(\"8562f864_36fd_415d_90ef_bec473e439bd\", chart); });\n",
       "            \n",
       "    console.log('Highcharts/Highstock chart accessible as charts[\"8562f864_36fd_415d_90ef_bec473e439bd\"]');\n",
       "    \n",
       "        });\n",
       "    });\n",
       "    </script>"
      ],
      "text/plain": [
       "<IPython.core.display.HTML object>"
      ]
     },
     "execution_count": 16,
     "metadata": {},
     "output_type": "execute_result"
    }
   ],
   "source": [
    "backtester.plot_backtest()"
   ]
  },
  {
   "cell_type": "code",
   "execution_count": null,
   "metadata": {},
   "outputs": [],
   "source": []
  },
  {
   "cell_type": "code",
   "execution_count": null,
   "metadata": {},
   "outputs": [],
   "source": []
  },
  {
   "cell_type": "code",
   "execution_count": null,
   "metadata": {},
   "outputs": [],
   "source": []
  },
  {
   "cell_type": "code",
   "execution_count": null,
   "metadata": {},
   "outputs": [],
   "source": []
  },
  {
   "cell_type": "code",
   "execution_count": null,
   "metadata": {},
   "outputs": [],
   "source": []
  },
  {
   "cell_type": "markdown",
   "metadata": {},
   "source": [
    "# Little tests section"
   ]
  },
  {
   "cell_type": "code",
   "execution_count": null,
   "metadata": {},
   "outputs": [],
   "source": [
    "import tensorflow as tf"
   ]
  },
  {
   "cell_type": "code",
   "execution_count": null,
   "metadata": {},
   "outputs": [],
   "source": [
    "tf.train.latest_checkpoint('model_checkpoints')"
   ]
  },
  {
   "cell_type": "code",
   "execution_count": null,
   "metadata": {
    "scrolled": false
   },
   "outputs": [],
   "source": [
    "\n",
    "# with tf.variable_scope('test',reuse=tf.AUTO_REUSE):\n",
    "#     network2 = CondensedGoogLeNet(shape_x=shape_x,shape_y=shape_y,hyperparams=GoogleNet_hyperparams)\n",
    "#     network2.build_operations()\n",
    "sess=tf.Session()    \n",
    "#First let's load meta graph and restore weights\n",
    "# saver = tf.train.import_meta_graph('model_checkpoints/ckpt1-266.meta')\n",
    "saver = tf.train.import_meta_graph('model_checkpoints/ckpt-26.meta')\n",
    "saver.restore(sess,tf.train.latest_checkpoint('model_checkpoints'))"
   ]
  },
  {
   "cell_type": "code",
   "execution_count": null,
   "metadata": {},
   "outputs": [],
   "source": [
    "graph = tf.get_default_graph()\n",
    "# w1 = graph.get_tensor_by_name(\"w1:0\")\n",
    "# w2 = graph.get_tensor_by_name(\"w2:0\")\n",
    "# feed_dict ={w1:13.0,w2:17.0}\n",
    "\n"
   ]
  },
  {
   "cell_type": "markdown",
   "metadata": {},
   "source": [
    "+ CondensedGoogLeNet/loss/Mean gets the loss\n",
    "+ CondensedGoogLeNet/Adam gets the optimizer\n",
    "+ CondensedGoogLeNet/accuracy/Mean gets the accuracy\n",
    "    + we can get the validation error just after\n",
    "+ CondensedGoogLeNet/Merge/MergeSummary gets the summary op\n",
    "+ CondensedGoogLeNet/init gets init_op\n",
    "+ "
   ]
  },
  {
   "cell_type": "code",
   "execution_count": null,
   "metadata": {},
   "outputs": [],
   "source": [
    "output = graph.get_tensor_by_name('CondensedGoogLeNet/output:0')\n",
    "train_op = graph.get_tensor_by_name('CondensedGoogLeNet/minimize:0')\n",
    "x = graph.get_tensor_by_name('CondensedGoogLeNet/x:0')\n",
    "y = graph.get_tensor_by_name('CondensedGoogLeNet/y:0')\n",
    "global_step = graph.get_tensor_by_name('CondensedGoogLeNet/global_step:0')\n",
    "# loss = graph.get_tensor_by_name('CondensedGoogLeNet/loss/Mean:0')"
   ]
  },
  {
   "cell_type": "code",
   "execution_count": null,
   "metadata": {},
   "outputs": [],
   "source": [
    "pred = sess.run([train_op,global_step],feed_dict={x:X_val[:100],y:Y_val[:100]})"
   ]
  },
  {
   "cell_type": "code",
   "execution_count": null,
   "metadata": {},
   "outputs": [],
   "source": [
    "pred"
   ]
  },
  {
   "cell_type": "code",
   "execution_count": null,
   "metadata": {},
   "outputs": [],
   "source": [
    "network.optimizer"
   ]
  },
  {
   "cell_type": "code",
   "execution_count": null,
   "metadata": {},
   "outputs": [],
   "source": [
    "# train_op = graph.get_tensor_by_name('CondensedGoogLeNet/minimize:0')\n"
   ]
  },
  {
   "cell_type": "code",
   "execution_count": null,
   "metadata": {},
   "outputs": [],
   "source": [
    "train_op"
   ]
  },
  {
   "cell_type": "code",
   "execution_count": null,
   "metadata": {},
   "outputs": [],
   "source": [
    "pred"
   ]
  },
  {
   "cell_type": "code",
   "execution_count": null,
   "metadata": {},
   "outputs": [],
   "source": [
    "pred = sess.run(output,feed_dict={x:X_val1[:15]})\n",
    "pred"
   ]
  },
  {
   "cell_type": "code",
   "execution_count": null,
   "metadata": {},
   "outputs": [],
   "source": [
    "saver.save(sess,'model_checkpoints/test_restore')"
   ]
  },
  {
   "cell_type": "code",
   "execution_count": null,
   "metadata": {},
   "outputs": [],
   "source": [
    "pd.DataFrame(np.max(pred,axis=1)).hist(bins=100)"
   ]
  },
  {
   "cell_type": "code",
   "execution_count": null,
   "metadata": {},
   "outputs": [],
   "source": [
    "pred[:5]"
   ]
  },
  {
   "cell_type": "code",
   "execution_count": null,
   "metadata": {},
   "outputs": [],
   "source": [
    "GN_pred[:5]"
   ]
  },
  {
   "cell_type": "code",
   "execution_count": null,
   "metadata": {},
   "outputs": [],
   "source": [
    "Y_val[:5]"
   ]
  },
  {
   "cell_type": "code",
   "execution_count": null,
   "metadata": {},
   "outputs": [],
   "source": [
    "pred.shape"
   ]
  },
  {
   "cell_type": "code",
   "execution_count": null,
   "metadata": {},
   "outputs": [],
   "source": [
    "tf.reset_default_graph()\n",
    "\n",
    "# Create some variables.\n",
    "v1 = tf.get_variable(\"v1\", shape=[3])\n",
    "v2 = tf.get_variable(\"v2\", shape=[5])\n",
    "\n",
    "# Add ops to save and restore all the variables.\n",
    "saver = tf.train.Saver()\n",
    "\n",
    "# Later, launch the model, use the saver to restore variables from disk, and\n",
    "# do some work with the model.\n",
    "with tf.Session() as sess:\n",
    "  # Restore variables from disk.\n",
    "  saver.restore(sess, \"/tmp/model.ckpt\")\n",
    "  print(\"Model restored.\")\n",
    "  # Check the values of the variables\n",
    "  print(\"v1 : %s\" % v1.eval())\n",
    "  print(\"v2 : %s\" % v2.eval())"
   ]
  },
  {
   "cell_type": "code",
   "execution_count": null,
   "metadata": {},
   "outputs": [],
   "source": [
    "tf.train.latest_checkpoint"
   ]
  },
  {
   "cell_type": "code",
   "execution_count": null,
   "metadata": {},
   "outputs": [],
   "source": [
    "tf.train.import_meta_graph"
   ]
  }
 ],
 "metadata": {
  "kernelspec": {
   "display_name": "Python 3",
   "language": "python",
   "name": "python3"
  },
  "language_info": {
   "codemirror_mode": {
    "name": "ipython",
    "version": 3
   },
   "file_extension": ".py",
   "mimetype": "text/x-python",
   "name": "python",
   "nbconvert_exporter": "python",
   "pygments_lexer": "ipython3",
   "version": "3.6.5"
  }
 },
 "nbformat": 4,
 "nbformat_minor": 2
}
