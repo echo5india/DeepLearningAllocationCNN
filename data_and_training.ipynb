{
 "cells": [
  {
   "cell_type": "code",
   "execution_count": 1,
   "metadata": {},
   "outputs": [
    {
     "name": "stderr",
     "output_type": "stream",
     "text": [
      "C:\\ProgramData\\Anaconda3\\lib\\site-packages\\h5py\\__init__.py:36: FutureWarning: Conversion of the second argument of issubdtype from `float` to `np.floating` is deprecated. In future, it will be treated as `np.float64 == np.dtype(float).type`.\n",
      "  from ._conv import register_converters as _register_converters\n"
     ]
    }
   ],
   "source": [
    "from models import train_predict,CondensedGoogLeNet\n",
    "from models.train_predict import get_confusion_matrix\n",
    "from data.data_processing import generate_dummy_data,DataHandler,get_training_data_from_path\n",
    "from config.hyperparams import GoogleNet_hyperparams\n",
    "\n",
    "import tensorflow as tf\n",
    "import pandas as pd\n",
    "import numpy as np\n",
    "import os\n",
    "\n",
    "%load_ext autoreload\n",
    "%autoreload 2\n",
    "%matplotlib inline"
   ]
  },
  {
   "cell_type": "code",
   "execution_count": 2,
   "metadata": {},
   "outputs": [],
   "source": [
    "folder_for_samples = 'data/cnn_samples'"
   ]
  },
  {
   "cell_type": "markdown",
   "metadata": {},
   "source": [
    "# Data Processing"
   ]
  },
  {
   "cell_type": "markdown",
   "metadata": {},
   "source": [
    "## Get stock data in Handler object"
   ]
  },
  {
   "cell_type": "code",
   "execution_count": 70,
   "metadata": {},
   "outputs": [],
   "source": [
    "path_to_dump_samples = os.path.join(folder_for_samples,'VWAP-1_week-2015_2017-all_stocks-32_pixels')\n",
    "\n",
    "handler = DataHandler(encoding_method='GADF', window_len=64, image_size=32, retrain_freq=5,\n",
    "                 start_date = 20150102, end_date= 20200102, frac_of_stocks=1.,\n",
    "                stock_data_dir_path= 'data/stock_data',\n",
    "                 dir_for_samples=path_to_dump_samples, nb_of_stocks_by_file=50,\n",
    "                      kwargs_target_methods = {'up_return':0.011,'down_return':-0.010}\n",
    "                 )"
   ]
  },
  {
   "cell_type": "code",
   "execution_count": 71,
   "metadata": {},
   "outputs": [
    {
     "data": {
      "application/vnd.jupyter.widget-view+json": {
       "model_id": "be8a877700e740e0bdddaf7f2441f0eb",
       "version_major": 2,
       "version_minor": 0
      },
      "text/plain": [
       "Textarea(value='', layout=Layout(border='1px solid #999999', height='200px', width='100%'))"
      ]
     },
     "metadata": {},
     "output_type": "display_data"
    }
   ],
   "source": [
    "handler.get_df_data()"
   ]
  },
  {
   "cell_type": "code",
   "execution_count": 72,
   "metadata": {},
   "outputs": [
    {
     "name": "stderr",
     "output_type": "stream",
     "text": [
      "Clipping input data to the valid range for imshow with RGB data ([0..1] for floats or [0..255] for integers).\n"
     ]
    },
    {
     "data": {
      "image/png": "[encoded data removed]",
      "text/plain": [
       "<Figure size 432x288 with 1 Axes>"
      ]
     },
     "metadata": {},
     "output_type": "display_data"
    }
   ],
   "source": [
    "handler.show_image(handler.df_data)"
   ]
  },
  {
   "cell_type": "markdown",
   "metadata": {},
   "source": [
    "## Builds images and targets and creates pickles\n",
    "+ Be careful for the folder name (specified in handler object), this function will delete all files in this folder before dumping pickles"
   ]
  },
  {
   "cell_type": "code",
   "execution_count": 73,
   "metadata": {},
   "outputs": [
    {
     "data": {
      "application/vnd.jupyter.widget-view+json": {
       "model_id": "46a0a55616d4431e8b7728d7e04131cf",
       "version_major": 2,
       "version_minor": 0
      },
      "text/plain": [
       "Textarea(value='', layout=Layout(border='1px solid #999999', height='200px', width='100%'))"
      ]
     },
     "metadata": {},
     "output_type": "display_data"
    }
   ],
   "source": [
    "handler.build_and_dump_images_and_targets()"
   ]
  },
  {
   "cell_type": "markdown",
   "metadata": {},
   "source": [
    "# Training"
   ]
  },
  {
   "cell_type": "markdown",
   "metadata": {},
   "source": [
    "## Retrieve data from the specified folder\n",
    "+ '/regular' is the default to retrieve samples\n",
    "+ '/VWAP_1_week_2015_2017_all_stocks' is another one"
   ]
  },
  {
   "cell_type": "code",
   "execution_count": 3,
   "metadata": {},
   "outputs": [
    {
     "data": {
      "application/vnd.jupyter.widget-view+json": {
       "model_id": "2d6557d2f8794611a11de8550ea8b34d",
       "version_major": 2,
       "version_minor": 0
      },
      "text/plain": [
       "Textarea(value='', layout=Layout(border='1px solid #999999', height='200px', width='100%'))"
      ]
     },
     "metadata": {},
     "output_type": "display_data"
    },
    {
     "name": "stdout",
     "output_type": "stream",
     "text": [
      "Wall time: 1min 49s\n"
     ]
    }
   ],
   "source": [
    "%%time\n",
    "\n",
    "path_to_retrieve_samples = folder_for_samples+'/VWAP-1_week-2015_2017-all_stocks-32_pixels'\n",
    "\n",
    "X_train, X_val, X_test, Y_train, Y_val, Y_test = get_training_data_from_path(samples_path=path_to_retrieve_samples,\n",
    "                                targets_type='VWAP_targets',\n",
    "                                train_val_size=2 / 3.,\n",
    "                                train_size=0.75,\n",
    "                                logger_env='Training')\n"
   ]
  },
  {
   "cell_type": "markdown",
   "metadata": {},
   "source": [
    "## Build the neural network object and Train the network \n",
    "+ Choose your params BE CAREFUL about the path to drop the model_checkpoints\n",
    "+ Choose or update hyperparameters\n",
    "+ If you run restore = True Choose the checkpoint.meta file to use for the model to load\n",
    "\n",
    "###### Then \n",
    "\n",
    "+ Choose parameters for the train_predict function \n",
    "+ Run the next cell to build the network object and train"
   ]
  },
  {
   "cell_type": "code",
   "execution_count": 7,
   "metadata": {},
   "outputs": [],
   "source": [
    "shape_x,shape_y = list(X_train.shape),list(Y_train.shape)\n",
    "shape_x[0],shape_y[0] = None,None\n",
    "\n",
    "GoogleNet_hyperparams.update({'learning_rate':0.003,'dropout':0.20})\n",
    "\n",
    "# penalty factor assigned for misclassifying i to j. It used to combine sample prior (distribution of classes in the training\n",
    "# sample) to compute expected penalty of misclassifying i-th class\n",
    "cost_matrix=np.array([[0, 1.1, 1.4], [1.1, 0, 1.1], [1.4, 1.1, 0]])\n",
    "\n",
    "n_test = 10000\n",
    "checkpoints_folder = 'model_checkpoints'\n",
    "checkpoint_prefix = 'ckpt-VWAP-1_week-2015_2017-32_pixels'\n",
    "model_checkpoints_path = os.path.join(checkpoints_folder,checkpoint_prefix)\n",
    "\n",
    "# X_train1, X_val1, Y_train1, Y_val1 =  X_train[:n_test], X_val[:n_test], Y_train[:n_test], Y_val[:n_test]\n",
    "X_train1, X_val1, Y_train1, Y_val1 =  X_train[n_test:], X_val[:n_test], Y_train[n_test:], Y_val[:n_test]\n",
    "\n",
    "\n",
    "\n",
    "path_restore = (tf.train.latest_checkpoint('model_checkpoints') or '')+'.meta'"
   ]
  },
  {
   "cell_type": "markdown",
   "metadata": {},
   "source": [
    "#### Run the training"
   ]
  },
  {
   "cell_type": "code",
   "execution_count": 8,
   "metadata": {
    "scrolled": true
   },
   "outputs": [
    {
     "name": "stdout",
     "output_type": "stream",
     "text": [
      "INFO:tensorflow:Restoring parameters from model_checkpoints\\ckpt-VWAP-1_week-2015_2017-32_pixels-1529\n"
     ]
    },
    {
     "data": {
      "application/vnd.jupyter.widget-view+json": {
       "model_id": "06d46b320aa14c208ffdaddcd370d6df",
       "version_major": 2,
       "version_minor": 0
      },
      "text/plain": [
       "Textarea(value='', layout=Layout(border='1px solid #999999', height='200px', width='100%'))"
      ]
     },
     "metadata": {},
     "output_type": "display_data"
    }
   ],
   "source": [
    "network = CondensedGoogLeNet(shape_x=shape_x,shape_y=shape_y,hyperparams=GoogleNet_hyperparams)\n",
    "\n",
    "\n",
    "GN_pred, GN_training_loss, GN_val_loss = train_predict(X=X_train1, Y=Y_train1, batch_size=60, valX=X_val1, valY=Y_val1,\n",
    "                                                       model_ckpt_path=model_checkpoints_path, is_bayesian=True,cost_matrix=cost_matrix,\n",
    "                                                       epochs=2, net=network,save_step =1,cost_sensitive_loss=True,restore=True,\n",
    "                                                       model_ckpt_path_to_restore=path_restore)"
   ]
  },
  {
   "cell_type": "code",
   "execution_count": 10,
   "metadata": {},
   "outputs": [
    {
     "data": {
      "text/plain": [
       "<matplotlib.axes._subplots.AxesSubplot at 0x1d885712940>"
      ]
     },
     "execution_count": 10,
     "metadata": {},
     "output_type": "execute_result"
    },
    {
     "data": {
      "image/png": "[encoded data removed]",
      "text/plain": [
       "<Figure size 432x288 with 1 Axes>"
      ]
     },
     "metadata": {},
     "output_type": "display_data"
    }
   ],
   "source": [
    "pd.DataFrame([GN_training_loss,GN_val_loss]).T.plot()"
   ]
  },
  {
   "cell_type": "code",
   "execution_count": 29,
   "metadata": {},
   "outputs": [
    {
     "data": {
      "text/plain": [
       "<tf.Tensor 'CondensedGoogLeNet/x:0' shape=(?, 16, 16, 4) dtype=float32>"
      ]
     },
     "execution_count": 29,
     "metadata": {},
     "output_type": "execute_result"
    }
   ],
   "source": [
    "network.x"
   ]
  },
  {
   "cell_type": "markdown",
   "metadata": {},
   "source": [
    "# Backtest"
   ]
  },
  {
   "cell_type": "code",
   "execution_count": null,
   "metadata": {},
   "outputs": [],
   "source": [
    "# TODO"
   ]
  },
  {
   "cell_type": "markdown",
   "metadata": {},
   "source": [
    "# Little tests section"
   ]
  },
  {
   "cell_type": "code",
   "execution_count": 45,
   "metadata": {},
   "outputs": [
    {
     "data": {
      "text/plain": [
       "<function tensorflow.python.framework.ops.device(device_name_or_function)>"
      ]
     },
     "execution_count": 45,
     "metadata": {},
     "output_type": "execute_result"
    }
   ],
   "source": [
    "tf.device"
   ]
  },
  {
   "cell_type": "code",
   "execution_count": 47,
   "metadata": {},
   "outputs": [
    {
     "name": "stdout",
     "output_type": "stream",
     "text": [
      "[name: \"/device:CPU:0\"\n",
      "device_type: \"CPU\"\n",
      "memory_limit: 268435456\n",
      "locality {\n",
      "}\n",
      "incarnation: 6690035029401750070\n",
      "]\n"
     ]
    }
   ],
   "source": [
    "from tensorflow.python.client import device_lib \n",
    "print(device_lib.list_local_devices())"
   ]
  },
  {
   "cell_type": "code",
   "execution_count": null,
   "metadata": {},
   "outputs": [],
   "source": []
  },
  {
   "cell_type": "code",
   "execution_count": null,
   "metadata": {},
   "outputs": [],
   "source": []
  },
  {
   "cell_type": "code",
   "execution_count": 30,
   "metadata": {},
   "outputs": [],
   "source": [
    "import tensorflow as tf"
   ]
  },
  {
   "cell_type": "code",
   "execution_count": 8,
   "metadata": {},
   "outputs": [
    {
     "data": {
      "text/plain": [
       "'model_checkpoints\\\\ckpt-266'"
      ]
     },
     "execution_count": 8,
     "metadata": {},
     "output_type": "execute_result"
    }
   ],
   "source": [
    "tf.train.latest_checkpoint('model_checkpoints')"
   ]
  },
  {
   "cell_type": "code",
   "execution_count": 13,
   "metadata": {
    "scrolled": false
   },
   "outputs": [
    {
     "name": "stdout",
     "output_type": "stream",
     "text": [
      "INFO:tensorflow:Restoring parameters from model_checkpoints\\ckpt-26\n"
     ]
    }
   ],
   "source": [
    "\n",
    "# with tf.variable_scope('test',reuse=tf.AUTO_REUSE):\n",
    "#     network2 = CondensedGoogLeNet(shape_x=shape_x,shape_y=shape_y,hyperparams=GoogleNet_hyperparams)\n",
    "#     network2.build_operations()\n",
    "sess=tf.Session()    \n",
    "#First let's load meta graph and restore weights\n",
    "# saver = tf.train.import_meta_graph('model_checkpoints/ckpt1-266.meta')\n",
    "saver = tf.train.import_meta_graph('model_checkpoints/ckpt-26.meta')\n",
    "saver.restore(sess,tf.train.latest_checkpoint('model_checkpoints'))"
   ]
  },
  {
   "cell_type": "code",
   "execution_count": 14,
   "metadata": {},
   "outputs": [],
   "source": [
    "graph = tf.get_default_graph()\n",
    "# w1 = graph.get_tensor_by_name(\"w1:0\")\n",
    "# w2 = graph.get_tensor_by_name(\"w2:0\")\n",
    "# feed_dict ={w1:13.0,w2:17.0}\n",
    "\n"
   ]
  },
  {
   "cell_type": "markdown",
   "metadata": {},
   "source": [
    "+ CondensedGoogLeNet/loss/Mean gets the loss\n",
    "+ CondensedGoogLeNet/Adam gets the optimizer\n",
    "+ CondensedGoogLeNet/accuracy/Mean gets the accuracy\n",
    "    + we can get the validation error just after\n",
    "+ CondensedGoogLeNet/Merge/MergeSummary gets the summary op\n",
    "+ CondensedGoogLeNet/init gets init_op\n",
    "+ "
   ]
  },
  {
   "cell_type": "code",
   "execution_count": 15,
   "metadata": {},
   "outputs": [],
   "source": [
    "output = graph.get_tensor_by_name('CondensedGoogLeNet/output:0')\n",
    "train_op = graph.get_tensor_by_name('CondensedGoogLeNet/minimize:0')\n",
    "x = graph.get_tensor_by_name('CondensedGoogLeNet/x:0')\n",
    "y = graph.get_tensor_by_name('CondensedGoogLeNet/y:0')\n",
    "global_step = graph.get_tensor_by_name('CondensedGoogLeNet/global_step:0')\n",
    "# loss = graph.get_tensor_by_name('CondensedGoogLeNet/loss/Mean:0')"
   ]
  },
  {
   "cell_type": "code",
   "execution_count": 18,
   "metadata": {},
   "outputs": [],
   "source": [
    "pred = sess.run([train_op,global_step],feed_dict={x:X_val[:100],y:Y_val[:100]})"
   ]
  },
  {
   "cell_type": "code",
   "execution_count": 19,
   "metadata": {},
   "outputs": [
    {
     "data": {
      "text/plain": [
       "[28, 28]"
      ]
     },
     "execution_count": 19,
     "metadata": {},
     "output_type": "execute_result"
    }
   ],
   "source": [
    "pred"
   ]
  },
  {
   "cell_type": "code",
   "execution_count": 62,
   "metadata": {},
   "outputs": [
    {
     "data": {
      "text/plain": [
       "<tf.Operation 'CondensedGoogLeNet/minimize' type=AssignAdd>"
      ]
     },
     "execution_count": 62,
     "metadata": {},
     "output_type": "execute_result"
    }
   ],
   "source": [
    "network.optimizer"
   ]
  },
  {
   "cell_type": "code",
   "execution_count": 99,
   "metadata": {},
   "outputs": [],
   "source": [
    "# train_op = graph.get_tensor_by_name('CondensedGoogLeNet/minimize:0')\n"
   ]
  },
  {
   "cell_type": "code",
   "execution_count": 49,
   "metadata": {},
   "outputs": [
    {
     "data": {
      "text/plain": [
       "<tf.Tensor 'CondensedGoogLeNet/Adam:0' shape=() dtype=int32_ref>"
      ]
     },
     "execution_count": 49,
     "metadata": {},
     "output_type": "execute_result"
    }
   ],
   "source": [
    "train_op"
   ]
  },
  {
   "cell_type": "code",
   "execution_count": 47,
   "metadata": {},
   "outputs": [
    {
     "data": {
      "text/plain": [
       "408"
      ]
     },
     "execution_count": 47,
     "metadata": {},
     "output_type": "execute_result"
    }
   ],
   "source": [
    "pred"
   ]
  },
  {
   "cell_type": "code",
   "execution_count": 48,
   "metadata": {},
   "outputs": [
    {
     "data": {
      "text/plain": [
       "array([[0.54534346, 0.31630963, 0.13834698],\n",
       "       [0.24215752, 0.27100408, 0.48683837],\n",
       "       [0.19895326, 0.2448365 , 0.5562103 ],\n",
       "       [0.46735036, 0.3460878 , 0.18656184],\n",
       "       [0.28557023, 0.5997592 , 0.11467056],\n",
       "       [0.3116192 , 0.43605033, 0.25233048],\n",
       "       [0.21186991, 0.61546487, 0.17266521],\n",
       "       [0.23539183, 0.67194796, 0.09266017],\n",
       "       [0.12098232, 0.7968117 , 0.08220595],\n",
       "       [0.13915536, 0.7540392 , 0.10680544],\n",
       "       [0.26458594, 0.61498356, 0.1204305 ],\n",
       "       [0.2907207 , 0.5771785 , 0.13210084],\n",
       "       [0.18505928, 0.5521796 , 0.26276112],\n",
       "       [0.20635134, 0.5497223 , 0.2439263 ],\n",
       "       [0.28695482, 0.5000306 , 0.2130146 ]], dtype=float32)"
      ]
     },
     "execution_count": 48,
     "metadata": {},
     "output_type": "execute_result"
    }
   ],
   "source": [
    "pred = sess.run(output,feed_dict={x:X_val1[:15]})\n",
    "pred"
   ]
  },
  {
   "cell_type": "code",
   "execution_count": 20,
   "metadata": {},
   "outputs": [
    {
     "data": {
      "text/plain": [
       "'model_checkpoints/test_restore'"
      ]
     },
     "execution_count": 20,
     "metadata": {},
     "output_type": "execute_result"
    }
   ],
   "source": [
    "saver.save(sess,'model_checkpoints/test_restore')"
   ]
  },
  {
   "cell_type": "code",
   "execution_count": 61,
   "metadata": {},
   "outputs": [
    {
     "data": {
      "text/plain": [
       "array([[<matplotlib.axes._subplots.AxesSubplot object at 0x000001EB8140E128>]],\n",
       "      dtype=object)"
      ]
     },
     "execution_count": 61,
     "metadata": {},
     "output_type": "execute_result"
    },
    {
     "data": {
      "image/png": "[encoded data removed]",
      "text/plain": [
       "<Figure size 432x288 with 1 Axes>"
      ]
     },
     "metadata": {},
     "output_type": "display_data"
    }
   ],
   "source": [
    "pd.DataFrame(np.max(pred,axis=1)).hist(bins=100)"
   ]
  },
  {
   "cell_type": "code",
   "execution_count": 46,
   "metadata": {},
   "outputs": [
    {
     "data": {
      "text/plain": [
       "array([[0.37601736, 0.38016203, 0.24382067],\n",
       "       [0.33472654, 0.37284032, 0.2924331 ],\n",
       "       [0.35309193, 0.30750227, 0.33940583],\n",
       "       [0.3471133 , 0.32821226, 0.3246745 ],\n",
       "       [0.3240848 , 0.3507759 , 0.3251393 ]], dtype=float32)"
      ]
     },
     "execution_count": 46,
     "metadata": {},
     "output_type": "execute_result"
    }
   ],
   "source": [
    "pred[:5]"
   ]
  },
  {
   "cell_type": "code",
   "execution_count": 42,
   "metadata": {},
   "outputs": [
    {
     "data": {
      "text/plain": [
       "array([[0.38847148, 0.36652684, 0.24500167],\n",
       "       [0.32993904, 0.42600474, 0.24405627],\n",
       "       [0.32316726, 0.3760524 , 0.30078036],\n",
       "       [0.33141774, 0.36307806, 0.3055042 ],\n",
       "       [0.36576766, 0.33067912, 0.30355325]], dtype=float32)"
      ]
     },
     "execution_count": 42,
     "metadata": {},
     "output_type": "execute_result"
    }
   ],
   "source": [
    "GN_pred[:5]"
   ]
  },
  {
   "cell_type": "code",
   "execution_count": 43,
   "metadata": {},
   "outputs": [
    {
     "data": {
      "text/plain": [
       "array([[0, 1, 0],\n",
       "       [0, 1, 0],\n",
       "       [0, 1, 0],\n",
       "       [1, 0, 0],\n",
       "       [0, 1, 0]])"
      ]
     },
     "execution_count": 43,
     "metadata": {},
     "output_type": "execute_result"
    }
   ],
   "source": [
    "Y_val[:5]"
   ]
  },
  {
   "cell_type": "code",
   "execution_count": 16,
   "metadata": {},
   "outputs": [
    {
     "data": {
      "text/plain": [
       "(1885, 3)"
      ]
     },
     "execution_count": 16,
     "metadata": {},
     "output_type": "execute_result"
    }
   ],
   "source": [
    "pred.shape"
   ]
  },
  {
   "cell_type": "code",
   "execution_count": null,
   "metadata": {},
   "outputs": [],
   "source": [
    "tf.reset_default_graph()\n",
    "\n",
    "# Create some variables.\n",
    "v1 = tf.get_variable(\"v1\", shape=[3])\n",
    "v2 = tf.get_variable(\"v2\", shape=[5])\n",
    "\n",
    "# Add ops to save and restore all the variables.\n",
    "saver = tf.train.Saver()\n",
    "\n",
    "# Later, launch the model, use the saver to restore variables from disk, and\n",
    "# do some work with the model.\n",
    "with tf.Session() as sess:\n",
    "  # Restore variables from disk.\n",
    "  saver.restore(sess, \"/tmp/model.ckpt\")\n",
    "  print(\"Model restored.\")\n",
    "  # Check the values of the variables\n",
    "  print(\"v1 : %s\" % v1.eval())\n",
    "  print(\"v2 : %s\" % v2.eval())"
   ]
  },
  {
   "cell_type": "code",
   "execution_count": null,
   "metadata": {},
   "outputs": [],
   "source": [
    "tf.train.latest_checkpoint"
   ]
  },
  {
   "cell_type": "code",
   "execution_count": 3,
   "metadata": {},
   "outputs": [
    {
     "data": {
      "text/plain": [
       "5"
      ]
     },
     "execution_count": 3,
     "metadata": {},
     "output_type": "execute_result"
    }
   ],
   "source": [
    "tf.train.import_meta_graph"
   ]
  }
 ],
 "metadata": {
  "kernelspec": {
   "display_name": "Python 3",
   "language": "python",
   "name": "python3"
  },
  "language_info": {
   "codemirror_mode": {
    "name": "ipython",
    "version": 3
   },
   "file_extension": ".py",
   "mimetype": "text/x-python",
   "name": "python",
   "nbconvert_exporter": "python",
   "pygments_lexer": "ipython3",
   "version": "3.6.5"
  }
 },
 "nbformat": 4,
 "nbformat_minor": 2
}
