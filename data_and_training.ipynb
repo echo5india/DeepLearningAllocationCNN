{
 "cells": [
  {
   "cell_type": "code",
   "execution_count": 1,
   "metadata": {},
   "outputs": [
    {
     "name": "stderr",
     "output_type": "stream",
     "text": [
      "C:\\ProgramData\\Anaconda3\\lib\\site-packages\\h5py\\__init__.py:36: FutureWarning: Conversion of the second argument of issubdtype from `float` to `np.floating` is deprecated. In future, it will be treated as `np.float64 == np.dtype(float).type`.\n",
      "  from ._conv import register_converters as _register_converters\n"
     ]
    }
   ],
   "source": [
    "from models import train_predict,CondensedGoogLeNet\n",
    "from models.train_predict import get_confusion_matrix\n",
    "from data.data_processing import generate_dummy_data,DataHandler,get_training_data_from_path\n",
    "from config.hyperparams import GoogleNet_hyperparams\n",
    "\n",
    "import tensorflow as tf\n",
    "import pandas as pd\n",
    "import numpy as np\n",
    "import os\n",
    "\n",
    "%load_ext autoreload\n",
    "%autoreload 2\n",
    "%matplotlib inline"
   ]
  },
  {
   "cell_type": "code",
   "execution_count": 2,
   "metadata": {},
   "outputs": [],
   "source": [
    "folder_for_samples = 'data/cnn_samples/regular'"
   ]
  },
  {
   "cell_type": "markdown",
   "metadata": {},
   "source": [
    "# Data Processing"
   ]
  },
  {
   "cell_type": "markdown",
   "metadata": {},
   "source": [
    "## Get stock data in Handler object"
   ]
  },
  {
   "cell_type": "code",
   "execution_count": 14,
   "metadata": {},
   "outputs": [],
   "source": [
    "handler = DataHandler(encoding_method='GADF', window_len=64, image_size=16, retrain_freq=5,\n",
    "                 start_date = 20150102, end_date= 20200102, frac_of_stocks=0.1,\n",
    "                stock_data_dir_path= 'data/stock_data',\n",
    "                 dir_for_samples=folder_for_samples, nb_of_stocks_by_file=50,\n",
    "                      kwargs_target_methods = {'up_return':0.011,'down_return':-0.0125}\n",
    "                 )"
   ]
  },
  {
   "cell_type": "code",
   "execution_count": 15,
   "metadata": {},
   "outputs": [
    {
     "data": {
      "application/vnd.jupyter.widget-view+json": {
       "model_id": "889e8de0e9c646f79891ebca5ebfca76",
       "version_major": 2,
       "version_minor": 0
      },
      "text/plain": [
       "Textarea(value='', layout=Layout(border='1px solid #999999', height='200px', width='100%'))"
      ]
     },
     "metadata": {},
     "output_type": "display_data"
    }
   ],
   "source": [
    "handler.get_df_data()"
   ]
  },
  {
   "cell_type": "code",
   "execution_count": 16,
   "metadata": {},
   "outputs": [
    {
     "name": "stderr",
     "output_type": "stream",
     "text": [
      "Clipping input data to the valid range for imshow with RGB data ([0..1] for floats or [0..255] for integers).\n"
     ]
    },
    {
     "data": {
      "image/png": "[encoded data removed]",
      "text/plain": [
       "<Figure size 432x288 with 1 Axes>"
      ]
     },
     "metadata": {},
     "output_type": "display_data"
    }
   ],
   "source": [
    "handler.show_image(handler.df_data)"
   ]
  },
  {
   "cell_type": "markdown",
   "metadata": {},
   "source": [
    "## Builds images and targets and creates pickles\n",
    "+ Be careful for the folder name (specified in handler object), this function will delete all files in this folder before dumping pickles"
   ]
  },
  {
   "cell_type": "code",
   "execution_count": 17,
   "metadata": {},
   "outputs": [
    {
     "data": {
      "application/vnd.jupyter.widget-view+json": {
       "model_id": "11c7f6cbad9f4238ae89f73fb53a4886",
       "version_major": 2,
       "version_minor": 0
      },
      "text/plain": [
       "Textarea(value='', layout=Layout(border='1px solid #999999', height='200px', width='100%'))"
      ]
     },
     "metadata": {},
     "output_type": "display_data"
    }
   ],
   "source": [
    "handler.build_and_dump_images_and_targets()"
   ]
  },
  {
   "cell_type": "markdown",
   "metadata": {},
   "source": [
    "# Training"
   ]
  },
  {
   "cell_type": "markdown",
   "metadata": {},
   "source": [
    "## Retrieve data from the specified folder"
   ]
  },
  {
   "cell_type": "code",
   "execution_count": 18,
   "metadata": {},
   "outputs": [
    {
     "data": {
      "application/vnd.jupyter.widget-view+json": {
       "model_id": "ea995be241d749f287d49610285a8a16",
       "version_major": 2,
       "version_minor": 0
      },
      "text/plain": [
       "Textarea(value='', layout=Layout(border='1px solid #999999', height='200px', width='100%'))"
      ]
     },
     "metadata": {},
     "output_type": "display_data"
    },
    {
     "name": "stdout",
     "output_type": "stream",
     "text": [
      "Wall time: 737 ms\n"
     ]
    }
   ],
   "source": [
    "%%time\n",
    "\n",
    "X_train, X_val, X_test, Y_train, Y_val, Y_test = get_training_data_from_path(samples_path=folder_for_samples,\n",
    "                                targets_type='VWAP_targets',\n",
    "                                train_val_size=2 / 3.,\n",
    "                                train_size=0.75,\n",
    "                                logger_env='Training')\n"
   ]
  },
  {
   "cell_type": "markdown",
   "metadata": {},
   "source": [
    "## Build the neural network object"
   ]
  },
  {
   "cell_type": "markdown",
   "metadata": {},
   "source": [
    "## Train the network "
   ]
  },
  {
   "cell_type": "code",
   "execution_count": 26,
   "metadata": {
    "scrolled": true
   },
   "outputs": [
    {
     "name": "stdout",
     "output_type": "stream",
     "text": [
      "INFO:tensorflow:Restoring parameters from model_checkpoints\\ckpt-5456\n"
     ]
    },
    {
     "data": {
      "application/vnd.jupyter.widget-view+json": {
       "model_id": "b418be9c2a2142a784ca63b3a39b9257",
       "version_major": 2,
       "version_minor": 0
      },
      "text/plain": [
       "Textarea(value='', layout=Layout(border='1px solid #999999', height='200px', width='100%'))"
      ]
     },
     "metadata": {},
     "output_type": "display_data"
    }
   ],
   "source": [
    "shape_x,shape_y = list(X_train.shape),list(Y_train.shape)\n",
    "shape_x[0],shape_y[0] = None,None\n",
    "\n",
    "GoogleNet_hyperparams.update({'learning_rate':0.001})\n",
    "\n",
    "network = CondensedGoogLeNet(shape_x=shape_x,shape_y=shape_y,hyperparams=GoogleNet_hyperparams)\n",
    "\n",
    "n_test = 200\n",
    "checkpoints_folder = 'model_checkpoints'\n",
    "checkpoint_prefix = 'ckpt'\n",
    "model_checkpoints_path = os.path.join(checkpoints_folder,checkpoint_prefix)\n",
    "\n",
    "X_train1, X_val1, Y_train1, Y_val1 =  X_train[:n_test], X_val[:n_test], Y_train[:n_test], Y_val[:n_test]\n",
    "\n",
    "\n",
    "\n",
    "\n",
    "path_restore = (tf.train.latest_checkpoint('model_checkpoints') or '')+'.meta'\n",
    "GN_pred, GN_training_loss, GN_val_loss = train_predict(X=X_train1, Y=Y_train1, batch_size=15, valX=X_val1, valY=Y_val1,\n",
    "                                                       model_ckpt_path=model_checkpoints_path, is_bayesian=True,\n",
    "                                                       epochs=2, net=network,save_step =1,cost_sensitive_loss=True,restore=True,\n",
    "                                                       model_ckpt_path_to_restore=path_restore)"
   ]
  },
  {
   "cell_type": "code",
   "execution_count": 24,
   "metadata": {},
   "outputs": [
    {
     "data": {
      "text/plain": [
       "'indbn'"
      ]
     },
     "execution_count": 24,
     "metadata": {},
     "output_type": "execute_result"
    }
   ],
   "source": [
    "''.join(['in','dbn'])"
   ]
  },
  {
   "cell_type": "code",
   "execution_count": 20,
   "metadata": {},
   "outputs": [
    {
     "data": {
      "text/plain": [
       "<matplotlib.axes._subplots.AxesSubplot at 0x205013cea58>"
      ]
     },
     "execution_count": 20,
     "metadata": {},
     "output_type": "execute_result"
    },
    {
     "data": {
      "image/png": "[encoded data removed]",
      "text/plain": [
       "<Figure size 432x288 with 1 Axes>"
      ]
     },
     "metadata": {},
     "output_type": "display_data"
    }
   ],
   "source": [
    "pd.DataFrame([GN_training_loss,GN_val_loss]).plot()"
   ]
  },
  {
   "cell_type": "code",
   "execution_count": 29,
   "metadata": {},
   "outputs": [
    {
     "data": {
      "text/plain": [
       "<tf.Tensor 'CondensedGoogLeNet/x:0' shape=(?, 16, 16, 4) dtype=float32>"
      ]
     },
     "execution_count": 29,
     "metadata": {},
     "output_type": "execute_result"
    }
   ],
   "source": [
    "network.x"
   ]
  },
  {
   "cell_type": "code",
   "execution_count": 21,
   "metadata": {
    "scrolled": true
   },
   "outputs": [
    {
     "data": {
      "text/plain": [
       "array([[ 532, 1312,  164],\n",
       "       [ 287, 1520,  134],\n",
       "       [ 202, 1260,  244]], dtype=int64)"
      ]
     },
     "execution_count": 21,
     "metadata": {},
     "output_type": "execute_result"
    }
   ],
   "source": [
    "get_confusion_matrix(Y_val1,GN_pred)"
   ]
  },
  {
   "cell_type": "code",
   "execution_count": 36,
   "metadata": {
    "scrolled": true
   },
   "outputs": [
    {
     "data": {
      "text/plain": [
       "1207"
      ]
     },
     "execution_count": 36,
     "metadata": {},
     "output_type": "execute_result"
    }
   ],
   "source": [
    "g = tf.get_default_graph()\n",
    "len(g.get_operations())"
   ]
  },
  {
   "cell_type": "code",
   "execution_count": 15,
   "metadata": {},
   "outputs": [],
   "source": [
    "# g.get_tensor_by_name('CondensedGoogLeNet/init:0')"
   ]
  },
  {
   "cell_type": "code",
   "execution_count": 14,
   "metadata": {},
   "outputs": [
    {
     "name": "stdout",
     "output_type": "stream",
     "text": [
      "INFO:tensorflow:Restoring parameters from model_checkpoints\\ckpt-266\n"
     ]
    }
   ],
   "source": [
    "model_ckpt_path_to_restore = tf.train.latest_checkpoint('model_checkpoints')+'.meta'\n",
    "\n",
    "sess = tf.Session()\n",
    "saver = tf.train.import_meta_graph(model_ckpt_path_to_restore)\n",
    "folder = os.path.dirname(model_ckpt_path_to_restore)\n",
    "saver.restore(sess, tf.train.latest_checkpoint(folder))\n"
   ]
  },
  {
   "cell_type": "code",
   "execution_count": 16,
   "metadata": {},
   "outputs": [
    {
     "data": {
      "text/plain": [
       "[<tf.Operation 'CondensedGoogLeNet/x' type=Placeholder>,\n",
       " <tf.Operation 'CondensedGoogLeNet/y' type=Placeholder>,\n",
       " <tf.Operation 'CondensedGoogLeNet/conv1_conv/convolution/weights/Initializer/random_uniform/shape' type=Const>,\n",
       " <tf.Operation 'CondensedGoogLeNet/conv1_conv/convolution/weights/Initializer/random_uniform/min' type=Const>,\n",
       " <tf.Operation 'CondensedGoogLeNet/conv1_conv/convolution/weights/Initializer/random_uniform/max' type=Const>,\n",
       " <tf.Operation 'CondensedGoogLeNet/conv1_conv/convolution/weights/Initializer/random_uniform/RandomUniform' type=RandomUniform>,\n",
       " <tf.Operation 'CondensedGoogLeNet/conv1_conv/convolution/weights/Initializer/random_uniform/sub' type=Sub>,\n",
       " <tf.Operation 'CondensedGoogLeNet/conv1_conv/convolution/weights/Initializer/random_uniform/mul' type=Mul>,\n",
       " <tf.Operation 'CondensedGoogLeNet/conv1_conv/convolution/weights/Initializer/random_uniform' type=Add>,\n",
       " <tf.Operation 'CondensedGoogLeNet/conv1_conv/convolution/weights' type=VariableV2>,\n",
       " <tf.Operation 'CondensedGoogLeNet/conv1_conv/convolution/weights/Assign' type=Assign>,\n",
       " <tf.Operation 'CondensedGoogLeNet/conv1_conv/convolution/weights/read' type=Identity>,\n",
       " <tf.Operation 'CondensedGoogLeNet/conv1_conv/convolution/biases/Initializer/Const' type=Const>,\n",
       " <tf.Operation 'CondensedGoogLeNet/conv1_conv/convolution/biases' type=VariableV2>,\n",
       " <tf.Operation 'CondensedGoogLeNet/conv1_conv/convolution/biases/Assign' type=Assign>,\n",
       " <tf.Operation 'CondensedGoogLeNet/conv1_conv/convolution/biases/read' type=Identity>,\n",
       " <tf.Operation 'CondensedGoogLeNet/conv1_conv/convolution/conv' type=Conv2D>,\n",
       " <tf.Operation 'CondensedGoogLeNet/conv1_conv/convolution/bias_add' type=BiasAdd>,\n",
       " <tf.Operation 'CondensedGoogLeNet/conv1_conv/convolution/activation_func' type=Tanh>,\n",
       " <tf.Operation 'CondensedGoogLeNet/conv1_maxP' type=MaxPool>,\n",
       " <tf.Operation 'CondensedGoogLeNet/conv2_conv/convolution/weights/Initializer/random_uniform/shape' type=Const>,\n",
       " <tf.Operation 'CondensedGoogLeNet/conv2_conv/convolution/weights/Initializer/random_uniform/min' type=Const>,\n",
       " <tf.Operation 'CondensedGoogLeNet/conv2_conv/convolution/weights/Initializer/random_uniform/max' type=Const>,\n",
       " <tf.Operation 'CondensedGoogLeNet/conv2_conv/convolution/weights/Initializer/random_uniform/RandomUniform' type=RandomUniform>,\n",
       " <tf.Operation 'CondensedGoogLeNet/conv2_conv/convolution/weights/Initializer/random_uniform/sub' type=Sub>,\n",
       " <tf.Operation 'CondensedGoogLeNet/conv2_conv/convolution/weights/Initializer/random_uniform/mul' type=Mul>,\n",
       " <tf.Operation 'CondensedGoogLeNet/conv2_conv/convolution/weights/Initializer/random_uniform' type=Add>,\n",
       " <tf.Operation 'CondensedGoogLeNet/conv2_conv/convolution/weights' type=VariableV2>,\n",
       " <tf.Operation 'CondensedGoogLeNet/conv2_conv/convolution/weights/Assign' type=Assign>,\n",
       " <tf.Operation 'CondensedGoogLeNet/conv2_conv/convolution/weights/read' type=Identity>,\n",
       " <tf.Operation 'CondensedGoogLeNet/conv2_conv/convolution/biases/Initializer/Const' type=Const>,\n",
       " <tf.Operation 'CondensedGoogLeNet/conv2_conv/convolution/biases' type=VariableV2>,\n",
       " <tf.Operation 'CondensedGoogLeNet/conv2_conv/convolution/biases/Assign' type=Assign>,\n",
       " <tf.Operation 'CondensedGoogLeNet/conv2_conv/convolution/biases/read' type=Identity>,\n",
       " <tf.Operation 'CondensedGoogLeNet/conv2_conv/convolution/conv' type=Conv2D>,\n",
       " <tf.Operation 'CondensedGoogLeNet/conv2_conv/convolution/bias_add' type=BiasAdd>,\n",
       " <tf.Operation 'CondensedGoogLeNet/conv2_conv/convolution/activation_func' type=Tanh>,\n",
       " <tf.Operation 'CondensedGoogLeNet/conv2_maxP' type=MaxPool>,\n",
       " <tf.Operation 'CondensedGoogLeNet/inception1/1x1_conv/convolution/weights/Initializer/random_uniform/shape' type=Const>,\n",
       " <tf.Operation 'CondensedGoogLeNet/inception1/1x1_conv/convolution/weights/Initializer/random_uniform/min' type=Const>,\n",
       " <tf.Operation 'CondensedGoogLeNet/inception1/1x1_conv/convolution/weights/Initializer/random_uniform/max' type=Const>,\n",
       " <tf.Operation 'CondensedGoogLeNet/inception1/1x1_conv/convolution/weights/Initializer/random_uniform/RandomUniform' type=RandomUniform>,\n",
       " <tf.Operation 'CondensedGoogLeNet/inception1/1x1_conv/convolution/weights/Initializer/random_uniform/sub' type=Sub>,\n",
       " <tf.Operation 'CondensedGoogLeNet/inception1/1x1_conv/convolution/weights/Initializer/random_uniform/mul' type=Mul>,\n",
       " <tf.Operation 'CondensedGoogLeNet/inception1/1x1_conv/convolution/weights/Initializer/random_uniform' type=Add>,\n",
       " <tf.Operation 'CondensedGoogLeNet/inception1/1x1_conv/convolution/weights' type=VariableV2>,\n",
       " <tf.Operation 'CondensedGoogLeNet/inception1/1x1_conv/convolution/weights/Assign' type=Assign>,\n",
       " <tf.Operation 'CondensedGoogLeNet/inception1/1x1_conv/convolution/weights/read' type=Identity>,\n",
       " <tf.Operation 'CondensedGoogLeNet/inception1/1x1_conv/convolution/biases/Initializer/Const' type=Const>,\n",
       " <tf.Operation 'CondensedGoogLeNet/inception1/1x1_conv/convolution/biases' type=VariableV2>,\n",
       " <tf.Operation 'CondensedGoogLeNet/inception1/1x1_conv/convolution/biases/Assign' type=Assign>,\n",
       " <tf.Operation 'CondensedGoogLeNet/inception1/1x1_conv/convolution/biases/read' type=Identity>,\n",
       " <tf.Operation 'CondensedGoogLeNet/inception1/1x1_conv/convolution/conv' type=Conv2D>,\n",
       " <tf.Operation 'CondensedGoogLeNet/inception1/1x1_conv/convolution/bias_add' type=BiasAdd>,\n",
       " <tf.Operation 'CondensedGoogLeNet/inception1/1x1_conv/convolution/activation_func' type=Tanh>,\n",
       " <tf.Operation 'CondensedGoogLeNet/inception1/3x3_conv1/pre_convolution/weights_pre/Initializer/random_uniform/shape' type=Const>,\n",
       " <tf.Operation 'CondensedGoogLeNet/inception1/3x3_conv1/pre_convolution/weights_pre/Initializer/random_uniform/min' type=Const>,\n",
       " <tf.Operation 'CondensedGoogLeNet/inception1/3x3_conv1/pre_convolution/weights_pre/Initializer/random_uniform/max' type=Const>,\n",
       " <tf.Operation 'CondensedGoogLeNet/inception1/3x3_conv1/pre_convolution/weights_pre/Initializer/random_uniform/RandomUniform' type=RandomUniform>,\n",
       " <tf.Operation 'CondensedGoogLeNet/inception1/3x3_conv1/pre_convolution/weights_pre/Initializer/random_uniform/sub' type=Sub>,\n",
       " <tf.Operation 'CondensedGoogLeNet/inception1/3x3_conv1/pre_convolution/weights_pre/Initializer/random_uniform/mul' type=Mul>,\n",
       " <tf.Operation 'CondensedGoogLeNet/inception1/3x3_conv1/pre_convolution/weights_pre/Initializer/random_uniform' type=Add>,\n",
       " <tf.Operation 'CondensedGoogLeNet/inception1/3x3_conv1/pre_convolution/weights_pre' type=VariableV2>,\n",
       " <tf.Operation 'CondensedGoogLeNet/inception1/3x3_conv1/pre_convolution/weights_pre/Assign' type=Assign>,\n",
       " <tf.Operation 'CondensedGoogLeNet/inception1/3x3_conv1/pre_convolution/weights_pre/read' type=Identity>,\n",
       " <tf.Operation 'CondensedGoogLeNet/inception1/3x3_conv1/pre_convolution/conv' type=Conv2D>,\n",
       " <tf.Operation 'CondensedGoogLeNet/inception1/3x3_conv1/convolution/weights/Initializer/random_uniform/shape' type=Const>,\n",
       " <tf.Operation 'CondensedGoogLeNet/inception1/3x3_conv1/convolution/weights/Initializer/random_uniform/min' type=Const>,\n",
       " <tf.Operation 'CondensedGoogLeNet/inception1/3x3_conv1/convolution/weights/Initializer/random_uniform/max' type=Const>,\n",
       " <tf.Operation 'CondensedGoogLeNet/inception1/3x3_conv1/convolution/weights/Initializer/random_uniform/RandomUniform' type=RandomUniform>,\n",
       " <tf.Operation 'CondensedGoogLeNet/inception1/3x3_conv1/convolution/weights/Initializer/random_uniform/sub' type=Sub>,\n",
       " <tf.Operation 'CondensedGoogLeNet/inception1/3x3_conv1/convolution/weights/Initializer/random_uniform/mul' type=Mul>,\n",
       " <tf.Operation 'CondensedGoogLeNet/inception1/3x3_conv1/convolution/weights/Initializer/random_uniform' type=Add>,\n",
       " <tf.Operation 'CondensedGoogLeNet/inception1/3x3_conv1/convolution/weights' type=VariableV2>,\n",
       " <tf.Operation 'CondensedGoogLeNet/inception1/3x3_conv1/convolution/weights/Assign' type=Assign>,\n",
       " <tf.Operation 'CondensedGoogLeNet/inception1/3x3_conv1/convolution/weights/read' type=Identity>,\n",
       " <tf.Operation 'CondensedGoogLeNet/inception1/3x3_conv1/convolution/biases/Initializer/Const' type=Const>,\n",
       " <tf.Operation 'CondensedGoogLeNet/inception1/3x3_conv1/convolution/biases' type=VariableV2>,\n",
       " <tf.Operation 'CondensedGoogLeNet/inception1/3x3_conv1/convolution/biases/Assign' type=Assign>,\n",
       " <tf.Operation 'CondensedGoogLeNet/inception1/3x3_conv1/convolution/biases/read' type=Identity>,\n",
       " <tf.Operation 'CondensedGoogLeNet/inception1/3x3_conv1/convolution/conv' type=Conv2D>,\n",
       " <tf.Operation 'CondensedGoogLeNet/inception1/3x3_conv1/convolution/bias_add' type=BiasAdd>,\n",
       " <tf.Operation 'CondensedGoogLeNet/inception1/3x3_conv1/convolution/activation_func' type=Tanh>,\n",
       " <tf.Operation 'CondensedGoogLeNet/inception1/5x5_conv1/pre_convolution/weights_pre/Initializer/random_uniform/shape' type=Const>,\n",
       " <tf.Operation 'CondensedGoogLeNet/inception1/5x5_conv1/pre_convolution/weights_pre/Initializer/random_uniform/min' type=Const>,\n",
       " <tf.Operation 'CondensedGoogLeNet/inception1/5x5_conv1/pre_convolution/weights_pre/Initializer/random_uniform/max' type=Const>,\n",
       " <tf.Operation 'CondensedGoogLeNet/inception1/5x5_conv1/pre_convolution/weights_pre/Initializer/random_uniform/RandomUniform' type=RandomUniform>,\n",
       " <tf.Operation 'CondensedGoogLeNet/inception1/5x5_conv1/pre_convolution/weights_pre/Initializer/random_uniform/sub' type=Sub>,\n",
       " <tf.Operation 'CondensedGoogLeNet/inception1/5x5_conv1/pre_convolution/weights_pre/Initializer/random_uniform/mul' type=Mul>,\n",
       " <tf.Operation 'CondensedGoogLeNet/inception1/5x5_conv1/pre_convolution/weights_pre/Initializer/random_uniform' type=Add>,\n",
       " <tf.Operation 'CondensedGoogLeNet/inception1/5x5_conv1/pre_convolution/weights_pre' type=VariableV2>,\n",
       " <tf.Operation 'CondensedGoogLeNet/inception1/5x5_conv1/pre_convolution/weights_pre/Assign' type=Assign>,\n",
       " <tf.Operation 'CondensedGoogLeNet/inception1/5x5_conv1/pre_convolution/weights_pre/read' type=Identity>,\n",
       " <tf.Operation 'CondensedGoogLeNet/inception1/5x5_conv1/pre_convolution/conv' type=Conv2D>,\n",
       " <tf.Operation 'CondensedGoogLeNet/inception1/5x5_conv1/convolution/weights/Initializer/random_uniform/shape' type=Const>,\n",
       " <tf.Operation 'CondensedGoogLeNet/inception1/5x5_conv1/convolution/weights/Initializer/random_uniform/min' type=Const>,\n",
       " <tf.Operation 'CondensedGoogLeNet/inception1/5x5_conv1/convolution/weights/Initializer/random_uniform/max' type=Const>,\n",
       " <tf.Operation 'CondensedGoogLeNet/inception1/5x5_conv1/convolution/weights/Initializer/random_uniform/RandomUniform' type=RandomUniform>,\n",
       " <tf.Operation 'CondensedGoogLeNet/inception1/5x5_conv1/convolution/weights/Initializer/random_uniform/sub' type=Sub>,\n",
       " <tf.Operation 'CondensedGoogLeNet/inception1/5x5_conv1/convolution/weights/Initializer/random_uniform/mul' type=Mul>,\n",
       " <tf.Operation 'CondensedGoogLeNet/inception1/5x5_conv1/convolution/weights/Initializer/random_uniform' type=Add>,\n",
       " <tf.Operation 'CondensedGoogLeNet/inception1/5x5_conv1/convolution/weights' type=VariableV2>,\n",
       " <tf.Operation 'CondensedGoogLeNet/inception1/5x5_conv1/convolution/weights/Assign' type=Assign>,\n",
       " <tf.Operation 'CondensedGoogLeNet/inception1/5x5_conv1/convolution/weights/read' type=Identity>,\n",
       " <tf.Operation 'CondensedGoogLeNet/inception1/5x5_conv1/convolution/biases/Initializer/Const' type=Const>,\n",
       " <tf.Operation 'CondensedGoogLeNet/inception1/5x5_conv1/convolution/biases' type=VariableV2>,\n",
       " <tf.Operation 'CondensedGoogLeNet/inception1/5x5_conv1/convolution/biases/Assign' type=Assign>,\n",
       " <tf.Operation 'CondensedGoogLeNet/inception1/5x5_conv1/convolution/biases/read' type=Identity>,\n",
       " <tf.Operation 'CondensedGoogLeNet/inception1/5x5_conv1/convolution/conv' type=Conv2D>,\n",
       " <tf.Operation 'CondensedGoogLeNet/inception1/5x5_conv1/convolution/bias_add' type=BiasAdd>,\n",
       " <tf.Operation 'CondensedGoogLeNet/inception1/5x5_conv1/convolution/activation_func' type=Tanh>,\n",
       " <tf.Operation 'CondensedGoogLeNet/inception1/pooling1' type=MaxPool>,\n",
       " <tf.Operation 'CondensedGoogLeNet/inception1/pooling1_conv/convolution/weights/Initializer/random_uniform/shape' type=Const>,\n",
       " <tf.Operation 'CondensedGoogLeNet/inception1/pooling1_conv/convolution/weights/Initializer/random_uniform/min' type=Const>,\n",
       " <tf.Operation 'CondensedGoogLeNet/inception1/pooling1_conv/convolution/weights/Initializer/random_uniform/max' type=Const>,\n",
       " <tf.Operation 'CondensedGoogLeNet/inception1/pooling1_conv/convolution/weights/Initializer/random_uniform/RandomUniform' type=RandomUniform>,\n",
       " <tf.Operation 'CondensedGoogLeNet/inception1/pooling1_conv/convolution/weights/Initializer/random_uniform/sub' type=Sub>,\n",
       " <tf.Operation 'CondensedGoogLeNet/inception1/pooling1_conv/convolution/weights/Initializer/random_uniform/mul' type=Mul>,\n",
       " <tf.Operation 'CondensedGoogLeNet/inception1/pooling1_conv/convolution/weights/Initializer/random_uniform' type=Add>,\n",
       " <tf.Operation 'CondensedGoogLeNet/inception1/pooling1_conv/convolution/weights' type=VariableV2>,\n",
       " <tf.Operation 'CondensedGoogLeNet/inception1/pooling1_conv/convolution/weights/Assign' type=Assign>,\n",
       " <tf.Operation 'CondensedGoogLeNet/inception1/pooling1_conv/convolution/weights/read' type=Identity>,\n",
       " <tf.Operation 'CondensedGoogLeNet/inception1/pooling1_conv/convolution/biases/Initializer/Const' type=Const>,\n",
       " <tf.Operation 'CondensedGoogLeNet/inception1/pooling1_conv/convolution/biases' type=VariableV2>,\n",
       " <tf.Operation 'CondensedGoogLeNet/inception1/pooling1_conv/convolution/biases/Assign' type=Assign>,\n",
       " <tf.Operation 'CondensedGoogLeNet/inception1/pooling1_conv/convolution/biases/read' type=Identity>,\n",
       " <tf.Operation 'CondensedGoogLeNet/inception1/pooling1_conv/convolution/conv' type=Conv2D>,\n",
       " <tf.Operation 'CondensedGoogLeNet/inception1/pooling1_conv/convolution/bias_add' type=BiasAdd>,\n",
       " <tf.Operation 'CondensedGoogLeNet/inception1/pooling1_conv/convolution/activation_func' type=Tanh>,\n",
       " <tf.Operation 'CondensedGoogLeNet/inception1/concat/axis' type=Const>,\n",
       " <tf.Operation 'CondensedGoogLeNet/inception1/concat' type=ConcatV2>,\n",
       " <tf.Operation 'CondensedGoogLeNet/inception1/Tanh' type=Tanh>,\n",
       " <tf.Operation 'CondensedGoogLeNet/inception1_maxP' type=MaxPool>,\n",
       " <tf.Operation 'CondensedGoogLeNet/inception2/1x1_conv/convolution/weights/Initializer/random_uniform/shape' type=Const>,\n",
       " <tf.Operation 'CondensedGoogLeNet/inception2/1x1_conv/convolution/weights/Initializer/random_uniform/min' type=Const>,\n",
       " <tf.Operation 'CondensedGoogLeNet/inception2/1x1_conv/convolution/weights/Initializer/random_uniform/max' type=Const>,\n",
       " <tf.Operation 'CondensedGoogLeNet/inception2/1x1_conv/convolution/weights/Initializer/random_uniform/RandomUniform' type=RandomUniform>,\n",
       " <tf.Operation 'CondensedGoogLeNet/inception2/1x1_conv/convolution/weights/Initializer/random_uniform/sub' type=Sub>,\n",
       " <tf.Operation 'CondensedGoogLeNet/inception2/1x1_conv/convolution/weights/Initializer/random_uniform/mul' type=Mul>,\n",
       " <tf.Operation 'CondensedGoogLeNet/inception2/1x1_conv/convolution/weights/Initializer/random_uniform' type=Add>,\n",
       " <tf.Operation 'CondensedGoogLeNet/inception2/1x1_conv/convolution/weights' type=VariableV2>,\n",
       " <tf.Operation 'CondensedGoogLeNet/inception2/1x1_conv/convolution/weights/Assign' type=Assign>,\n",
       " <tf.Operation 'CondensedGoogLeNet/inception2/1x1_conv/convolution/weights/read' type=Identity>,\n",
       " <tf.Operation 'CondensedGoogLeNet/inception2/1x1_conv/convolution/biases/Initializer/Const' type=Const>,\n",
       " <tf.Operation 'CondensedGoogLeNet/inception2/1x1_conv/convolution/biases' type=VariableV2>,\n",
       " <tf.Operation 'CondensedGoogLeNet/inception2/1x1_conv/convolution/biases/Assign' type=Assign>,\n",
       " <tf.Operation 'CondensedGoogLeNet/inception2/1x1_conv/convolution/biases/read' type=Identity>,\n",
       " <tf.Operation 'CondensedGoogLeNet/inception2/1x1_conv/convolution/conv' type=Conv2D>,\n",
       " <tf.Operation 'CondensedGoogLeNet/inception2/1x1_conv/convolution/bias_add' type=BiasAdd>,\n",
       " <tf.Operation 'CondensedGoogLeNet/inception2/1x1_conv/convolution/activation_func' type=Tanh>,\n",
       " <tf.Operation 'CondensedGoogLeNet/inception2/3x3_conv1/pre_convolution/weights_pre/Initializer/random_uniform/shape' type=Const>,\n",
       " <tf.Operation 'CondensedGoogLeNet/inception2/3x3_conv1/pre_convolution/weights_pre/Initializer/random_uniform/min' type=Const>,\n",
       " <tf.Operation 'CondensedGoogLeNet/inception2/3x3_conv1/pre_convolution/weights_pre/Initializer/random_uniform/max' type=Const>,\n",
       " <tf.Operation 'CondensedGoogLeNet/inception2/3x3_conv1/pre_convolution/weights_pre/Initializer/random_uniform/RandomUniform' type=RandomUniform>,\n",
       " <tf.Operation 'CondensedGoogLeNet/inception2/3x3_conv1/pre_convolution/weights_pre/Initializer/random_uniform/sub' type=Sub>,\n",
       " <tf.Operation 'CondensedGoogLeNet/inception2/3x3_conv1/pre_convolution/weights_pre/Initializer/random_uniform/mul' type=Mul>,\n",
       " <tf.Operation 'CondensedGoogLeNet/inception2/3x3_conv1/pre_convolution/weights_pre/Initializer/random_uniform' type=Add>,\n",
       " <tf.Operation 'CondensedGoogLeNet/inception2/3x3_conv1/pre_convolution/weights_pre' type=VariableV2>,\n",
       " <tf.Operation 'CondensedGoogLeNet/inception2/3x3_conv1/pre_convolution/weights_pre/Assign' type=Assign>,\n",
       " <tf.Operation 'CondensedGoogLeNet/inception2/3x3_conv1/pre_convolution/weights_pre/read' type=Identity>,\n",
       " <tf.Operation 'CondensedGoogLeNet/inception2/3x3_conv1/pre_convolution/conv' type=Conv2D>,\n",
       " <tf.Operation 'CondensedGoogLeNet/inception2/3x3_conv1/convolution/weights/Initializer/random_uniform/shape' type=Const>,\n",
       " <tf.Operation 'CondensedGoogLeNet/inception2/3x3_conv1/convolution/weights/Initializer/random_uniform/min' type=Const>,\n",
       " <tf.Operation 'CondensedGoogLeNet/inception2/3x3_conv1/convolution/weights/Initializer/random_uniform/max' type=Const>,\n",
       " <tf.Operation 'CondensedGoogLeNet/inception2/3x3_conv1/convolution/weights/Initializer/random_uniform/RandomUniform' type=RandomUniform>,\n",
       " <tf.Operation 'CondensedGoogLeNet/inception2/3x3_conv1/convolution/weights/Initializer/random_uniform/sub' type=Sub>,\n",
       " <tf.Operation 'CondensedGoogLeNet/inception2/3x3_conv1/convolution/weights/Initializer/random_uniform/mul' type=Mul>,\n",
       " <tf.Operation 'CondensedGoogLeNet/inception2/3x3_conv1/convolution/weights/Initializer/random_uniform' type=Add>,\n",
       " <tf.Operation 'CondensedGoogLeNet/inception2/3x3_conv1/convolution/weights' type=VariableV2>,\n",
       " <tf.Operation 'CondensedGoogLeNet/inception2/3x3_conv1/convolution/weights/Assign' type=Assign>,\n",
       " <tf.Operation 'CondensedGoogLeNet/inception2/3x3_conv1/convolution/weights/read' type=Identity>,\n",
       " <tf.Operation 'CondensedGoogLeNet/inception2/3x3_conv1/convolution/biases/Initializer/Const' type=Const>,\n",
       " <tf.Operation 'CondensedGoogLeNet/inception2/3x3_conv1/convolution/biases' type=VariableV2>,\n",
       " <tf.Operation 'CondensedGoogLeNet/inception2/3x3_conv1/convolution/biases/Assign' type=Assign>,\n",
       " <tf.Operation 'CondensedGoogLeNet/inception2/3x3_conv1/convolution/biases/read' type=Identity>,\n",
       " <tf.Operation 'CondensedGoogLeNet/inception2/3x3_conv1/convolution/conv' type=Conv2D>,\n",
       " <tf.Operation 'CondensedGoogLeNet/inception2/3x3_conv1/convolution/bias_add' type=BiasAdd>,\n",
       " <tf.Operation 'CondensedGoogLeNet/inception2/3x3_conv1/convolution/activation_func' type=Tanh>,\n",
       " <tf.Operation 'CondensedGoogLeNet/inception2/5x5_conv1/pre_convolution/weights_pre/Initializer/random_uniform/shape' type=Const>,\n",
       " <tf.Operation 'CondensedGoogLeNet/inception2/5x5_conv1/pre_convolution/weights_pre/Initializer/random_uniform/min' type=Const>,\n",
       " <tf.Operation 'CondensedGoogLeNet/inception2/5x5_conv1/pre_convolution/weights_pre/Initializer/random_uniform/max' type=Const>,\n",
       " <tf.Operation 'CondensedGoogLeNet/inception2/5x5_conv1/pre_convolution/weights_pre/Initializer/random_uniform/RandomUniform' type=RandomUniform>,\n",
       " <tf.Operation 'CondensedGoogLeNet/inception2/5x5_conv1/pre_convolution/weights_pre/Initializer/random_uniform/sub' type=Sub>,\n",
       " <tf.Operation 'CondensedGoogLeNet/inception2/5x5_conv1/pre_convolution/weights_pre/Initializer/random_uniform/mul' type=Mul>,\n",
       " <tf.Operation 'CondensedGoogLeNet/inception2/5x5_conv1/pre_convolution/weights_pre/Initializer/random_uniform' type=Add>,\n",
       " <tf.Operation 'CondensedGoogLeNet/inception2/5x5_conv1/pre_convolution/weights_pre' type=VariableV2>,\n",
       " <tf.Operation 'CondensedGoogLeNet/inception2/5x5_conv1/pre_convolution/weights_pre/Assign' type=Assign>,\n",
       " <tf.Operation 'CondensedGoogLeNet/inception2/5x5_conv1/pre_convolution/weights_pre/read' type=Identity>,\n",
       " <tf.Operation 'CondensedGoogLeNet/inception2/5x5_conv1/pre_convolution/conv' type=Conv2D>,\n",
       " <tf.Operation 'CondensedGoogLeNet/inception2/5x5_conv1/convolution/weights/Initializer/random_uniform/shape' type=Const>,\n",
       " <tf.Operation 'CondensedGoogLeNet/inception2/5x5_conv1/convolution/weights/Initializer/random_uniform/min' type=Const>,\n",
       " <tf.Operation 'CondensedGoogLeNet/inception2/5x5_conv1/convolution/weights/Initializer/random_uniform/max' type=Const>,\n",
       " <tf.Operation 'CondensedGoogLeNet/inception2/5x5_conv1/convolution/weights/Initializer/random_uniform/RandomUniform' type=RandomUniform>,\n",
       " <tf.Operation 'CondensedGoogLeNet/inception2/5x5_conv1/convolution/weights/Initializer/random_uniform/sub' type=Sub>,\n",
       " <tf.Operation 'CondensedGoogLeNet/inception2/5x5_conv1/convolution/weights/Initializer/random_uniform/mul' type=Mul>,\n",
       " <tf.Operation 'CondensedGoogLeNet/inception2/5x5_conv1/convolution/weights/Initializer/random_uniform' type=Add>,\n",
       " <tf.Operation 'CondensedGoogLeNet/inception2/5x5_conv1/convolution/weights' type=VariableV2>,\n",
       " <tf.Operation 'CondensedGoogLeNet/inception2/5x5_conv1/convolution/weights/Assign' type=Assign>,\n",
       " <tf.Operation 'CondensedGoogLeNet/inception2/5x5_conv1/convolution/weights/read' type=Identity>,\n",
       " <tf.Operation 'CondensedGoogLeNet/inception2/5x5_conv1/convolution/biases/Initializer/Const' type=Const>,\n",
       " <tf.Operation 'CondensedGoogLeNet/inception2/5x5_conv1/convolution/biases' type=VariableV2>,\n",
       " <tf.Operation 'CondensedGoogLeNet/inception2/5x5_conv1/convolution/biases/Assign' type=Assign>,\n",
       " <tf.Operation 'CondensedGoogLeNet/inception2/5x5_conv1/convolution/biases/read' type=Identity>,\n",
       " <tf.Operation 'CondensedGoogLeNet/inception2/5x5_conv1/convolution/conv' type=Conv2D>,\n",
       " <tf.Operation 'CondensedGoogLeNet/inception2/5x5_conv1/convolution/bias_add' type=BiasAdd>,\n",
       " <tf.Operation 'CondensedGoogLeNet/inception2/5x5_conv1/convolution/activation_func' type=Tanh>,\n",
       " <tf.Operation 'CondensedGoogLeNet/inception2/pooling1' type=MaxPool>,\n",
       " <tf.Operation 'CondensedGoogLeNet/inception2/pooling1_conv/convolution/weights/Initializer/random_uniform/shape' type=Const>,\n",
       " <tf.Operation 'CondensedGoogLeNet/inception2/pooling1_conv/convolution/weights/Initializer/random_uniform/min' type=Const>,\n",
       " <tf.Operation 'CondensedGoogLeNet/inception2/pooling1_conv/convolution/weights/Initializer/random_uniform/max' type=Const>,\n",
       " <tf.Operation 'CondensedGoogLeNet/inception2/pooling1_conv/convolution/weights/Initializer/random_uniform/RandomUniform' type=RandomUniform>,\n",
       " <tf.Operation 'CondensedGoogLeNet/inception2/pooling1_conv/convolution/weights/Initializer/random_uniform/sub' type=Sub>,\n",
       " <tf.Operation 'CondensedGoogLeNet/inception2/pooling1_conv/convolution/weights/Initializer/random_uniform/mul' type=Mul>,\n",
       " <tf.Operation 'CondensedGoogLeNet/inception2/pooling1_conv/convolution/weights/Initializer/random_uniform' type=Add>,\n",
       " <tf.Operation 'CondensedGoogLeNet/inception2/pooling1_conv/convolution/weights' type=VariableV2>,\n",
       " <tf.Operation 'CondensedGoogLeNet/inception2/pooling1_conv/convolution/weights/Assign' type=Assign>,\n",
       " <tf.Operation 'CondensedGoogLeNet/inception2/pooling1_conv/convolution/weights/read' type=Identity>,\n",
       " <tf.Operation 'CondensedGoogLeNet/inception2/pooling1_conv/convolution/biases/Initializer/Const' type=Const>,\n",
       " <tf.Operation 'CondensedGoogLeNet/inception2/pooling1_conv/convolution/biases' type=VariableV2>,\n",
       " <tf.Operation 'CondensedGoogLeNet/inception2/pooling1_conv/convolution/biases/Assign' type=Assign>,\n",
       " <tf.Operation 'CondensedGoogLeNet/inception2/pooling1_conv/convolution/biases/read' type=Identity>,\n",
       " <tf.Operation 'CondensedGoogLeNet/inception2/pooling1_conv/convolution/conv' type=Conv2D>,\n",
       " <tf.Operation 'CondensedGoogLeNet/inception2/pooling1_conv/convolution/bias_add' type=BiasAdd>,\n",
       " <tf.Operation 'CondensedGoogLeNet/inception2/pooling1_conv/convolution/activation_func' type=Tanh>,\n",
       " <tf.Operation 'CondensedGoogLeNet/inception2/concat/axis' type=Const>,\n",
       " <tf.Operation 'CondensedGoogLeNet/inception2/concat' type=ConcatV2>,\n",
       " <tf.Operation 'CondensedGoogLeNet/inception2/Tanh' type=Tanh>,\n",
       " <tf.Operation 'CondensedGoogLeNet/inception2_maxP' type=MaxPool>,\n",
       " <tf.Operation 'CondensedGoogLeNet/inception3/1x1_conv/convolution/weights/Initializer/random_uniform/shape' type=Const>,\n",
       " <tf.Operation 'CondensedGoogLeNet/inception3/1x1_conv/convolution/weights/Initializer/random_uniform/min' type=Const>,\n",
       " <tf.Operation 'CondensedGoogLeNet/inception3/1x1_conv/convolution/weights/Initializer/random_uniform/max' type=Const>,\n",
       " <tf.Operation 'CondensedGoogLeNet/inception3/1x1_conv/convolution/weights/Initializer/random_uniform/RandomUniform' type=RandomUniform>,\n",
       " <tf.Operation 'CondensedGoogLeNet/inception3/1x1_conv/convolution/weights/Initializer/random_uniform/sub' type=Sub>,\n",
       " <tf.Operation 'CondensedGoogLeNet/inception3/1x1_conv/convolution/weights/Initializer/random_uniform/mul' type=Mul>,\n",
       " <tf.Operation 'CondensedGoogLeNet/inception3/1x1_conv/convolution/weights/Initializer/random_uniform' type=Add>,\n",
       " <tf.Operation 'CondensedGoogLeNet/inception3/1x1_conv/convolution/weights' type=VariableV2>,\n",
       " <tf.Operation 'CondensedGoogLeNet/inception3/1x1_conv/convolution/weights/Assign' type=Assign>,\n",
       " <tf.Operation 'CondensedGoogLeNet/inception3/1x1_conv/convolution/weights/read' type=Identity>,\n",
       " <tf.Operation 'CondensedGoogLeNet/inception3/1x1_conv/convolution/biases/Initializer/Const' type=Const>,\n",
       " <tf.Operation 'CondensedGoogLeNet/inception3/1x1_conv/convolution/biases' type=VariableV2>,\n",
       " <tf.Operation 'CondensedGoogLeNet/inception3/1x1_conv/convolution/biases/Assign' type=Assign>,\n",
       " <tf.Operation 'CondensedGoogLeNet/inception3/1x1_conv/convolution/biases/read' type=Identity>,\n",
       " <tf.Operation 'CondensedGoogLeNet/inception3/1x1_conv/convolution/conv' type=Conv2D>,\n",
       " <tf.Operation 'CondensedGoogLeNet/inception3/1x1_conv/convolution/bias_add' type=BiasAdd>,\n",
       " <tf.Operation 'CondensedGoogLeNet/inception3/1x1_conv/convolution/activation_func' type=Tanh>,\n",
       " <tf.Operation 'CondensedGoogLeNet/inception3/3x3_conv1/pre_convolution/weights_pre/Initializer/random_uniform/shape' type=Const>,\n",
       " <tf.Operation 'CondensedGoogLeNet/inception3/3x3_conv1/pre_convolution/weights_pre/Initializer/random_uniform/min' type=Const>,\n",
       " <tf.Operation 'CondensedGoogLeNet/inception3/3x3_conv1/pre_convolution/weights_pre/Initializer/random_uniform/max' type=Const>,\n",
       " <tf.Operation 'CondensedGoogLeNet/inception3/3x3_conv1/pre_convolution/weights_pre/Initializer/random_uniform/RandomUniform' type=RandomUniform>,\n",
       " <tf.Operation 'CondensedGoogLeNet/inception3/3x3_conv1/pre_convolution/weights_pre/Initializer/random_uniform/sub' type=Sub>,\n",
       " <tf.Operation 'CondensedGoogLeNet/inception3/3x3_conv1/pre_convolution/weights_pre/Initializer/random_uniform/mul' type=Mul>,\n",
       " <tf.Operation 'CondensedGoogLeNet/inception3/3x3_conv1/pre_convolution/weights_pre/Initializer/random_uniform' type=Add>,\n",
       " <tf.Operation 'CondensedGoogLeNet/inception3/3x3_conv1/pre_convolution/weights_pre' type=VariableV2>,\n",
       " <tf.Operation 'CondensedGoogLeNet/inception3/3x3_conv1/pre_convolution/weights_pre/Assign' type=Assign>,\n",
       " <tf.Operation 'CondensedGoogLeNet/inception3/3x3_conv1/pre_convolution/weights_pre/read' type=Identity>,\n",
       " <tf.Operation 'CondensedGoogLeNet/inception3/3x3_conv1/pre_convolution/conv' type=Conv2D>,\n",
       " <tf.Operation 'CondensedGoogLeNet/inception3/3x3_conv1/convolution/weights/Initializer/random_uniform/shape' type=Const>,\n",
       " <tf.Operation 'CondensedGoogLeNet/inception3/3x3_conv1/convolution/weights/Initializer/random_uniform/min' type=Const>,\n",
       " <tf.Operation 'CondensedGoogLeNet/inception3/3x3_conv1/convolution/weights/Initializer/random_uniform/max' type=Const>,\n",
       " <tf.Operation 'CondensedGoogLeNet/inception3/3x3_conv1/convolution/weights/Initializer/random_uniform/RandomUniform' type=RandomUniform>,\n",
       " <tf.Operation 'CondensedGoogLeNet/inception3/3x3_conv1/convolution/weights/Initializer/random_uniform/sub' type=Sub>,\n",
       " <tf.Operation 'CondensedGoogLeNet/inception3/3x3_conv1/convolution/weights/Initializer/random_uniform/mul' type=Mul>,\n",
       " <tf.Operation 'CondensedGoogLeNet/inception3/3x3_conv1/convolution/weights/Initializer/random_uniform' type=Add>,\n",
       " <tf.Operation 'CondensedGoogLeNet/inception3/3x3_conv1/convolution/weights' type=VariableV2>,\n",
       " <tf.Operation 'CondensedGoogLeNet/inception3/3x3_conv1/convolution/weights/Assign' type=Assign>,\n",
       " <tf.Operation 'CondensedGoogLeNet/inception3/3x3_conv1/convolution/weights/read' type=Identity>,\n",
       " <tf.Operation 'CondensedGoogLeNet/inception3/3x3_conv1/convolution/biases/Initializer/Const' type=Const>,\n",
       " <tf.Operation 'CondensedGoogLeNet/inception3/3x3_conv1/convolution/biases' type=VariableV2>,\n",
       " <tf.Operation 'CondensedGoogLeNet/inception3/3x3_conv1/convolution/biases/Assign' type=Assign>,\n",
       " <tf.Operation 'CondensedGoogLeNet/inception3/3x3_conv1/convolution/biases/read' type=Identity>,\n",
       " <tf.Operation 'CondensedGoogLeNet/inception3/3x3_conv1/convolution/conv' type=Conv2D>,\n",
       " <tf.Operation 'CondensedGoogLeNet/inception3/3x3_conv1/convolution/bias_add' type=BiasAdd>,\n",
       " <tf.Operation 'CondensedGoogLeNet/inception3/3x3_conv1/convolution/activation_func' type=Tanh>,\n",
       " <tf.Operation 'CondensedGoogLeNet/inception3/5x5_conv1/pre_convolution/weights_pre/Initializer/random_uniform/shape' type=Const>,\n",
       " <tf.Operation 'CondensedGoogLeNet/inception3/5x5_conv1/pre_convolution/weights_pre/Initializer/random_uniform/min' type=Const>,\n",
       " <tf.Operation 'CondensedGoogLeNet/inception3/5x5_conv1/pre_convolution/weights_pre/Initializer/random_uniform/max' type=Const>,\n",
       " <tf.Operation 'CondensedGoogLeNet/inception3/5x5_conv1/pre_convolution/weights_pre/Initializer/random_uniform/RandomUniform' type=RandomUniform>,\n",
       " <tf.Operation 'CondensedGoogLeNet/inception3/5x5_conv1/pre_convolution/weights_pre/Initializer/random_uniform/sub' type=Sub>,\n",
       " <tf.Operation 'CondensedGoogLeNet/inception3/5x5_conv1/pre_convolution/weights_pre/Initializer/random_uniform/mul' type=Mul>,\n",
       " <tf.Operation 'CondensedGoogLeNet/inception3/5x5_conv1/pre_convolution/weights_pre/Initializer/random_uniform' type=Add>,\n",
       " <tf.Operation 'CondensedGoogLeNet/inception3/5x5_conv1/pre_convolution/weights_pre' type=VariableV2>,\n",
       " <tf.Operation 'CondensedGoogLeNet/inception3/5x5_conv1/pre_convolution/weights_pre/Assign' type=Assign>,\n",
       " <tf.Operation 'CondensedGoogLeNet/inception3/5x5_conv1/pre_convolution/weights_pre/read' type=Identity>,\n",
       " <tf.Operation 'CondensedGoogLeNet/inception3/5x5_conv1/pre_convolution/conv' type=Conv2D>,\n",
       " <tf.Operation 'CondensedGoogLeNet/inception3/5x5_conv1/convolution/weights/Initializer/random_uniform/shape' type=Const>,\n",
       " <tf.Operation 'CondensedGoogLeNet/inception3/5x5_conv1/convolution/weights/Initializer/random_uniform/min' type=Const>,\n",
       " <tf.Operation 'CondensedGoogLeNet/inception3/5x5_conv1/convolution/weights/Initializer/random_uniform/max' type=Const>,\n",
       " <tf.Operation 'CondensedGoogLeNet/inception3/5x5_conv1/convolution/weights/Initializer/random_uniform/RandomUniform' type=RandomUniform>,\n",
       " <tf.Operation 'CondensedGoogLeNet/inception3/5x5_conv1/convolution/weights/Initializer/random_uniform/sub' type=Sub>,\n",
       " <tf.Operation 'CondensedGoogLeNet/inception3/5x5_conv1/convolution/weights/Initializer/random_uniform/mul' type=Mul>,\n",
       " <tf.Operation 'CondensedGoogLeNet/inception3/5x5_conv1/convolution/weights/Initializer/random_uniform' type=Add>,\n",
       " <tf.Operation 'CondensedGoogLeNet/inception3/5x5_conv1/convolution/weights' type=VariableV2>,\n",
       " <tf.Operation 'CondensedGoogLeNet/inception3/5x5_conv1/convolution/weights/Assign' type=Assign>,\n",
       " <tf.Operation 'CondensedGoogLeNet/inception3/5x5_conv1/convolution/weights/read' type=Identity>,\n",
       " <tf.Operation 'CondensedGoogLeNet/inception3/5x5_conv1/convolution/biases/Initializer/Const' type=Const>,\n",
       " <tf.Operation 'CondensedGoogLeNet/inception3/5x5_conv1/convolution/biases' type=VariableV2>,\n",
       " <tf.Operation 'CondensedGoogLeNet/inception3/5x5_conv1/convolution/biases/Assign' type=Assign>,\n",
       " <tf.Operation 'CondensedGoogLeNet/inception3/5x5_conv1/convolution/biases/read' type=Identity>,\n",
       " <tf.Operation 'CondensedGoogLeNet/inception3/5x5_conv1/convolution/conv' type=Conv2D>,\n",
       " <tf.Operation 'CondensedGoogLeNet/inception3/5x5_conv1/convolution/bias_add' type=BiasAdd>,\n",
       " <tf.Operation 'CondensedGoogLeNet/inception3/5x5_conv1/convolution/activation_func' type=Tanh>,\n",
       " <tf.Operation 'CondensedGoogLeNet/inception3/pooling1' type=MaxPool>,\n",
       " <tf.Operation 'CondensedGoogLeNet/inception3/pooling1_conv/convolution/weights/Initializer/random_uniform/shape' type=Const>,\n",
       " <tf.Operation 'CondensedGoogLeNet/inception3/pooling1_conv/convolution/weights/Initializer/random_uniform/min' type=Const>,\n",
       " <tf.Operation 'CondensedGoogLeNet/inception3/pooling1_conv/convolution/weights/Initializer/random_uniform/max' type=Const>,\n",
       " <tf.Operation 'CondensedGoogLeNet/inception3/pooling1_conv/convolution/weights/Initializer/random_uniform/RandomUniform' type=RandomUniform>,\n",
       " <tf.Operation 'CondensedGoogLeNet/inception3/pooling1_conv/convolution/weights/Initializer/random_uniform/sub' type=Sub>,\n",
       " <tf.Operation 'CondensedGoogLeNet/inception3/pooling1_conv/convolution/weights/Initializer/random_uniform/mul' type=Mul>,\n",
       " <tf.Operation 'CondensedGoogLeNet/inception3/pooling1_conv/convolution/weights/Initializer/random_uniform' type=Add>,\n",
       " <tf.Operation 'CondensedGoogLeNet/inception3/pooling1_conv/convolution/weights' type=VariableV2>,\n",
       " <tf.Operation 'CondensedGoogLeNet/inception3/pooling1_conv/convolution/weights/Assign' type=Assign>,\n",
       " <tf.Operation 'CondensedGoogLeNet/inception3/pooling1_conv/convolution/weights/read' type=Identity>,\n",
       " <tf.Operation 'CondensedGoogLeNet/inception3/pooling1_conv/convolution/biases/Initializer/Const' type=Const>,\n",
       " <tf.Operation 'CondensedGoogLeNet/inception3/pooling1_conv/convolution/biases' type=VariableV2>,\n",
       " <tf.Operation 'CondensedGoogLeNet/inception3/pooling1_conv/convolution/biases/Assign' type=Assign>,\n",
       " <tf.Operation 'CondensedGoogLeNet/inception3/pooling1_conv/convolution/biases/read' type=Identity>,\n",
       " <tf.Operation 'CondensedGoogLeNet/inception3/pooling1_conv/convolution/conv' type=Conv2D>,\n",
       " <tf.Operation 'CondensedGoogLeNet/inception3/pooling1_conv/convolution/bias_add' type=BiasAdd>,\n",
       " <tf.Operation 'CondensedGoogLeNet/inception3/pooling1_conv/convolution/activation_func' type=Tanh>,\n",
       " <tf.Operation 'CondensedGoogLeNet/inception3/concat/axis' type=Const>,\n",
       " <tf.Operation 'CondensedGoogLeNet/inception3/concat' type=ConcatV2>,\n",
       " <tf.Operation 'CondensedGoogLeNet/inception3/Tanh' type=Tanh>,\n",
       " <tf.Operation 'CondensedGoogLeNet/inception3_avgP' type=AvgPool>,\n",
       " <tf.Operation 'CondensedGoogLeNet/flatten/Shape' type=Shape>,\n",
       " <tf.Operation 'CondensedGoogLeNet/flatten/strided_slice/stack' type=Const>,\n",
       " <tf.Operation 'CondensedGoogLeNet/flatten/strided_slice/stack_1' type=Const>,\n",
       " <tf.Operation 'CondensedGoogLeNet/flatten/strided_slice/stack_2' type=Const>,\n",
       " <tf.Operation 'CondensedGoogLeNet/flatten/strided_slice' type=StridedSlice>,\n",
       " <tf.Operation 'CondensedGoogLeNet/flatten/Reshape/shape/1' type=Const>,\n",
       " <tf.Operation 'CondensedGoogLeNet/flatten/Reshape/shape' type=Pack>,\n",
       " <tf.Operation 'CondensedGoogLeNet/flatten/Reshape' type=Reshape>,\n",
       " <tf.Operation 'CondensedGoogLeNet/dropout/keep_prob' type=Const>,\n",
       " <tf.Operation 'CondensedGoogLeNet/dropout/Shape' type=Shape>,\n",
       " <tf.Operation 'CondensedGoogLeNet/dropout/random_uniform/min' type=Const>,\n",
       " <tf.Operation 'CondensedGoogLeNet/dropout/random_uniform/max' type=Const>,\n",
       " <tf.Operation 'CondensedGoogLeNet/dropout/random_uniform/RandomUniform' type=RandomUniform>,\n",
       " <tf.Operation 'CondensedGoogLeNet/dropout/random_uniform/sub' type=Sub>,\n",
       " <tf.Operation 'CondensedGoogLeNet/dropout/random_uniform/mul' type=Mul>,\n",
       " <tf.Operation 'CondensedGoogLeNet/dropout/random_uniform' type=Add>,\n",
       " <tf.Operation 'CondensedGoogLeNet/dropout/add' type=Add>,\n",
       " <tf.Operation 'CondensedGoogLeNet/dropout/Floor' type=Floor>,\n",
       " <tf.Operation 'CondensedGoogLeNet/dropout/div' type=RealDiv>,\n",
       " <tf.Operation 'CondensedGoogLeNet/dropout/mul' type=Mul>,\n",
       " <tf.Operation 'CondensedGoogLeNet/dense_layer/weight/Initializer/truncated_normal/shape' type=Const>,\n",
       " <tf.Operation 'CondensedGoogLeNet/dense_layer/weight/Initializer/truncated_normal/mean' type=Const>,\n",
       " <tf.Operation 'CondensedGoogLeNet/dense_layer/weight/Initializer/truncated_normal/stddev' type=Const>,\n",
       " <tf.Operation 'CondensedGoogLeNet/dense_layer/weight/Initializer/truncated_normal/TruncatedNormal' type=TruncatedNormal>,\n",
       " <tf.Operation 'CondensedGoogLeNet/dense_layer/weight/Initializer/truncated_normal/mul' type=Mul>,\n",
       " <tf.Operation 'CondensedGoogLeNet/dense_layer/weight/Initializer/truncated_normal' type=Add>,\n",
       " <tf.Operation 'CondensedGoogLeNet/dense_layer/weight' type=VariableV2>,\n",
       " <tf.Operation 'CondensedGoogLeNet/dense_layer/weight/Assign' type=Assign>,\n",
       " <tf.Operation 'CondensedGoogLeNet/dense_layer/weight/read' type=Identity>,\n",
       " <tf.Operation 'CondensedGoogLeNet/dense_layer/bias/Initializer/Const' type=Const>,\n",
       " <tf.Operation 'CondensedGoogLeNet/dense_layer/bias' type=VariableV2>,\n",
       " <tf.Operation 'CondensedGoogLeNet/dense_layer/bias/Assign' type=Assign>,\n",
       " <tf.Operation 'CondensedGoogLeNet/dense_layer/bias/read' type=Identity>,\n",
       " <tf.Operation 'CondensedGoogLeNet/dense_layer/MatMul' type=MatMul>,\n",
       " <tf.Operation 'CondensedGoogLeNet/dense_layer/BiasAdd' type=BiasAdd>,\n",
       " <tf.Operation 'CondensedGoogLeNet/output' type=Softmax>,\n",
       " <tf.Operation 'CondensedGoogLeNet/loss/softmax_cross_entropy_with_logits/Rank' type=Const>,\n",
       " <tf.Operation 'CondensedGoogLeNet/loss/softmax_cross_entropy_with_logits/Shape' type=Shape>,\n",
       " <tf.Operation 'CondensedGoogLeNet/loss/softmax_cross_entropy_with_logits/Rank_1' type=Const>,\n",
       " <tf.Operation 'CondensedGoogLeNet/loss/softmax_cross_entropy_with_logits/Shape_1' type=Shape>,\n",
       " <tf.Operation 'CondensedGoogLeNet/loss/softmax_cross_entropy_with_logits/Sub/y' type=Const>,\n",
       " <tf.Operation 'CondensedGoogLeNet/loss/softmax_cross_entropy_with_logits/Sub' type=Sub>,\n",
       " <tf.Operation 'CondensedGoogLeNet/loss/softmax_cross_entropy_with_logits/Slice/begin' type=Pack>,\n",
       " <tf.Operation 'CondensedGoogLeNet/loss/softmax_cross_entropy_with_logits/Slice/size' type=Const>,\n",
       " <tf.Operation 'CondensedGoogLeNet/loss/softmax_cross_entropy_with_logits/Slice' type=Slice>,\n",
       " <tf.Operation 'CondensedGoogLeNet/loss/softmax_cross_entropy_with_logits/concat/values_0' type=Const>,\n",
       " <tf.Operation 'CondensedGoogLeNet/loss/softmax_cross_entropy_with_logits/concat/axis' type=Const>,\n",
       " <tf.Operation 'CondensedGoogLeNet/loss/softmax_cross_entropy_with_logits/concat' type=ConcatV2>,\n",
       " <tf.Operation 'CondensedGoogLeNet/loss/softmax_cross_entropy_with_logits/Reshape' type=Reshape>,\n",
       " <tf.Operation 'CondensedGoogLeNet/loss/softmax_cross_entropy_with_logits/Rank_2' type=Const>,\n",
       " <tf.Operation 'CondensedGoogLeNet/loss/softmax_cross_entropy_with_logits/Shape_2' type=Shape>,\n",
       " <tf.Operation 'CondensedGoogLeNet/loss/softmax_cross_entropy_with_logits/Sub_1/y' type=Const>,\n",
       " <tf.Operation 'CondensedGoogLeNet/loss/softmax_cross_entropy_with_logits/Sub_1' type=Sub>,\n",
       " <tf.Operation 'CondensedGoogLeNet/loss/softmax_cross_entropy_with_logits/Slice_1/begin' type=Pack>,\n",
       " <tf.Operation 'CondensedGoogLeNet/loss/softmax_cross_entropy_with_logits/Slice_1/size' type=Const>,\n",
       " <tf.Operation 'CondensedGoogLeNet/loss/softmax_cross_entropy_with_logits/Slice_1' type=Slice>,\n",
       " <tf.Operation 'CondensedGoogLeNet/loss/softmax_cross_entropy_with_logits/concat_1/values_0' type=Const>,\n",
       " <tf.Operation 'CondensedGoogLeNet/loss/softmax_cross_entropy_with_logits/concat_1/axis' type=Const>,\n",
       " <tf.Operation 'CondensedGoogLeNet/loss/softmax_cross_entropy_with_logits/concat_1' type=ConcatV2>,\n",
       " <tf.Operation 'CondensedGoogLeNet/loss/softmax_cross_entropy_with_logits/Reshape_1' type=Reshape>,\n",
       " <tf.Operation 'CondensedGoogLeNet/loss/softmax_cross_entropy_with_logits' type=SoftmaxCrossEntropyWithLogits>,\n",
       " <tf.Operation 'CondensedGoogLeNet/loss/softmax_cross_entropy_with_logits/Sub_2/y' type=Const>,\n",
       " <tf.Operation 'CondensedGoogLeNet/loss/softmax_cross_entropy_with_logits/Sub_2' type=Sub>,\n",
       " <tf.Operation 'CondensedGoogLeNet/loss/softmax_cross_entropy_with_logits/Slice_2/begin' type=Const>,\n",
       " <tf.Operation 'CondensedGoogLeNet/loss/softmax_cross_entropy_with_logits/Slice_2/size' type=Pack>,\n",
       " <tf.Operation 'CondensedGoogLeNet/loss/softmax_cross_entropy_with_logits/Slice_2' type=Slice>,\n",
       " <tf.Operation 'CondensedGoogLeNet/loss/softmax_cross_entropy_with_logits/Reshape_2' type=Reshape>,\n",
       " <tf.Operation 'CondensedGoogLeNet/loss/Const' type=Const>,\n",
       " <tf.Operation 'CondensedGoogLeNet/loss/Mean' type=Mean>,\n",
       " <tf.Operation 'CondensedGoogLeNet/global_step/initial_value' type=Const>,\n",
       " <tf.Operation 'CondensedGoogLeNet/global_step' type=VariableV2>,\n",
       " <tf.Operation 'CondensedGoogLeNet/global_step/Assign' type=Assign>,\n",
       " <tf.Operation 'CondensedGoogLeNet/global_step/read' type=Identity>,\n",
       " <tf.Operation 'CondensedGoogLeNet/training_loss/tags' type=Const>,\n",
       " <tf.Operation 'CondensedGoogLeNet/training_loss' type=ScalarSummary>,\n",
       " <tf.Operation 'CondensedGoogLeNet/gradients/Shape' type=Const>,\n",
       " <tf.Operation 'CondensedGoogLeNet/gradients/grad_ys_0' type=Const>,\n",
       " <tf.Operation 'CondensedGoogLeNet/gradients/Fill' type=Fill>,\n",
       " <tf.Operation 'CondensedGoogLeNet/gradients/CondensedGoogLeNet/loss/Mean_grad/Reshape/shape' type=Const>,\n",
       " <tf.Operation 'CondensedGoogLeNet/gradients/CondensedGoogLeNet/loss/Mean_grad/Reshape' type=Reshape>,\n",
       " <tf.Operation 'CondensedGoogLeNet/gradients/CondensedGoogLeNet/loss/Mean_grad/Shape' type=Shape>,\n",
       " <tf.Operation 'CondensedGoogLeNet/gradients/CondensedGoogLeNet/loss/Mean_grad/Tile' type=Tile>,\n",
       " <tf.Operation 'CondensedGoogLeNet/gradients/CondensedGoogLeNet/loss/Mean_grad/Shape_1' type=Shape>,\n",
       " <tf.Operation 'CondensedGoogLeNet/gradients/CondensedGoogLeNet/loss/Mean_grad/Shape_2' type=Const>,\n",
       " <tf.Operation 'CondensedGoogLeNet/gradients/CondensedGoogLeNet/loss/Mean_grad/Const' type=Const>,\n",
       " <tf.Operation 'CondensedGoogLeNet/gradients/CondensedGoogLeNet/loss/Mean_grad/Prod' type=Prod>,\n",
       " <tf.Operation 'CondensedGoogLeNet/gradients/CondensedGoogLeNet/loss/Mean_grad/Const_1' type=Const>,\n",
       " <tf.Operation 'CondensedGoogLeNet/gradients/CondensedGoogLeNet/loss/Mean_grad/Prod_1' type=Prod>,\n",
       " <tf.Operation 'CondensedGoogLeNet/gradients/CondensedGoogLeNet/loss/Mean_grad/Maximum/y' type=Const>,\n",
       " <tf.Operation 'CondensedGoogLeNet/gradients/CondensedGoogLeNet/loss/Mean_grad/Maximum' type=Maximum>,\n",
       " <tf.Operation 'CondensedGoogLeNet/gradients/CondensedGoogLeNet/loss/Mean_grad/floordiv' type=FloorDiv>,\n",
       " <tf.Operation 'CondensedGoogLeNet/gradients/CondensedGoogLeNet/loss/Mean_grad/Cast' type=Cast>,\n",
       " <tf.Operation 'CondensedGoogLeNet/gradients/CondensedGoogLeNet/loss/Mean_grad/truediv' type=RealDiv>,\n",
       " <tf.Operation 'CondensedGoogLeNet/gradients/CondensedGoogLeNet/loss/softmax_cross_entropy_with_logits/Reshape_2_grad/Shape' type=Shape>,\n",
       " <tf.Operation 'CondensedGoogLeNet/gradients/CondensedGoogLeNet/loss/softmax_cross_entropy_with_logits/Reshape_2_grad/Reshape' type=Reshape>,\n",
       " <tf.Operation 'CondensedGoogLeNet/gradients/zeros_like' type=ZerosLike>,\n",
       " <tf.Operation 'CondensedGoogLeNet/gradients/CondensedGoogLeNet/loss/softmax_cross_entropy_with_logits_grad/ExpandDims/dim' type=Const>,\n",
       " <tf.Operation 'CondensedGoogLeNet/gradients/CondensedGoogLeNet/loss/softmax_cross_entropy_with_logits_grad/ExpandDims' type=ExpandDims>,\n",
       " <tf.Operation 'CondensedGoogLeNet/gradients/CondensedGoogLeNet/loss/softmax_cross_entropy_with_logits_grad/mul' type=Mul>,\n",
       " <tf.Operation 'CondensedGoogLeNet/gradients/CondensedGoogLeNet/loss/softmax_cross_entropy_with_logits_grad/LogSoftmax' type=LogSoftmax>,\n",
       " <tf.Operation 'CondensedGoogLeNet/gradients/CondensedGoogLeNet/loss/softmax_cross_entropy_with_logits_grad/Neg' type=Neg>,\n",
       " <tf.Operation 'CondensedGoogLeNet/gradients/CondensedGoogLeNet/loss/softmax_cross_entropy_with_logits_grad/ExpandDims_1/dim' type=Const>,\n",
       " <tf.Operation 'CondensedGoogLeNet/gradients/CondensedGoogLeNet/loss/softmax_cross_entropy_with_logits_grad/ExpandDims_1' type=ExpandDims>,\n",
       " <tf.Operation 'CondensedGoogLeNet/gradients/CondensedGoogLeNet/loss/softmax_cross_entropy_with_logits_grad/mul_1' type=Mul>,\n",
       " <tf.Operation 'CondensedGoogLeNet/gradients/CondensedGoogLeNet/loss/softmax_cross_entropy_with_logits_grad/tuple/group_deps' type=NoOp>,\n",
       " <tf.Operation 'CondensedGoogLeNet/gradients/CondensedGoogLeNet/loss/softmax_cross_entropy_with_logits_grad/tuple/control_dependency' type=Identity>,\n",
       " <tf.Operation 'CondensedGoogLeNet/gradients/CondensedGoogLeNet/loss/softmax_cross_entropy_with_logits_grad/tuple/control_dependency_1' type=Identity>,\n",
       " <tf.Operation 'CondensedGoogLeNet/gradients/CondensedGoogLeNet/loss/softmax_cross_entropy_with_logits/Reshape_grad/Shape' type=Shape>,\n",
       " <tf.Operation 'CondensedGoogLeNet/gradients/CondensedGoogLeNet/loss/softmax_cross_entropy_with_logits/Reshape_grad/Reshape' type=Reshape>,\n",
       " <tf.Operation 'CondensedGoogLeNet/gradients/CondensedGoogLeNet/dense_layer/BiasAdd_grad/BiasAddGrad' type=BiasAddGrad>,\n",
       " <tf.Operation 'CondensedGoogLeNet/gradients/CondensedGoogLeNet/dense_layer/BiasAdd_grad/tuple/group_deps' type=NoOp>,\n",
       " <tf.Operation 'CondensedGoogLeNet/gradients/CondensedGoogLeNet/dense_layer/BiasAdd_grad/tuple/control_dependency' type=Identity>,\n",
       " <tf.Operation 'CondensedGoogLeNet/gradients/CondensedGoogLeNet/dense_layer/BiasAdd_grad/tuple/control_dependency_1' type=Identity>,\n",
       " <tf.Operation 'CondensedGoogLeNet/gradients/CondensedGoogLeNet/dense_layer/MatMul_grad/MatMul' type=MatMul>,\n",
       " <tf.Operation 'CondensedGoogLeNet/gradients/CondensedGoogLeNet/dense_layer/MatMul_grad/MatMul_1' type=MatMul>,\n",
       " <tf.Operation 'CondensedGoogLeNet/gradients/CondensedGoogLeNet/dense_layer/MatMul_grad/tuple/group_deps' type=NoOp>,\n",
       " <tf.Operation 'CondensedGoogLeNet/gradients/CondensedGoogLeNet/dense_layer/MatMul_grad/tuple/control_dependency' type=Identity>,\n",
       " <tf.Operation 'CondensedGoogLeNet/gradients/CondensedGoogLeNet/dense_layer/MatMul_grad/tuple/control_dependency_1' type=Identity>,\n",
       " <tf.Operation 'CondensedGoogLeNet/gradients/CondensedGoogLeNet/dropout/mul_grad/Shape' type=Shape>,\n",
       " <tf.Operation 'CondensedGoogLeNet/gradients/CondensedGoogLeNet/dropout/mul_grad/Shape_1' type=Shape>,\n",
       " <tf.Operation 'CondensedGoogLeNet/gradients/CondensedGoogLeNet/dropout/mul_grad/BroadcastGradientArgs' type=BroadcastGradientArgs>,\n",
       " <tf.Operation 'CondensedGoogLeNet/gradients/CondensedGoogLeNet/dropout/mul_grad/Mul' type=Mul>,\n",
       " <tf.Operation 'CondensedGoogLeNet/gradients/CondensedGoogLeNet/dropout/mul_grad/Sum' type=Sum>,\n",
       " <tf.Operation 'CondensedGoogLeNet/gradients/CondensedGoogLeNet/dropout/mul_grad/Reshape' type=Reshape>,\n",
       " <tf.Operation 'CondensedGoogLeNet/gradients/CondensedGoogLeNet/dropout/mul_grad/Mul_1' type=Mul>,\n",
       " <tf.Operation 'CondensedGoogLeNet/gradients/CondensedGoogLeNet/dropout/mul_grad/Sum_1' type=Sum>,\n",
       " <tf.Operation 'CondensedGoogLeNet/gradients/CondensedGoogLeNet/dropout/mul_grad/Reshape_1' type=Reshape>,\n",
       " <tf.Operation 'CondensedGoogLeNet/gradients/CondensedGoogLeNet/dropout/mul_grad/tuple/group_deps' type=NoOp>,\n",
       " <tf.Operation 'CondensedGoogLeNet/gradients/CondensedGoogLeNet/dropout/mul_grad/tuple/control_dependency' type=Identity>,\n",
       " <tf.Operation 'CondensedGoogLeNet/gradients/CondensedGoogLeNet/dropout/mul_grad/tuple/control_dependency_1' type=Identity>,\n",
       " <tf.Operation 'CondensedGoogLeNet/gradients/CondensedGoogLeNet/dropout/div_grad/Shape' type=Shape>,\n",
       " <tf.Operation 'CondensedGoogLeNet/gradients/CondensedGoogLeNet/dropout/div_grad/Shape_1' type=Const>,\n",
       " <tf.Operation 'CondensedGoogLeNet/gradients/CondensedGoogLeNet/dropout/div_grad/BroadcastGradientArgs' type=BroadcastGradientArgs>,\n",
       " <tf.Operation 'CondensedGoogLeNet/gradients/CondensedGoogLeNet/dropout/div_grad/RealDiv' type=RealDiv>,\n",
       " <tf.Operation 'CondensedGoogLeNet/gradients/CondensedGoogLeNet/dropout/div_grad/Sum' type=Sum>,\n",
       " <tf.Operation 'CondensedGoogLeNet/gradients/CondensedGoogLeNet/dropout/div_grad/Reshape' type=Reshape>,\n",
       " <tf.Operation 'CondensedGoogLeNet/gradients/CondensedGoogLeNet/dropout/div_grad/Neg' type=Neg>,\n",
       " <tf.Operation 'CondensedGoogLeNet/gradients/CondensedGoogLeNet/dropout/div_grad/RealDiv_1' type=RealDiv>,\n",
       " <tf.Operation 'CondensedGoogLeNet/gradients/CondensedGoogLeNet/dropout/div_grad/RealDiv_2' type=RealDiv>,\n",
       " <tf.Operation 'CondensedGoogLeNet/gradients/CondensedGoogLeNet/dropout/div_grad/mul' type=Mul>,\n",
       " <tf.Operation 'CondensedGoogLeNet/gradients/CondensedGoogLeNet/dropout/div_grad/Sum_1' type=Sum>,\n",
       " <tf.Operation 'CondensedGoogLeNet/gradients/CondensedGoogLeNet/dropout/div_grad/Reshape_1' type=Reshape>,\n",
       " <tf.Operation 'CondensedGoogLeNet/gradients/CondensedGoogLeNet/dropout/div_grad/tuple/group_deps' type=NoOp>,\n",
       " <tf.Operation 'CondensedGoogLeNet/gradients/CondensedGoogLeNet/dropout/div_grad/tuple/control_dependency' type=Identity>,\n",
       " <tf.Operation 'CondensedGoogLeNet/gradients/CondensedGoogLeNet/dropout/div_grad/tuple/control_dependency_1' type=Identity>,\n",
       " <tf.Operation 'CondensedGoogLeNet/gradients/CondensedGoogLeNet/flatten/Reshape_grad/Shape' type=Shape>,\n",
       " <tf.Operation 'CondensedGoogLeNet/gradients/CondensedGoogLeNet/flatten/Reshape_grad/Reshape' type=Reshape>,\n",
       " <tf.Operation 'CondensedGoogLeNet/gradients/CondensedGoogLeNet/inception3_avgP_grad/Shape' type=Shape>,\n",
       " <tf.Operation 'CondensedGoogLeNet/gradients/CondensedGoogLeNet/inception3_avgP_grad/AvgPoolGrad' type=AvgPoolGrad>,\n",
       " <tf.Operation 'CondensedGoogLeNet/gradients/CondensedGoogLeNet/inception3/Tanh_grad/TanhGrad' type=TanhGrad>,\n",
       " <tf.Operation 'CondensedGoogLeNet/gradients/CondensedGoogLeNet/inception3/concat_grad/Rank' type=Const>,\n",
       " <tf.Operation 'CondensedGoogLeNet/gradients/CondensedGoogLeNet/inception3/concat_grad/mod' type=FloorMod>,\n",
       " <tf.Operation 'CondensedGoogLeNet/gradients/CondensedGoogLeNet/inception3/concat_grad/Shape' type=Shape>,\n",
       " <tf.Operation 'CondensedGoogLeNet/gradients/CondensedGoogLeNet/inception3/concat_grad/ShapeN' type=ShapeN>,\n",
       " <tf.Operation 'CondensedGoogLeNet/gradients/CondensedGoogLeNet/inception3/concat_grad/ConcatOffset' type=ConcatOffset>,\n",
       " <tf.Operation 'CondensedGoogLeNet/gradients/CondensedGoogLeNet/inception3/concat_grad/Slice' type=Slice>,\n",
       " <tf.Operation 'CondensedGoogLeNet/gradients/CondensedGoogLeNet/inception3/concat_grad/Slice_1' type=Slice>,\n",
       " <tf.Operation 'CondensedGoogLeNet/gradients/CondensedGoogLeNet/inception3/concat_grad/Slice_2' type=Slice>,\n",
       " <tf.Operation 'CondensedGoogLeNet/gradients/CondensedGoogLeNet/inception3/concat_grad/Slice_3' type=Slice>,\n",
       " <tf.Operation 'CondensedGoogLeNet/gradients/CondensedGoogLeNet/inception3/concat_grad/tuple/group_deps' type=NoOp>,\n",
       " <tf.Operation 'CondensedGoogLeNet/gradients/CondensedGoogLeNet/inception3/concat_grad/tuple/control_dependency' type=Identity>,\n",
       " <tf.Operation 'CondensedGoogLeNet/gradients/CondensedGoogLeNet/inception3/concat_grad/tuple/control_dependency_1' type=Identity>,\n",
       " <tf.Operation 'CondensedGoogLeNet/gradients/CondensedGoogLeNet/inception3/concat_grad/tuple/control_dependency_2' type=Identity>,\n",
       " <tf.Operation 'CondensedGoogLeNet/gradients/CondensedGoogLeNet/inception3/concat_grad/tuple/control_dependency_3' type=Identity>,\n",
       " <tf.Operation 'CondensedGoogLeNet/gradients/CondensedGoogLeNet/inception3/1x1_conv/convolution/activation_func_grad/TanhGrad' type=TanhGrad>,\n",
       " <tf.Operation 'CondensedGoogLeNet/gradients/CondensedGoogLeNet/inception3/3x3_conv1/convolution/activation_func_grad/TanhGrad' type=TanhGrad>,\n",
       " <tf.Operation 'CondensedGoogLeNet/gradients/CondensedGoogLeNet/inception3/5x5_conv1/convolution/activation_func_grad/TanhGrad' type=TanhGrad>,\n",
       " <tf.Operation 'CondensedGoogLeNet/gradients/CondensedGoogLeNet/inception3/pooling1_conv/convolution/activation_func_grad/TanhGrad' type=TanhGrad>,\n",
       " <tf.Operation 'CondensedGoogLeNet/gradients/CondensedGoogLeNet/inception3/1x1_conv/convolution/bias_add_grad/BiasAddGrad' type=BiasAddGrad>,\n",
       " <tf.Operation 'CondensedGoogLeNet/gradients/CondensedGoogLeNet/inception3/1x1_conv/convolution/bias_add_grad/tuple/group_deps' type=NoOp>,\n",
       " <tf.Operation 'CondensedGoogLeNet/gradients/CondensedGoogLeNet/inception3/1x1_conv/convolution/bias_add_grad/tuple/control_dependency' type=Identity>,\n",
       " <tf.Operation 'CondensedGoogLeNet/gradients/CondensedGoogLeNet/inception3/1x1_conv/convolution/bias_add_grad/tuple/control_dependency_1' type=Identity>,\n",
       " <tf.Operation 'CondensedGoogLeNet/gradients/CondensedGoogLeNet/inception3/3x3_conv1/convolution/bias_add_grad/BiasAddGrad' type=BiasAddGrad>,\n",
       " <tf.Operation 'CondensedGoogLeNet/gradients/CondensedGoogLeNet/inception3/3x3_conv1/convolution/bias_add_grad/tuple/group_deps' type=NoOp>,\n",
       " <tf.Operation 'CondensedGoogLeNet/gradients/CondensedGoogLeNet/inception3/3x3_conv1/convolution/bias_add_grad/tuple/control_dependency' type=Identity>,\n",
       " <tf.Operation 'CondensedGoogLeNet/gradients/CondensedGoogLeNet/inception3/3x3_conv1/convolution/bias_add_grad/tuple/control_dependency_1' type=Identity>,\n",
       " <tf.Operation 'CondensedGoogLeNet/gradients/CondensedGoogLeNet/inception3/5x5_conv1/convolution/bias_add_grad/BiasAddGrad' type=BiasAddGrad>,\n",
       " <tf.Operation 'CondensedGoogLeNet/gradients/CondensedGoogLeNet/inception3/5x5_conv1/convolution/bias_add_grad/tuple/group_deps' type=NoOp>,\n",
       " <tf.Operation 'CondensedGoogLeNet/gradients/CondensedGoogLeNet/inception3/5x5_conv1/convolution/bias_add_grad/tuple/control_dependency' type=Identity>,\n",
       " <tf.Operation 'CondensedGoogLeNet/gradients/CondensedGoogLeNet/inception3/5x5_conv1/convolution/bias_add_grad/tuple/control_dependency_1' type=Identity>,\n",
       " <tf.Operation 'CondensedGoogLeNet/gradients/CondensedGoogLeNet/inception3/pooling1_conv/convolution/bias_add_grad/BiasAddGrad' type=BiasAddGrad>,\n",
       " <tf.Operation 'CondensedGoogLeNet/gradients/CondensedGoogLeNet/inception3/pooling1_conv/convolution/bias_add_grad/tuple/group_deps' type=NoOp>,\n",
       " <tf.Operation 'CondensedGoogLeNet/gradients/CondensedGoogLeNet/inception3/pooling1_conv/convolution/bias_add_grad/tuple/control_dependency' type=Identity>,\n",
       " <tf.Operation 'CondensedGoogLeNet/gradients/CondensedGoogLeNet/inception3/pooling1_conv/convolution/bias_add_grad/tuple/control_dependency_1' type=Identity>,\n",
       " <tf.Operation 'CondensedGoogLeNet/gradients/CondensedGoogLeNet/inception3/1x1_conv/convolution/conv_grad/ShapeN' type=ShapeN>,\n",
       " <tf.Operation 'CondensedGoogLeNet/gradients/CondensedGoogLeNet/inception3/1x1_conv/convolution/conv_grad/Conv2DBackpropInput' type=Conv2DBackpropInput>,\n",
       " <tf.Operation 'CondensedGoogLeNet/gradients/CondensedGoogLeNet/inception3/1x1_conv/convolution/conv_grad/Conv2DBackpropFilter' type=Conv2DBackpropFilter>,\n",
       " <tf.Operation 'CondensedGoogLeNet/gradients/CondensedGoogLeNet/inception3/1x1_conv/convolution/conv_grad/tuple/group_deps' type=NoOp>,\n",
       " <tf.Operation 'CondensedGoogLeNet/gradients/CondensedGoogLeNet/inception3/1x1_conv/convolution/conv_grad/tuple/control_dependency' type=Identity>,\n",
       " <tf.Operation 'CondensedGoogLeNet/gradients/CondensedGoogLeNet/inception3/1x1_conv/convolution/conv_grad/tuple/control_dependency_1' type=Identity>,\n",
       " <tf.Operation 'CondensedGoogLeNet/gradients/CondensedGoogLeNet/inception3/3x3_conv1/convolution/conv_grad/ShapeN' type=ShapeN>,\n",
       " <tf.Operation 'CondensedGoogLeNet/gradients/CondensedGoogLeNet/inception3/3x3_conv1/convolution/conv_grad/Conv2DBackpropInput' type=Conv2DBackpropInput>,\n",
       " <tf.Operation 'CondensedGoogLeNet/gradients/CondensedGoogLeNet/inception3/3x3_conv1/convolution/conv_grad/Conv2DBackpropFilter' type=Conv2DBackpropFilter>,\n",
       " <tf.Operation 'CondensedGoogLeNet/gradients/CondensedGoogLeNet/inception3/3x3_conv1/convolution/conv_grad/tuple/group_deps' type=NoOp>,\n",
       " <tf.Operation 'CondensedGoogLeNet/gradients/CondensedGoogLeNet/inception3/3x3_conv1/convolution/conv_grad/tuple/control_dependency' type=Identity>,\n",
       " <tf.Operation 'CondensedGoogLeNet/gradients/CondensedGoogLeNet/inception3/3x3_conv1/convolution/conv_grad/tuple/control_dependency_1' type=Identity>,\n",
       " <tf.Operation 'CondensedGoogLeNet/gradients/CondensedGoogLeNet/inception3/5x5_conv1/convolution/conv_grad/ShapeN' type=ShapeN>,\n",
       " <tf.Operation 'CondensedGoogLeNet/gradients/CondensedGoogLeNet/inception3/5x5_conv1/convolution/conv_grad/Conv2DBackpropInput' type=Conv2DBackpropInput>,\n",
       " <tf.Operation 'CondensedGoogLeNet/gradients/CondensedGoogLeNet/inception3/5x5_conv1/convolution/conv_grad/Conv2DBackpropFilter' type=Conv2DBackpropFilter>,\n",
       " <tf.Operation 'CondensedGoogLeNet/gradients/CondensedGoogLeNet/inception3/5x5_conv1/convolution/conv_grad/tuple/group_deps' type=NoOp>,\n",
       " <tf.Operation 'CondensedGoogLeNet/gradients/CondensedGoogLeNet/inception3/5x5_conv1/convolution/conv_grad/tuple/control_dependency' type=Identity>,\n",
       " <tf.Operation 'CondensedGoogLeNet/gradients/CondensedGoogLeNet/inception3/5x5_conv1/convolution/conv_grad/tuple/control_dependency_1' type=Identity>,\n",
       " <tf.Operation 'CondensedGoogLeNet/gradients/CondensedGoogLeNet/inception3/pooling1_conv/convolution/conv_grad/ShapeN' type=ShapeN>,\n",
       " <tf.Operation 'CondensedGoogLeNet/gradients/CondensedGoogLeNet/inception3/pooling1_conv/convolution/conv_grad/Conv2DBackpropInput' type=Conv2DBackpropInput>,\n",
       " <tf.Operation 'CondensedGoogLeNet/gradients/CondensedGoogLeNet/inception3/pooling1_conv/convolution/conv_grad/Conv2DBackpropFilter' type=Conv2DBackpropFilter>,\n",
       " <tf.Operation 'CondensedGoogLeNet/gradients/CondensedGoogLeNet/inception3/pooling1_conv/convolution/conv_grad/tuple/group_deps' type=NoOp>,\n",
       " <tf.Operation 'CondensedGoogLeNet/gradients/CondensedGoogLeNet/inception3/pooling1_conv/convolution/conv_grad/tuple/control_dependency' type=Identity>,\n",
       " <tf.Operation 'CondensedGoogLeNet/gradients/CondensedGoogLeNet/inception3/pooling1_conv/convolution/conv_grad/tuple/control_dependency_1' type=Identity>,\n",
       " <tf.Operation 'CondensedGoogLeNet/gradients/CondensedGoogLeNet/inception3/3x3_conv1/pre_convolution/conv_grad/ShapeN' type=ShapeN>,\n",
       " <tf.Operation 'CondensedGoogLeNet/gradients/CondensedGoogLeNet/inception3/3x3_conv1/pre_convolution/conv_grad/Conv2DBackpropInput' type=Conv2DBackpropInput>,\n",
       " <tf.Operation 'CondensedGoogLeNet/gradients/CondensedGoogLeNet/inception3/3x3_conv1/pre_convolution/conv_grad/Conv2DBackpropFilter' type=Conv2DBackpropFilter>,\n",
       " <tf.Operation 'CondensedGoogLeNet/gradients/CondensedGoogLeNet/inception3/3x3_conv1/pre_convolution/conv_grad/tuple/group_deps' type=NoOp>,\n",
       " <tf.Operation 'CondensedGoogLeNet/gradients/CondensedGoogLeNet/inception3/3x3_conv1/pre_convolution/conv_grad/tuple/control_dependency' type=Identity>,\n",
       " <tf.Operation 'CondensedGoogLeNet/gradients/CondensedGoogLeNet/inception3/3x3_conv1/pre_convolution/conv_grad/tuple/control_dependency_1' type=Identity>,\n",
       " <tf.Operation 'CondensedGoogLeNet/gradients/CondensedGoogLeNet/inception3/5x5_conv1/pre_convolution/conv_grad/ShapeN' type=ShapeN>,\n",
       " <tf.Operation 'CondensedGoogLeNet/gradients/CondensedGoogLeNet/inception3/5x5_conv1/pre_convolution/conv_grad/Conv2DBackpropInput' type=Conv2DBackpropInput>,\n",
       " <tf.Operation 'CondensedGoogLeNet/gradients/CondensedGoogLeNet/inception3/5x5_conv1/pre_convolution/conv_grad/Conv2DBackpropFilter' type=Conv2DBackpropFilter>,\n",
       " <tf.Operation 'CondensedGoogLeNet/gradients/CondensedGoogLeNet/inception3/5x5_conv1/pre_convolution/conv_grad/tuple/group_deps' type=NoOp>,\n",
       " <tf.Operation 'CondensedGoogLeNet/gradients/CondensedGoogLeNet/inception3/5x5_conv1/pre_convolution/conv_grad/tuple/control_dependency' type=Identity>,\n",
       " <tf.Operation 'CondensedGoogLeNet/gradients/CondensedGoogLeNet/inception3/5x5_conv1/pre_convolution/conv_grad/tuple/control_dependency_1' type=Identity>,\n",
       " <tf.Operation 'CondensedGoogLeNet/gradients/AddN' type=AddN>,\n",
       " <tf.Operation 'CondensedGoogLeNet/gradients/CondensedGoogLeNet/inception2_maxP_grad/MaxPoolGrad' type=MaxPoolGrad>,\n",
       " <tf.Operation 'CondensedGoogLeNet/gradients/CondensedGoogLeNet/inception2/Tanh_grad/TanhGrad' type=TanhGrad>,\n",
       " <tf.Operation 'CondensedGoogLeNet/gradients/CondensedGoogLeNet/inception2/concat_grad/Rank' type=Const>,\n",
       " <tf.Operation 'CondensedGoogLeNet/gradients/CondensedGoogLeNet/inception2/concat_grad/mod' type=FloorMod>,\n",
       " <tf.Operation 'CondensedGoogLeNet/gradients/CondensedGoogLeNet/inception2/concat_grad/Shape' type=Shape>,\n",
       " <tf.Operation 'CondensedGoogLeNet/gradients/CondensedGoogLeNet/inception2/concat_grad/ShapeN' type=ShapeN>,\n",
       " <tf.Operation 'CondensedGoogLeNet/gradients/CondensedGoogLeNet/inception2/concat_grad/ConcatOffset' type=ConcatOffset>,\n",
       " <tf.Operation 'CondensedGoogLeNet/gradients/CondensedGoogLeNet/inception2/concat_grad/Slice' type=Slice>,\n",
       " <tf.Operation 'CondensedGoogLeNet/gradients/CondensedGoogLeNet/inception2/concat_grad/Slice_1' type=Slice>,\n",
       " <tf.Operation 'CondensedGoogLeNet/gradients/CondensedGoogLeNet/inception2/concat_grad/Slice_2' type=Slice>,\n",
       " <tf.Operation 'CondensedGoogLeNet/gradients/CondensedGoogLeNet/inception2/concat_grad/Slice_3' type=Slice>,\n",
       " <tf.Operation 'CondensedGoogLeNet/gradients/CondensedGoogLeNet/inception2/concat_grad/tuple/group_deps' type=NoOp>,\n",
       " <tf.Operation 'CondensedGoogLeNet/gradients/CondensedGoogLeNet/inception2/concat_grad/tuple/control_dependency' type=Identity>,\n",
       " <tf.Operation 'CondensedGoogLeNet/gradients/CondensedGoogLeNet/inception2/concat_grad/tuple/control_dependency_1' type=Identity>,\n",
       " <tf.Operation 'CondensedGoogLeNet/gradients/CondensedGoogLeNet/inception2/concat_grad/tuple/control_dependency_2' type=Identity>,\n",
       " <tf.Operation 'CondensedGoogLeNet/gradients/CondensedGoogLeNet/inception2/concat_grad/tuple/control_dependency_3' type=Identity>,\n",
       " <tf.Operation 'CondensedGoogLeNet/gradients/CondensedGoogLeNet/inception2/1x1_conv/convolution/activation_func_grad/TanhGrad' type=TanhGrad>,\n",
       " <tf.Operation 'CondensedGoogLeNet/gradients/CondensedGoogLeNet/inception2/3x3_conv1/convolution/activation_func_grad/TanhGrad' type=TanhGrad>,\n",
       " <tf.Operation 'CondensedGoogLeNet/gradients/CondensedGoogLeNet/inception2/5x5_conv1/convolution/activation_func_grad/TanhGrad' type=TanhGrad>,\n",
       " <tf.Operation 'CondensedGoogLeNet/gradients/CondensedGoogLeNet/inception2/pooling1_conv/convolution/activation_func_grad/TanhGrad' type=TanhGrad>,\n",
       " <tf.Operation 'CondensedGoogLeNet/gradients/CondensedGoogLeNet/inception2/1x1_conv/convolution/bias_add_grad/BiasAddGrad' type=BiasAddGrad>,\n",
       " <tf.Operation 'CondensedGoogLeNet/gradients/CondensedGoogLeNet/inception2/1x1_conv/convolution/bias_add_grad/tuple/group_deps' type=NoOp>,\n",
       " <tf.Operation 'CondensedGoogLeNet/gradients/CondensedGoogLeNet/inception2/1x1_conv/convolution/bias_add_grad/tuple/control_dependency' type=Identity>,\n",
       " <tf.Operation 'CondensedGoogLeNet/gradients/CondensedGoogLeNet/inception2/1x1_conv/convolution/bias_add_grad/tuple/control_dependency_1' type=Identity>,\n",
       " <tf.Operation 'CondensedGoogLeNet/gradients/CondensedGoogLeNet/inception2/3x3_conv1/convolution/bias_add_grad/BiasAddGrad' type=BiasAddGrad>,\n",
       " <tf.Operation 'CondensedGoogLeNet/gradients/CondensedGoogLeNet/inception2/3x3_conv1/convolution/bias_add_grad/tuple/group_deps' type=NoOp>,\n",
       " <tf.Operation 'CondensedGoogLeNet/gradients/CondensedGoogLeNet/inception2/3x3_conv1/convolution/bias_add_grad/tuple/control_dependency' type=Identity>,\n",
       " <tf.Operation 'CondensedGoogLeNet/gradients/CondensedGoogLeNet/inception2/3x3_conv1/convolution/bias_add_grad/tuple/control_dependency_1' type=Identity>,\n",
       " <tf.Operation 'CondensedGoogLeNet/gradients/CondensedGoogLeNet/inception2/5x5_conv1/convolution/bias_add_grad/BiasAddGrad' type=BiasAddGrad>,\n",
       " <tf.Operation 'CondensedGoogLeNet/gradients/CondensedGoogLeNet/inception2/5x5_conv1/convolution/bias_add_grad/tuple/group_deps' type=NoOp>,\n",
       " <tf.Operation 'CondensedGoogLeNet/gradients/CondensedGoogLeNet/inception2/5x5_conv1/convolution/bias_add_grad/tuple/control_dependency' type=Identity>,\n",
       " <tf.Operation 'CondensedGoogLeNet/gradients/CondensedGoogLeNet/inception2/5x5_conv1/convolution/bias_add_grad/tuple/control_dependency_1' type=Identity>,\n",
       " <tf.Operation 'CondensedGoogLeNet/gradients/CondensedGoogLeNet/inception2/pooling1_conv/convolution/bias_add_grad/BiasAddGrad' type=BiasAddGrad>,\n",
       " <tf.Operation 'CondensedGoogLeNet/gradients/CondensedGoogLeNet/inception2/pooling1_conv/convolution/bias_add_grad/tuple/group_deps' type=NoOp>,\n",
       " <tf.Operation 'CondensedGoogLeNet/gradients/CondensedGoogLeNet/inception2/pooling1_conv/convolution/bias_add_grad/tuple/control_dependency' type=Identity>,\n",
       " <tf.Operation 'CondensedGoogLeNet/gradients/CondensedGoogLeNet/inception2/pooling1_conv/convolution/bias_add_grad/tuple/control_dependency_1' type=Identity>,\n",
       " <tf.Operation 'CondensedGoogLeNet/gradients/CondensedGoogLeNet/inception2/1x1_conv/convolution/conv_grad/ShapeN' type=ShapeN>,\n",
       " <tf.Operation 'CondensedGoogLeNet/gradients/CondensedGoogLeNet/inception2/1x1_conv/convolution/conv_grad/Conv2DBackpropInput' type=Conv2DBackpropInput>,\n",
       " <tf.Operation 'CondensedGoogLeNet/gradients/CondensedGoogLeNet/inception2/1x1_conv/convolution/conv_grad/Conv2DBackpropFilter' type=Conv2DBackpropFilter>,\n",
       " <tf.Operation 'CondensedGoogLeNet/gradients/CondensedGoogLeNet/inception2/1x1_conv/convolution/conv_grad/tuple/group_deps' type=NoOp>,\n",
       " <tf.Operation 'CondensedGoogLeNet/gradients/CondensedGoogLeNet/inception2/1x1_conv/convolution/conv_grad/tuple/control_dependency' type=Identity>,\n",
       " <tf.Operation 'CondensedGoogLeNet/gradients/CondensedGoogLeNet/inception2/1x1_conv/convolution/conv_grad/tuple/control_dependency_1' type=Identity>,\n",
       " <tf.Operation 'CondensedGoogLeNet/gradients/CondensedGoogLeNet/inception2/3x3_conv1/convolution/conv_grad/ShapeN' type=ShapeN>,\n",
       " <tf.Operation 'CondensedGoogLeNet/gradients/CondensedGoogLeNet/inception2/3x3_conv1/convolution/conv_grad/Conv2DBackpropInput' type=Conv2DBackpropInput>,\n",
       " <tf.Operation 'CondensedGoogLeNet/gradients/CondensedGoogLeNet/inception2/3x3_conv1/convolution/conv_grad/Conv2DBackpropFilter' type=Conv2DBackpropFilter>,\n",
       " <tf.Operation 'CondensedGoogLeNet/gradients/CondensedGoogLeNet/inception2/3x3_conv1/convolution/conv_grad/tuple/group_deps' type=NoOp>,\n",
       " <tf.Operation 'CondensedGoogLeNet/gradients/CondensedGoogLeNet/inception2/3x3_conv1/convolution/conv_grad/tuple/control_dependency' type=Identity>,\n",
       " <tf.Operation 'CondensedGoogLeNet/gradients/CondensedGoogLeNet/inception2/3x3_conv1/convolution/conv_grad/tuple/control_dependency_1' type=Identity>,\n",
       " <tf.Operation 'CondensedGoogLeNet/gradients/CondensedGoogLeNet/inception2/5x5_conv1/convolution/conv_grad/ShapeN' type=ShapeN>,\n",
       " <tf.Operation 'CondensedGoogLeNet/gradients/CondensedGoogLeNet/inception2/5x5_conv1/convolution/conv_grad/Conv2DBackpropInput' type=Conv2DBackpropInput>,\n",
       " <tf.Operation 'CondensedGoogLeNet/gradients/CondensedGoogLeNet/inception2/5x5_conv1/convolution/conv_grad/Conv2DBackpropFilter' type=Conv2DBackpropFilter>,\n",
       " <tf.Operation 'CondensedGoogLeNet/gradients/CondensedGoogLeNet/inception2/5x5_conv1/convolution/conv_grad/tuple/group_deps' type=NoOp>,\n",
       " <tf.Operation 'CondensedGoogLeNet/gradients/CondensedGoogLeNet/inception2/5x5_conv1/convolution/conv_grad/tuple/control_dependency' type=Identity>,\n",
       " <tf.Operation 'CondensedGoogLeNet/gradients/CondensedGoogLeNet/inception2/5x5_conv1/convolution/conv_grad/tuple/control_dependency_1' type=Identity>,\n",
       " <tf.Operation 'CondensedGoogLeNet/gradients/CondensedGoogLeNet/inception2/pooling1_conv/convolution/conv_grad/ShapeN' type=ShapeN>,\n",
       " <tf.Operation 'CondensedGoogLeNet/gradients/CondensedGoogLeNet/inception2/pooling1_conv/convolution/conv_grad/Conv2DBackpropInput' type=Conv2DBackpropInput>,\n",
       " <tf.Operation 'CondensedGoogLeNet/gradients/CondensedGoogLeNet/inception2/pooling1_conv/convolution/conv_grad/Conv2DBackpropFilter' type=Conv2DBackpropFilter>,\n",
       " <tf.Operation 'CondensedGoogLeNet/gradients/CondensedGoogLeNet/inception2/pooling1_conv/convolution/conv_grad/tuple/group_deps' type=NoOp>,\n",
       " <tf.Operation 'CondensedGoogLeNet/gradients/CondensedGoogLeNet/inception2/pooling1_conv/convolution/conv_grad/tuple/control_dependency' type=Identity>,\n",
       " <tf.Operation 'CondensedGoogLeNet/gradients/CondensedGoogLeNet/inception2/pooling1_conv/convolution/conv_grad/tuple/control_dependency_1' type=Identity>,\n",
       " <tf.Operation 'CondensedGoogLeNet/gradients/CondensedGoogLeNet/inception2/3x3_conv1/pre_convolution/conv_grad/ShapeN' type=ShapeN>,\n",
       " <tf.Operation 'CondensedGoogLeNet/gradients/CondensedGoogLeNet/inception2/3x3_conv1/pre_convolution/conv_grad/Conv2DBackpropInput' type=Conv2DBackpropInput>,\n",
       " <tf.Operation 'CondensedGoogLeNet/gradients/CondensedGoogLeNet/inception2/3x3_conv1/pre_convolution/conv_grad/Conv2DBackpropFilter' type=Conv2DBackpropFilter>,\n",
       " <tf.Operation 'CondensedGoogLeNet/gradients/CondensedGoogLeNet/inception2/3x3_conv1/pre_convolution/conv_grad/tuple/group_deps' type=NoOp>,\n",
       " <tf.Operation 'CondensedGoogLeNet/gradients/CondensedGoogLeNet/inception2/3x3_conv1/pre_convolution/conv_grad/tuple/control_dependency' type=Identity>,\n",
       " <tf.Operation 'CondensedGoogLeNet/gradients/CondensedGoogLeNet/inception2/3x3_conv1/pre_convolution/conv_grad/tuple/control_dependency_1' type=Identity>,\n",
       " <tf.Operation 'CondensedGoogLeNet/gradients/CondensedGoogLeNet/inception2/5x5_conv1/pre_convolution/conv_grad/ShapeN' type=ShapeN>,\n",
       " <tf.Operation 'CondensedGoogLeNet/gradients/CondensedGoogLeNet/inception2/5x5_conv1/pre_convolution/conv_grad/Conv2DBackpropInput' type=Conv2DBackpropInput>,\n",
       " <tf.Operation 'CondensedGoogLeNet/gradients/CondensedGoogLeNet/inception2/5x5_conv1/pre_convolution/conv_grad/Conv2DBackpropFilter' type=Conv2DBackpropFilter>,\n",
       " <tf.Operation 'CondensedGoogLeNet/gradients/CondensedGoogLeNet/inception2/5x5_conv1/pre_convolution/conv_grad/tuple/group_deps' type=NoOp>,\n",
       " <tf.Operation 'CondensedGoogLeNet/gradients/CondensedGoogLeNet/inception2/5x5_conv1/pre_convolution/conv_grad/tuple/control_dependency' type=Identity>,\n",
       " <tf.Operation 'CondensedGoogLeNet/gradients/CondensedGoogLeNet/inception2/5x5_conv1/pre_convolution/conv_grad/tuple/control_dependency_1' type=Identity>,\n",
       " <tf.Operation 'CondensedGoogLeNet/gradients/AddN_1' type=AddN>,\n",
       " <tf.Operation 'CondensedGoogLeNet/gradients/CondensedGoogLeNet/inception1_maxP_grad/MaxPoolGrad' type=MaxPoolGrad>,\n",
       " <tf.Operation 'CondensedGoogLeNet/gradients/CondensedGoogLeNet/inception1/Tanh_grad/TanhGrad' type=TanhGrad>,\n",
       " <tf.Operation 'CondensedGoogLeNet/gradients/CondensedGoogLeNet/inception1/concat_grad/Rank' type=Const>,\n",
       " <tf.Operation 'CondensedGoogLeNet/gradients/CondensedGoogLeNet/inception1/concat_grad/mod' type=FloorMod>,\n",
       " <tf.Operation 'CondensedGoogLeNet/gradients/CondensedGoogLeNet/inception1/concat_grad/Shape' type=Shape>,\n",
       " <tf.Operation 'CondensedGoogLeNet/gradients/CondensedGoogLeNet/inception1/concat_grad/ShapeN' type=ShapeN>,\n",
       " <tf.Operation 'CondensedGoogLeNet/gradients/CondensedGoogLeNet/inception1/concat_grad/ConcatOffset' type=ConcatOffset>,\n",
       " <tf.Operation 'CondensedGoogLeNet/gradients/CondensedGoogLeNet/inception1/concat_grad/Slice' type=Slice>,\n",
       " <tf.Operation 'CondensedGoogLeNet/gradients/CondensedGoogLeNet/inception1/concat_grad/Slice_1' type=Slice>,\n",
       " <tf.Operation 'CondensedGoogLeNet/gradients/CondensedGoogLeNet/inception1/concat_grad/Slice_2' type=Slice>,\n",
       " <tf.Operation 'CondensedGoogLeNet/gradients/CondensedGoogLeNet/inception1/concat_grad/Slice_3' type=Slice>,\n",
       " <tf.Operation 'CondensedGoogLeNet/gradients/CondensedGoogLeNet/inception1/concat_grad/tuple/group_deps' type=NoOp>,\n",
       " <tf.Operation 'CondensedGoogLeNet/gradients/CondensedGoogLeNet/inception1/concat_grad/tuple/control_dependency' type=Identity>,\n",
       " <tf.Operation 'CondensedGoogLeNet/gradients/CondensedGoogLeNet/inception1/concat_grad/tuple/control_dependency_1' type=Identity>,\n",
       " <tf.Operation 'CondensedGoogLeNet/gradients/CondensedGoogLeNet/inception1/concat_grad/tuple/control_dependency_2' type=Identity>,\n",
       " <tf.Operation 'CondensedGoogLeNet/gradients/CondensedGoogLeNet/inception1/concat_grad/tuple/control_dependency_3' type=Identity>,\n",
       " <tf.Operation 'CondensedGoogLeNet/gradients/CondensedGoogLeNet/inception1/1x1_conv/convolution/activation_func_grad/TanhGrad' type=TanhGrad>,\n",
       " <tf.Operation 'CondensedGoogLeNet/gradients/CondensedGoogLeNet/inception1/3x3_conv1/convolution/activation_func_grad/TanhGrad' type=TanhGrad>,\n",
       " <tf.Operation 'CondensedGoogLeNet/gradients/CondensedGoogLeNet/inception1/5x5_conv1/convolution/activation_func_grad/TanhGrad' type=TanhGrad>,\n",
       " <tf.Operation 'CondensedGoogLeNet/gradients/CondensedGoogLeNet/inception1/pooling1_conv/convolution/activation_func_grad/TanhGrad' type=TanhGrad>,\n",
       " <tf.Operation 'CondensedGoogLeNet/gradients/CondensedGoogLeNet/inception1/1x1_conv/convolution/bias_add_grad/BiasAddGrad' type=BiasAddGrad>,\n",
       " <tf.Operation 'CondensedGoogLeNet/gradients/CondensedGoogLeNet/inception1/1x1_conv/convolution/bias_add_grad/tuple/group_deps' type=NoOp>,\n",
       " <tf.Operation 'CondensedGoogLeNet/gradients/CondensedGoogLeNet/inception1/1x1_conv/convolution/bias_add_grad/tuple/control_dependency' type=Identity>,\n",
       " <tf.Operation 'CondensedGoogLeNet/gradients/CondensedGoogLeNet/inception1/1x1_conv/convolution/bias_add_grad/tuple/control_dependency_1' type=Identity>,\n",
       " <tf.Operation 'CondensedGoogLeNet/gradients/CondensedGoogLeNet/inception1/3x3_conv1/convolution/bias_add_grad/BiasAddGrad' type=BiasAddGrad>,\n",
       " <tf.Operation 'CondensedGoogLeNet/gradients/CondensedGoogLeNet/inception1/3x3_conv1/convolution/bias_add_grad/tuple/group_deps' type=NoOp>,\n",
       " <tf.Operation 'CondensedGoogLeNet/gradients/CondensedGoogLeNet/inception1/3x3_conv1/convolution/bias_add_grad/tuple/control_dependency' type=Identity>,\n",
       " <tf.Operation 'CondensedGoogLeNet/gradients/CondensedGoogLeNet/inception1/3x3_conv1/convolution/bias_add_grad/tuple/control_dependency_1' type=Identity>,\n",
       " <tf.Operation 'CondensedGoogLeNet/gradients/CondensedGoogLeNet/inception1/5x5_conv1/convolution/bias_add_grad/BiasAddGrad' type=BiasAddGrad>,\n",
       " <tf.Operation 'CondensedGoogLeNet/gradients/CondensedGoogLeNet/inception1/5x5_conv1/convolution/bias_add_grad/tuple/group_deps' type=NoOp>,\n",
       " <tf.Operation 'CondensedGoogLeNet/gradients/CondensedGoogLeNet/inception1/5x5_conv1/convolution/bias_add_grad/tuple/control_dependency' type=Identity>,\n",
       " <tf.Operation 'CondensedGoogLeNet/gradients/CondensedGoogLeNet/inception1/5x5_conv1/convolution/bias_add_grad/tuple/control_dependency_1' type=Identity>,\n",
       " <tf.Operation 'CondensedGoogLeNet/gradients/CondensedGoogLeNet/inception1/pooling1_conv/convolution/bias_add_grad/BiasAddGrad' type=BiasAddGrad>,\n",
       " <tf.Operation 'CondensedGoogLeNet/gradients/CondensedGoogLeNet/inception1/pooling1_conv/convolution/bias_add_grad/tuple/group_deps' type=NoOp>,\n",
       " <tf.Operation 'CondensedGoogLeNet/gradients/CondensedGoogLeNet/inception1/pooling1_conv/convolution/bias_add_grad/tuple/control_dependency' type=Identity>,\n",
       " <tf.Operation 'CondensedGoogLeNet/gradients/CondensedGoogLeNet/inception1/pooling1_conv/convolution/bias_add_grad/tuple/control_dependency_1' type=Identity>,\n",
       " <tf.Operation 'CondensedGoogLeNet/gradients/CondensedGoogLeNet/inception1/1x1_conv/convolution/conv_grad/ShapeN' type=ShapeN>,\n",
       " <tf.Operation 'CondensedGoogLeNet/gradients/CondensedGoogLeNet/inception1/1x1_conv/convolution/conv_grad/Conv2DBackpropInput' type=Conv2DBackpropInput>,\n",
       " <tf.Operation 'CondensedGoogLeNet/gradients/CondensedGoogLeNet/inception1/1x1_conv/convolution/conv_grad/Conv2DBackpropFilter' type=Conv2DBackpropFilter>,\n",
       " <tf.Operation 'CondensedGoogLeNet/gradients/CondensedGoogLeNet/inception1/1x1_conv/convolution/conv_grad/tuple/group_deps' type=NoOp>,\n",
       " <tf.Operation 'CondensedGoogLeNet/gradients/CondensedGoogLeNet/inception1/1x1_conv/convolution/conv_grad/tuple/control_dependency' type=Identity>,\n",
       " <tf.Operation 'CondensedGoogLeNet/gradients/CondensedGoogLeNet/inception1/1x1_conv/convolution/conv_grad/tuple/control_dependency_1' type=Identity>,\n",
       " <tf.Operation 'CondensedGoogLeNet/gradients/CondensedGoogLeNet/inception1/3x3_conv1/convolution/conv_grad/ShapeN' type=ShapeN>,\n",
       " <tf.Operation 'CondensedGoogLeNet/gradients/CondensedGoogLeNet/inception1/3x3_conv1/convolution/conv_grad/Conv2DBackpropInput' type=Conv2DBackpropInput>,\n",
       " <tf.Operation 'CondensedGoogLeNet/gradients/CondensedGoogLeNet/inception1/3x3_conv1/convolution/conv_grad/Conv2DBackpropFilter' type=Conv2DBackpropFilter>,\n",
       " <tf.Operation 'CondensedGoogLeNet/gradients/CondensedGoogLeNet/inception1/3x3_conv1/convolution/conv_grad/tuple/group_deps' type=NoOp>,\n",
       " <tf.Operation 'CondensedGoogLeNet/gradients/CondensedGoogLeNet/inception1/3x3_conv1/convolution/conv_grad/tuple/control_dependency' type=Identity>,\n",
       " <tf.Operation 'CondensedGoogLeNet/gradients/CondensedGoogLeNet/inception1/3x3_conv1/convolution/conv_grad/tuple/control_dependency_1' type=Identity>,\n",
       " <tf.Operation 'CondensedGoogLeNet/gradients/CondensedGoogLeNet/inception1/5x5_conv1/convolution/conv_grad/ShapeN' type=ShapeN>,\n",
       " <tf.Operation 'CondensedGoogLeNet/gradients/CondensedGoogLeNet/inception1/5x5_conv1/convolution/conv_grad/Conv2DBackpropInput' type=Conv2DBackpropInput>,\n",
       " <tf.Operation 'CondensedGoogLeNet/gradients/CondensedGoogLeNet/inception1/5x5_conv1/convolution/conv_grad/Conv2DBackpropFilter' type=Conv2DBackpropFilter>,\n",
       " <tf.Operation 'CondensedGoogLeNet/gradients/CondensedGoogLeNet/inception1/5x5_conv1/convolution/conv_grad/tuple/group_deps' type=NoOp>,\n",
       " <tf.Operation 'CondensedGoogLeNet/gradients/CondensedGoogLeNet/inception1/5x5_conv1/convolution/conv_grad/tuple/control_dependency' type=Identity>,\n",
       " <tf.Operation 'CondensedGoogLeNet/gradients/CondensedGoogLeNet/inception1/5x5_conv1/convolution/conv_grad/tuple/control_dependency_1' type=Identity>,\n",
       " <tf.Operation 'CondensedGoogLeNet/gradients/CondensedGoogLeNet/inception1/pooling1_conv/convolution/conv_grad/ShapeN' type=ShapeN>,\n",
       " <tf.Operation 'CondensedGoogLeNet/gradients/CondensedGoogLeNet/inception1/pooling1_conv/convolution/conv_grad/Conv2DBackpropInput' type=Conv2DBackpropInput>,\n",
       " <tf.Operation 'CondensedGoogLeNet/gradients/CondensedGoogLeNet/inception1/pooling1_conv/convolution/conv_grad/Conv2DBackpropFilter' type=Conv2DBackpropFilter>,\n",
       " <tf.Operation 'CondensedGoogLeNet/gradients/CondensedGoogLeNet/inception1/pooling1_conv/convolution/conv_grad/tuple/group_deps' type=NoOp>,\n",
       " <tf.Operation 'CondensedGoogLeNet/gradients/CondensedGoogLeNet/inception1/pooling1_conv/convolution/conv_grad/tuple/control_dependency' type=Identity>,\n",
       " <tf.Operation 'CondensedGoogLeNet/gradients/CondensedGoogLeNet/inception1/pooling1_conv/convolution/conv_grad/tuple/control_dependency_1' type=Identity>,\n",
       " <tf.Operation 'CondensedGoogLeNet/gradients/CondensedGoogLeNet/inception1/3x3_conv1/pre_convolution/conv_grad/ShapeN' type=ShapeN>,\n",
       " <tf.Operation 'CondensedGoogLeNet/gradients/CondensedGoogLeNet/inception1/3x3_conv1/pre_convolution/conv_grad/Conv2DBackpropInput' type=Conv2DBackpropInput>,\n",
       " <tf.Operation 'CondensedGoogLeNet/gradients/CondensedGoogLeNet/inception1/3x3_conv1/pre_convolution/conv_grad/Conv2DBackpropFilter' type=Conv2DBackpropFilter>,\n",
       " <tf.Operation 'CondensedGoogLeNet/gradients/CondensedGoogLeNet/inception1/3x3_conv1/pre_convolution/conv_grad/tuple/group_deps' type=NoOp>,\n",
       " <tf.Operation 'CondensedGoogLeNet/gradients/CondensedGoogLeNet/inception1/3x3_conv1/pre_convolution/conv_grad/tuple/control_dependency' type=Identity>,\n",
       " <tf.Operation 'CondensedGoogLeNet/gradients/CondensedGoogLeNet/inception1/3x3_conv1/pre_convolution/conv_grad/tuple/control_dependency_1' type=Identity>,\n",
       " <tf.Operation 'CondensedGoogLeNet/gradients/CondensedGoogLeNet/inception1/5x5_conv1/pre_convolution/conv_grad/ShapeN' type=ShapeN>,\n",
       " <tf.Operation 'CondensedGoogLeNet/gradients/CondensedGoogLeNet/inception1/5x5_conv1/pre_convolution/conv_grad/Conv2DBackpropInput' type=Conv2DBackpropInput>,\n",
       " <tf.Operation 'CondensedGoogLeNet/gradients/CondensedGoogLeNet/inception1/5x5_conv1/pre_convolution/conv_grad/Conv2DBackpropFilter' type=Conv2DBackpropFilter>,\n",
       " <tf.Operation 'CondensedGoogLeNet/gradients/CondensedGoogLeNet/inception1/5x5_conv1/pre_convolution/conv_grad/tuple/group_deps' type=NoOp>,\n",
       " <tf.Operation 'CondensedGoogLeNet/gradients/CondensedGoogLeNet/inception1/5x5_conv1/pre_convolution/conv_grad/tuple/control_dependency' type=Identity>,\n",
       " <tf.Operation 'CondensedGoogLeNet/gradients/CondensedGoogLeNet/inception1/5x5_conv1/pre_convolution/conv_grad/tuple/control_dependency_1' type=Identity>,\n",
       " <tf.Operation 'CondensedGoogLeNet/gradients/AddN_2' type=AddN>,\n",
       " <tf.Operation 'CondensedGoogLeNet/gradients/CondensedGoogLeNet/conv2_maxP_grad/MaxPoolGrad' type=MaxPoolGrad>,\n",
       " <tf.Operation 'CondensedGoogLeNet/gradients/CondensedGoogLeNet/conv2_conv/convolution/activation_func_grad/TanhGrad' type=TanhGrad>,\n",
       " <tf.Operation 'CondensedGoogLeNet/gradients/CondensedGoogLeNet/conv2_conv/convolution/bias_add_grad/BiasAddGrad' type=BiasAddGrad>,\n",
       " <tf.Operation 'CondensedGoogLeNet/gradients/CondensedGoogLeNet/conv2_conv/convolution/bias_add_grad/tuple/group_deps' type=NoOp>,\n",
       " <tf.Operation 'CondensedGoogLeNet/gradients/CondensedGoogLeNet/conv2_conv/convolution/bias_add_grad/tuple/control_dependency' type=Identity>,\n",
       " <tf.Operation 'CondensedGoogLeNet/gradients/CondensedGoogLeNet/conv2_conv/convolution/bias_add_grad/tuple/control_dependency_1' type=Identity>,\n",
       " <tf.Operation 'CondensedGoogLeNet/gradients/CondensedGoogLeNet/conv2_conv/convolution/conv_grad/ShapeN' type=ShapeN>,\n",
       " <tf.Operation 'CondensedGoogLeNet/gradients/CondensedGoogLeNet/conv2_conv/convolution/conv_grad/Conv2DBackpropInput' type=Conv2DBackpropInput>,\n",
       " <tf.Operation 'CondensedGoogLeNet/gradients/CondensedGoogLeNet/conv2_conv/convolution/conv_grad/Conv2DBackpropFilter' type=Conv2DBackpropFilter>,\n",
       " <tf.Operation 'CondensedGoogLeNet/gradients/CondensedGoogLeNet/conv2_conv/convolution/conv_grad/tuple/group_deps' type=NoOp>,\n",
       " <tf.Operation 'CondensedGoogLeNet/gradients/CondensedGoogLeNet/conv2_conv/convolution/conv_grad/tuple/control_dependency' type=Identity>,\n",
       " <tf.Operation 'CondensedGoogLeNet/gradients/CondensedGoogLeNet/conv2_conv/convolution/conv_grad/tuple/control_dependency_1' type=Identity>,\n",
       " <tf.Operation 'CondensedGoogLeNet/gradients/CondensedGoogLeNet/conv1_maxP_grad/MaxPoolGrad' type=MaxPoolGrad>,\n",
       " <tf.Operation 'CondensedGoogLeNet/gradients/CondensedGoogLeNet/conv1_conv/convolution/activation_func_grad/TanhGrad' type=TanhGrad>,\n",
       " <tf.Operation 'CondensedGoogLeNet/gradients/CondensedGoogLeNet/conv1_conv/convolution/bias_add_grad/BiasAddGrad' type=BiasAddGrad>,\n",
       " <tf.Operation 'CondensedGoogLeNet/gradients/CondensedGoogLeNet/conv1_conv/convolution/bias_add_grad/tuple/group_deps' type=NoOp>,\n",
       " <tf.Operation 'CondensedGoogLeNet/gradients/CondensedGoogLeNet/conv1_conv/convolution/bias_add_grad/tuple/control_dependency' type=Identity>,\n",
       " <tf.Operation 'CondensedGoogLeNet/gradients/CondensedGoogLeNet/conv1_conv/convolution/bias_add_grad/tuple/control_dependency_1' type=Identity>,\n",
       " <tf.Operation 'CondensedGoogLeNet/gradients/CondensedGoogLeNet/conv1_conv/convolution/conv_grad/ShapeN' type=ShapeN>,\n",
       " <tf.Operation 'CondensedGoogLeNet/gradients/CondensedGoogLeNet/conv1_conv/convolution/conv_grad/Conv2DBackpropInput' type=Conv2DBackpropInput>,\n",
       " <tf.Operation 'CondensedGoogLeNet/gradients/CondensedGoogLeNet/conv1_conv/convolution/conv_grad/Conv2DBackpropFilter' type=Conv2DBackpropFilter>,\n",
       " <tf.Operation 'CondensedGoogLeNet/gradients/CondensedGoogLeNet/conv1_conv/convolution/conv_grad/tuple/group_deps' type=NoOp>,\n",
       " <tf.Operation 'CondensedGoogLeNet/gradients/CondensedGoogLeNet/conv1_conv/convolution/conv_grad/tuple/control_dependency' type=Identity>,\n",
       " <tf.Operation 'CondensedGoogLeNet/gradients/CondensedGoogLeNet/conv1_conv/convolution/conv_grad/tuple/control_dependency_1' type=Identity>,\n",
       " <tf.Operation 'CondensedGoogLeNet/beta1_power/initial_value' type=Const>,\n",
       " <tf.Operation 'CondensedGoogLeNet/beta1_power' type=VariableV2>,\n",
       " <tf.Operation 'CondensedGoogLeNet/beta1_power/Assign' type=Assign>,\n",
       " <tf.Operation 'CondensedGoogLeNet/beta1_power/read' type=Identity>,\n",
       " <tf.Operation 'CondensedGoogLeNet/beta2_power/initial_value' type=Const>,\n",
       " <tf.Operation 'CondensedGoogLeNet/beta2_power' type=VariableV2>,\n",
       " <tf.Operation 'CondensedGoogLeNet/beta2_power/Assign' type=Assign>,\n",
       " <tf.Operation 'CondensedGoogLeNet/beta2_power/read' type=Identity>,\n",
       " <tf.Operation 'CondensedGoogLeNet/CondensedGoogLeNet/conv1_conv/convolution/weights/Adam/Initializer/zeros/shape_as_tensor' type=Const>,\n",
       " <tf.Operation 'CondensedGoogLeNet/CondensedGoogLeNet/conv1_conv/convolution/weights/Adam/Initializer/zeros/Const' type=Const>,\n",
       " <tf.Operation 'CondensedGoogLeNet/CondensedGoogLeNet/conv1_conv/convolution/weights/Adam/Initializer/zeros' type=Fill>,\n",
       " <tf.Operation 'CondensedGoogLeNet/CondensedGoogLeNet/conv1_conv/convolution/weights/Adam' type=VariableV2>,\n",
       " <tf.Operation 'CondensedGoogLeNet/CondensedGoogLeNet/conv1_conv/convolution/weights/Adam/Assign' type=Assign>,\n",
       " <tf.Operation 'CondensedGoogLeNet/CondensedGoogLeNet/conv1_conv/convolution/weights/Adam/read' type=Identity>,\n",
       " <tf.Operation 'CondensedGoogLeNet/CondensedGoogLeNet/conv1_conv/convolution/weights/Adam_1/Initializer/zeros/shape_as_tensor' type=Const>,\n",
       " <tf.Operation 'CondensedGoogLeNet/CondensedGoogLeNet/conv1_conv/convolution/weights/Adam_1/Initializer/zeros/Const' type=Const>,\n",
       " <tf.Operation 'CondensedGoogLeNet/CondensedGoogLeNet/conv1_conv/convolution/weights/Adam_1/Initializer/zeros' type=Fill>,\n",
       " <tf.Operation 'CondensedGoogLeNet/CondensedGoogLeNet/conv1_conv/convolution/weights/Adam_1' type=VariableV2>,\n",
       " <tf.Operation 'CondensedGoogLeNet/CondensedGoogLeNet/conv1_conv/convolution/weights/Adam_1/Assign' type=Assign>,\n",
       " <tf.Operation 'CondensedGoogLeNet/CondensedGoogLeNet/conv1_conv/convolution/weights/Adam_1/read' type=Identity>,\n",
       " <tf.Operation 'CondensedGoogLeNet/CondensedGoogLeNet/conv1_conv/convolution/biases/Adam/Initializer/zeros' type=Const>,\n",
       " <tf.Operation 'CondensedGoogLeNet/CondensedGoogLeNet/conv1_conv/convolution/biases/Adam' type=VariableV2>,\n",
       " <tf.Operation 'CondensedGoogLeNet/CondensedGoogLeNet/conv1_conv/convolution/biases/Adam/Assign' type=Assign>,\n",
       " <tf.Operation 'CondensedGoogLeNet/CondensedGoogLeNet/conv1_conv/convolution/biases/Adam/read' type=Identity>,\n",
       " <tf.Operation 'CondensedGoogLeNet/CondensedGoogLeNet/conv1_conv/convolution/biases/Adam_1/Initializer/zeros' type=Const>,\n",
       " <tf.Operation 'CondensedGoogLeNet/CondensedGoogLeNet/conv1_conv/convolution/biases/Adam_1' type=VariableV2>,\n",
       " <tf.Operation 'CondensedGoogLeNet/CondensedGoogLeNet/conv1_conv/convolution/biases/Adam_1/Assign' type=Assign>,\n",
       " <tf.Operation 'CondensedGoogLeNet/CondensedGoogLeNet/conv1_conv/convolution/biases/Adam_1/read' type=Identity>,\n",
       " <tf.Operation 'CondensedGoogLeNet/CondensedGoogLeNet/conv2_conv/convolution/weights/Adam/Initializer/zeros/shape_as_tensor' type=Const>,\n",
       " <tf.Operation 'CondensedGoogLeNet/CondensedGoogLeNet/conv2_conv/convolution/weights/Adam/Initializer/zeros/Const' type=Const>,\n",
       " <tf.Operation 'CondensedGoogLeNet/CondensedGoogLeNet/conv2_conv/convolution/weights/Adam/Initializer/zeros' type=Fill>,\n",
       " <tf.Operation 'CondensedGoogLeNet/CondensedGoogLeNet/conv2_conv/convolution/weights/Adam' type=VariableV2>,\n",
       " <tf.Operation 'CondensedGoogLeNet/CondensedGoogLeNet/conv2_conv/convolution/weights/Adam/Assign' type=Assign>,\n",
       " <tf.Operation 'CondensedGoogLeNet/CondensedGoogLeNet/conv2_conv/convolution/weights/Adam/read' type=Identity>,\n",
       " <tf.Operation 'CondensedGoogLeNet/CondensedGoogLeNet/conv2_conv/convolution/weights/Adam_1/Initializer/zeros/shape_as_tensor' type=Const>,\n",
       " <tf.Operation 'CondensedGoogLeNet/CondensedGoogLeNet/conv2_conv/convolution/weights/Adam_1/Initializer/zeros/Const' type=Const>,\n",
       " <tf.Operation 'CondensedGoogLeNet/CondensedGoogLeNet/conv2_conv/convolution/weights/Adam_1/Initializer/zeros' type=Fill>,\n",
       " <tf.Operation 'CondensedGoogLeNet/CondensedGoogLeNet/conv2_conv/convolution/weights/Adam_1' type=VariableV2>,\n",
       " <tf.Operation 'CondensedGoogLeNet/CondensedGoogLeNet/conv2_conv/convolution/weights/Adam_1/Assign' type=Assign>,\n",
       " <tf.Operation 'CondensedGoogLeNet/CondensedGoogLeNet/conv2_conv/convolution/weights/Adam_1/read' type=Identity>,\n",
       " <tf.Operation 'CondensedGoogLeNet/CondensedGoogLeNet/conv2_conv/convolution/biases/Adam/Initializer/zeros' type=Const>,\n",
       " <tf.Operation 'CondensedGoogLeNet/CondensedGoogLeNet/conv2_conv/convolution/biases/Adam' type=VariableV2>,\n",
       " <tf.Operation 'CondensedGoogLeNet/CondensedGoogLeNet/conv2_conv/convolution/biases/Adam/Assign' type=Assign>,\n",
       " <tf.Operation 'CondensedGoogLeNet/CondensedGoogLeNet/conv2_conv/convolution/biases/Adam/read' type=Identity>,\n",
       " <tf.Operation 'CondensedGoogLeNet/CondensedGoogLeNet/conv2_conv/convolution/biases/Adam_1/Initializer/zeros' type=Const>,\n",
       " <tf.Operation 'CondensedGoogLeNet/CondensedGoogLeNet/conv2_conv/convolution/biases/Adam_1' type=VariableV2>,\n",
       " <tf.Operation 'CondensedGoogLeNet/CondensedGoogLeNet/conv2_conv/convolution/biases/Adam_1/Assign' type=Assign>,\n",
       " <tf.Operation 'CondensedGoogLeNet/CondensedGoogLeNet/conv2_conv/convolution/biases/Adam_1/read' type=Identity>,\n",
       " <tf.Operation 'CondensedGoogLeNet/CondensedGoogLeNet/inception1/1x1_conv/convolution/weights/Adam/Initializer/zeros' type=Const>,\n",
       " <tf.Operation 'CondensedGoogLeNet/CondensedGoogLeNet/inception1/1x1_conv/convolution/weights/Adam' type=VariableV2>,\n",
       " <tf.Operation 'CondensedGoogLeNet/CondensedGoogLeNet/inception1/1x1_conv/convolution/weights/Adam/Assign' type=Assign>,\n",
       " <tf.Operation 'CondensedGoogLeNet/CondensedGoogLeNet/inception1/1x1_conv/convolution/weights/Adam/read' type=Identity>,\n",
       " <tf.Operation 'CondensedGoogLeNet/CondensedGoogLeNet/inception1/1x1_conv/convolution/weights/Adam_1/Initializer/zeros' type=Const>,\n",
       " <tf.Operation 'CondensedGoogLeNet/CondensedGoogLeNet/inception1/1x1_conv/convolution/weights/Adam_1' type=VariableV2>,\n",
       " <tf.Operation 'CondensedGoogLeNet/CondensedGoogLeNet/inception1/1x1_conv/convolution/weights/Adam_1/Assign' type=Assign>,\n",
       " <tf.Operation 'CondensedGoogLeNet/CondensedGoogLeNet/inception1/1x1_conv/convolution/weights/Adam_1/read' type=Identity>,\n",
       " <tf.Operation 'CondensedGoogLeNet/CondensedGoogLeNet/inception1/1x1_conv/convolution/biases/Adam/Initializer/zeros' type=Const>,\n",
       " <tf.Operation 'CondensedGoogLeNet/CondensedGoogLeNet/inception1/1x1_conv/convolution/biases/Adam' type=VariableV2>,\n",
       " <tf.Operation 'CondensedGoogLeNet/CondensedGoogLeNet/inception1/1x1_conv/convolution/biases/Adam/Assign' type=Assign>,\n",
       " <tf.Operation 'CondensedGoogLeNet/CondensedGoogLeNet/inception1/1x1_conv/convolution/biases/Adam/read' type=Identity>,\n",
       " <tf.Operation 'CondensedGoogLeNet/CondensedGoogLeNet/inception1/1x1_conv/convolution/biases/Adam_1/Initializer/zeros' type=Const>,\n",
       " <tf.Operation 'CondensedGoogLeNet/CondensedGoogLeNet/inception1/1x1_conv/convolution/biases/Adam_1' type=VariableV2>,\n",
       " <tf.Operation 'CondensedGoogLeNet/CondensedGoogLeNet/inception1/1x1_conv/convolution/biases/Adam_1/Assign' type=Assign>,\n",
       " <tf.Operation 'CondensedGoogLeNet/CondensedGoogLeNet/inception1/1x1_conv/convolution/biases/Adam_1/read' type=Identity>,\n",
       " <tf.Operation 'CondensedGoogLeNet/CondensedGoogLeNet/inception1/3x3_conv1/pre_convolution/weights_pre/Adam/Initializer/zeros' type=Const>,\n",
       " <tf.Operation 'CondensedGoogLeNet/CondensedGoogLeNet/inception1/3x3_conv1/pre_convolution/weights_pre/Adam' type=VariableV2>,\n",
       " <tf.Operation 'CondensedGoogLeNet/CondensedGoogLeNet/inception1/3x3_conv1/pre_convolution/weights_pre/Adam/Assign' type=Assign>,\n",
       " <tf.Operation 'CondensedGoogLeNet/CondensedGoogLeNet/inception1/3x3_conv1/pre_convolution/weights_pre/Adam/read' type=Identity>,\n",
       " <tf.Operation 'CondensedGoogLeNet/CondensedGoogLeNet/inception1/3x3_conv1/pre_convolution/weights_pre/Adam_1/Initializer/zeros' type=Const>,\n",
       " <tf.Operation 'CondensedGoogLeNet/CondensedGoogLeNet/inception1/3x3_conv1/pre_convolution/weights_pre/Adam_1' type=VariableV2>,\n",
       " <tf.Operation 'CondensedGoogLeNet/CondensedGoogLeNet/inception1/3x3_conv1/pre_convolution/weights_pre/Adam_1/Assign' type=Assign>,\n",
       " <tf.Operation 'CondensedGoogLeNet/CondensedGoogLeNet/inception1/3x3_conv1/pre_convolution/weights_pre/Adam_1/read' type=Identity>,\n",
       " <tf.Operation 'CondensedGoogLeNet/CondensedGoogLeNet/inception1/3x3_conv1/convolution/weights/Adam/Initializer/zeros' type=Const>,\n",
       " <tf.Operation 'CondensedGoogLeNet/CondensedGoogLeNet/inception1/3x3_conv1/convolution/weights/Adam' type=VariableV2>,\n",
       " <tf.Operation 'CondensedGoogLeNet/CondensedGoogLeNet/inception1/3x3_conv1/convolution/weights/Adam/Assign' type=Assign>,\n",
       " <tf.Operation 'CondensedGoogLeNet/CondensedGoogLeNet/inception1/3x3_conv1/convolution/weights/Adam/read' type=Identity>,\n",
       " <tf.Operation 'CondensedGoogLeNet/CondensedGoogLeNet/inception1/3x3_conv1/convolution/weights/Adam_1/Initializer/zeros' type=Const>,\n",
       " <tf.Operation 'CondensedGoogLeNet/CondensedGoogLeNet/inception1/3x3_conv1/convolution/weights/Adam_1' type=VariableV2>,\n",
       " <tf.Operation 'CondensedGoogLeNet/CondensedGoogLeNet/inception1/3x3_conv1/convolution/weights/Adam_1/Assign' type=Assign>,\n",
       " <tf.Operation 'CondensedGoogLeNet/CondensedGoogLeNet/inception1/3x3_conv1/convolution/weights/Adam_1/read' type=Identity>,\n",
       " <tf.Operation 'CondensedGoogLeNet/CondensedGoogLeNet/inception1/3x3_conv1/convolution/biases/Adam/Initializer/zeros' type=Const>,\n",
       " <tf.Operation 'CondensedGoogLeNet/CondensedGoogLeNet/inception1/3x3_conv1/convolution/biases/Adam' type=VariableV2>,\n",
       " <tf.Operation 'CondensedGoogLeNet/CondensedGoogLeNet/inception1/3x3_conv1/convolution/biases/Adam/Assign' type=Assign>,\n",
       " <tf.Operation 'CondensedGoogLeNet/CondensedGoogLeNet/inception1/3x3_conv1/convolution/biases/Adam/read' type=Identity>,\n",
       " <tf.Operation 'CondensedGoogLeNet/CondensedGoogLeNet/inception1/3x3_conv1/convolution/biases/Adam_1/Initializer/zeros' type=Const>,\n",
       " <tf.Operation 'CondensedGoogLeNet/CondensedGoogLeNet/inception1/3x3_conv1/convolution/biases/Adam_1' type=VariableV2>,\n",
       " <tf.Operation 'CondensedGoogLeNet/CondensedGoogLeNet/inception1/3x3_conv1/convolution/biases/Adam_1/Assign' type=Assign>,\n",
       " <tf.Operation 'CondensedGoogLeNet/CondensedGoogLeNet/inception1/3x3_conv1/convolution/biases/Adam_1/read' type=Identity>,\n",
       " <tf.Operation 'CondensedGoogLeNet/CondensedGoogLeNet/inception1/5x5_conv1/pre_convolution/weights_pre/Adam/Initializer/zeros' type=Const>,\n",
       " <tf.Operation 'CondensedGoogLeNet/CondensedGoogLeNet/inception1/5x5_conv1/pre_convolution/weights_pre/Adam' type=VariableV2>,\n",
       " <tf.Operation 'CondensedGoogLeNet/CondensedGoogLeNet/inception1/5x5_conv1/pre_convolution/weights_pre/Adam/Assign' type=Assign>,\n",
       " <tf.Operation 'CondensedGoogLeNet/CondensedGoogLeNet/inception1/5x5_conv1/pre_convolution/weights_pre/Adam/read' type=Identity>,\n",
       " <tf.Operation 'CondensedGoogLeNet/CondensedGoogLeNet/inception1/5x5_conv1/pre_convolution/weights_pre/Adam_1/Initializer/zeros' type=Const>,\n",
       " <tf.Operation 'CondensedGoogLeNet/CondensedGoogLeNet/inception1/5x5_conv1/pre_convolution/weights_pre/Adam_1' type=VariableV2>,\n",
       " <tf.Operation 'CondensedGoogLeNet/CondensedGoogLeNet/inception1/5x5_conv1/pre_convolution/weights_pre/Adam_1/Assign' type=Assign>,\n",
       " <tf.Operation 'CondensedGoogLeNet/CondensedGoogLeNet/inception1/5x5_conv1/pre_convolution/weights_pre/Adam_1/read' type=Identity>,\n",
       " <tf.Operation 'CondensedGoogLeNet/CondensedGoogLeNet/inception1/5x5_conv1/convolution/weights/Adam/Initializer/zeros/shape_as_tensor' type=Const>,\n",
       " <tf.Operation 'CondensedGoogLeNet/CondensedGoogLeNet/inception1/5x5_conv1/convolution/weights/Adam/Initializer/zeros/Const' type=Const>,\n",
       " <tf.Operation 'CondensedGoogLeNet/CondensedGoogLeNet/inception1/5x5_conv1/convolution/weights/Adam/Initializer/zeros' type=Fill>,\n",
       " <tf.Operation 'CondensedGoogLeNet/CondensedGoogLeNet/inception1/5x5_conv1/convolution/weights/Adam' type=VariableV2>,\n",
       " <tf.Operation 'CondensedGoogLeNet/CondensedGoogLeNet/inception1/5x5_conv1/convolution/weights/Adam/Assign' type=Assign>,\n",
       " <tf.Operation 'CondensedGoogLeNet/CondensedGoogLeNet/inception1/5x5_conv1/convolution/weights/Adam/read' type=Identity>,\n",
       " <tf.Operation 'CondensedGoogLeNet/CondensedGoogLeNet/inception1/5x5_conv1/convolution/weights/Adam_1/Initializer/zeros/shape_as_tensor' type=Const>,\n",
       " <tf.Operation 'CondensedGoogLeNet/CondensedGoogLeNet/inception1/5x5_conv1/convolution/weights/Adam_1/Initializer/zeros/Const' type=Const>,\n",
       " <tf.Operation 'CondensedGoogLeNet/CondensedGoogLeNet/inception1/5x5_conv1/convolution/weights/Adam_1/Initializer/zeros' type=Fill>,\n",
       " <tf.Operation 'CondensedGoogLeNet/CondensedGoogLeNet/inception1/5x5_conv1/convolution/weights/Adam_1' type=VariableV2>,\n",
       " <tf.Operation 'CondensedGoogLeNet/CondensedGoogLeNet/inception1/5x5_conv1/convolution/weights/Adam_1/Assign' type=Assign>,\n",
       " <tf.Operation 'CondensedGoogLeNet/CondensedGoogLeNet/inception1/5x5_conv1/convolution/weights/Adam_1/read' type=Identity>,\n",
       " <tf.Operation 'CondensedGoogLeNet/CondensedGoogLeNet/inception1/5x5_conv1/convolution/biases/Adam/Initializer/zeros' type=Const>,\n",
       " <tf.Operation 'CondensedGoogLeNet/CondensedGoogLeNet/inception1/5x5_conv1/convolution/biases/Adam' type=VariableV2>,\n",
       " <tf.Operation 'CondensedGoogLeNet/CondensedGoogLeNet/inception1/5x5_conv1/convolution/biases/Adam/Assign' type=Assign>,\n",
       " <tf.Operation 'CondensedGoogLeNet/CondensedGoogLeNet/inception1/5x5_conv1/convolution/biases/Adam/read' type=Identity>,\n",
       " <tf.Operation 'CondensedGoogLeNet/CondensedGoogLeNet/inception1/5x5_conv1/convolution/biases/Adam_1/Initializer/zeros' type=Const>,\n",
       " <tf.Operation 'CondensedGoogLeNet/CondensedGoogLeNet/inception1/5x5_conv1/convolution/biases/Adam_1' type=VariableV2>,\n",
       " <tf.Operation 'CondensedGoogLeNet/CondensedGoogLeNet/inception1/5x5_conv1/convolution/biases/Adam_1/Assign' type=Assign>,\n",
       " <tf.Operation 'CondensedGoogLeNet/CondensedGoogLeNet/inception1/5x5_conv1/convolution/biases/Adam_1/read' type=Identity>,\n",
       " <tf.Operation 'CondensedGoogLeNet/CondensedGoogLeNet/inception1/pooling1_conv/convolution/weights/Adam/Initializer/zeros' type=Const>,\n",
       " <tf.Operation 'CondensedGoogLeNet/CondensedGoogLeNet/inception1/pooling1_conv/convolution/weights/Adam' type=VariableV2>,\n",
       " <tf.Operation 'CondensedGoogLeNet/CondensedGoogLeNet/inception1/pooling1_conv/convolution/weights/Adam/Assign' type=Assign>,\n",
       " <tf.Operation 'CondensedGoogLeNet/CondensedGoogLeNet/inception1/pooling1_conv/convolution/weights/Adam/read' type=Identity>,\n",
       " <tf.Operation 'CondensedGoogLeNet/CondensedGoogLeNet/inception1/pooling1_conv/convolution/weights/Adam_1/Initializer/zeros' type=Const>,\n",
       " <tf.Operation 'CondensedGoogLeNet/CondensedGoogLeNet/inception1/pooling1_conv/convolution/weights/Adam_1' type=VariableV2>,\n",
       " <tf.Operation 'CondensedGoogLeNet/CondensedGoogLeNet/inception1/pooling1_conv/convolution/weights/Adam_1/Assign' type=Assign>,\n",
       " <tf.Operation 'CondensedGoogLeNet/CondensedGoogLeNet/inception1/pooling1_conv/convolution/weights/Adam_1/read' type=Identity>,\n",
       " <tf.Operation 'CondensedGoogLeNet/CondensedGoogLeNet/inception1/pooling1_conv/convolution/biases/Adam/Initializer/zeros' type=Const>,\n",
       " <tf.Operation 'CondensedGoogLeNet/CondensedGoogLeNet/inception1/pooling1_conv/convolution/biases/Adam' type=VariableV2>,\n",
       " <tf.Operation 'CondensedGoogLeNet/CondensedGoogLeNet/inception1/pooling1_conv/convolution/biases/Adam/Assign' type=Assign>,\n",
       " <tf.Operation 'CondensedGoogLeNet/CondensedGoogLeNet/inception1/pooling1_conv/convolution/biases/Adam/read' type=Identity>,\n",
       " <tf.Operation 'CondensedGoogLeNet/CondensedGoogLeNet/inception1/pooling1_conv/convolution/biases/Adam_1/Initializer/zeros' type=Const>,\n",
       " <tf.Operation 'CondensedGoogLeNet/CondensedGoogLeNet/inception1/pooling1_conv/convolution/biases/Adam_1' type=VariableV2>,\n",
       " <tf.Operation 'CondensedGoogLeNet/CondensedGoogLeNet/inception1/pooling1_conv/convolution/biases/Adam_1/Assign' type=Assign>,\n",
       " <tf.Operation 'CondensedGoogLeNet/CondensedGoogLeNet/inception1/pooling1_conv/convolution/biases/Adam_1/read' type=Identity>,\n",
       " <tf.Operation 'CondensedGoogLeNet/CondensedGoogLeNet/inception2/1x1_conv/convolution/weights/Adam/Initializer/zeros' type=Const>,\n",
       " <tf.Operation 'CondensedGoogLeNet/CondensedGoogLeNet/inception2/1x1_conv/convolution/weights/Adam' type=VariableV2>,\n",
       " <tf.Operation 'CondensedGoogLeNet/CondensedGoogLeNet/inception2/1x1_conv/convolution/weights/Adam/Assign' type=Assign>,\n",
       " <tf.Operation 'CondensedGoogLeNet/CondensedGoogLeNet/inception2/1x1_conv/convolution/weights/Adam/read' type=Identity>,\n",
       " <tf.Operation 'CondensedGoogLeNet/CondensedGoogLeNet/inception2/1x1_conv/convolution/weights/Adam_1/Initializer/zeros' type=Const>,\n",
       " <tf.Operation 'CondensedGoogLeNet/CondensedGoogLeNet/inception2/1x1_conv/convolution/weights/Adam_1' type=VariableV2>,\n",
       " <tf.Operation 'CondensedGoogLeNet/CondensedGoogLeNet/inception2/1x1_conv/convolution/weights/Adam_1/Assign' type=Assign>,\n",
       " <tf.Operation 'CondensedGoogLeNet/CondensedGoogLeNet/inception2/1x1_conv/convolution/weights/Adam_1/read' type=Identity>,\n",
       " <tf.Operation 'CondensedGoogLeNet/CondensedGoogLeNet/inception2/1x1_conv/convolution/biases/Adam/Initializer/zeros' type=Const>,\n",
       " <tf.Operation 'CondensedGoogLeNet/CondensedGoogLeNet/inception2/1x1_conv/convolution/biases/Adam' type=VariableV2>,\n",
       " <tf.Operation 'CondensedGoogLeNet/CondensedGoogLeNet/inception2/1x1_conv/convolution/biases/Adam/Assign' type=Assign>,\n",
       " <tf.Operation 'CondensedGoogLeNet/CondensedGoogLeNet/inception2/1x1_conv/convolution/biases/Adam/read' type=Identity>,\n",
       " <tf.Operation 'CondensedGoogLeNet/CondensedGoogLeNet/inception2/1x1_conv/convolution/biases/Adam_1/Initializer/zeros' type=Const>,\n",
       " <tf.Operation 'CondensedGoogLeNet/CondensedGoogLeNet/inception2/1x1_conv/convolution/biases/Adam_1' type=VariableV2>,\n",
       " <tf.Operation 'CondensedGoogLeNet/CondensedGoogLeNet/inception2/1x1_conv/convolution/biases/Adam_1/Assign' type=Assign>,\n",
       " <tf.Operation 'CondensedGoogLeNet/CondensedGoogLeNet/inception2/1x1_conv/convolution/biases/Adam_1/read' type=Identity>,\n",
       " <tf.Operation 'CondensedGoogLeNet/CondensedGoogLeNet/inception2/3x3_conv1/pre_convolution/weights_pre/Adam/Initializer/zeros' type=Const>,\n",
       " <tf.Operation 'CondensedGoogLeNet/CondensedGoogLeNet/inception2/3x3_conv1/pre_convolution/weights_pre/Adam' type=VariableV2>,\n",
       " <tf.Operation 'CondensedGoogLeNet/CondensedGoogLeNet/inception2/3x3_conv1/pre_convolution/weights_pre/Adam/Assign' type=Assign>,\n",
       " <tf.Operation 'CondensedGoogLeNet/CondensedGoogLeNet/inception2/3x3_conv1/pre_convolution/weights_pre/Adam/read' type=Identity>,\n",
       " <tf.Operation 'CondensedGoogLeNet/CondensedGoogLeNet/inception2/3x3_conv1/pre_convolution/weights_pre/Adam_1/Initializer/zeros' type=Const>,\n",
       " <tf.Operation 'CondensedGoogLeNet/CondensedGoogLeNet/inception2/3x3_conv1/pre_convolution/weights_pre/Adam_1' type=VariableV2>,\n",
       " <tf.Operation 'CondensedGoogLeNet/CondensedGoogLeNet/inception2/3x3_conv1/pre_convolution/weights_pre/Adam_1/Assign' type=Assign>,\n",
       " <tf.Operation 'CondensedGoogLeNet/CondensedGoogLeNet/inception2/3x3_conv1/pre_convolution/weights_pre/Adam_1/read' type=Identity>,\n",
       " <tf.Operation 'CondensedGoogLeNet/CondensedGoogLeNet/inception2/3x3_conv1/convolution/weights/Adam/Initializer/zeros' type=Const>,\n",
       " <tf.Operation 'CondensedGoogLeNet/CondensedGoogLeNet/inception2/3x3_conv1/convolution/weights/Adam' type=VariableV2>,\n",
       " <tf.Operation 'CondensedGoogLeNet/CondensedGoogLeNet/inception2/3x3_conv1/convolution/weights/Adam/Assign' type=Assign>,\n",
       " <tf.Operation 'CondensedGoogLeNet/CondensedGoogLeNet/inception2/3x3_conv1/convolution/weights/Adam/read' type=Identity>,\n",
       " <tf.Operation 'CondensedGoogLeNet/CondensedGoogLeNet/inception2/3x3_conv1/convolution/weights/Adam_1/Initializer/zeros' type=Const>,\n",
       " <tf.Operation 'CondensedGoogLeNet/CondensedGoogLeNet/inception2/3x3_conv1/convolution/weights/Adam_1' type=VariableV2>,\n",
       " <tf.Operation 'CondensedGoogLeNet/CondensedGoogLeNet/inception2/3x3_conv1/convolution/weights/Adam_1/Assign' type=Assign>,\n",
       " <tf.Operation 'CondensedGoogLeNet/CondensedGoogLeNet/inception2/3x3_conv1/convolution/weights/Adam_1/read' type=Identity>,\n",
       " <tf.Operation 'CondensedGoogLeNet/CondensedGoogLeNet/inception2/3x3_conv1/convolution/biases/Adam/Initializer/zeros' type=Const>,\n",
       " <tf.Operation 'CondensedGoogLeNet/CondensedGoogLeNet/inception2/3x3_conv1/convolution/biases/Adam' type=VariableV2>,\n",
       " <tf.Operation 'CondensedGoogLeNet/CondensedGoogLeNet/inception2/3x3_conv1/convolution/biases/Adam/Assign' type=Assign>,\n",
       " <tf.Operation 'CondensedGoogLeNet/CondensedGoogLeNet/inception2/3x3_conv1/convolution/biases/Adam/read' type=Identity>,\n",
       " <tf.Operation 'CondensedGoogLeNet/CondensedGoogLeNet/inception2/3x3_conv1/convolution/biases/Adam_1/Initializer/zeros' type=Const>,\n",
       " <tf.Operation 'CondensedGoogLeNet/CondensedGoogLeNet/inception2/3x3_conv1/convolution/biases/Adam_1' type=VariableV2>,\n",
       " <tf.Operation 'CondensedGoogLeNet/CondensedGoogLeNet/inception2/3x3_conv1/convolution/biases/Adam_1/Assign' type=Assign>,\n",
       " <tf.Operation 'CondensedGoogLeNet/CondensedGoogLeNet/inception2/3x3_conv1/convolution/biases/Adam_1/read' type=Identity>,\n",
       " <tf.Operation 'CondensedGoogLeNet/CondensedGoogLeNet/inception2/5x5_conv1/pre_convolution/weights_pre/Adam/Initializer/zeros' type=Const>,\n",
       " <tf.Operation 'CondensedGoogLeNet/CondensedGoogLeNet/inception2/5x5_conv1/pre_convolution/weights_pre/Adam' type=VariableV2>,\n",
       " <tf.Operation 'CondensedGoogLeNet/CondensedGoogLeNet/inception2/5x5_conv1/pre_convolution/weights_pre/Adam/Assign' type=Assign>,\n",
       " <tf.Operation 'CondensedGoogLeNet/CondensedGoogLeNet/inception2/5x5_conv1/pre_convolution/weights_pre/Adam/read' type=Identity>,\n",
       " <tf.Operation 'CondensedGoogLeNet/CondensedGoogLeNet/inception2/5x5_conv1/pre_convolution/weights_pre/Adam_1/Initializer/zeros' type=Const>,\n",
       " <tf.Operation 'CondensedGoogLeNet/CondensedGoogLeNet/inception2/5x5_conv1/pre_convolution/weights_pre/Adam_1' type=VariableV2>,\n",
       " <tf.Operation 'CondensedGoogLeNet/CondensedGoogLeNet/inception2/5x5_conv1/pre_convolution/weights_pre/Adam_1/Assign' type=Assign>,\n",
       " <tf.Operation 'CondensedGoogLeNet/CondensedGoogLeNet/inception2/5x5_conv1/pre_convolution/weights_pre/Adam_1/read' type=Identity>,\n",
       " <tf.Operation 'CondensedGoogLeNet/CondensedGoogLeNet/inception2/5x5_conv1/convolution/weights/Adam/Initializer/zeros' type=Const>,\n",
       " <tf.Operation 'CondensedGoogLeNet/CondensedGoogLeNet/inception2/5x5_conv1/convolution/weights/Adam' type=VariableV2>,\n",
       " <tf.Operation 'CondensedGoogLeNet/CondensedGoogLeNet/inception2/5x5_conv1/convolution/weights/Adam/Assign' type=Assign>,\n",
       " <tf.Operation 'CondensedGoogLeNet/CondensedGoogLeNet/inception2/5x5_conv1/convolution/weights/Adam/read' type=Identity>,\n",
       " <tf.Operation 'CondensedGoogLeNet/CondensedGoogLeNet/inception2/5x5_conv1/convolution/weights/Adam_1/Initializer/zeros' type=Const>,\n",
       " <tf.Operation 'CondensedGoogLeNet/CondensedGoogLeNet/inception2/5x5_conv1/convolution/weights/Adam_1' type=VariableV2>,\n",
       " <tf.Operation 'CondensedGoogLeNet/CondensedGoogLeNet/inception2/5x5_conv1/convolution/weights/Adam_1/Assign' type=Assign>,\n",
       " <tf.Operation 'CondensedGoogLeNet/CondensedGoogLeNet/inception2/5x5_conv1/convolution/weights/Adam_1/read' type=Identity>,\n",
       " <tf.Operation 'CondensedGoogLeNet/CondensedGoogLeNet/inception2/5x5_conv1/convolution/biases/Adam/Initializer/zeros' type=Const>,\n",
       " <tf.Operation 'CondensedGoogLeNet/CondensedGoogLeNet/inception2/5x5_conv1/convolution/biases/Adam' type=VariableV2>,\n",
       " <tf.Operation 'CondensedGoogLeNet/CondensedGoogLeNet/inception2/5x5_conv1/convolution/biases/Adam/Assign' type=Assign>,\n",
       " <tf.Operation 'CondensedGoogLeNet/CondensedGoogLeNet/inception2/5x5_conv1/convolution/biases/Adam/read' type=Identity>,\n",
       " <tf.Operation 'CondensedGoogLeNet/CondensedGoogLeNet/inception2/5x5_conv1/convolution/biases/Adam_1/Initializer/zeros' type=Const>,\n",
       " <tf.Operation 'CondensedGoogLeNet/CondensedGoogLeNet/inception2/5x5_conv1/convolution/biases/Adam_1' type=VariableV2>,\n",
       " <tf.Operation 'CondensedGoogLeNet/CondensedGoogLeNet/inception2/5x5_conv1/convolution/biases/Adam_1/Assign' type=Assign>,\n",
       " <tf.Operation 'CondensedGoogLeNet/CondensedGoogLeNet/inception2/5x5_conv1/convolution/biases/Adam_1/read' type=Identity>,\n",
       " <tf.Operation 'CondensedGoogLeNet/CondensedGoogLeNet/inception2/pooling1_conv/convolution/weights/Adam/Initializer/zeros' type=Const>,\n",
       " <tf.Operation 'CondensedGoogLeNet/CondensedGoogLeNet/inception2/pooling1_conv/convolution/weights/Adam' type=VariableV2>,\n",
       " <tf.Operation 'CondensedGoogLeNet/CondensedGoogLeNet/inception2/pooling1_conv/convolution/weights/Adam/Assign' type=Assign>,\n",
       " <tf.Operation 'CondensedGoogLeNet/CondensedGoogLeNet/inception2/pooling1_conv/convolution/weights/Adam/read' type=Identity>,\n",
       " <tf.Operation 'CondensedGoogLeNet/CondensedGoogLeNet/inception2/pooling1_conv/convolution/weights/Adam_1/Initializer/zeros' type=Const>,\n",
       " <tf.Operation 'CondensedGoogLeNet/CondensedGoogLeNet/inception2/pooling1_conv/convolution/weights/Adam_1' type=VariableV2>,\n",
       " <tf.Operation 'CondensedGoogLeNet/CondensedGoogLeNet/inception2/pooling1_conv/convolution/weights/Adam_1/Assign' type=Assign>,\n",
       " <tf.Operation 'CondensedGoogLeNet/CondensedGoogLeNet/inception2/pooling1_conv/convolution/weights/Adam_1/read' type=Identity>,\n",
       " <tf.Operation 'CondensedGoogLeNet/CondensedGoogLeNet/inception2/pooling1_conv/convolution/biases/Adam/Initializer/zeros' type=Const>,\n",
       " <tf.Operation 'CondensedGoogLeNet/CondensedGoogLeNet/inception2/pooling1_conv/convolution/biases/Adam' type=VariableV2>,\n",
       " <tf.Operation 'CondensedGoogLeNet/CondensedGoogLeNet/inception2/pooling1_conv/convolution/biases/Adam/Assign' type=Assign>,\n",
       " <tf.Operation 'CondensedGoogLeNet/CondensedGoogLeNet/inception2/pooling1_conv/convolution/biases/Adam/read' type=Identity>,\n",
       " <tf.Operation 'CondensedGoogLeNet/CondensedGoogLeNet/inception2/pooling1_conv/convolution/biases/Adam_1/Initializer/zeros' type=Const>,\n",
       " <tf.Operation 'CondensedGoogLeNet/CondensedGoogLeNet/inception2/pooling1_conv/convolution/biases/Adam_1' type=VariableV2>,\n",
       " <tf.Operation 'CondensedGoogLeNet/CondensedGoogLeNet/inception2/pooling1_conv/convolution/biases/Adam_1/Assign' type=Assign>,\n",
       " <tf.Operation 'CondensedGoogLeNet/CondensedGoogLeNet/inception2/pooling1_conv/convolution/biases/Adam_1/read' type=Identity>,\n",
       " <tf.Operation 'CondensedGoogLeNet/CondensedGoogLeNet/inception3/1x1_conv/convolution/weights/Adam/Initializer/zeros' type=Const>,\n",
       " <tf.Operation 'CondensedGoogLeNet/CondensedGoogLeNet/inception3/1x1_conv/convolution/weights/Adam' type=VariableV2>,\n",
       " <tf.Operation 'CondensedGoogLeNet/CondensedGoogLeNet/inception3/1x1_conv/convolution/weights/Adam/Assign' type=Assign>,\n",
       " <tf.Operation 'CondensedGoogLeNet/CondensedGoogLeNet/inception3/1x1_conv/convolution/weights/Adam/read' type=Identity>,\n",
       " <tf.Operation 'CondensedGoogLeNet/CondensedGoogLeNet/inception3/1x1_conv/convolution/weights/Adam_1/Initializer/zeros' type=Const>,\n",
       " <tf.Operation 'CondensedGoogLeNet/CondensedGoogLeNet/inception3/1x1_conv/convolution/weights/Adam_1' type=VariableV2>,\n",
       " <tf.Operation 'CondensedGoogLeNet/CondensedGoogLeNet/inception3/1x1_conv/convolution/weights/Adam_1/Assign' type=Assign>,\n",
       " <tf.Operation 'CondensedGoogLeNet/CondensedGoogLeNet/inception3/1x1_conv/convolution/weights/Adam_1/read' type=Identity>,\n",
       " <tf.Operation 'CondensedGoogLeNet/CondensedGoogLeNet/inception3/1x1_conv/convolution/biases/Adam/Initializer/zeros' type=Const>,\n",
       " <tf.Operation 'CondensedGoogLeNet/CondensedGoogLeNet/inception3/1x1_conv/convolution/biases/Adam' type=VariableV2>,\n",
       " <tf.Operation 'CondensedGoogLeNet/CondensedGoogLeNet/inception3/1x1_conv/convolution/biases/Adam/Assign' type=Assign>,\n",
       " <tf.Operation 'CondensedGoogLeNet/CondensedGoogLeNet/inception3/1x1_conv/convolution/biases/Adam/read' type=Identity>,\n",
       " <tf.Operation 'CondensedGoogLeNet/CondensedGoogLeNet/inception3/1x1_conv/convolution/biases/Adam_1/Initializer/zeros' type=Const>,\n",
       " <tf.Operation 'CondensedGoogLeNet/CondensedGoogLeNet/inception3/1x1_conv/convolution/biases/Adam_1' type=VariableV2>,\n",
       " <tf.Operation 'CondensedGoogLeNet/CondensedGoogLeNet/inception3/1x1_conv/convolution/biases/Adam_1/Assign' type=Assign>,\n",
       " <tf.Operation 'CondensedGoogLeNet/CondensedGoogLeNet/inception3/1x1_conv/convolution/biases/Adam_1/read' type=Identity>,\n",
       " <tf.Operation 'CondensedGoogLeNet/CondensedGoogLeNet/inception3/3x3_conv1/pre_convolution/weights_pre/Adam/Initializer/zeros' type=Const>,\n",
       " <tf.Operation 'CondensedGoogLeNet/CondensedGoogLeNet/inception3/3x3_conv1/pre_convolution/weights_pre/Adam' type=VariableV2>,\n",
       " <tf.Operation 'CondensedGoogLeNet/CondensedGoogLeNet/inception3/3x3_conv1/pre_convolution/weights_pre/Adam/Assign' type=Assign>,\n",
       " <tf.Operation 'CondensedGoogLeNet/CondensedGoogLeNet/inception3/3x3_conv1/pre_convolution/weights_pre/Adam/read' type=Identity>,\n",
       " <tf.Operation 'CondensedGoogLeNet/CondensedGoogLeNet/inception3/3x3_conv1/pre_convolution/weights_pre/Adam_1/Initializer/zeros' type=Const>,\n",
       " <tf.Operation 'CondensedGoogLeNet/CondensedGoogLeNet/inception3/3x3_conv1/pre_convolution/weights_pre/Adam_1' type=VariableV2>,\n",
       " <tf.Operation 'CondensedGoogLeNet/CondensedGoogLeNet/inception3/3x3_conv1/pre_convolution/weights_pre/Adam_1/Assign' type=Assign>,\n",
       " <tf.Operation 'CondensedGoogLeNet/CondensedGoogLeNet/inception3/3x3_conv1/pre_convolution/weights_pre/Adam_1/read' type=Identity>,\n",
       " <tf.Operation 'CondensedGoogLeNet/CondensedGoogLeNet/inception3/3x3_conv1/convolution/weights/Adam/Initializer/zeros' type=Const>,\n",
       " <tf.Operation 'CondensedGoogLeNet/CondensedGoogLeNet/inception3/3x3_conv1/convolution/weights/Adam' type=VariableV2>,\n",
       " <tf.Operation 'CondensedGoogLeNet/CondensedGoogLeNet/inception3/3x3_conv1/convolution/weights/Adam/Assign' type=Assign>,\n",
       " <tf.Operation 'CondensedGoogLeNet/CondensedGoogLeNet/inception3/3x3_conv1/convolution/weights/Adam/read' type=Identity>,\n",
       " <tf.Operation 'CondensedGoogLeNet/CondensedGoogLeNet/inception3/3x3_conv1/convolution/weights/Adam_1/Initializer/zeros' type=Const>,\n",
       " <tf.Operation 'CondensedGoogLeNet/CondensedGoogLeNet/inception3/3x3_conv1/convolution/weights/Adam_1' type=VariableV2>,\n",
       " <tf.Operation 'CondensedGoogLeNet/CondensedGoogLeNet/inception3/3x3_conv1/convolution/weights/Adam_1/Assign' type=Assign>,\n",
       " <tf.Operation 'CondensedGoogLeNet/CondensedGoogLeNet/inception3/3x3_conv1/convolution/weights/Adam_1/read' type=Identity>,\n",
       " <tf.Operation 'CondensedGoogLeNet/CondensedGoogLeNet/inception3/3x3_conv1/convolution/biases/Adam/Initializer/zeros' type=Const>,\n",
       " <tf.Operation 'CondensedGoogLeNet/CondensedGoogLeNet/inception3/3x3_conv1/convolution/biases/Adam' type=VariableV2>,\n",
       " <tf.Operation 'CondensedGoogLeNet/CondensedGoogLeNet/inception3/3x3_conv1/convolution/biases/Adam/Assign' type=Assign>,\n",
       " <tf.Operation 'CondensedGoogLeNet/CondensedGoogLeNet/inception3/3x3_conv1/convolution/biases/Adam/read' type=Identity>,\n",
       " <tf.Operation 'CondensedGoogLeNet/CondensedGoogLeNet/inception3/3x3_conv1/convolution/biases/Adam_1/Initializer/zeros' type=Const>,\n",
       " <tf.Operation 'CondensedGoogLeNet/CondensedGoogLeNet/inception3/3x3_conv1/convolution/biases/Adam_1' type=VariableV2>,\n",
       " <tf.Operation 'CondensedGoogLeNet/CondensedGoogLeNet/inception3/3x3_conv1/convolution/biases/Adam_1/Assign' type=Assign>,\n",
       " <tf.Operation 'CondensedGoogLeNet/CondensedGoogLeNet/inception3/3x3_conv1/convolution/biases/Adam_1/read' type=Identity>,\n",
       " <tf.Operation 'CondensedGoogLeNet/CondensedGoogLeNet/inception3/5x5_conv1/pre_convolution/weights_pre/Adam/Initializer/zeros' type=Const>,\n",
       " <tf.Operation 'CondensedGoogLeNet/CondensedGoogLeNet/inception3/5x5_conv1/pre_convolution/weights_pre/Adam' type=VariableV2>,\n",
       " <tf.Operation 'CondensedGoogLeNet/CondensedGoogLeNet/inception3/5x5_conv1/pre_convolution/weights_pre/Adam/Assign' type=Assign>,\n",
       " <tf.Operation 'CondensedGoogLeNet/CondensedGoogLeNet/inception3/5x5_conv1/pre_convolution/weights_pre/Adam/read' type=Identity>,\n",
       " <tf.Operation 'CondensedGoogLeNet/CondensedGoogLeNet/inception3/5x5_conv1/pre_convolution/weights_pre/Adam_1/Initializer/zeros' type=Const>,\n",
       " <tf.Operation 'CondensedGoogLeNet/CondensedGoogLeNet/inception3/5x5_conv1/pre_convolution/weights_pre/Adam_1' type=VariableV2>,\n",
       " <tf.Operation 'CondensedGoogLeNet/CondensedGoogLeNet/inception3/5x5_conv1/pre_convolution/weights_pre/Adam_1/Assign' type=Assign>,\n",
       " <tf.Operation 'CondensedGoogLeNet/CondensedGoogLeNet/inception3/5x5_conv1/pre_convolution/weights_pre/Adam_1/read' type=Identity>,\n",
       " <tf.Operation 'CondensedGoogLeNet/CondensedGoogLeNet/inception3/5x5_conv1/convolution/weights/Adam/Initializer/zeros' type=Const>,\n",
       " <tf.Operation 'CondensedGoogLeNet/CondensedGoogLeNet/inception3/5x5_conv1/convolution/weights/Adam' type=VariableV2>,\n",
       " <tf.Operation 'CondensedGoogLeNet/CondensedGoogLeNet/inception3/5x5_conv1/convolution/weights/Adam/Assign' type=Assign>,\n",
       " <tf.Operation 'CondensedGoogLeNet/CondensedGoogLeNet/inception3/5x5_conv1/convolution/weights/Adam/read' type=Identity>,\n",
       " <tf.Operation 'CondensedGoogLeNet/CondensedGoogLeNet/inception3/5x5_conv1/convolution/weights/Adam_1/Initializer/zeros' type=Const>,\n",
       " <tf.Operation 'CondensedGoogLeNet/CondensedGoogLeNet/inception3/5x5_conv1/convolution/weights/Adam_1' type=VariableV2>,\n",
       " <tf.Operation 'CondensedGoogLeNet/CondensedGoogLeNet/inception3/5x5_conv1/convolution/weights/Adam_1/Assign' type=Assign>,\n",
       " <tf.Operation 'CondensedGoogLeNet/CondensedGoogLeNet/inception3/5x5_conv1/convolution/weights/Adam_1/read' type=Identity>,\n",
       " <tf.Operation 'CondensedGoogLeNet/CondensedGoogLeNet/inception3/5x5_conv1/convolution/biases/Adam/Initializer/zeros' type=Const>,\n",
       " <tf.Operation 'CondensedGoogLeNet/CondensedGoogLeNet/inception3/5x5_conv1/convolution/biases/Adam' type=VariableV2>,\n",
       " <tf.Operation 'CondensedGoogLeNet/CondensedGoogLeNet/inception3/5x5_conv1/convolution/biases/Adam/Assign' type=Assign>,\n",
       " <tf.Operation 'CondensedGoogLeNet/CondensedGoogLeNet/inception3/5x5_conv1/convolution/biases/Adam/read' type=Identity>,\n",
       " <tf.Operation 'CondensedGoogLeNet/CondensedGoogLeNet/inception3/5x5_conv1/convolution/biases/Adam_1/Initializer/zeros' type=Const>,\n",
       " <tf.Operation 'CondensedGoogLeNet/CondensedGoogLeNet/inception3/5x5_conv1/convolution/biases/Adam_1' type=VariableV2>,\n",
       " <tf.Operation 'CondensedGoogLeNet/CondensedGoogLeNet/inception3/5x5_conv1/convolution/biases/Adam_1/Assign' type=Assign>,\n",
       " <tf.Operation 'CondensedGoogLeNet/CondensedGoogLeNet/inception3/5x5_conv1/convolution/biases/Adam_1/read' type=Identity>,\n",
       " <tf.Operation 'CondensedGoogLeNet/CondensedGoogLeNet/inception3/pooling1_conv/convolution/weights/Adam/Initializer/zeros' type=Const>,\n",
       " <tf.Operation 'CondensedGoogLeNet/CondensedGoogLeNet/inception3/pooling1_conv/convolution/weights/Adam' type=VariableV2>,\n",
       " <tf.Operation 'CondensedGoogLeNet/CondensedGoogLeNet/inception3/pooling1_conv/convolution/weights/Adam/Assign' type=Assign>,\n",
       " <tf.Operation 'CondensedGoogLeNet/CondensedGoogLeNet/inception3/pooling1_conv/convolution/weights/Adam/read' type=Identity>,\n",
       " <tf.Operation 'CondensedGoogLeNet/CondensedGoogLeNet/inception3/pooling1_conv/convolution/weights/Adam_1/Initializer/zeros' type=Const>,\n",
       " <tf.Operation 'CondensedGoogLeNet/CondensedGoogLeNet/inception3/pooling1_conv/convolution/weights/Adam_1' type=VariableV2>,\n",
       " <tf.Operation 'CondensedGoogLeNet/CondensedGoogLeNet/inception3/pooling1_conv/convolution/weights/Adam_1/Assign' type=Assign>,\n",
       " <tf.Operation 'CondensedGoogLeNet/CondensedGoogLeNet/inception3/pooling1_conv/convolution/weights/Adam_1/read' type=Identity>,\n",
       " <tf.Operation 'CondensedGoogLeNet/CondensedGoogLeNet/inception3/pooling1_conv/convolution/biases/Adam/Initializer/zeros' type=Const>,\n",
       " <tf.Operation 'CondensedGoogLeNet/CondensedGoogLeNet/inception3/pooling1_conv/convolution/biases/Adam' type=VariableV2>,\n",
       " ...]"
      ]
     },
     "execution_count": 16,
     "metadata": {},
     "output_type": "execute_result"
    }
   ],
   "source": [
    "graph = tf.get_default_graph()\n",
    "graph.get_operations()"
   ]
  },
  {
   "cell_type": "markdown",
   "metadata": {},
   "source": [
    "# Backtest"
   ]
  },
  {
   "cell_type": "code",
   "execution_count": null,
   "metadata": {},
   "outputs": [],
   "source": [
    "# TODO"
   ]
  },
  {
   "cell_type": "markdown",
   "metadata": {},
   "source": [
    "# Little tests section"
   ]
  },
  {
   "cell_type": "code",
   "execution_count": 30,
   "metadata": {},
   "outputs": [],
   "source": [
    "import tensorflow as tf"
   ]
  },
  {
   "cell_type": "code",
   "execution_count": 8,
   "metadata": {},
   "outputs": [
    {
     "data": {
      "text/plain": [
       "'model_checkpoints\\\\ckpt-266'"
      ]
     },
     "execution_count": 8,
     "metadata": {},
     "output_type": "execute_result"
    }
   ],
   "source": [
    "tf.train.latest_checkpoint('model_checkpoints')"
   ]
  },
  {
   "cell_type": "code",
   "execution_count": 13,
   "metadata": {
    "scrolled": false
   },
   "outputs": [
    {
     "name": "stdout",
     "output_type": "stream",
     "text": [
      "INFO:tensorflow:Restoring parameters from model_checkpoints\\ckpt-26\n"
     ]
    }
   ],
   "source": [
    "\n",
    "# with tf.variable_scope('test',reuse=tf.AUTO_REUSE):\n",
    "#     network2 = CondensedGoogLeNet(shape_x=shape_x,shape_y=shape_y,hyperparams=GoogleNet_hyperparams)\n",
    "#     network2.build_operations()\n",
    "sess=tf.Session()    \n",
    "#First let's load meta graph and restore weights\n",
    "# saver = tf.train.import_meta_graph('model_checkpoints/ckpt1-266.meta')\n",
    "saver = tf.train.import_meta_graph('model_checkpoints/ckpt-26.meta')\n",
    "saver.restore(sess,tf.train.latest_checkpoint('model_checkpoints'))"
   ]
  },
  {
   "cell_type": "code",
   "execution_count": 14,
   "metadata": {},
   "outputs": [],
   "source": [
    "graph = tf.get_default_graph()\n",
    "# w1 = graph.get_tensor_by_name(\"w1:0\")\n",
    "# w2 = graph.get_tensor_by_name(\"w2:0\")\n",
    "# feed_dict ={w1:13.0,w2:17.0}\n",
    "\n"
   ]
  },
  {
   "cell_type": "markdown",
   "metadata": {},
   "source": [
    "+ CondensedGoogLeNet/loss/Mean gets the loss\n",
    "+ CondensedGoogLeNet/Adam gets the optimizer\n",
    "+ CondensedGoogLeNet/accuracy/Mean gets the accuracy\n",
    "    + we can get the validation error just after\n",
    "+ CondensedGoogLeNet/Merge/MergeSummary gets the summary op\n",
    "+ CondensedGoogLeNet/init gets init_op\n",
    "+ "
   ]
  },
  {
   "cell_type": "code",
   "execution_count": 15,
   "metadata": {},
   "outputs": [],
   "source": [
    "output = graph.get_tensor_by_name('CondensedGoogLeNet/output:0')\n",
    "train_op = graph.get_tensor_by_name('CondensedGoogLeNet/minimize:0')\n",
    "x = graph.get_tensor_by_name('CondensedGoogLeNet/x:0')\n",
    "y = graph.get_tensor_by_name('CondensedGoogLeNet/y:0')\n",
    "global_step = graph.get_tensor_by_name('CondensedGoogLeNet/global_step:0')\n",
    "# loss = graph.get_tensor_by_name('CondensedGoogLeNet/loss/Mean:0')"
   ]
  },
  {
   "cell_type": "code",
   "execution_count": 18,
   "metadata": {},
   "outputs": [],
   "source": [
    "pred = sess.run([train_op,global_step],feed_dict={x:X_val[:100],y:Y_val[:100]})"
   ]
  },
  {
   "cell_type": "code",
   "execution_count": 19,
   "metadata": {},
   "outputs": [
    {
     "data": {
      "text/plain": [
       "[28, 28]"
      ]
     },
     "execution_count": 19,
     "metadata": {},
     "output_type": "execute_result"
    }
   ],
   "source": [
    "pred"
   ]
  },
  {
   "cell_type": "code",
   "execution_count": 62,
   "metadata": {},
   "outputs": [
    {
     "data": {
      "text/plain": [
       "<tf.Operation 'CondensedGoogLeNet/minimize' type=AssignAdd>"
      ]
     },
     "execution_count": 62,
     "metadata": {},
     "output_type": "execute_result"
    }
   ],
   "source": [
    "network.optimizer"
   ]
  },
  {
   "cell_type": "code",
   "execution_count": 99,
   "metadata": {},
   "outputs": [],
   "source": [
    "# train_op = graph.get_tensor_by_name('CondensedGoogLeNet/minimize:0')\n"
   ]
  },
  {
   "cell_type": "code",
   "execution_count": 49,
   "metadata": {},
   "outputs": [
    {
     "data": {
      "text/plain": [
       "<tf.Tensor 'CondensedGoogLeNet/Adam:0' shape=() dtype=int32_ref>"
      ]
     },
     "execution_count": 49,
     "metadata": {},
     "output_type": "execute_result"
    }
   ],
   "source": [
    "train_op"
   ]
  },
  {
   "cell_type": "code",
   "execution_count": 47,
   "metadata": {},
   "outputs": [
    {
     "data": {
      "text/plain": [
       "408"
      ]
     },
     "execution_count": 47,
     "metadata": {},
     "output_type": "execute_result"
    }
   ],
   "source": [
    "pred"
   ]
  },
  {
   "cell_type": "code",
   "execution_count": 48,
   "metadata": {},
   "outputs": [
    {
     "data": {
      "text/plain": [
       "array([[0.54534346, 0.31630963, 0.13834698],\n",
       "       [0.24215752, 0.27100408, 0.48683837],\n",
       "       [0.19895326, 0.2448365 , 0.5562103 ],\n",
       "       [0.46735036, 0.3460878 , 0.18656184],\n",
       "       [0.28557023, 0.5997592 , 0.11467056],\n",
       "       [0.3116192 , 0.43605033, 0.25233048],\n",
       "       [0.21186991, 0.61546487, 0.17266521],\n",
       "       [0.23539183, 0.67194796, 0.09266017],\n",
       "       [0.12098232, 0.7968117 , 0.08220595],\n",
       "       [0.13915536, 0.7540392 , 0.10680544],\n",
       "       [0.26458594, 0.61498356, 0.1204305 ],\n",
       "       [0.2907207 , 0.5771785 , 0.13210084],\n",
       "       [0.18505928, 0.5521796 , 0.26276112],\n",
       "       [0.20635134, 0.5497223 , 0.2439263 ],\n",
       "       [0.28695482, 0.5000306 , 0.2130146 ]], dtype=float32)"
      ]
     },
     "execution_count": 48,
     "metadata": {},
     "output_type": "execute_result"
    }
   ],
   "source": [
    "pred = sess.run(output,feed_dict={x:X_val1[:15]})\n",
    "pred"
   ]
  },
  {
   "cell_type": "code",
   "execution_count": 20,
   "metadata": {},
   "outputs": [
    {
     "data": {
      "text/plain": [
       "'model_checkpoints/test_restore'"
      ]
     },
     "execution_count": 20,
     "metadata": {},
     "output_type": "execute_result"
    }
   ],
   "source": [
    "saver.save(sess,'model_checkpoints/test_restore')"
   ]
  },
  {
   "cell_type": "code",
   "execution_count": 61,
   "metadata": {},
   "outputs": [
    {
     "data": {
      "text/plain": [
       "array([[<matplotlib.axes._subplots.AxesSubplot object at 0x000001EB8140E128>]],\n",
       "      dtype=object)"
      ]
     },
     "execution_count": 61,
     "metadata": {},
     "output_type": "execute_result"
    },
    {
     "data": {
      "image/png": "[encoded data removed]",
      "text/plain": [
       "<Figure size 432x288 with 1 Axes>"
      ]
     },
     "metadata": {},
     "output_type": "display_data"
    }
   ],
   "source": [
    "pd.DataFrame(np.max(pred,axis=1)).hist(bins=100)"
   ]
  },
  {
   "cell_type": "code",
   "execution_count": 46,
   "metadata": {},
   "outputs": [
    {
     "data": {
      "text/plain": [
       "array([[0.37601736, 0.38016203, 0.24382067],\n",
       "       [0.33472654, 0.37284032, 0.2924331 ],\n",
       "       [0.35309193, 0.30750227, 0.33940583],\n",
       "       [0.3471133 , 0.32821226, 0.3246745 ],\n",
       "       [0.3240848 , 0.3507759 , 0.3251393 ]], dtype=float32)"
      ]
     },
     "execution_count": 46,
     "metadata": {},
     "output_type": "execute_result"
    }
   ],
   "source": [
    "pred[:5]"
   ]
  },
  {
   "cell_type": "code",
   "execution_count": 42,
   "metadata": {},
   "outputs": [
    {
     "data": {
      "text/plain": [
       "array([[0.38847148, 0.36652684, 0.24500167],\n",
       "       [0.32993904, 0.42600474, 0.24405627],\n",
       "       [0.32316726, 0.3760524 , 0.30078036],\n",
       "       [0.33141774, 0.36307806, 0.3055042 ],\n",
       "       [0.36576766, 0.33067912, 0.30355325]], dtype=float32)"
      ]
     },
     "execution_count": 42,
     "metadata": {},
     "output_type": "execute_result"
    }
   ],
   "source": [
    "GN_pred[:5]"
   ]
  },
  {
   "cell_type": "code",
   "execution_count": 43,
   "metadata": {},
   "outputs": [
    {
     "data": {
      "text/plain": [
       "array([[0, 1, 0],\n",
       "       [0, 1, 0],\n",
       "       [0, 1, 0],\n",
       "       [1, 0, 0],\n",
       "       [0, 1, 0]])"
      ]
     },
     "execution_count": 43,
     "metadata": {},
     "output_type": "execute_result"
    }
   ],
   "source": [
    "Y_val[:5]"
   ]
  },
  {
   "cell_type": "code",
   "execution_count": 16,
   "metadata": {},
   "outputs": [
    {
     "data": {
      "text/plain": [
       "(1885, 3)"
      ]
     },
     "execution_count": 16,
     "metadata": {},
     "output_type": "execute_result"
    }
   ],
   "source": [
    "pred.shape"
   ]
  },
  {
   "cell_type": "code",
   "execution_count": null,
   "metadata": {},
   "outputs": [],
   "source": [
    "tf.reset_default_graph()\n",
    "\n",
    "# Create some variables.\n",
    "v1 = tf.get_variable(\"v1\", shape=[3])\n",
    "v2 = tf.get_variable(\"v2\", shape=[5])\n",
    "\n",
    "# Add ops to save and restore all the variables.\n",
    "saver = tf.train.Saver()\n",
    "\n",
    "# Later, launch the model, use the saver to restore variables from disk, and\n",
    "# do some work with the model.\n",
    "with tf.Session() as sess:\n",
    "  # Restore variables from disk.\n",
    "  saver.restore(sess, \"/tmp/model.ckpt\")\n",
    "  print(\"Model restored.\")\n",
    "  # Check the values of the variables\n",
    "  print(\"v1 : %s\" % v1.eval())\n",
    "  print(\"v2 : %s\" % v2.eval())"
   ]
  },
  {
   "cell_type": "code",
   "execution_count": null,
   "metadata": {},
   "outputs": [],
   "source": [
    "tf.train.latest_checkpoint"
   ]
  },
  {
   "cell_type": "code",
   "execution_count": 3,
   "metadata": {},
   "outputs": [
    {
     "data": {
      "text/plain": [
       "5"
      ]
     },
     "execution_count": 3,
     "metadata": {},
     "output_type": "execute_result"
    }
   ],
   "source": [
    "tf.train.import_meta_graph"
   ]
  }
 ],
 "metadata": {
  "kernelspec": {
   "display_name": "Python 3",
   "language": "python",
   "name": "python3"
  },
  "language_info": {
   "codemirror_mode": {
    "name": "ipython",
    "version": 3
   },
   "file_extension": ".py",
   "mimetype": "text/x-python",
   "name": "python",
   "nbconvert_exporter": "python",
   "pygments_lexer": "ipython3",
   "version": "3.6.5"
  }
 },
 "nbformat": 4,
 "nbformat_minor": 2
}
