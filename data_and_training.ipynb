{
 "cells": [
  {
   "cell_type": "code",
   "execution_count": 1,
   "metadata": {},
   "outputs": [
    {
     "name": "stderr",
     "output_type": "stream",
     "text": [
      "C:\\ProgramData\\Anaconda3\\lib\\site-packages\\h5py\\__init__.py:36: FutureWarning: Conversion of the second argument of issubdtype from `float` to `np.floating` is deprecated. In future, it will be treated as `np.float64 == np.dtype(float).type`.\n",
      "  from ._conv import register_converters as _register_converters\n"
     ]
    }
   ],
   "source": [
    "from models import train_predict,CondensedGoogLeNet\n",
    "from models.train_predict import get_confusion_matrix\n",
    "from data.data_processing import generate_dummy_data,DataHandler,get_training_data_from_path\n",
    "from config.hyperparams import GoogleNet_hyperparams\n",
    "import tensorflow as tf\n",
    "import pandas as pd\n",
    "import numpy as np\n",
    "\n",
    "%load_ext autoreload\n",
    "%autoreload 2\n",
    "%matplotlib inline"
   ]
  },
  {
   "cell_type": "code",
   "execution_count": 2,
   "metadata": {},
   "outputs": [],
   "source": [
    "folder_for_samples = 'data/cnn_samples/regular'"
   ]
  },
  {
   "cell_type": "markdown",
   "metadata": {},
   "source": [
    "# Data Processing"
   ]
  },
  {
   "cell_type": "markdown",
   "metadata": {},
   "source": [
    "## Get stock data in Handler object"
   ]
  },
  {
   "cell_type": "code",
   "execution_count": 3,
   "metadata": {},
   "outputs": [],
   "source": [
    "handler = DataHandler(encoding_method='GADF', window_len=64, image_size=16, retrain_freq=5,\n",
    "                 start_date = 20150102, end_date= 20200102, frac_of_stocks=0.01,\n",
    "                stock_data_dir_path= 'data/stock_data',\n",
    "                 dir_for_samples=folder_for_samples, nb_of_stocks_by_file=50\n",
    "                 )"
   ]
  },
  {
   "cell_type": "code",
   "execution_count": 4,
   "metadata": {},
   "outputs": [
    {
     "data": {
      "application/vnd.jupyter.widget-view+json": {
       "model_id": "103f96a24fcf486c9e21b0219c7989b2",
       "version_major": 2,
       "version_minor": 0
      },
      "text/plain": [
       "Textarea(value='', layout=Layout(border='1px solid #999999', height='200px', width='100%'))"
      ]
     },
     "metadata": {},
     "output_type": "display_data"
    }
   ],
   "source": [
    "handler.get_df_data()"
   ]
  },
  {
   "cell_type": "code",
   "execution_count": 5,
   "metadata": {},
   "outputs": [
    {
     "name": "stderr",
     "output_type": "stream",
     "text": [
      "Clipping input data to the valid range for imshow with RGB data ([0..1] for floats or [0..255] for integers).\n"
     ]
    },
    {
     "data": {
      "image/png": "[encoded data removed]",
      "text/plain": [
       "<Figure size 432x288 with 1 Axes>"
      ]
     },
     "metadata": {},
     "output_type": "display_data"
    }
   ],
   "source": [
    "handler.show_image(handler.df_data)"
   ]
  },
  {
   "cell_type": "markdown",
   "metadata": {},
   "source": [
    "## Builds images and targets and creates pickles\n",
    "+ Be careful for the folder name (specified in handler object), this function will delete all files in this folder before dumping pickles"
   ]
  },
  {
   "cell_type": "code",
   "execution_count": 6,
   "metadata": {},
   "outputs": [
    {
     "data": {
      "application/vnd.jupyter.widget-view+json": {
       "model_id": "393011003831411cad95b3c89ffcd290",
       "version_major": 2,
       "version_minor": 0
      },
      "text/plain": [
       "Textarea(value='', layout=Layout(border='1px solid #999999', height='200px', width='100%'))"
      ]
     },
     "metadata": {},
     "output_type": "display_data"
    }
   ],
   "source": [
    "handler.build_and_dump_images_and_targets()"
   ]
  },
  {
   "cell_type": "markdown",
   "metadata": {},
   "source": [
    "# Training"
   ]
  },
  {
   "cell_type": "markdown",
   "metadata": {},
   "source": [
    "## Retrieve data from the specified folder"
   ]
  },
  {
   "cell_type": "code",
   "execution_count": 7,
   "metadata": {},
   "outputs": [
    {
     "data": {
      "application/vnd.jupyter.widget-view+json": {
       "model_id": "2eb267f3d4fc42dc99669efeec8e6751",
       "version_major": 2,
       "version_minor": 0
      },
      "text/plain": [
       "Textarea(value='', layout=Layout(border='1px solid #999999', height='200px', width='100%'))"
      ]
     },
     "metadata": {},
     "output_type": "display_data"
    },
    {
     "name": "stdout",
     "output_type": "stream",
     "text": [
      "Wall time: 70.8 ms\n"
     ]
    }
   ],
   "source": [
    "%%time\n",
    "\n",
    "X_train, X_val, X_test, Y_train, Y_val, Y_test = get_training_data_from_path(samples_path=folder_for_samples,\n",
    "                                targets_type='VWAP_targets',\n",
    "                                train_val_size=2 / 3.,\n",
    "                                train_size=0.75,\n",
    "                                logger_env='Training')\n"
   ]
  },
  {
   "cell_type": "code",
   "execution_count": null,
   "metadata": {},
   "outputs": [],
   "source": []
  },
  {
   "cell_type": "markdown",
   "metadata": {},
   "source": [
    "## Build the neural network object"
   ]
  },
  {
   "cell_type": "code",
   "execution_count": 8,
   "metadata": {},
   "outputs": [],
   "source": [
    "shape_x,shape_y = list(X_train.shape),list(Y_train.shape)\n",
    "shape_x[0],shape_y[0] = None,None\n",
    "\n",
    "GoogleNet_hyperparams.update({'learning_rate':0.001})\n",
    "\n",
    "network = CondensedGoogLeNet(shape_x=shape_x,shape_y=shape_y,hyperparams=GoogleNet_hyperparams)"
   ]
  },
  {
   "cell_type": "markdown",
   "metadata": {},
   "source": [
    "## Train the network "
   ]
  },
  {
   "cell_type": "code",
   "execution_count": 14,
   "metadata": {
    "scrolled": true
   },
   "outputs": [
    {
     "data": {
      "application/vnd.jupyter.widget-view+json": {
       "model_id": "c92bd15b787e4c2bb0e08a93520ec501",
       "version_major": 2,
       "version_minor": 0
      },
      "text/plain": [
       "Textarea(value='', layout=Layout(border='1px solid #999999', height='200px', width='100%'))"
      ]
     },
     "metadata": {},
     "output_type": "display_data"
    }
   ],
   "source": [
    "n_test = 2000\n",
    "model_checkpoints_path = 'model_checkpoints/ckpt1'\n",
    "\n",
    "X_train1, X_val1, Y_train1, Y_val1 =  X_train[:n_test], X_val[:n_test], Y_train[:n_test], Y_val[:n_test]\n",
    "\n",
    "\n",
    "GN_pred, GN_training_loss, GN_val_loss = train_predict(X=X_train1, Y=Y_train1, batch_size=15, valX=X_val1, valY=Y_val1,\n",
    "                                                       model_ckpt_path=model_checkpoints_path, is_bayesian=True,\n",
    "                                                       epochs=3, net=network, dropout=0.15,save_step =2,cost_sensitive_loss=True)"
   ]
  },
  {
   "cell_type": "code",
   "execution_count": 28,
   "metadata": {},
   "outputs": [
    {
     "data": {
      "text/plain": [
       "array([[0.41095683, 0.37399882, 0.21504435],\n",
       "       [0.37677366, 0.38684484, 0.23638147],\n",
       "       [0.49119234, 0.27656853, 0.2322391 ],\n",
       "       ...,\n",
       "       [0.4270429 , 0.40375423, 0.16920291],\n",
       "       [0.37940988, 0.3711643 , 0.24942586],\n",
       "       [0.40036172, 0.37423813, 0.2254002 ]], dtype=float32)"
      ]
     },
     "execution_count": 28,
     "metadata": {},
     "output_type": "execute_result"
    }
   ],
   "source": [
    "GN_pred"
   ]
  },
  {
   "cell_type": "code",
   "execution_count": 29,
   "metadata": {},
   "outputs": [
    {
     "data": {
      "text/plain": [
       "(5029, 3)"
      ]
     },
     "execution_count": 29,
     "metadata": {},
     "output_type": "execute_result"
    }
   ],
   "source": [
    "GN_pred.shape"
   ]
  },
  {
   "cell_type": "code",
   "execution_count": 11,
   "metadata": {},
   "outputs": [
    {
     "data": {
      "text/plain": [
       "array([[1382, 1614,  555],\n",
       "       [ 968, 1977,  664],\n",
       "       [ 682, 1326,  890]], dtype=int64)"
      ]
     },
     "execution_count": 11,
     "metadata": {},
     "output_type": "execute_result"
    }
   ],
   "source": [
    "get_confusion_matrix(Y_val,GN_pred)"
   ]
  },
  {
   "cell_type": "markdown",
   "metadata": {},
   "source": [
    "# Backtest"
   ]
  },
  {
   "cell_type": "code",
   "execution_count": null,
   "metadata": {},
   "outputs": [],
   "source": [
    "# TODO"
   ]
  },
  {
   "cell_type": "markdown",
   "metadata": {},
   "source": [
    "# Little tests section"
   ]
  },
  {
   "cell_type": "code",
   "execution_count": 30,
   "metadata": {},
   "outputs": [],
   "source": [
    "import tensorflow as tf"
   ]
  },
  {
   "cell_type": "code",
   "execution_count": 15,
   "metadata": {
    "scrolled": false
   },
   "outputs": [
    {
     "name": "stdout",
     "output_type": "stream",
     "text": [
      "INFO:tensorflow:Restoring parameters from model_checkpoints\\ckpt1-399\n"
     ]
    }
   ],
   "source": [
    "\n",
    "# with tf.variable_scope('test',reuse=tf.AUTO_REUSE):\n",
    "#     network2 = CondensedGoogLeNet(shape_x=shape_x,shape_y=shape_y,hyperparams=GoogleNet_hyperparams)\n",
    "#     network2.build_operations(dropout=0.15)\n",
    "sess=tf.Session()    \n",
    "#First let's load meta graph and restore weights\n",
    "saver = tf.train.import_meta_graph('model_checkpoints/ckpt1-753.meta')\n",
    "saver.restore(sess,tf.train.latest_checkpoint('model_checkpoints'))"
   ]
  },
  {
   "cell_type": "code",
   "execution_count": 16,
   "metadata": {},
   "outputs": [],
   "source": [
    "graph = tf.get_default_graph()\n",
    "# w1 = graph.get_tensor_by_name(\"w1:0\")\n",
    "# w2 = graph.get_tensor_by_name(\"w2:0\")\n",
    "# feed_dict ={w1:13.0,w2:17.0}\n",
    "\n"
   ]
  },
  {
   "cell_type": "code",
   "execution_count": 17,
   "metadata": {},
   "outputs": [],
   "source": [
    "# network2.build_operations(dropout=0.15)"
   ]
  },
  {
   "cell_type": "code",
   "execution_count": 58,
   "metadata": {
    "scrolled": true
   },
   "outputs": [
    {
     "data": {
      "text/plain": [
       "[<tf.Operation 'CondensedGoogLeNet/CondensedGoogLeNet/inception3/pooling1_conv/convolution/biases/Adam/Assign' type=Assign>,\n",
       " <tf.Operation 'CondensedGoogLeNet/CondensedGoogLeNet/inception3/pooling1_conv/convolution/biases/Adam/read' type=Identity>,\n",
       " <tf.Operation 'CondensedGoogLeNet/CondensedGoogLeNet/inception3/pooling1_conv/convolution/biases/Adam_1/Initializer/zeros' type=Const>,\n",
       " <tf.Operation 'CondensedGoogLeNet/CondensedGoogLeNet/inception3/pooling1_conv/convolution/biases/Adam_1' type=VariableV2>,\n",
       " <tf.Operation 'CondensedGoogLeNet/CondensedGoogLeNet/inception3/pooling1_conv/convolution/biases/Adam_1/Assign' type=Assign>,\n",
       " <tf.Operation 'CondensedGoogLeNet/CondensedGoogLeNet/inception3/pooling1_conv/convolution/biases/Adam_1/read' type=Identity>,\n",
       " <tf.Operation 'CondensedGoogLeNet/CondensedGoogLeNet/dense_layer/weight/Adam/Initializer/zeros/shape_as_tensor' type=Const>,\n",
       " <tf.Operation 'CondensedGoogLeNet/CondensedGoogLeNet/dense_layer/weight/Adam/Initializer/zeros/Const' type=Const>,\n",
       " <tf.Operation 'CondensedGoogLeNet/CondensedGoogLeNet/dense_layer/weight/Adam/Initializer/zeros' type=Fill>,\n",
       " <tf.Operation 'CondensedGoogLeNet/CondensedGoogLeNet/dense_layer/weight/Adam' type=VariableV2>,\n",
       " <tf.Operation 'CondensedGoogLeNet/CondensedGoogLeNet/dense_layer/weight/Adam/Assign' type=Assign>,\n",
       " <tf.Operation 'CondensedGoogLeNet/CondensedGoogLeNet/dense_layer/weight/Adam/read' type=Identity>,\n",
       " <tf.Operation 'CondensedGoogLeNet/CondensedGoogLeNet/dense_layer/weight/Adam_1/Initializer/zeros/shape_as_tensor' type=Const>,\n",
       " <tf.Operation 'CondensedGoogLeNet/CondensedGoogLeNet/dense_layer/weight/Adam_1/Initializer/zeros/Const' type=Const>,\n",
       " <tf.Operation 'CondensedGoogLeNet/CondensedGoogLeNet/dense_layer/weight/Adam_1/Initializer/zeros' type=Fill>,\n",
       " <tf.Operation 'CondensedGoogLeNet/CondensedGoogLeNet/dense_layer/weight/Adam_1' type=VariableV2>,\n",
       " <tf.Operation 'CondensedGoogLeNet/CondensedGoogLeNet/dense_layer/weight/Adam_1/Assign' type=Assign>,\n",
       " <tf.Operation 'CondensedGoogLeNet/CondensedGoogLeNet/dense_layer/weight/Adam_1/read' type=Identity>,\n",
       " <tf.Operation 'CondensedGoogLeNet/CondensedGoogLeNet/dense_layer/bias/Adam/Initializer/zeros' type=Const>,\n",
       " <tf.Operation 'CondensedGoogLeNet/CondensedGoogLeNet/dense_layer/bias/Adam' type=VariableV2>,\n",
       " <tf.Operation 'CondensedGoogLeNet/CondensedGoogLeNet/dense_layer/bias/Adam/Assign' type=Assign>,\n",
       " <tf.Operation 'CondensedGoogLeNet/CondensedGoogLeNet/dense_layer/bias/Adam/read' type=Identity>,\n",
       " <tf.Operation 'CondensedGoogLeNet/CondensedGoogLeNet/dense_layer/bias/Adam_1/Initializer/zeros' type=Const>,\n",
       " <tf.Operation 'CondensedGoogLeNet/CondensedGoogLeNet/dense_layer/bias/Adam_1' type=VariableV2>,\n",
       " <tf.Operation 'CondensedGoogLeNet/CondensedGoogLeNet/dense_layer/bias/Adam_1/Assign' type=Assign>,\n",
       " <tf.Operation 'CondensedGoogLeNet/CondensedGoogLeNet/dense_layer/bias/Adam_1/read' type=Identity>,\n",
       " <tf.Operation 'CondensedGoogLeNet/Adam/learning_rate' type=Const>,\n",
       " <tf.Operation 'CondensedGoogLeNet/Adam/beta1' type=Const>,\n",
       " <tf.Operation 'CondensedGoogLeNet/Adam/beta2' type=Const>,\n",
       " <tf.Operation 'CondensedGoogLeNet/Adam/epsilon' type=Const>,\n",
       " <tf.Operation 'CondensedGoogLeNet/Adam/update_CondensedGoogLeNet/conv1_conv/convolution/weights/ApplyAdam' type=ApplyAdam>,\n",
       " <tf.Operation 'CondensedGoogLeNet/Adam/update_CondensedGoogLeNet/conv1_conv/convolution/biases/ApplyAdam' type=ApplyAdam>,\n",
       " <tf.Operation 'CondensedGoogLeNet/Adam/update_CondensedGoogLeNet/conv2_conv/convolution/weights/ApplyAdam' type=ApplyAdam>,\n",
       " <tf.Operation 'CondensedGoogLeNet/Adam/update_CondensedGoogLeNet/conv2_conv/convolution/biases/ApplyAdam' type=ApplyAdam>,\n",
       " <tf.Operation 'CondensedGoogLeNet/Adam/update_CondensedGoogLeNet/inception1/1x1_conv/convolution/weights/ApplyAdam' type=ApplyAdam>,\n",
       " <tf.Operation 'CondensedGoogLeNet/Adam/update_CondensedGoogLeNet/inception1/1x1_conv/convolution/biases/ApplyAdam' type=ApplyAdam>,\n",
       " <tf.Operation 'CondensedGoogLeNet/Adam/update_CondensedGoogLeNet/inception1/3x3_conv1/pre_convolution/weights_pre/ApplyAdam' type=ApplyAdam>,\n",
       " <tf.Operation 'CondensedGoogLeNet/Adam/update_CondensedGoogLeNet/inception1/3x3_conv1/convolution/weights/ApplyAdam' type=ApplyAdam>,\n",
       " <tf.Operation 'CondensedGoogLeNet/Adam/update_CondensedGoogLeNet/inception1/3x3_conv1/convolution/biases/ApplyAdam' type=ApplyAdam>,\n",
       " <tf.Operation 'CondensedGoogLeNet/Adam/update_CondensedGoogLeNet/inception1/5x5_conv1/pre_convolution/weights_pre/ApplyAdam' type=ApplyAdam>,\n",
       " <tf.Operation 'CondensedGoogLeNet/Adam/update_CondensedGoogLeNet/inception1/5x5_conv1/convolution/weights/ApplyAdam' type=ApplyAdam>,\n",
       " <tf.Operation 'CondensedGoogLeNet/Adam/update_CondensedGoogLeNet/inception1/5x5_conv1/convolution/biases/ApplyAdam' type=ApplyAdam>,\n",
       " <tf.Operation 'CondensedGoogLeNet/Adam/update_CondensedGoogLeNet/inception1/pooling1_conv/convolution/weights/ApplyAdam' type=ApplyAdam>,\n",
       " <tf.Operation 'CondensedGoogLeNet/Adam/update_CondensedGoogLeNet/inception1/pooling1_conv/convolution/biases/ApplyAdam' type=ApplyAdam>,\n",
       " <tf.Operation 'CondensedGoogLeNet/Adam/update_CondensedGoogLeNet/inception2/1x1_conv/convolution/weights/ApplyAdam' type=ApplyAdam>,\n",
       " <tf.Operation 'CondensedGoogLeNet/Adam/update_CondensedGoogLeNet/inception2/1x1_conv/convolution/biases/ApplyAdam' type=ApplyAdam>,\n",
       " <tf.Operation 'CondensedGoogLeNet/Adam/update_CondensedGoogLeNet/inception2/3x3_conv1/pre_convolution/weights_pre/ApplyAdam' type=ApplyAdam>,\n",
       " <tf.Operation 'CondensedGoogLeNet/Adam/update_CondensedGoogLeNet/inception2/3x3_conv1/convolution/weights/ApplyAdam' type=ApplyAdam>,\n",
       " <tf.Operation 'CondensedGoogLeNet/Adam/update_CondensedGoogLeNet/inception2/3x3_conv1/convolution/biases/ApplyAdam' type=ApplyAdam>,\n",
       " <tf.Operation 'CondensedGoogLeNet/Adam/update_CondensedGoogLeNet/inception2/5x5_conv1/pre_convolution/weights_pre/ApplyAdam' type=ApplyAdam>,\n",
       " <tf.Operation 'CondensedGoogLeNet/Adam/update_CondensedGoogLeNet/inception2/5x5_conv1/convolution/weights/ApplyAdam' type=ApplyAdam>,\n",
       " <tf.Operation 'CondensedGoogLeNet/Adam/update_CondensedGoogLeNet/inception2/5x5_conv1/convolution/biases/ApplyAdam' type=ApplyAdam>,\n",
       " <tf.Operation 'CondensedGoogLeNet/Adam/update_CondensedGoogLeNet/inception2/pooling1_conv/convolution/weights/ApplyAdam' type=ApplyAdam>,\n",
       " <tf.Operation 'CondensedGoogLeNet/Adam/update_CondensedGoogLeNet/inception2/pooling1_conv/convolution/biases/ApplyAdam' type=ApplyAdam>,\n",
       " <tf.Operation 'CondensedGoogLeNet/Adam/update_CondensedGoogLeNet/inception3/1x1_conv/convolution/weights/ApplyAdam' type=ApplyAdam>,\n",
       " <tf.Operation 'CondensedGoogLeNet/Adam/update_CondensedGoogLeNet/inception3/1x1_conv/convolution/biases/ApplyAdam' type=ApplyAdam>,\n",
       " <tf.Operation 'CondensedGoogLeNet/Adam/update_CondensedGoogLeNet/inception3/3x3_conv1/pre_convolution/weights_pre/ApplyAdam' type=ApplyAdam>,\n",
       " <tf.Operation 'CondensedGoogLeNet/Adam/update_CondensedGoogLeNet/inception3/3x3_conv1/convolution/weights/ApplyAdam' type=ApplyAdam>,\n",
       " <tf.Operation 'CondensedGoogLeNet/Adam/update_CondensedGoogLeNet/inception3/3x3_conv1/convolution/biases/ApplyAdam' type=ApplyAdam>,\n",
       " <tf.Operation 'CondensedGoogLeNet/Adam/update_CondensedGoogLeNet/inception3/5x5_conv1/pre_convolution/weights_pre/ApplyAdam' type=ApplyAdam>,\n",
       " <tf.Operation 'CondensedGoogLeNet/Adam/update_CondensedGoogLeNet/inception3/5x5_conv1/convolution/weights/ApplyAdam' type=ApplyAdam>,\n",
       " <tf.Operation 'CondensedGoogLeNet/Adam/update_CondensedGoogLeNet/inception3/5x5_conv1/convolution/biases/ApplyAdam' type=ApplyAdam>,\n",
       " <tf.Operation 'CondensedGoogLeNet/Adam/update_CondensedGoogLeNet/inception3/pooling1_conv/convolution/weights/ApplyAdam' type=ApplyAdam>,\n",
       " <tf.Operation 'CondensedGoogLeNet/Adam/update_CondensedGoogLeNet/inception3/pooling1_conv/convolution/biases/ApplyAdam' type=ApplyAdam>,\n",
       " <tf.Operation 'CondensedGoogLeNet/Adam/update_CondensedGoogLeNet/dense_layer/weight/ApplyAdam' type=ApplyAdam>,\n",
       " <tf.Operation 'CondensedGoogLeNet/Adam/update_CondensedGoogLeNet/dense_layer/bias/ApplyAdam' type=ApplyAdam>,\n",
       " <tf.Operation 'CondensedGoogLeNet/Adam/mul' type=Mul>,\n",
       " <tf.Operation 'CondensedGoogLeNet/Adam/Assign' type=Assign>,\n",
       " <tf.Operation 'CondensedGoogLeNet/Adam/mul_1' type=Mul>,\n",
       " <tf.Operation 'CondensedGoogLeNet/Adam/Assign_1' type=Assign>,\n",
       " <tf.Operation 'CondensedGoogLeNet/Adam/update' type=NoOp>,\n",
       " <tf.Operation 'CondensedGoogLeNet/Adam/value' type=Const>,\n",
       " <tf.Operation 'CondensedGoogLeNet/Adam' type=AssignAdd>,\n",
       " <tf.Operation 'CondensedGoogLeNet/accuracy/ArgMax/dimension' type=Const>,\n",
       " <tf.Operation 'CondensedGoogLeNet/accuracy/ArgMax' type=ArgMax>,\n",
       " <tf.Operation 'CondensedGoogLeNet/accuracy/ArgMax_1/dimension' type=Const>,\n",
       " <tf.Operation 'CondensedGoogLeNet/accuracy/ArgMax_1' type=ArgMax>,\n",
       " <tf.Operation 'CondensedGoogLeNet/accuracy/Equal' type=Equal>,\n",
       " <tf.Operation 'CondensedGoogLeNet/accuracy/Cast' type=Cast>,\n",
       " <tf.Operation 'CondensedGoogLeNet/accuracy/Const' type=Const>,\n",
       " <tf.Operation 'CondensedGoogLeNet/accuracy/Mean' type=Mean>,\n",
       " <tf.Operation 'CondensedGoogLeNet/accuracy/sub/x' type=Const>,\n",
       " <tf.Operation 'CondensedGoogLeNet/accuracy/sub' type=Sub>,\n",
       " <tf.Operation 'CondensedGoogLeNet/accuracy/validation_error/tags' type=Const>,\n",
       " <tf.Operation 'CondensedGoogLeNet/accuracy/validation_error' type=ScalarSummary>,\n",
       " <tf.Operation 'CondensedGoogLeNet/Merge/MergeSummary' type=MergeSummary>,\n",
       " <tf.Operation 'CondensedGoogLeNet/init' type=NoOp>,\n",
       " <tf.Operation 'CondensedGoogLeNet/save/Const' type=Const>,\n",
       " <tf.Operation 'CondensedGoogLeNet/save/SaveV2/tensor_names' type=Const>,\n",
       " <tf.Operation 'CondensedGoogLeNet/save/SaveV2/shape_and_slices' type=Const>,\n",
       " <tf.Operation 'CondensedGoogLeNet/save/SaveV2' type=SaveV2>,\n",
       " <tf.Operation 'CondensedGoogLeNet/save/control_dependency' type=Identity>,\n",
       " <tf.Operation 'CondensedGoogLeNet/save/RestoreV2/tensor_names' type=Const>,\n",
       " <tf.Operation 'CondensedGoogLeNet/save/RestoreV2/shape_and_slices' type=Const>,\n",
       " <tf.Operation 'CondensedGoogLeNet/save/RestoreV2' type=RestoreV2>,\n",
       " <tf.Operation 'CondensedGoogLeNet/save/Assign' type=Assign>,\n",
       " <tf.Operation 'CondensedGoogLeNet/save/Assign_1' type=Assign>,\n",
       " <tf.Operation 'CondensedGoogLeNet/save/Assign_2' type=Assign>,\n",
       " <tf.Operation 'CondensedGoogLeNet/save/Assign_3' type=Assign>,\n",
       " <tf.Operation 'CondensedGoogLeNet/save/Assign_4' type=Assign>,\n",
       " <tf.Operation 'CondensedGoogLeNet/save/Assign_5' type=Assign>,\n",
       " <tf.Operation 'CondensedGoogLeNet/save/Assign_6' type=Assign>,\n",
       " <tf.Operation 'CondensedGoogLeNet/save/Assign_7' type=Assign>,\n",
       " <tf.Operation 'CondensedGoogLeNet/save/Assign_8' type=Assign>,\n",
       " <tf.Operation 'CondensedGoogLeNet/save/Assign_9' type=Assign>,\n",
       " <tf.Operation 'CondensedGoogLeNet/save/Assign_10' type=Assign>,\n",
       " <tf.Operation 'CondensedGoogLeNet/save/Assign_11' type=Assign>,\n",
       " <tf.Operation 'CondensedGoogLeNet/save/Assign_12' type=Assign>,\n",
       " <tf.Operation 'CondensedGoogLeNet/save/Assign_13' type=Assign>,\n",
       " <tf.Operation 'CondensedGoogLeNet/save/Assign_14' type=Assign>,\n",
       " <tf.Operation 'CondensedGoogLeNet/save/Assign_15' type=Assign>,\n",
       " <tf.Operation 'CondensedGoogLeNet/save/Assign_16' type=Assign>,\n",
       " <tf.Operation 'CondensedGoogLeNet/save/Assign_17' type=Assign>,\n",
       " <tf.Operation 'CondensedGoogLeNet/save/Assign_18' type=Assign>,\n",
       " <tf.Operation 'CondensedGoogLeNet/save/Assign_19' type=Assign>,\n",
       " <tf.Operation 'CondensedGoogLeNet/save/Assign_20' type=Assign>,\n",
       " <tf.Operation 'CondensedGoogLeNet/save/Assign_21' type=Assign>,\n",
       " <tf.Operation 'CondensedGoogLeNet/save/Assign_22' type=Assign>,\n",
       " <tf.Operation 'CondensedGoogLeNet/save/Assign_23' type=Assign>,\n",
       " <tf.Operation 'CondensedGoogLeNet/save/Assign_24' type=Assign>,\n",
       " <tf.Operation 'CondensedGoogLeNet/save/Assign_25' type=Assign>,\n",
       " <tf.Operation 'CondensedGoogLeNet/save/Assign_26' type=Assign>,\n",
       " <tf.Operation 'CondensedGoogLeNet/save/Assign_27' type=Assign>,\n",
       " <tf.Operation 'CondensedGoogLeNet/save/Assign_28' type=Assign>,\n",
       " <tf.Operation 'CondensedGoogLeNet/save/Assign_29' type=Assign>,\n",
       " <tf.Operation 'CondensedGoogLeNet/save/Assign_30' type=Assign>,\n",
       " <tf.Operation 'CondensedGoogLeNet/save/Assign_31' type=Assign>,\n",
       " <tf.Operation 'CondensedGoogLeNet/save/Assign_32' type=Assign>,\n",
       " <tf.Operation 'CondensedGoogLeNet/save/Assign_33' type=Assign>,\n",
       " <tf.Operation 'CondensedGoogLeNet/save/Assign_34' type=Assign>,\n",
       " <tf.Operation 'CondensedGoogLeNet/save/Assign_35' type=Assign>,\n",
       " <tf.Operation 'CondensedGoogLeNet/save/Assign_36' type=Assign>,\n",
       " <tf.Operation 'CondensedGoogLeNet/save/Assign_37' type=Assign>,\n",
       " <tf.Operation 'CondensedGoogLeNet/save/Assign_38' type=Assign>,\n",
       " <tf.Operation 'CondensedGoogLeNet/save/Assign_39' type=Assign>,\n",
       " <tf.Operation 'CondensedGoogLeNet/save/Assign_40' type=Assign>,\n",
       " <tf.Operation 'CondensedGoogLeNet/save/Assign_41' type=Assign>,\n",
       " <tf.Operation 'CondensedGoogLeNet/save/Assign_42' type=Assign>,\n",
       " <tf.Operation 'CondensedGoogLeNet/save/Assign_43' type=Assign>,\n",
       " <tf.Operation 'CondensedGoogLeNet/save/Assign_44' type=Assign>,\n",
       " <tf.Operation 'CondensedGoogLeNet/save/Assign_45' type=Assign>,\n",
       " <tf.Operation 'CondensedGoogLeNet/save/Assign_46' type=Assign>,\n",
       " <tf.Operation 'CondensedGoogLeNet/save/Assign_47' type=Assign>,\n",
       " <tf.Operation 'CondensedGoogLeNet/save/Assign_48' type=Assign>,\n",
       " <tf.Operation 'CondensedGoogLeNet/save/Assign_49' type=Assign>,\n",
       " <tf.Operation 'CondensedGoogLeNet/save/Assign_50' type=Assign>,\n",
       " <tf.Operation 'CondensedGoogLeNet/save/Assign_51' type=Assign>,\n",
       " <tf.Operation 'CondensedGoogLeNet/save/Assign_52' type=Assign>,\n",
       " <tf.Operation 'CondensedGoogLeNet/save/Assign_53' type=Assign>,\n",
       " <tf.Operation 'CondensedGoogLeNet/save/Assign_54' type=Assign>,\n",
       " <tf.Operation 'CondensedGoogLeNet/save/Assign_55' type=Assign>,\n",
       " <tf.Operation 'CondensedGoogLeNet/save/Assign_56' type=Assign>,\n",
       " <tf.Operation 'CondensedGoogLeNet/save/Assign_57' type=Assign>,\n",
       " <tf.Operation 'CondensedGoogLeNet/save/Assign_58' type=Assign>,\n",
       " <tf.Operation 'CondensedGoogLeNet/save/Assign_59' type=Assign>,\n",
       " <tf.Operation 'CondensedGoogLeNet/save/Assign_60' type=Assign>,\n",
       " <tf.Operation 'CondensedGoogLeNet/save/Assign_61' type=Assign>,\n",
       " <tf.Operation 'CondensedGoogLeNet/save/Assign_62' type=Assign>,\n",
       " <tf.Operation 'CondensedGoogLeNet/save/Assign_63' type=Assign>,\n",
       " <tf.Operation 'CondensedGoogLeNet/save/Assign_64' type=Assign>,\n",
       " <tf.Operation 'CondensedGoogLeNet/save/Assign_65' type=Assign>,\n",
       " <tf.Operation 'CondensedGoogLeNet/save/Assign_66' type=Assign>,\n",
       " <tf.Operation 'CondensedGoogLeNet/save/Assign_67' type=Assign>,\n",
       " <tf.Operation 'CondensedGoogLeNet/save/Assign_68' type=Assign>,\n",
       " <tf.Operation 'CondensedGoogLeNet/save/Assign_69' type=Assign>,\n",
       " <tf.Operation 'CondensedGoogLeNet/save/Assign_70' type=Assign>,\n",
       " <tf.Operation 'CondensedGoogLeNet/save/Assign_71' type=Assign>,\n",
       " <tf.Operation 'CondensedGoogLeNet/save/Assign_72' type=Assign>,\n",
       " <tf.Operation 'CondensedGoogLeNet/save/Assign_73' type=Assign>,\n",
       " <tf.Operation 'CondensedGoogLeNet/save/Assign_74' type=Assign>,\n",
       " <tf.Operation 'CondensedGoogLeNet/save/Assign_75' type=Assign>,\n",
       " <tf.Operation 'CondensedGoogLeNet/save/Assign_76' type=Assign>,\n",
       " <tf.Operation 'CondensedGoogLeNet/save/Assign_77' type=Assign>,\n",
       " <tf.Operation 'CondensedGoogLeNet/save/Assign_78' type=Assign>,\n",
       " <tf.Operation 'CondensedGoogLeNet/save/Assign_79' type=Assign>,\n",
       " <tf.Operation 'CondensedGoogLeNet/save/Assign_80' type=Assign>,\n",
       " <tf.Operation 'CondensedGoogLeNet/save/Assign_81' type=Assign>,\n",
       " <tf.Operation 'CondensedGoogLeNet/save/Assign_82' type=Assign>,\n",
       " <tf.Operation 'CondensedGoogLeNet/save/Assign_83' type=Assign>,\n",
       " <tf.Operation 'CondensedGoogLeNet/save/Assign_84' type=Assign>,\n",
       " <tf.Operation 'CondensedGoogLeNet/save/Assign_85' type=Assign>,\n",
       " <tf.Operation 'CondensedGoogLeNet/save/Assign_86' type=Assign>,\n",
       " <tf.Operation 'CondensedGoogLeNet/save/Assign_87' type=Assign>,\n",
       " <tf.Operation 'CondensedGoogLeNet/save/Assign_88' type=Assign>,\n",
       " <tf.Operation 'CondensedGoogLeNet/save/Assign_89' type=Assign>,\n",
       " <tf.Operation 'CondensedGoogLeNet/save/Assign_90' type=Assign>,\n",
       " <tf.Operation 'CondensedGoogLeNet/save/Assign_91' type=Assign>,\n",
       " <tf.Operation 'CondensedGoogLeNet/save/Assign_92' type=Assign>,\n",
       " <tf.Operation 'CondensedGoogLeNet/save/Assign_93' type=Assign>,\n",
       " <tf.Operation 'CondensedGoogLeNet/save/Assign_94' type=Assign>,\n",
       " <tf.Operation 'CondensedGoogLeNet/save/Assign_95' type=Assign>,\n",
       " <tf.Operation 'CondensedGoogLeNet/save/Assign_96' type=Assign>,\n",
       " <tf.Operation 'CondensedGoogLeNet/save/Assign_97' type=Assign>,\n",
       " <tf.Operation 'CondensedGoogLeNet/save/Assign_98' type=Assign>,\n",
       " <tf.Operation 'CondensedGoogLeNet/save/Assign_99' type=Assign>,\n",
       " <tf.Operation 'CondensedGoogLeNet/save/Assign_100' type=Assign>,\n",
       " <tf.Operation 'CondensedGoogLeNet/save/Assign_101' type=Assign>,\n",
       " <tf.Operation 'CondensedGoogLeNet/save/Assign_102' type=Assign>,\n",
       " <tf.Operation 'CondensedGoogLeNet/save/Assign_103' type=Assign>,\n",
       " <tf.Operation 'CondensedGoogLeNet/save/Assign_104' type=Assign>,\n",
       " <tf.Operation 'CondensedGoogLeNet/save/Assign_105' type=Assign>,\n",
       " <tf.Operation 'CondensedGoogLeNet/save/Assign_106' type=Assign>,\n",
       " <tf.Operation 'CondensedGoogLeNet/save/Assign_107' type=Assign>,\n",
       " <tf.Operation 'CondensedGoogLeNet/save/Assign_108' type=Assign>,\n",
       " <tf.Operation 'CondensedGoogLeNet/save/Assign_109' type=Assign>,\n",
       " <tf.Operation 'CondensedGoogLeNet/save/Assign_110' type=Assign>,\n",
       " <tf.Operation 'CondensedGoogLeNet/save/restore_all' type=NoOp>,\n",
       " <tf.Operation 'CondensedGoogLeNet/x_1' type=Placeholder>,\n",
       " <tf.Operation 'CondensedGoogLeNet/y_1' type=Placeholder>,\n",
       " <tf.Operation 'CondensedGoogLeNet/conv1_conv/convolution/weights/Initializer/random_uniform/shape_1' type=Const>,\n",
       " <tf.Operation 'CondensedGoogLeNet/conv1_conv/convolution/weights/Initializer/random_uniform/min_1' type=Const>,\n",
       " <tf.Operation 'CondensedGoogLeNet/conv1_conv/convolution/weights/Initializer/random_uniform/max_1' type=Const>,\n",
       " <tf.Operation 'CondensedGoogLeNet/conv1_conv/convolution/weights/Initializer/random_uniform/RandomUniform_1' type=RandomUniform>,\n",
       " <tf.Operation 'CondensedGoogLeNet/conv1_conv/convolution/weights/Initializer/random_uniform/sub_1' type=Sub>,\n",
       " <tf.Operation 'CondensedGoogLeNet/conv1_conv/convolution/weights/Initializer/random_uniform/mul_1' type=Mul>,\n",
       " <tf.Operation 'CondensedGoogLeNet/conv1_conv/convolution/weights/Initializer/random_uniform_1' type=Add>,\n",
       " <tf.Operation 'CondensedGoogLeNet/conv1_conv/convolution/weights_1' type=VariableV2>,\n",
       " <tf.Operation 'CondensedGoogLeNet/conv1_conv/convolution/weights/Assign_1' type=Assign>,\n",
       " <tf.Operation 'CondensedGoogLeNet/conv1_conv/convolution/weights/read_1' type=Identity>,\n",
       " <tf.Operation 'CondensedGoogLeNet/conv1_conv/convolution/biases/Initializer/Const_1' type=Const>,\n",
       " <tf.Operation 'CondensedGoogLeNet/conv1_conv/convolution/biases_1' type=VariableV2>,\n",
       " <tf.Operation 'CondensedGoogLeNet/conv1_conv/convolution/biases/Assign_1' type=Assign>,\n",
       " <tf.Operation 'CondensedGoogLeNet/conv1_conv/convolution/biases/read_1' type=Identity>,\n",
       " <tf.Operation 'CondensedGoogLeNet/conv1_conv/convolution/conv_1' type=Conv2D>,\n",
       " <tf.Operation 'CondensedGoogLeNet/conv1_conv/convolution/bias_add_1' type=BiasAdd>,\n",
       " <tf.Operation 'CondensedGoogLeNet/conv1_conv/convolution/activation_func_1' type=Tanh>,\n",
       " <tf.Operation 'CondensedGoogLeNet/conv1_maxP_1' type=MaxPool>,\n",
       " <tf.Operation 'CondensedGoogLeNet/conv2_conv/convolution/weights/Initializer/random_uniform/shape_1' type=Const>,\n",
       " <tf.Operation 'CondensedGoogLeNet/conv2_conv/convolution/weights/Initializer/random_uniform/min_1' type=Const>,\n",
       " <tf.Operation 'CondensedGoogLeNet/conv2_conv/convolution/weights/Initializer/random_uniform/max_1' type=Const>,\n",
       " <tf.Operation 'CondensedGoogLeNet/conv2_conv/convolution/weights/Initializer/random_uniform/RandomUniform_1' type=RandomUniform>,\n",
       " <tf.Operation 'CondensedGoogLeNet/conv2_conv/convolution/weights/Initializer/random_uniform/sub_1' type=Sub>,\n",
       " <tf.Operation 'CondensedGoogLeNet/conv2_conv/convolution/weights/Initializer/random_uniform/mul_1' type=Mul>,\n",
       " <tf.Operation 'CondensedGoogLeNet/conv2_conv/convolution/weights/Initializer/random_uniform_1' type=Add>,\n",
       " <tf.Operation 'CondensedGoogLeNet/conv2_conv/convolution/weights_1' type=VariableV2>,\n",
       " <tf.Operation 'CondensedGoogLeNet/conv2_conv/convolution/weights/Assign_1' type=Assign>,\n",
       " <tf.Operation 'CondensedGoogLeNet/conv2_conv/convolution/weights/read_1' type=Identity>,\n",
       " <tf.Operation 'CondensedGoogLeNet/conv2_conv/convolution/biases/Initializer/Const_1' type=Const>,\n",
       " <tf.Operation 'CondensedGoogLeNet/conv2_conv/convolution/biases_1' type=VariableV2>,\n",
       " <tf.Operation 'CondensedGoogLeNet/conv2_conv/convolution/biases/Assign_1' type=Assign>,\n",
       " <tf.Operation 'CondensedGoogLeNet/conv2_conv/convolution/biases/read_1' type=Identity>,\n",
       " <tf.Operation 'CondensedGoogLeNet/conv2_conv/convolution/conv_1' type=Conv2D>,\n",
       " <tf.Operation 'CondensedGoogLeNet/conv2_conv/convolution/bias_add_1' type=BiasAdd>,\n",
       " <tf.Operation 'CondensedGoogLeNet/conv2_conv/convolution/activation_func_1' type=Tanh>,\n",
       " <tf.Operation 'CondensedGoogLeNet/conv2_maxP_1' type=MaxPool>,\n",
       " <tf.Operation 'CondensedGoogLeNet/inception1/1x1_conv/convolution/weights/Initializer/random_uniform/shape_1' type=Const>,\n",
       " <tf.Operation 'CondensedGoogLeNet/inception1/1x1_conv/convolution/weights/Initializer/random_uniform/min_1' type=Const>,\n",
       " <tf.Operation 'CondensedGoogLeNet/inception1/1x1_conv/convolution/weights/Initializer/random_uniform/max_1' type=Const>,\n",
       " <tf.Operation 'CondensedGoogLeNet/inception1/1x1_conv/convolution/weights/Initializer/random_uniform/RandomUniform_1' type=RandomUniform>,\n",
       " <tf.Operation 'CondensedGoogLeNet/inception1/1x1_conv/convolution/weights/Initializer/random_uniform/sub_1' type=Sub>,\n",
       " <tf.Operation 'CondensedGoogLeNet/inception1/1x1_conv/convolution/weights/Initializer/random_uniform/mul_1' type=Mul>,\n",
       " <tf.Operation 'CondensedGoogLeNet/inception1/1x1_conv/convolution/weights/Initializer/random_uniform_1' type=Add>,\n",
       " <tf.Operation 'CondensedGoogLeNet/inception1/1x1_conv/convolution/weights_1' type=VariableV2>,\n",
       " <tf.Operation 'CondensedGoogLeNet/inception1/1x1_conv/convolution/weights/Assign_1' type=Assign>,\n",
       " <tf.Operation 'CondensedGoogLeNet/inception1/1x1_conv/convolution/weights/read_1' type=Identity>,\n",
       " <tf.Operation 'CondensedGoogLeNet/inception1/1x1_conv/convolution/biases/Initializer/Const_1' type=Const>,\n",
       " <tf.Operation 'CondensedGoogLeNet/inception1/1x1_conv/convolution/biases_1' type=VariableV2>,\n",
       " <tf.Operation 'CondensedGoogLeNet/inception1/1x1_conv/convolution/biases/Assign_1' type=Assign>,\n",
       " <tf.Operation 'CondensedGoogLeNet/inception1/1x1_conv/convolution/biases/read_1' type=Identity>,\n",
       " <tf.Operation 'CondensedGoogLeNet/inception1/1x1_conv/convolution/conv_1' type=Conv2D>,\n",
       " <tf.Operation 'CondensedGoogLeNet/inception1/1x1_conv/convolution/bias_add_1' type=BiasAdd>,\n",
       " <tf.Operation 'CondensedGoogLeNet/inception1/1x1_conv/convolution/activation_func_1' type=Tanh>,\n",
       " <tf.Operation 'CondensedGoogLeNet/inception1/3x3_conv1/pre_convolution/weights_pre/Initializer/random_uniform/shape_1' type=Const>,\n",
       " <tf.Operation 'CondensedGoogLeNet/inception1/3x3_conv1/pre_convolution/weights_pre/Initializer/random_uniform/min_1' type=Const>,\n",
       " <tf.Operation 'CondensedGoogLeNet/inception1/3x3_conv1/pre_convolution/weights_pre/Initializer/random_uniform/max_1' type=Const>,\n",
       " <tf.Operation 'CondensedGoogLeNet/inception1/3x3_conv1/pre_convolution/weights_pre/Initializer/random_uniform/RandomUniform_1' type=RandomUniform>,\n",
       " <tf.Operation 'CondensedGoogLeNet/inception1/3x3_conv1/pre_convolution/weights_pre/Initializer/random_uniform/sub_1' type=Sub>,\n",
       " <tf.Operation 'CondensedGoogLeNet/inception1/3x3_conv1/pre_convolution/weights_pre/Initializer/random_uniform/mul_1' type=Mul>,\n",
       " <tf.Operation 'CondensedGoogLeNet/inception1/3x3_conv1/pre_convolution/weights_pre/Initializer/random_uniform_1' type=Add>,\n",
       " <tf.Operation 'CondensedGoogLeNet/inception1/3x3_conv1/pre_convolution/weights_pre_1' type=VariableV2>,\n",
       " <tf.Operation 'CondensedGoogLeNet/inception1/3x3_conv1/pre_convolution/weights_pre/Assign_1' type=Assign>,\n",
       " <tf.Operation 'CondensedGoogLeNet/inception1/3x3_conv1/pre_convolution/weights_pre/read_1' type=Identity>,\n",
       " <tf.Operation 'CondensedGoogLeNet/inception1/3x3_conv1/pre_convolution/conv_1' type=Conv2D>,\n",
       " <tf.Operation 'CondensedGoogLeNet/inception1/3x3_conv1/convolution/weights/Initializer/random_uniform/shape_1' type=Const>,\n",
       " <tf.Operation 'CondensedGoogLeNet/inception1/3x3_conv1/convolution/weights/Initializer/random_uniform/min_1' type=Const>,\n",
       " <tf.Operation 'CondensedGoogLeNet/inception1/3x3_conv1/convolution/weights/Initializer/random_uniform/max_1' type=Const>,\n",
       " <tf.Operation 'CondensedGoogLeNet/inception1/3x3_conv1/convolution/weights/Initializer/random_uniform/RandomUniform_1' type=RandomUniform>,\n",
       " <tf.Operation 'CondensedGoogLeNet/inception1/3x3_conv1/convolution/weights/Initializer/random_uniform/sub_1' type=Sub>,\n",
       " <tf.Operation 'CondensedGoogLeNet/inception1/3x3_conv1/convolution/weights/Initializer/random_uniform/mul_1' type=Mul>,\n",
       " <tf.Operation 'CondensedGoogLeNet/inception1/3x3_conv1/convolution/weights/Initializer/random_uniform_1' type=Add>,\n",
       " <tf.Operation 'CondensedGoogLeNet/inception1/3x3_conv1/convolution/weights_1' type=VariableV2>,\n",
       " <tf.Operation 'CondensedGoogLeNet/inception1/3x3_conv1/convolution/weights/Assign_1' type=Assign>,\n",
       " <tf.Operation 'CondensedGoogLeNet/inception1/3x3_conv1/convolution/weights/read_1' type=Identity>,\n",
       " <tf.Operation 'CondensedGoogLeNet/inception1/3x3_conv1/convolution/biases/Initializer/Const_1' type=Const>,\n",
       " <tf.Operation 'CondensedGoogLeNet/inception1/3x3_conv1/convolution/biases_1' type=VariableV2>,\n",
       " <tf.Operation 'CondensedGoogLeNet/inception1/3x3_conv1/convolution/biases/Assign_1' type=Assign>,\n",
       " <tf.Operation 'CondensedGoogLeNet/inception1/3x3_conv1/convolution/biases/read_1' type=Identity>,\n",
       " <tf.Operation 'CondensedGoogLeNet/inception1/3x3_conv1/convolution/conv_1' type=Conv2D>,\n",
       " <tf.Operation 'CondensedGoogLeNet/inception1/3x3_conv1/convolution/bias_add_1' type=BiasAdd>,\n",
       " <tf.Operation 'CondensedGoogLeNet/inception1/3x3_conv1/convolution/activation_func_1' type=Tanh>,\n",
       " <tf.Operation 'CondensedGoogLeNet/inception1/5x5_conv1/pre_convolution/weights_pre/Initializer/random_uniform/shape_1' type=Const>,\n",
       " <tf.Operation 'CondensedGoogLeNet/inception1/5x5_conv1/pre_convolution/weights_pre/Initializer/random_uniform/min_1' type=Const>,\n",
       " <tf.Operation 'CondensedGoogLeNet/inception1/5x5_conv1/pre_convolution/weights_pre/Initializer/random_uniform/max_1' type=Const>,\n",
       " <tf.Operation 'CondensedGoogLeNet/inception1/5x5_conv1/pre_convolution/weights_pre/Initializer/random_uniform/RandomUniform_1' type=RandomUniform>,\n",
       " <tf.Operation 'CondensedGoogLeNet/inception1/5x5_conv1/pre_convolution/weights_pre/Initializer/random_uniform/sub_1' type=Sub>,\n",
       " <tf.Operation 'CondensedGoogLeNet/inception1/5x5_conv1/pre_convolution/weights_pre/Initializer/random_uniform/mul_1' type=Mul>,\n",
       " <tf.Operation 'CondensedGoogLeNet/inception1/5x5_conv1/pre_convolution/weights_pre/Initializer/random_uniform_1' type=Add>,\n",
       " <tf.Operation 'CondensedGoogLeNet/inception1/5x5_conv1/pre_convolution/weights_pre_1' type=VariableV2>,\n",
       " <tf.Operation 'CondensedGoogLeNet/inception1/5x5_conv1/pre_convolution/weights_pre/Assign_1' type=Assign>,\n",
       " <tf.Operation 'CondensedGoogLeNet/inception1/5x5_conv1/pre_convolution/weights_pre/read_1' type=Identity>,\n",
       " <tf.Operation 'CondensedGoogLeNet/inception1/5x5_conv1/pre_convolution/conv_1' type=Conv2D>,\n",
       " <tf.Operation 'CondensedGoogLeNet/inception1/5x5_conv1/convolution/weights/Initializer/random_uniform/shape_1' type=Const>,\n",
       " <tf.Operation 'CondensedGoogLeNet/inception1/5x5_conv1/convolution/weights/Initializer/random_uniform/min_1' type=Const>,\n",
       " <tf.Operation 'CondensedGoogLeNet/inception1/5x5_conv1/convolution/weights/Initializer/random_uniform/max_1' type=Const>,\n",
       " <tf.Operation 'CondensedGoogLeNet/inception1/5x5_conv1/convolution/weights/Initializer/random_uniform/RandomUniform_1' type=RandomUniform>,\n",
       " <tf.Operation 'CondensedGoogLeNet/inception1/5x5_conv1/convolution/weights/Initializer/random_uniform/sub_1' type=Sub>,\n",
       " <tf.Operation 'CondensedGoogLeNet/inception1/5x5_conv1/convolution/weights/Initializer/random_uniform/mul_1' type=Mul>,\n",
       " <tf.Operation 'CondensedGoogLeNet/inception1/5x5_conv1/convolution/weights/Initializer/random_uniform_1' type=Add>,\n",
       " <tf.Operation 'CondensedGoogLeNet/inception1/5x5_conv1/convolution/weights_1' type=VariableV2>,\n",
       " <tf.Operation 'CondensedGoogLeNet/inception1/5x5_conv1/convolution/weights/Assign_1' type=Assign>,\n",
       " <tf.Operation 'CondensedGoogLeNet/inception1/5x5_conv1/convolution/weights/read_1' type=Identity>,\n",
       " <tf.Operation 'CondensedGoogLeNet/inception1/5x5_conv1/convolution/biases/Initializer/Const_1' type=Const>,\n",
       " <tf.Operation 'CondensedGoogLeNet/inception1/5x5_conv1/convolution/biases_1' type=VariableV2>,\n",
       " <tf.Operation 'CondensedGoogLeNet/inception1/5x5_conv1/convolution/biases/Assign_1' type=Assign>,\n",
       " <tf.Operation 'CondensedGoogLeNet/inception1/5x5_conv1/convolution/biases/read_1' type=Identity>,\n",
       " <tf.Operation 'CondensedGoogLeNet/inception1/5x5_conv1/convolution/conv_1' type=Conv2D>,\n",
       " <tf.Operation 'CondensedGoogLeNet/inception1/5x5_conv1/convolution/bias_add_1' type=BiasAdd>,\n",
       " <tf.Operation 'CondensedGoogLeNet/inception1/5x5_conv1/convolution/activation_func_1' type=Tanh>,\n",
       " <tf.Operation 'CondensedGoogLeNet/inception1/pooling1_1' type=MaxPool>,\n",
       " <tf.Operation 'CondensedGoogLeNet/inception1/pooling1_conv/convolution/weights/Initializer/random_uniform/shape_1' type=Const>,\n",
       " <tf.Operation 'CondensedGoogLeNet/inception1/pooling1_conv/convolution/weights/Initializer/random_uniform/min_1' type=Const>,\n",
       " <tf.Operation 'CondensedGoogLeNet/inception1/pooling1_conv/convolution/weights/Initializer/random_uniform/max_1' type=Const>,\n",
       " <tf.Operation 'CondensedGoogLeNet/inception1/pooling1_conv/convolution/weights/Initializer/random_uniform/RandomUniform_1' type=RandomUniform>,\n",
       " <tf.Operation 'CondensedGoogLeNet/inception1/pooling1_conv/convolution/weights/Initializer/random_uniform/sub_1' type=Sub>,\n",
       " <tf.Operation 'CondensedGoogLeNet/inception1/pooling1_conv/convolution/weights/Initializer/random_uniform/mul_1' type=Mul>,\n",
       " <tf.Operation 'CondensedGoogLeNet/inception1/pooling1_conv/convolution/weights/Initializer/random_uniform_1' type=Add>,\n",
       " <tf.Operation 'CondensedGoogLeNet/inception1/pooling1_conv/convolution/weights_1' type=VariableV2>,\n",
       " <tf.Operation 'CondensedGoogLeNet/inception1/pooling1_conv/convolution/weights/Assign_1' type=Assign>,\n",
       " <tf.Operation 'CondensedGoogLeNet/inception1/pooling1_conv/convolution/weights/read_1' type=Identity>,\n",
       " <tf.Operation 'CondensedGoogLeNet/inception1/pooling1_conv/convolution/biases/Initializer/Const_1' type=Const>,\n",
       " <tf.Operation 'CondensedGoogLeNet/inception1/pooling1_conv/convolution/biases_1' type=VariableV2>,\n",
       " <tf.Operation 'CondensedGoogLeNet/inception1/pooling1_conv/convolution/biases/Assign_1' type=Assign>,\n",
       " <tf.Operation 'CondensedGoogLeNet/inception1/pooling1_conv/convolution/biases/read_1' type=Identity>,\n",
       " <tf.Operation 'CondensedGoogLeNet/inception1/pooling1_conv/convolution/conv_1' type=Conv2D>,\n",
       " <tf.Operation 'CondensedGoogLeNet/inception1/pooling1_conv/convolution/bias_add_1' type=BiasAdd>,\n",
       " <tf.Operation 'CondensedGoogLeNet/inception1/pooling1_conv/convolution/activation_func_1' type=Tanh>,\n",
       " <tf.Operation 'CondensedGoogLeNet/inception1/concat/axis_1' type=Const>,\n",
       " <tf.Operation 'CondensedGoogLeNet/inception1/concat_1' type=ConcatV2>,\n",
       " <tf.Operation 'CondensedGoogLeNet/inception1/Tanh_1' type=Tanh>,\n",
       " <tf.Operation 'CondensedGoogLeNet/inception1_maxP_1' type=MaxPool>,\n",
       " <tf.Operation 'CondensedGoogLeNet/inception2/1x1_conv/convolution/weights/Initializer/random_uniform/shape_1' type=Const>,\n",
       " <tf.Operation 'CondensedGoogLeNet/inception2/1x1_conv/convolution/weights/Initializer/random_uniform/min_1' type=Const>,\n",
       " <tf.Operation 'CondensedGoogLeNet/inception2/1x1_conv/convolution/weights/Initializer/random_uniform/max_1' type=Const>,\n",
       " <tf.Operation 'CondensedGoogLeNet/inception2/1x1_conv/convolution/weights/Initializer/random_uniform/RandomUniform_1' type=RandomUniform>,\n",
       " <tf.Operation 'CondensedGoogLeNet/inception2/1x1_conv/convolution/weights/Initializer/random_uniform/sub_1' type=Sub>,\n",
       " <tf.Operation 'CondensedGoogLeNet/inception2/1x1_conv/convolution/weights/Initializer/random_uniform/mul_1' type=Mul>,\n",
       " <tf.Operation 'CondensedGoogLeNet/inception2/1x1_conv/convolution/weights/Initializer/random_uniform_1' type=Add>,\n",
       " <tf.Operation 'CondensedGoogLeNet/inception2/1x1_conv/convolution/weights_1' type=VariableV2>,\n",
       " <tf.Operation 'CondensedGoogLeNet/inception2/1x1_conv/convolution/weights/Assign_1' type=Assign>,\n",
       " <tf.Operation 'CondensedGoogLeNet/inception2/1x1_conv/convolution/weights/read_1' type=Identity>,\n",
       " <tf.Operation 'CondensedGoogLeNet/inception2/1x1_conv/convolution/biases/Initializer/Const_1' type=Const>,\n",
       " <tf.Operation 'CondensedGoogLeNet/inception2/1x1_conv/convolution/biases_1' type=VariableV2>,\n",
       " <tf.Operation 'CondensedGoogLeNet/inception2/1x1_conv/convolution/biases/Assign_1' type=Assign>,\n",
       " <tf.Operation 'CondensedGoogLeNet/inception2/1x1_conv/convolution/biases/read_1' type=Identity>,\n",
       " <tf.Operation 'CondensedGoogLeNet/inception2/1x1_conv/convolution/conv_1' type=Conv2D>,\n",
       " <tf.Operation 'CondensedGoogLeNet/inception2/1x1_conv/convolution/bias_add_1' type=BiasAdd>,\n",
       " <tf.Operation 'CondensedGoogLeNet/inception2/1x1_conv/convolution/activation_func_1' type=Tanh>,\n",
       " <tf.Operation 'CondensedGoogLeNet/inception2/3x3_conv1/pre_convolution/weights_pre/Initializer/random_uniform/shape_1' type=Const>,\n",
       " <tf.Operation 'CondensedGoogLeNet/inception2/3x3_conv1/pre_convolution/weights_pre/Initializer/random_uniform/min_1' type=Const>,\n",
       " <tf.Operation 'CondensedGoogLeNet/inception2/3x3_conv1/pre_convolution/weights_pre/Initializer/random_uniform/max_1' type=Const>,\n",
       " <tf.Operation 'CondensedGoogLeNet/inception2/3x3_conv1/pre_convolution/weights_pre/Initializer/random_uniform/RandomUniform_1' type=RandomUniform>,\n",
       " <tf.Operation 'CondensedGoogLeNet/inception2/3x3_conv1/pre_convolution/weights_pre/Initializer/random_uniform/sub_1' type=Sub>,\n",
       " <tf.Operation 'CondensedGoogLeNet/inception2/3x3_conv1/pre_convolution/weights_pre/Initializer/random_uniform/mul_1' type=Mul>,\n",
       " <tf.Operation 'CondensedGoogLeNet/inception2/3x3_conv1/pre_convolution/weights_pre/Initializer/random_uniform_1' type=Add>,\n",
       " <tf.Operation 'CondensedGoogLeNet/inception2/3x3_conv1/pre_convolution/weights_pre_1' type=VariableV2>,\n",
       " <tf.Operation 'CondensedGoogLeNet/inception2/3x3_conv1/pre_convolution/weights_pre/Assign_1' type=Assign>,\n",
       " <tf.Operation 'CondensedGoogLeNet/inception2/3x3_conv1/pre_convolution/weights_pre/read_1' type=Identity>,\n",
       " <tf.Operation 'CondensedGoogLeNet/inception2/3x3_conv1/pre_convolution/conv_1' type=Conv2D>,\n",
       " <tf.Operation 'CondensedGoogLeNet/inception2/3x3_conv1/convolution/weights/Initializer/random_uniform/shape_1' type=Const>,\n",
       " <tf.Operation 'CondensedGoogLeNet/inception2/3x3_conv1/convolution/weights/Initializer/random_uniform/min_1' type=Const>,\n",
       " <tf.Operation 'CondensedGoogLeNet/inception2/3x3_conv1/convolution/weights/Initializer/random_uniform/max_1' type=Const>,\n",
       " <tf.Operation 'CondensedGoogLeNet/inception2/3x3_conv1/convolution/weights/Initializer/random_uniform/RandomUniform_1' type=RandomUniform>,\n",
       " <tf.Operation 'CondensedGoogLeNet/inception2/3x3_conv1/convolution/weights/Initializer/random_uniform/sub_1' type=Sub>,\n",
       " <tf.Operation 'CondensedGoogLeNet/inception2/3x3_conv1/convolution/weights/Initializer/random_uniform/mul_1' type=Mul>,\n",
       " <tf.Operation 'CondensedGoogLeNet/inception2/3x3_conv1/convolution/weights/Initializer/random_uniform_1' type=Add>,\n",
       " <tf.Operation 'CondensedGoogLeNet/inception2/3x3_conv1/convolution/weights_1' type=VariableV2>,\n",
       " <tf.Operation 'CondensedGoogLeNet/inception2/3x3_conv1/convolution/weights/Assign_1' type=Assign>,\n",
       " <tf.Operation 'CondensedGoogLeNet/inception2/3x3_conv1/convolution/weights/read_1' type=Identity>,\n",
       " <tf.Operation 'CondensedGoogLeNet/inception2/3x3_conv1/convolution/biases/Initializer/Const_1' type=Const>,\n",
       " <tf.Operation 'CondensedGoogLeNet/inception2/3x3_conv1/convolution/biases_1' type=VariableV2>,\n",
       " <tf.Operation 'CondensedGoogLeNet/inception2/3x3_conv1/convolution/biases/Assign_1' type=Assign>,\n",
       " <tf.Operation 'CondensedGoogLeNet/inception2/3x3_conv1/convolution/biases/read_1' type=Identity>,\n",
       " <tf.Operation 'CondensedGoogLeNet/inception2/3x3_conv1/convolution/conv_1' type=Conv2D>,\n",
       " <tf.Operation 'CondensedGoogLeNet/inception2/3x3_conv1/convolution/bias_add_1' type=BiasAdd>,\n",
       " <tf.Operation 'CondensedGoogLeNet/inception2/3x3_conv1/convolution/activation_func_1' type=Tanh>,\n",
       " <tf.Operation 'CondensedGoogLeNet/inception2/5x5_conv1/pre_convolution/weights_pre/Initializer/random_uniform/shape_1' type=Const>,\n",
       " <tf.Operation 'CondensedGoogLeNet/inception2/5x5_conv1/pre_convolution/weights_pre/Initializer/random_uniform/min_1' type=Const>,\n",
       " <tf.Operation 'CondensedGoogLeNet/inception2/5x5_conv1/pre_convolution/weights_pre/Initializer/random_uniform/max_1' type=Const>,\n",
       " <tf.Operation 'CondensedGoogLeNet/inception2/5x5_conv1/pre_convolution/weights_pre/Initializer/random_uniform/RandomUniform_1' type=RandomUniform>,\n",
       " <tf.Operation 'CondensedGoogLeNet/inception2/5x5_conv1/pre_convolution/weights_pre/Initializer/random_uniform/sub_1' type=Sub>,\n",
       " <tf.Operation 'CondensedGoogLeNet/inception2/5x5_conv1/pre_convolution/weights_pre/Initializer/random_uniform/mul_1' type=Mul>,\n",
       " <tf.Operation 'CondensedGoogLeNet/inception2/5x5_conv1/pre_convolution/weights_pre/Initializer/random_uniform_1' type=Add>,\n",
       " <tf.Operation 'CondensedGoogLeNet/inception2/5x5_conv1/pre_convolution/weights_pre_1' type=VariableV2>,\n",
       " <tf.Operation 'CondensedGoogLeNet/inception2/5x5_conv1/pre_convolution/weights_pre/Assign_1' type=Assign>,\n",
       " <tf.Operation 'CondensedGoogLeNet/inception2/5x5_conv1/pre_convolution/weights_pre/read_1' type=Identity>,\n",
       " <tf.Operation 'CondensedGoogLeNet/inception2/5x5_conv1/pre_convolution/conv_1' type=Conv2D>,\n",
       " <tf.Operation 'CondensedGoogLeNet/inception2/5x5_conv1/convolution/weights/Initializer/random_uniform/shape_1' type=Const>,\n",
       " <tf.Operation 'CondensedGoogLeNet/inception2/5x5_conv1/convolution/weights/Initializer/random_uniform/min_1' type=Const>,\n",
       " <tf.Operation 'CondensedGoogLeNet/inception2/5x5_conv1/convolution/weights/Initializer/random_uniform/max_1' type=Const>,\n",
       " <tf.Operation 'CondensedGoogLeNet/inception2/5x5_conv1/convolution/weights/Initializer/random_uniform/RandomUniform_1' type=RandomUniform>,\n",
       " <tf.Operation 'CondensedGoogLeNet/inception2/5x5_conv1/convolution/weights/Initializer/random_uniform/sub_1' type=Sub>,\n",
       " <tf.Operation 'CondensedGoogLeNet/inception2/5x5_conv1/convolution/weights/Initializer/random_uniform/mul_1' type=Mul>,\n",
       " <tf.Operation 'CondensedGoogLeNet/inception2/5x5_conv1/convolution/weights/Initializer/random_uniform_1' type=Add>,\n",
       " <tf.Operation 'CondensedGoogLeNet/inception2/5x5_conv1/convolution/weights_1' type=VariableV2>,\n",
       " <tf.Operation 'CondensedGoogLeNet/inception2/5x5_conv1/convolution/weights/Assign_1' type=Assign>,\n",
       " <tf.Operation 'CondensedGoogLeNet/inception2/5x5_conv1/convolution/weights/read_1' type=Identity>,\n",
       " <tf.Operation 'CondensedGoogLeNet/inception2/5x5_conv1/convolution/biases/Initializer/Const_1' type=Const>,\n",
       " <tf.Operation 'CondensedGoogLeNet/inception2/5x5_conv1/convolution/biases_1' type=VariableV2>,\n",
       " <tf.Operation 'CondensedGoogLeNet/inception2/5x5_conv1/convolution/biases/Assign_1' type=Assign>,\n",
       " <tf.Operation 'CondensedGoogLeNet/inception2/5x5_conv1/convolution/biases/read_1' type=Identity>,\n",
       " <tf.Operation 'CondensedGoogLeNet/inception2/5x5_conv1/convolution/conv_1' type=Conv2D>,\n",
       " <tf.Operation 'CondensedGoogLeNet/inception2/5x5_conv1/convolution/bias_add_1' type=BiasAdd>,\n",
       " <tf.Operation 'CondensedGoogLeNet/inception2/5x5_conv1/convolution/activation_func_1' type=Tanh>,\n",
       " <tf.Operation 'CondensedGoogLeNet/inception2/pooling1_1' type=MaxPool>,\n",
       " <tf.Operation 'CondensedGoogLeNet/inception2/pooling1_conv/convolution/weights/Initializer/random_uniform/shape_1' type=Const>,\n",
       " <tf.Operation 'CondensedGoogLeNet/inception2/pooling1_conv/convolution/weights/Initializer/random_uniform/min_1' type=Const>,\n",
       " <tf.Operation 'CondensedGoogLeNet/inception2/pooling1_conv/convolution/weights/Initializer/random_uniform/max_1' type=Const>,\n",
       " <tf.Operation 'CondensedGoogLeNet/inception2/pooling1_conv/convolution/weights/Initializer/random_uniform/RandomUniform_1' type=RandomUniform>,\n",
       " <tf.Operation 'CondensedGoogLeNet/inception2/pooling1_conv/convolution/weights/Initializer/random_uniform/sub_1' type=Sub>,\n",
       " <tf.Operation 'CondensedGoogLeNet/inception2/pooling1_conv/convolution/weights/Initializer/random_uniform/mul_1' type=Mul>,\n",
       " <tf.Operation 'CondensedGoogLeNet/inception2/pooling1_conv/convolution/weights/Initializer/random_uniform_1' type=Add>,\n",
       " <tf.Operation 'CondensedGoogLeNet/inception2/pooling1_conv/convolution/weights_1' type=VariableV2>,\n",
       " <tf.Operation 'CondensedGoogLeNet/inception2/pooling1_conv/convolution/weights/Assign_1' type=Assign>,\n",
       " <tf.Operation 'CondensedGoogLeNet/inception2/pooling1_conv/convolution/weights/read_1' type=Identity>,\n",
       " <tf.Operation 'CondensedGoogLeNet/inception2/pooling1_conv/convolution/biases/Initializer/Const_1' type=Const>,\n",
       " <tf.Operation 'CondensedGoogLeNet/inception2/pooling1_conv/convolution/biases_1' type=VariableV2>,\n",
       " <tf.Operation 'CondensedGoogLeNet/inception2/pooling1_conv/convolution/biases/Assign_1' type=Assign>,\n",
       " <tf.Operation 'CondensedGoogLeNet/inception2/pooling1_conv/convolution/biases/read_1' type=Identity>,\n",
       " <tf.Operation 'CondensedGoogLeNet/inception2/pooling1_conv/convolution/conv_1' type=Conv2D>,\n",
       " <tf.Operation 'CondensedGoogLeNet/inception2/pooling1_conv/convolution/bias_add_1' type=BiasAdd>,\n",
       " <tf.Operation 'CondensedGoogLeNet/inception2/pooling1_conv/convolution/activation_func_1' type=Tanh>,\n",
       " <tf.Operation 'CondensedGoogLeNet/inception2/concat/axis_1' type=Const>,\n",
       " <tf.Operation 'CondensedGoogLeNet/inception2/concat_1' type=ConcatV2>,\n",
       " <tf.Operation 'CondensedGoogLeNet/inception2/Tanh_1' type=Tanh>,\n",
       " <tf.Operation 'CondensedGoogLeNet/inception2_maxP_1' type=MaxPool>,\n",
       " <tf.Operation 'CondensedGoogLeNet/inception3/1x1_conv/convolution/weights/Initializer/random_uniform/shape_1' type=Const>,\n",
       " <tf.Operation 'CondensedGoogLeNet/inception3/1x1_conv/convolution/weights/Initializer/random_uniform/min_1' type=Const>,\n",
       " <tf.Operation 'CondensedGoogLeNet/inception3/1x1_conv/convolution/weights/Initializer/random_uniform/max_1' type=Const>,\n",
       " <tf.Operation 'CondensedGoogLeNet/inception3/1x1_conv/convolution/weights/Initializer/random_uniform/RandomUniform_1' type=RandomUniform>,\n",
       " <tf.Operation 'CondensedGoogLeNet/inception3/1x1_conv/convolution/weights/Initializer/random_uniform/sub_1' type=Sub>,\n",
       " <tf.Operation 'CondensedGoogLeNet/inception3/1x1_conv/convolution/weights/Initializer/random_uniform/mul_1' type=Mul>,\n",
       " <tf.Operation 'CondensedGoogLeNet/inception3/1x1_conv/convolution/weights/Initializer/random_uniform_1' type=Add>,\n",
       " <tf.Operation 'CondensedGoogLeNet/inception3/1x1_conv/convolution/weights_1' type=VariableV2>,\n",
       " <tf.Operation 'CondensedGoogLeNet/inception3/1x1_conv/convolution/weights/Assign_1' type=Assign>,\n",
       " <tf.Operation 'CondensedGoogLeNet/inception3/1x1_conv/convolution/weights/read_1' type=Identity>,\n",
       " <tf.Operation 'CondensedGoogLeNet/inception3/1x1_conv/convolution/biases/Initializer/Const_1' type=Const>,\n",
       " <tf.Operation 'CondensedGoogLeNet/inception3/1x1_conv/convolution/biases_1' type=VariableV2>,\n",
       " <tf.Operation 'CondensedGoogLeNet/inception3/1x1_conv/convolution/biases/Assign_1' type=Assign>,\n",
       " <tf.Operation 'CondensedGoogLeNet/inception3/1x1_conv/convolution/biases/read_1' type=Identity>,\n",
       " <tf.Operation 'CondensedGoogLeNet/inception3/1x1_conv/convolution/conv_1' type=Conv2D>,\n",
       " <tf.Operation 'CondensedGoogLeNet/inception3/1x1_conv/convolution/bias_add_1' type=BiasAdd>,\n",
       " <tf.Operation 'CondensedGoogLeNet/inception3/1x1_conv/convolution/activation_func_1' type=Tanh>,\n",
       " <tf.Operation 'CondensedGoogLeNet/inception3/3x3_conv1/pre_convolution/weights_pre/Initializer/random_uniform/shape_1' type=Const>,\n",
       " <tf.Operation 'CondensedGoogLeNet/inception3/3x3_conv1/pre_convolution/weights_pre/Initializer/random_uniform/min_1' type=Const>,\n",
       " <tf.Operation 'CondensedGoogLeNet/inception3/3x3_conv1/pre_convolution/weights_pre/Initializer/random_uniform/max_1' type=Const>,\n",
       " <tf.Operation 'CondensedGoogLeNet/inception3/3x3_conv1/pre_convolution/weights_pre/Initializer/random_uniform/RandomUniform_1' type=RandomUniform>,\n",
       " <tf.Operation 'CondensedGoogLeNet/inception3/3x3_conv1/pre_convolution/weights_pre/Initializer/random_uniform/sub_1' type=Sub>,\n",
       " <tf.Operation 'CondensedGoogLeNet/inception3/3x3_conv1/pre_convolution/weights_pre/Initializer/random_uniform/mul_1' type=Mul>,\n",
       " <tf.Operation 'CondensedGoogLeNet/inception3/3x3_conv1/pre_convolution/weights_pre/Initializer/random_uniform_1' type=Add>,\n",
       " <tf.Operation 'CondensedGoogLeNet/inception3/3x3_conv1/pre_convolution/weights_pre_1' type=VariableV2>,\n",
       " <tf.Operation 'CondensedGoogLeNet/inception3/3x3_conv1/pre_convolution/weights_pre/Assign_1' type=Assign>,\n",
       " <tf.Operation 'CondensedGoogLeNet/inception3/3x3_conv1/pre_convolution/weights_pre/read_1' type=Identity>,\n",
       " <tf.Operation 'CondensedGoogLeNet/inception3/3x3_conv1/pre_convolution/conv_1' type=Conv2D>,\n",
       " <tf.Operation 'CondensedGoogLeNet/inception3/3x3_conv1/convolution/weights/Initializer/random_uniform/shape_1' type=Const>,\n",
       " <tf.Operation 'CondensedGoogLeNet/inception3/3x3_conv1/convolution/weights/Initializer/random_uniform/min_1' type=Const>,\n",
       " <tf.Operation 'CondensedGoogLeNet/inception3/3x3_conv1/convolution/weights/Initializer/random_uniform/max_1' type=Const>,\n",
       " <tf.Operation 'CondensedGoogLeNet/inception3/3x3_conv1/convolution/weights/Initializer/random_uniform/RandomUniform_1' type=RandomUniform>,\n",
       " <tf.Operation 'CondensedGoogLeNet/inception3/3x3_conv1/convolution/weights/Initializer/random_uniform/sub_1' type=Sub>,\n",
       " <tf.Operation 'CondensedGoogLeNet/inception3/3x3_conv1/convolution/weights/Initializer/random_uniform/mul_1' type=Mul>,\n",
       " <tf.Operation 'CondensedGoogLeNet/inception3/3x3_conv1/convolution/weights/Initializer/random_uniform_1' type=Add>,\n",
       " <tf.Operation 'CondensedGoogLeNet/inception3/3x3_conv1/convolution/weights_1' type=VariableV2>,\n",
       " <tf.Operation 'CondensedGoogLeNet/inception3/3x3_conv1/convolution/weights/Assign_1' type=Assign>,\n",
       " <tf.Operation 'CondensedGoogLeNet/inception3/3x3_conv1/convolution/weights/read_1' type=Identity>,\n",
       " <tf.Operation 'CondensedGoogLeNet/inception3/3x3_conv1/convolution/biases/Initializer/Const_1' type=Const>,\n",
       " <tf.Operation 'CondensedGoogLeNet/inception3/3x3_conv1/convolution/biases_1' type=VariableV2>,\n",
       " <tf.Operation 'CondensedGoogLeNet/inception3/3x3_conv1/convolution/biases/Assign_1' type=Assign>,\n",
       " <tf.Operation 'CondensedGoogLeNet/inception3/3x3_conv1/convolution/biases/read_1' type=Identity>,\n",
       " <tf.Operation 'CondensedGoogLeNet/inception3/3x3_conv1/convolution/conv_1' type=Conv2D>,\n",
       " <tf.Operation 'CondensedGoogLeNet/inception3/3x3_conv1/convolution/bias_add_1' type=BiasAdd>,\n",
       " <tf.Operation 'CondensedGoogLeNet/inception3/3x3_conv1/convolution/activation_func_1' type=Tanh>,\n",
       " <tf.Operation 'CondensedGoogLeNet/inception3/5x5_conv1/pre_convolution/weights_pre/Initializer/random_uniform/shape_1' type=Const>,\n",
       " <tf.Operation 'CondensedGoogLeNet/inception3/5x5_conv1/pre_convolution/weights_pre/Initializer/random_uniform/min_1' type=Const>,\n",
       " <tf.Operation 'CondensedGoogLeNet/inception3/5x5_conv1/pre_convolution/weights_pre/Initializer/random_uniform/max_1' type=Const>,\n",
       " <tf.Operation 'CondensedGoogLeNet/inception3/5x5_conv1/pre_convolution/weights_pre/Initializer/random_uniform/RandomUniform_1' type=RandomUniform>,\n",
       " <tf.Operation 'CondensedGoogLeNet/inception3/5x5_conv1/pre_convolution/weights_pre/Initializer/random_uniform/sub_1' type=Sub>,\n",
       " <tf.Operation 'CondensedGoogLeNet/inception3/5x5_conv1/pre_convolution/weights_pre/Initializer/random_uniform/mul_1' type=Mul>,\n",
       " <tf.Operation 'CondensedGoogLeNet/inception3/5x5_conv1/pre_convolution/weights_pre/Initializer/random_uniform_1' type=Add>,\n",
       " <tf.Operation 'CondensedGoogLeNet/inception3/5x5_conv1/pre_convolution/weights_pre_1' type=VariableV2>,\n",
       " <tf.Operation 'CondensedGoogLeNet/inception3/5x5_conv1/pre_convolution/weights_pre/Assign_1' type=Assign>,\n",
       " <tf.Operation 'CondensedGoogLeNet/inception3/5x5_conv1/pre_convolution/weights_pre/read_1' type=Identity>,\n",
       " <tf.Operation 'CondensedGoogLeNet/inception3/5x5_conv1/pre_convolution/conv_1' type=Conv2D>,\n",
       " <tf.Operation 'CondensedGoogLeNet/inception3/5x5_conv1/convolution/weights/Initializer/random_uniform/shape_1' type=Const>,\n",
       " <tf.Operation 'CondensedGoogLeNet/inception3/5x5_conv1/convolution/weights/Initializer/random_uniform/min_1' type=Const>,\n",
       " <tf.Operation 'CondensedGoogLeNet/inception3/5x5_conv1/convolution/weights/Initializer/random_uniform/max_1' type=Const>,\n",
       " <tf.Operation 'CondensedGoogLeNet/inception3/5x5_conv1/convolution/weights/Initializer/random_uniform/RandomUniform_1' type=RandomUniform>,\n",
       " <tf.Operation 'CondensedGoogLeNet/inception3/5x5_conv1/convolution/weights/Initializer/random_uniform/sub_1' type=Sub>,\n",
       " <tf.Operation 'CondensedGoogLeNet/inception3/5x5_conv1/convolution/weights/Initializer/random_uniform/mul_1' type=Mul>,\n",
       " <tf.Operation 'CondensedGoogLeNet/inception3/5x5_conv1/convolution/weights/Initializer/random_uniform_1' type=Add>,\n",
       " <tf.Operation 'CondensedGoogLeNet/inception3/5x5_conv1/convolution/weights_1' type=VariableV2>,\n",
       " <tf.Operation 'CondensedGoogLeNet/inception3/5x5_conv1/convolution/weights/Assign_1' type=Assign>,\n",
       " <tf.Operation 'CondensedGoogLeNet/inception3/5x5_conv1/convolution/weights/read_1' type=Identity>,\n",
       " <tf.Operation 'CondensedGoogLeNet/inception3/5x5_conv1/convolution/biases/Initializer/Const_1' type=Const>,\n",
       " <tf.Operation 'CondensedGoogLeNet/inception3/5x5_conv1/convolution/biases_1' type=VariableV2>,\n",
       " <tf.Operation 'CondensedGoogLeNet/inception3/5x5_conv1/convolution/biases/Assign_1' type=Assign>,\n",
       " <tf.Operation 'CondensedGoogLeNet/inception3/5x5_conv1/convolution/biases/read_1' type=Identity>,\n",
       " <tf.Operation 'CondensedGoogLeNet/inception3/5x5_conv1/convolution/conv_1' type=Conv2D>,\n",
       " <tf.Operation 'CondensedGoogLeNet/inception3/5x5_conv1/convolution/bias_add_1' type=BiasAdd>,\n",
       " <tf.Operation 'CondensedGoogLeNet/inception3/5x5_conv1/convolution/activation_func_1' type=Tanh>,\n",
       " <tf.Operation 'CondensedGoogLeNet/inception3/pooling1_1' type=MaxPool>,\n",
       " <tf.Operation 'CondensedGoogLeNet/inception3/pooling1_conv/convolution/weights/Initializer/random_uniform/shape_1' type=Const>,\n",
       " <tf.Operation 'CondensedGoogLeNet/inception3/pooling1_conv/convolution/weights/Initializer/random_uniform/min_1' type=Const>,\n",
       " <tf.Operation 'CondensedGoogLeNet/inception3/pooling1_conv/convolution/weights/Initializer/random_uniform/max_1' type=Const>,\n",
       " <tf.Operation 'CondensedGoogLeNet/inception3/pooling1_conv/convolution/weights/Initializer/random_uniform/RandomUniform_1' type=RandomUniform>,\n",
       " <tf.Operation 'CondensedGoogLeNet/inception3/pooling1_conv/convolution/weights/Initializer/random_uniform/sub_1' type=Sub>,\n",
       " <tf.Operation 'CondensedGoogLeNet/inception3/pooling1_conv/convolution/weights/Initializer/random_uniform/mul_1' type=Mul>,\n",
       " <tf.Operation 'CondensedGoogLeNet/inception3/pooling1_conv/convolution/weights/Initializer/random_uniform_1' type=Add>,\n",
       " <tf.Operation 'CondensedGoogLeNet/inception3/pooling1_conv/convolution/weights_1' type=VariableV2>,\n",
       " <tf.Operation 'CondensedGoogLeNet/inception3/pooling1_conv/convolution/weights/Assign_1' type=Assign>,\n",
       " <tf.Operation 'CondensedGoogLeNet/inception3/pooling1_conv/convolution/weights/read_1' type=Identity>,\n",
       " <tf.Operation 'CondensedGoogLeNet/inception3/pooling1_conv/convolution/biases/Initializer/Const_1' type=Const>,\n",
       " <tf.Operation 'CondensedGoogLeNet/inception3/pooling1_conv/convolution/biases_1' type=VariableV2>,\n",
       " <tf.Operation 'CondensedGoogLeNet/inception3/pooling1_conv/convolution/biases/Assign_1' type=Assign>,\n",
       " <tf.Operation 'CondensedGoogLeNet/inception3/pooling1_conv/convolution/biases/read_1' type=Identity>,\n",
       " <tf.Operation 'CondensedGoogLeNet/inception3/pooling1_conv/convolution/conv_1' type=Conv2D>,\n",
       " <tf.Operation 'CondensedGoogLeNet/inception3/pooling1_conv/convolution/bias_add_1' type=BiasAdd>,\n",
       " <tf.Operation 'CondensedGoogLeNet/inception3/pooling1_conv/convolution/activation_func_1' type=Tanh>,\n",
       " <tf.Operation 'CondensedGoogLeNet/inception3/concat/axis_1' type=Const>,\n",
       " <tf.Operation 'CondensedGoogLeNet/inception3/concat_1' type=ConcatV2>,\n",
       " <tf.Operation 'CondensedGoogLeNet/inception3/Tanh_1' type=Tanh>,\n",
       " <tf.Operation 'CondensedGoogLeNet/inception3_avgP_1' type=AvgPool>,\n",
       " <tf.Operation 'CondensedGoogLeNet/flatten/Shape_1' type=Shape>,\n",
       " <tf.Operation 'CondensedGoogLeNet/flatten/strided_slice/stack_3' type=Const>,\n",
       " <tf.Operation 'CondensedGoogLeNet/flatten/strided_slice/stack_1_1' type=Const>,\n",
       " <tf.Operation 'CondensedGoogLeNet/flatten/strided_slice/stack_2_1' type=Const>,\n",
       " <tf.Operation 'CondensedGoogLeNet/flatten/strided_slice_1' type=StridedSlice>,\n",
       " <tf.Operation 'CondensedGoogLeNet/flatten/Reshape/shape/1_1' type=Const>,\n",
       " <tf.Operation 'CondensedGoogLeNet/flatten/Reshape/shape_1' type=Pack>,\n",
       " <tf.Operation 'CondensedGoogLeNet/flatten/Reshape_1' type=Reshape>,\n",
       " <tf.Operation 'CondensedGoogLeNet/dropout/keep_prob_1' type=Const>,\n",
       " <tf.Operation 'CondensedGoogLeNet/dropout/Shape_1' type=Shape>,\n",
       " <tf.Operation 'CondensedGoogLeNet/dropout/random_uniform/min_1' type=Const>,\n",
       " <tf.Operation 'CondensedGoogLeNet/dropout/random_uniform/max_1' type=Const>,\n",
       " <tf.Operation 'CondensedGoogLeNet/dropout/random_uniform/RandomUniform_1' type=RandomUniform>,\n",
       " <tf.Operation 'CondensedGoogLeNet/dropout/random_uniform/sub_1' type=Sub>,\n",
       " <tf.Operation 'CondensedGoogLeNet/dropout/random_uniform/mul_1' type=Mul>,\n",
       " <tf.Operation 'CondensedGoogLeNet/dropout/random_uniform_1' type=Add>,\n",
       " <tf.Operation 'CondensedGoogLeNet/dropout/add_1' type=Add>,\n",
       " <tf.Operation 'CondensedGoogLeNet/dropout/Floor_1' type=Floor>,\n",
       " <tf.Operation 'CondensedGoogLeNet/dropout/div_1' type=RealDiv>,\n",
       " <tf.Operation 'CondensedGoogLeNet/dropout/mul_1' type=Mul>,\n",
       " <tf.Operation 'CondensedGoogLeNet/dense_layer/weight/Initializer/truncated_normal/shape_1' type=Const>,\n",
       " <tf.Operation 'CondensedGoogLeNet/dense_layer/weight/Initializer/truncated_normal/mean_1' type=Const>,\n",
       " <tf.Operation 'CondensedGoogLeNet/dense_layer/weight/Initializer/truncated_normal/stddev_1' type=Const>,\n",
       " <tf.Operation 'CondensedGoogLeNet/dense_layer/weight/Initializer/truncated_normal/TruncatedNormal_1' type=TruncatedNormal>,\n",
       " <tf.Operation 'CondensedGoogLeNet/dense_layer/weight/Initializer/truncated_normal/mul_1' type=Mul>,\n",
       " <tf.Operation 'CondensedGoogLeNet/dense_layer/weight/Initializer/truncated_normal_1' type=Add>,\n",
       " <tf.Operation 'CondensedGoogLeNet/dense_layer/weight_1' type=VariableV2>,\n",
       " <tf.Operation 'CondensedGoogLeNet/dense_layer/weight/Assign_1' type=Assign>,\n",
       " <tf.Operation 'CondensedGoogLeNet/dense_layer/weight/read_1' type=Identity>,\n",
       " <tf.Operation 'CondensedGoogLeNet/dense_layer/bias/Initializer/Const_1' type=Const>,\n",
       " <tf.Operation 'CondensedGoogLeNet/dense_layer/bias_1' type=VariableV2>,\n",
       " <tf.Operation 'CondensedGoogLeNet/dense_layer/bias/Assign_1' type=Assign>,\n",
       " <tf.Operation 'CondensedGoogLeNet/dense_layer/bias/read_1' type=Identity>,\n",
       " <tf.Operation 'CondensedGoogLeNet/dense_layer/MatMul_1' type=MatMul>,\n",
       " <tf.Operation 'CondensedGoogLeNet/dense_layer/BiasAdd_1' type=BiasAdd>,\n",
       " <tf.Operation 'CondensedGoogLeNet/output_1' type=Softmax>,\n",
       " <tf.Operation 'CondensedGoogLeNet/loss/softmax_cross_entropy_with_logits/Rank_3' type=Const>,\n",
       " <tf.Operation 'CondensedGoogLeNet/loss/softmax_cross_entropy_with_logits/Shape_3' type=Shape>,\n",
       " <tf.Operation 'CondensedGoogLeNet/loss/softmax_cross_entropy_with_logits/Rank_1_1' type=Const>,\n",
       " <tf.Operation 'CondensedGoogLeNet/loss/softmax_cross_entropy_with_logits/Shape_1_1' type=Shape>,\n",
       " <tf.Operation 'CondensedGoogLeNet/loss/softmax_cross_entropy_with_logits/Sub/y_1' type=Const>,\n",
       " <tf.Operation 'CondensedGoogLeNet/loss/softmax_cross_entropy_with_logits/Sub_3' type=Sub>,\n",
       " <tf.Operation 'CondensedGoogLeNet/loss/softmax_cross_entropy_with_logits/Slice/begin_1' type=Pack>,\n",
       " <tf.Operation 'CondensedGoogLeNet/loss/softmax_cross_entropy_with_logits/Slice/size_1' type=Const>,\n",
       " <tf.Operation 'CondensedGoogLeNet/loss/softmax_cross_entropy_with_logits/Slice_3' type=Slice>,\n",
       " <tf.Operation 'CondensedGoogLeNet/loss/softmax_cross_entropy_with_logits/concat/values_0_1' type=Const>,\n",
       " <tf.Operation 'CondensedGoogLeNet/loss/softmax_cross_entropy_with_logits/concat/axis_1' type=Const>,\n",
       " <tf.Operation 'CondensedGoogLeNet/loss/softmax_cross_entropy_with_logits/concat_2' type=ConcatV2>,\n",
       " <tf.Operation 'CondensedGoogLeNet/loss/softmax_cross_entropy_with_logits/Reshape_3' type=Reshape>,\n",
       " <tf.Operation 'CondensedGoogLeNet/loss/softmax_cross_entropy_with_logits/Rank_2_1' type=Const>,\n",
       " <tf.Operation 'CondensedGoogLeNet/loss/softmax_cross_entropy_with_logits/Shape_2_1' type=Shape>,\n",
       " <tf.Operation 'CondensedGoogLeNet/loss/softmax_cross_entropy_with_logits/Sub_1/y_1' type=Const>,\n",
       " <tf.Operation 'CondensedGoogLeNet/loss/softmax_cross_entropy_with_logits/Sub_1_1' type=Sub>,\n",
       " <tf.Operation 'CondensedGoogLeNet/loss/softmax_cross_entropy_with_logits/Slice_1/begin_1' type=Pack>,\n",
       " <tf.Operation 'CondensedGoogLeNet/loss/softmax_cross_entropy_with_logits/Slice_1/size_1' type=Const>,\n",
       " <tf.Operation 'CondensedGoogLeNet/loss/softmax_cross_entropy_with_logits/Slice_1_1' type=Slice>,\n",
       " <tf.Operation 'CondensedGoogLeNet/loss/softmax_cross_entropy_with_logits/concat_1/values_0_1' type=Const>,\n",
       " <tf.Operation 'CondensedGoogLeNet/loss/softmax_cross_entropy_with_logits/concat_1/axis_1' type=Const>,\n",
       " <tf.Operation 'CondensedGoogLeNet/loss/softmax_cross_entropy_with_logits/concat_1_1' type=ConcatV2>,\n",
       " <tf.Operation 'CondensedGoogLeNet/loss/softmax_cross_entropy_with_logits/Reshape_1_1' type=Reshape>,\n",
       " <tf.Operation 'CondensedGoogLeNet/loss/softmax_cross_entropy_with_logits_1' type=SoftmaxCrossEntropyWithLogits>,\n",
       " <tf.Operation 'CondensedGoogLeNet/loss/softmax_cross_entropy_with_logits/Sub_2/y_1' type=Const>,\n",
       " <tf.Operation 'CondensedGoogLeNet/loss/softmax_cross_entropy_with_logits/Sub_2_1' type=Sub>,\n",
       " <tf.Operation 'CondensedGoogLeNet/loss/softmax_cross_entropy_with_logits/Slice_2/begin_1' type=Const>,\n",
       " <tf.Operation 'CondensedGoogLeNet/loss/softmax_cross_entropy_with_logits/Slice_2/size_1' type=Pack>,\n",
       " <tf.Operation 'CondensedGoogLeNet/loss/softmax_cross_entropy_with_logits/Slice_2_1' type=Slice>,\n",
       " <tf.Operation 'CondensedGoogLeNet/loss/softmax_cross_entropy_with_logits/Reshape_2_1' type=Reshape>,\n",
       " <tf.Operation 'CondensedGoogLeNet/loss/Const_1' type=Const>,\n",
       " <tf.Operation 'CondensedGoogLeNet/loss/Mean_1' type=Mean>,\n",
       " <tf.Operation 'CondensedGoogLeNet/Variable/initial_value_1' type=Const>,\n",
       " <tf.Operation 'CondensedGoogLeNet/Variable_1' type=VariableV2>,\n",
       " <tf.Operation 'CondensedGoogLeNet/Variable/Assign_1' type=Assign>,\n",
       " <tf.Operation 'CondensedGoogLeNet/Variable/read_1' type=Identity>,\n",
       " <tf.Operation 'CondensedGoogLeNet/training_loss/tags_1' type=Const>,\n",
       " <tf.Operation 'CondensedGoogLeNet/training_loss_1' type=ScalarSummary>,\n",
       " <tf.Operation 'CondensedGoogLeNet/gradients/Shape_1' type=Const>,\n",
       " <tf.Operation 'CondensedGoogLeNet/gradients/grad_ys_0_1' type=Const>,\n",
       " <tf.Operation 'CondensedGoogLeNet/gradients/Fill_1' type=Fill>,\n",
       " <tf.Operation 'CondensedGoogLeNet/gradients/CondensedGoogLeNet/loss/Mean_grad/Reshape/shape_1' type=Const>,\n",
       " <tf.Operation 'CondensedGoogLeNet/gradients/CondensedGoogLeNet/loss/Mean_grad/Reshape_1' type=Reshape>,\n",
       " <tf.Operation 'CondensedGoogLeNet/gradients/CondensedGoogLeNet/loss/Mean_grad/Shape_3' type=Shape>,\n",
       " <tf.Operation 'CondensedGoogLeNet/gradients/CondensedGoogLeNet/loss/Mean_grad/Tile_1' type=Tile>,\n",
       " <tf.Operation 'CondensedGoogLeNet/gradients/CondensedGoogLeNet/loss/Mean_grad/Shape_1_1' type=Shape>,\n",
       " <tf.Operation 'CondensedGoogLeNet/gradients/CondensedGoogLeNet/loss/Mean_grad/Shape_2_1' type=Const>,\n",
       " <tf.Operation 'CondensedGoogLeNet/gradients/CondensedGoogLeNet/loss/Mean_grad/Const_2' type=Const>,\n",
       " <tf.Operation 'CondensedGoogLeNet/gradients/CondensedGoogLeNet/loss/Mean_grad/Prod_2' type=Prod>,\n",
       " <tf.Operation 'CondensedGoogLeNet/gradients/CondensedGoogLeNet/loss/Mean_grad/Const_1_1' type=Const>,\n",
       " <tf.Operation 'CondensedGoogLeNet/gradients/CondensedGoogLeNet/loss/Mean_grad/Prod_1_1' type=Prod>,\n",
       " <tf.Operation 'CondensedGoogLeNet/gradients/CondensedGoogLeNet/loss/Mean_grad/Maximum/y_1' type=Const>,\n",
       " <tf.Operation 'CondensedGoogLeNet/gradients/CondensedGoogLeNet/loss/Mean_grad/Maximum_1' type=Maximum>,\n",
       " <tf.Operation 'CondensedGoogLeNet/gradients/CondensedGoogLeNet/loss/Mean_grad/floordiv_1' type=FloorDiv>,\n",
       " <tf.Operation 'CondensedGoogLeNet/gradients/CondensedGoogLeNet/loss/Mean_grad/Cast_1' type=Cast>,\n",
       " <tf.Operation 'CondensedGoogLeNet/gradients/CondensedGoogLeNet/loss/Mean_grad/truediv_1' type=RealDiv>,\n",
       " <tf.Operation 'CondensedGoogLeNet/gradients/CondensedGoogLeNet/loss/softmax_cross_entropy_with_logits/Reshape_2_grad/Shape_1' type=Shape>,\n",
       " <tf.Operation 'CondensedGoogLeNet/gradients/CondensedGoogLeNet/loss/softmax_cross_entropy_with_logits/Reshape_2_grad/Reshape_1' type=Reshape>,\n",
       " <tf.Operation 'CondensedGoogLeNet/gradients/zeros_like_1' type=ZerosLike>,\n",
       " <tf.Operation 'CondensedGoogLeNet/gradients/CondensedGoogLeNet/loss/softmax_cross_entropy_with_logits_grad/ExpandDims/dim_1' type=Const>,\n",
       " <tf.Operation 'CondensedGoogLeNet/gradients/CondensedGoogLeNet/loss/softmax_cross_entropy_with_logits_grad/ExpandDims_2' type=ExpandDims>,\n",
       " <tf.Operation 'CondensedGoogLeNet/gradients/CondensedGoogLeNet/loss/softmax_cross_entropy_with_logits_grad/mul_2' type=Mul>,\n",
       " <tf.Operation 'CondensedGoogLeNet/gradients/CondensedGoogLeNet/loss/softmax_cross_entropy_with_logits_grad/LogSoftmax_1' type=LogSoftmax>,\n",
       " <tf.Operation 'CondensedGoogLeNet/gradients/CondensedGoogLeNet/loss/softmax_cross_entropy_with_logits_grad/Neg_1' type=Neg>,\n",
       " <tf.Operation 'CondensedGoogLeNet/gradients/CondensedGoogLeNet/loss/softmax_cross_entropy_with_logits_grad/ExpandDims_1/dim_1' type=Const>,\n",
       " <tf.Operation 'CondensedGoogLeNet/gradients/CondensedGoogLeNet/loss/softmax_cross_entropy_with_logits_grad/ExpandDims_1_1' type=ExpandDims>,\n",
       " <tf.Operation 'CondensedGoogLeNet/gradients/CondensedGoogLeNet/loss/softmax_cross_entropy_with_logits_grad/mul_1_1' type=Mul>,\n",
       " <tf.Operation 'CondensedGoogLeNet/gradients/CondensedGoogLeNet/loss/softmax_cross_entropy_with_logits_grad/tuple/group_deps_1' type=NoOp>,\n",
       " <tf.Operation 'CondensedGoogLeNet/gradients/CondensedGoogLeNet/loss/softmax_cross_entropy_with_logits_grad/tuple/control_dependency_2' type=Identity>,\n",
       " <tf.Operation 'CondensedGoogLeNet/gradients/CondensedGoogLeNet/loss/softmax_cross_entropy_with_logits_grad/tuple/control_dependency_1_1' type=Identity>,\n",
       " <tf.Operation 'CondensedGoogLeNet/gradients/CondensedGoogLeNet/loss/softmax_cross_entropy_with_logits/Reshape_grad/Shape_1' type=Shape>,\n",
       " <tf.Operation 'CondensedGoogLeNet/gradients/CondensedGoogLeNet/loss/softmax_cross_entropy_with_logits/Reshape_grad/Reshape_1' type=Reshape>,\n",
       " <tf.Operation 'CondensedGoogLeNet/gradients/CondensedGoogLeNet/dense_layer/BiasAdd_grad/BiasAddGrad_1' type=BiasAddGrad>,\n",
       " <tf.Operation 'CondensedGoogLeNet/gradients/CondensedGoogLeNet/dense_layer/BiasAdd_grad/tuple/group_deps_1' type=NoOp>,\n",
       " <tf.Operation 'CondensedGoogLeNet/gradients/CondensedGoogLeNet/dense_layer/BiasAdd_grad/tuple/control_dependency_2' type=Identity>,\n",
       " <tf.Operation 'CondensedGoogLeNet/gradients/CondensedGoogLeNet/dense_layer/BiasAdd_grad/tuple/control_dependency_1_1' type=Identity>,\n",
       " <tf.Operation 'CondensedGoogLeNet/gradients/CondensedGoogLeNet/dense_layer/MatMul_grad/MatMul_2' type=MatMul>,\n",
       " <tf.Operation 'CondensedGoogLeNet/gradients/CondensedGoogLeNet/dense_layer/MatMul_grad/MatMul_1_1' type=MatMul>,\n",
       " <tf.Operation 'CondensedGoogLeNet/gradients/CondensedGoogLeNet/dense_layer/MatMul_grad/tuple/group_deps_1' type=NoOp>,\n",
       " <tf.Operation 'CondensedGoogLeNet/gradients/CondensedGoogLeNet/dense_layer/MatMul_grad/tuple/control_dependency_2' type=Identity>,\n",
       " <tf.Operation 'CondensedGoogLeNet/gradients/CondensedGoogLeNet/dense_layer/MatMul_grad/tuple/control_dependency_1_1' type=Identity>,\n",
       " <tf.Operation 'CondensedGoogLeNet/gradients/CondensedGoogLeNet/dropout/mul_grad/Shape_2' type=Shape>,\n",
       " <tf.Operation 'CondensedGoogLeNet/gradients/CondensedGoogLeNet/dropout/mul_grad/Shape_1_1' type=Shape>,\n",
       " <tf.Operation 'CondensedGoogLeNet/gradients/CondensedGoogLeNet/dropout/mul_grad/BroadcastGradientArgs_1' type=BroadcastGradientArgs>,\n",
       " <tf.Operation 'CondensedGoogLeNet/gradients/CondensedGoogLeNet/dropout/mul_grad/Mul_2' type=Mul>,\n",
       " <tf.Operation 'CondensedGoogLeNet/gradients/CondensedGoogLeNet/dropout/mul_grad/Sum_2' type=Sum>,\n",
       " <tf.Operation 'CondensedGoogLeNet/gradients/CondensedGoogLeNet/dropout/mul_grad/Reshape_2' type=Reshape>,\n",
       " <tf.Operation 'CondensedGoogLeNet/gradients/CondensedGoogLeNet/dropout/mul_grad/Mul_1_1' type=Mul>,\n",
       " <tf.Operation 'CondensedGoogLeNet/gradients/CondensedGoogLeNet/dropout/mul_grad/Sum_1_1' type=Sum>,\n",
       " <tf.Operation 'CondensedGoogLeNet/gradients/CondensedGoogLeNet/dropout/mul_grad/Reshape_1_1' type=Reshape>,\n",
       " <tf.Operation 'CondensedGoogLeNet/gradients/CondensedGoogLeNet/dropout/mul_grad/tuple/group_deps_1' type=NoOp>,\n",
       " <tf.Operation 'CondensedGoogLeNet/gradients/CondensedGoogLeNet/dropout/mul_grad/tuple/control_dependency_2' type=Identity>,\n",
       " <tf.Operation 'CondensedGoogLeNet/gradients/CondensedGoogLeNet/dropout/mul_grad/tuple/control_dependency_1_1' type=Identity>,\n",
       " <tf.Operation 'CondensedGoogLeNet/gradients/CondensedGoogLeNet/dropout/div_grad/Shape_2' type=Shape>,\n",
       " <tf.Operation 'CondensedGoogLeNet/gradients/CondensedGoogLeNet/dropout/div_grad/Shape_1_1' type=Const>,\n",
       " <tf.Operation 'CondensedGoogLeNet/gradients/CondensedGoogLeNet/dropout/div_grad/BroadcastGradientArgs_1' type=BroadcastGradientArgs>,\n",
       " <tf.Operation 'CondensedGoogLeNet/gradients/CondensedGoogLeNet/dropout/div_grad/RealDiv_3' type=RealDiv>,\n",
       " <tf.Operation 'CondensedGoogLeNet/gradients/CondensedGoogLeNet/dropout/div_grad/Sum_2' type=Sum>,\n",
       " <tf.Operation 'CondensedGoogLeNet/gradients/CondensedGoogLeNet/dropout/div_grad/Reshape_2' type=Reshape>,\n",
       " <tf.Operation 'CondensedGoogLeNet/gradients/CondensedGoogLeNet/dropout/div_grad/Neg_1' type=Neg>,\n",
       " <tf.Operation 'CondensedGoogLeNet/gradients/CondensedGoogLeNet/dropout/div_grad/RealDiv_1_1' type=RealDiv>,\n",
       " <tf.Operation 'CondensedGoogLeNet/gradients/CondensedGoogLeNet/dropout/div_grad/RealDiv_2_1' type=RealDiv>,\n",
       " <tf.Operation 'CondensedGoogLeNet/gradients/CondensedGoogLeNet/dropout/div_grad/mul_1' type=Mul>,\n",
       " <tf.Operation 'CondensedGoogLeNet/gradients/CondensedGoogLeNet/dropout/div_grad/Sum_1_1' type=Sum>,\n",
       " <tf.Operation 'CondensedGoogLeNet/gradients/CondensedGoogLeNet/dropout/div_grad/Reshape_1_1' type=Reshape>,\n",
       " <tf.Operation 'CondensedGoogLeNet/gradients/CondensedGoogLeNet/dropout/div_grad/tuple/group_deps_1' type=NoOp>,\n",
       " <tf.Operation 'CondensedGoogLeNet/gradients/CondensedGoogLeNet/dropout/div_grad/tuple/control_dependency_2' type=Identity>,\n",
       " <tf.Operation 'CondensedGoogLeNet/gradients/CondensedGoogLeNet/dropout/div_grad/tuple/control_dependency_1_1' type=Identity>,\n",
       " <tf.Operation 'CondensedGoogLeNet/gradients/CondensedGoogLeNet/flatten/Reshape_grad/Shape_1' type=Shape>,\n",
       " <tf.Operation 'CondensedGoogLeNet/gradients/CondensedGoogLeNet/flatten/Reshape_grad/Reshape_1' type=Reshape>,\n",
       " <tf.Operation 'CondensedGoogLeNet/gradients/CondensedGoogLeNet/inception3_avgP_grad/Shape_1' type=Shape>,\n",
       " <tf.Operation 'CondensedGoogLeNet/gradients/CondensedGoogLeNet/inception3_avgP_grad/AvgPoolGrad_1' type=AvgPoolGrad>,\n",
       " <tf.Operation 'CondensedGoogLeNet/gradients/CondensedGoogLeNet/inception3/Tanh_grad/TanhGrad_1' type=TanhGrad>,\n",
       " <tf.Operation 'CondensedGoogLeNet/gradients/CondensedGoogLeNet/inception3/concat_grad/Rank_1' type=Const>,\n",
       " <tf.Operation 'CondensedGoogLeNet/gradients/CondensedGoogLeNet/inception3/concat_grad/mod_1' type=FloorMod>,\n",
       " <tf.Operation 'CondensedGoogLeNet/gradients/CondensedGoogLeNet/inception3/concat_grad/Shape_1' type=Shape>,\n",
       " <tf.Operation 'CondensedGoogLeNet/gradients/CondensedGoogLeNet/inception3/concat_grad/ShapeN_1' type=ShapeN>,\n",
       " <tf.Operation 'CondensedGoogLeNet/gradients/CondensedGoogLeNet/inception3/concat_grad/ConcatOffset_1' type=ConcatOffset>,\n",
       " <tf.Operation 'CondensedGoogLeNet/gradients/CondensedGoogLeNet/inception3/concat_grad/Slice_4' type=Slice>,\n",
       " <tf.Operation 'CondensedGoogLeNet/gradients/CondensedGoogLeNet/inception3/concat_grad/Slice_1_1' type=Slice>,\n",
       " <tf.Operation 'CondensedGoogLeNet/gradients/CondensedGoogLeNet/inception3/concat_grad/Slice_2_1' type=Slice>,\n",
       " <tf.Operation 'CondensedGoogLeNet/gradients/CondensedGoogLeNet/inception3/concat_grad/Slice_3_1' type=Slice>,\n",
       " <tf.Operation 'CondensedGoogLeNet/gradients/CondensedGoogLeNet/inception3/concat_grad/tuple/group_deps_1' type=NoOp>,\n",
       " <tf.Operation 'CondensedGoogLeNet/gradients/CondensedGoogLeNet/inception3/concat_grad/tuple/control_dependency_4' type=Identity>,\n",
       " <tf.Operation 'CondensedGoogLeNet/gradients/CondensedGoogLeNet/inception3/concat_grad/tuple/control_dependency_1_1' type=Identity>,\n",
       " <tf.Operation 'CondensedGoogLeNet/gradients/CondensedGoogLeNet/inception3/concat_grad/tuple/control_dependency_2_1' type=Identity>,\n",
       " <tf.Operation 'CondensedGoogLeNet/gradients/CondensedGoogLeNet/inception3/concat_grad/tuple/control_dependency_3_1' type=Identity>,\n",
       " <tf.Operation 'CondensedGoogLeNet/gradients/CondensedGoogLeNet/inception3/1x1_conv/convolution/activation_func_grad/TanhGrad_1' type=TanhGrad>,\n",
       " <tf.Operation 'CondensedGoogLeNet/gradients/CondensedGoogLeNet/inception3/3x3_conv1/convolution/activation_func_grad/TanhGrad_1' type=TanhGrad>,\n",
       " <tf.Operation 'CondensedGoogLeNet/gradients/CondensedGoogLeNet/inception3/5x5_conv1/convolution/activation_func_grad/TanhGrad_1' type=TanhGrad>,\n",
       " <tf.Operation 'CondensedGoogLeNet/gradients/CondensedGoogLeNet/inception3/pooling1_conv/convolution/activation_func_grad/TanhGrad_1' type=TanhGrad>,\n",
       " <tf.Operation 'CondensedGoogLeNet/gradients/CondensedGoogLeNet/inception3/1x1_conv/convolution/bias_add_grad/BiasAddGrad_1' type=BiasAddGrad>,\n",
       " <tf.Operation 'CondensedGoogLeNet/gradients/CondensedGoogLeNet/inception3/1x1_conv/convolution/bias_add_grad/tuple/group_deps_1' type=NoOp>,\n",
       " <tf.Operation 'CondensedGoogLeNet/gradients/CondensedGoogLeNet/inception3/1x1_conv/convolution/bias_add_grad/tuple/control_dependency_2' type=Identity>,\n",
       " <tf.Operation 'CondensedGoogLeNet/gradients/CondensedGoogLeNet/inception3/1x1_conv/convolution/bias_add_grad/tuple/control_dependency_1_1' type=Identity>,\n",
       " <tf.Operation 'CondensedGoogLeNet/gradients/CondensedGoogLeNet/inception3/3x3_conv1/convolution/bias_add_grad/BiasAddGrad_1' type=BiasAddGrad>,\n",
       " <tf.Operation 'CondensedGoogLeNet/gradients/CondensedGoogLeNet/inception3/3x3_conv1/convolution/bias_add_grad/tuple/group_deps_1' type=NoOp>,\n",
       " <tf.Operation 'CondensedGoogLeNet/gradients/CondensedGoogLeNet/inception3/3x3_conv1/convolution/bias_add_grad/tuple/control_dependency_2' type=Identity>,\n",
       " <tf.Operation 'CondensedGoogLeNet/gradients/CondensedGoogLeNet/inception3/3x3_conv1/convolution/bias_add_grad/tuple/control_dependency_1_1' type=Identity>,\n",
       " <tf.Operation 'CondensedGoogLeNet/gradients/CondensedGoogLeNet/inception3/5x5_conv1/convolution/bias_add_grad/BiasAddGrad_1' type=BiasAddGrad>,\n",
       " <tf.Operation 'CondensedGoogLeNet/gradients/CondensedGoogLeNet/inception3/5x5_conv1/convolution/bias_add_grad/tuple/group_deps_1' type=NoOp>,\n",
       " <tf.Operation 'CondensedGoogLeNet/gradients/CondensedGoogLeNet/inception3/5x5_conv1/convolution/bias_add_grad/tuple/control_dependency_2' type=Identity>,\n",
       " <tf.Operation 'CondensedGoogLeNet/gradients/CondensedGoogLeNet/inception3/5x5_conv1/convolution/bias_add_grad/tuple/control_dependency_1_1' type=Identity>,\n",
       " <tf.Operation 'CondensedGoogLeNet/gradients/CondensedGoogLeNet/inception3/pooling1_conv/convolution/bias_add_grad/BiasAddGrad_1' type=BiasAddGrad>,\n",
       " <tf.Operation 'CondensedGoogLeNet/gradients/CondensedGoogLeNet/inception3/pooling1_conv/convolution/bias_add_grad/tuple/group_deps_1' type=NoOp>,\n",
       " <tf.Operation 'CondensedGoogLeNet/gradients/CondensedGoogLeNet/inception3/pooling1_conv/convolution/bias_add_grad/tuple/control_dependency_2' type=Identity>,\n",
       " <tf.Operation 'CondensedGoogLeNet/gradients/CondensedGoogLeNet/inception3/pooling1_conv/convolution/bias_add_grad/tuple/control_dependency_1_1' type=Identity>,\n",
       " <tf.Operation 'CondensedGoogLeNet/gradients/CondensedGoogLeNet/inception3/1x1_conv/convolution/conv_grad/ShapeN_1' type=ShapeN>,\n",
       " <tf.Operation 'CondensedGoogLeNet/gradients/CondensedGoogLeNet/inception3/1x1_conv/convolution/conv_grad/Conv2DBackpropInput_1' type=Conv2DBackpropInput>,\n",
       " <tf.Operation 'CondensedGoogLeNet/gradients/CondensedGoogLeNet/inception3/1x1_conv/convolution/conv_grad/Conv2DBackpropFilter_1' type=Conv2DBackpropFilter>,\n",
       " <tf.Operation 'CondensedGoogLeNet/gradients/CondensedGoogLeNet/inception3/1x1_conv/convolution/conv_grad/tuple/group_deps_1' type=NoOp>,\n",
       " <tf.Operation 'CondensedGoogLeNet/gradients/CondensedGoogLeNet/inception3/1x1_conv/convolution/conv_grad/tuple/control_dependency_2' type=Identity>,\n",
       " <tf.Operation 'CondensedGoogLeNet/gradients/CondensedGoogLeNet/inception3/1x1_conv/convolution/conv_grad/tuple/control_dependency_1_1' type=Identity>,\n",
       " <tf.Operation 'CondensedGoogLeNet/gradients/CondensedGoogLeNet/inception3/3x3_conv1/convolution/conv_grad/ShapeN_1' type=ShapeN>,\n",
       " <tf.Operation 'CondensedGoogLeNet/gradients/CondensedGoogLeNet/inception3/3x3_conv1/convolution/conv_grad/Conv2DBackpropInput_1' type=Conv2DBackpropInput>,\n",
       " <tf.Operation 'CondensedGoogLeNet/gradients/CondensedGoogLeNet/inception3/3x3_conv1/convolution/conv_grad/Conv2DBackpropFilter_1' type=Conv2DBackpropFilter>,\n",
       " <tf.Operation 'CondensedGoogLeNet/gradients/CondensedGoogLeNet/inception3/3x3_conv1/convolution/conv_grad/tuple/group_deps_1' type=NoOp>,\n",
       " <tf.Operation 'CondensedGoogLeNet/gradients/CondensedGoogLeNet/inception3/3x3_conv1/convolution/conv_grad/tuple/control_dependency_2' type=Identity>,\n",
       " <tf.Operation 'CondensedGoogLeNet/gradients/CondensedGoogLeNet/inception3/3x3_conv1/convolution/conv_grad/tuple/control_dependency_1_1' type=Identity>,\n",
       " <tf.Operation 'CondensedGoogLeNet/gradients/CondensedGoogLeNet/inception3/5x5_conv1/convolution/conv_grad/ShapeN_1' type=ShapeN>,\n",
       " <tf.Operation 'CondensedGoogLeNet/gradients/CondensedGoogLeNet/inception3/5x5_conv1/convolution/conv_grad/Conv2DBackpropInput_1' type=Conv2DBackpropInput>,\n",
       " <tf.Operation 'CondensedGoogLeNet/gradients/CondensedGoogLeNet/inception3/5x5_conv1/convolution/conv_grad/Conv2DBackpropFilter_1' type=Conv2DBackpropFilter>,\n",
       " <tf.Operation 'CondensedGoogLeNet/gradients/CondensedGoogLeNet/inception3/5x5_conv1/convolution/conv_grad/tuple/group_deps_1' type=NoOp>,\n",
       " <tf.Operation 'CondensedGoogLeNet/gradients/CondensedGoogLeNet/inception3/5x5_conv1/convolution/conv_grad/tuple/control_dependency_2' type=Identity>,\n",
       " <tf.Operation 'CondensedGoogLeNet/gradients/CondensedGoogLeNet/inception3/5x5_conv1/convolution/conv_grad/tuple/control_dependency_1_1' type=Identity>,\n",
       " <tf.Operation 'CondensedGoogLeNet/gradients/CondensedGoogLeNet/inception3/pooling1_conv/convolution/conv_grad/ShapeN_1' type=ShapeN>,\n",
       " <tf.Operation 'CondensedGoogLeNet/gradients/CondensedGoogLeNet/inception3/pooling1_conv/convolution/conv_grad/Conv2DBackpropInput_1' type=Conv2DBackpropInput>,\n",
       " <tf.Operation 'CondensedGoogLeNet/gradients/CondensedGoogLeNet/inception3/pooling1_conv/convolution/conv_grad/Conv2DBackpropFilter_1' type=Conv2DBackpropFilter>,\n",
       " <tf.Operation 'CondensedGoogLeNet/gradients/CondensedGoogLeNet/inception3/pooling1_conv/convolution/conv_grad/tuple/group_deps_1' type=NoOp>,\n",
       " <tf.Operation 'CondensedGoogLeNet/gradients/CondensedGoogLeNet/inception3/pooling1_conv/convolution/conv_grad/tuple/control_dependency_2' type=Identity>,\n",
       " <tf.Operation 'CondensedGoogLeNet/gradients/CondensedGoogLeNet/inception3/pooling1_conv/convolution/conv_grad/tuple/control_dependency_1_1' type=Identity>,\n",
       " <tf.Operation 'CondensedGoogLeNet/gradients/CondensedGoogLeNet/inception3/3x3_conv1/pre_convolution/conv_grad/ShapeN_1' type=ShapeN>,\n",
       " <tf.Operation 'CondensedGoogLeNet/gradients/CondensedGoogLeNet/inception3/3x3_conv1/pre_convolution/conv_grad/Conv2DBackpropInput_1' type=Conv2DBackpropInput>,\n",
       " <tf.Operation 'CondensedGoogLeNet/gradients/CondensedGoogLeNet/inception3/3x3_conv1/pre_convolution/conv_grad/Conv2DBackpropFilter_1' type=Conv2DBackpropFilter>,\n",
       " <tf.Operation 'CondensedGoogLeNet/gradients/CondensedGoogLeNet/inception3/3x3_conv1/pre_convolution/conv_grad/tuple/group_deps_1' type=NoOp>,\n",
       " <tf.Operation 'CondensedGoogLeNet/gradients/CondensedGoogLeNet/inception3/3x3_conv1/pre_convolution/conv_grad/tuple/control_dependency_2' type=Identity>,\n",
       " <tf.Operation 'CondensedGoogLeNet/gradients/CondensedGoogLeNet/inception3/3x3_conv1/pre_convolution/conv_grad/tuple/control_dependency_1_1' type=Identity>,\n",
       " <tf.Operation 'CondensedGoogLeNet/gradients/CondensedGoogLeNet/inception3/5x5_conv1/pre_convolution/conv_grad/ShapeN_1' type=ShapeN>,\n",
       " <tf.Operation 'CondensedGoogLeNet/gradients/CondensedGoogLeNet/inception3/5x5_conv1/pre_convolution/conv_grad/Conv2DBackpropInput_1' type=Conv2DBackpropInput>,\n",
       " <tf.Operation 'CondensedGoogLeNet/gradients/CondensedGoogLeNet/inception3/5x5_conv1/pre_convolution/conv_grad/Conv2DBackpropFilter_1' type=Conv2DBackpropFilter>,\n",
       " <tf.Operation 'CondensedGoogLeNet/gradients/CondensedGoogLeNet/inception3/5x5_conv1/pre_convolution/conv_grad/tuple/group_deps_1' type=NoOp>,\n",
       " <tf.Operation 'CondensedGoogLeNet/gradients/CondensedGoogLeNet/inception3/5x5_conv1/pre_convolution/conv_grad/tuple/control_dependency_2' type=Identity>,\n",
       " <tf.Operation 'CondensedGoogLeNet/gradients/CondensedGoogLeNet/inception3/5x5_conv1/pre_convolution/conv_grad/tuple/control_dependency_1_1' type=Identity>,\n",
       " <tf.Operation 'CondensedGoogLeNet/gradients/AddN_3' type=AddN>,\n",
       " <tf.Operation 'CondensedGoogLeNet/gradients/CondensedGoogLeNet/inception2_maxP_grad/MaxPoolGrad_1' type=MaxPoolGrad>,\n",
       " <tf.Operation 'CondensedGoogLeNet/gradients/CondensedGoogLeNet/inception2/Tanh_grad/TanhGrad_1' type=TanhGrad>,\n",
       " <tf.Operation 'CondensedGoogLeNet/gradients/CondensedGoogLeNet/inception2/concat_grad/Rank_1' type=Const>,\n",
       " <tf.Operation 'CondensedGoogLeNet/gradients/CondensedGoogLeNet/inception2/concat_grad/mod_1' type=FloorMod>,\n",
       " <tf.Operation 'CondensedGoogLeNet/gradients/CondensedGoogLeNet/inception2/concat_grad/Shape_1' type=Shape>,\n",
       " <tf.Operation 'CondensedGoogLeNet/gradients/CondensedGoogLeNet/inception2/concat_grad/ShapeN_1' type=ShapeN>,\n",
       " <tf.Operation 'CondensedGoogLeNet/gradients/CondensedGoogLeNet/inception2/concat_grad/ConcatOffset_1' type=ConcatOffset>,\n",
       " <tf.Operation 'CondensedGoogLeNet/gradients/CondensedGoogLeNet/inception2/concat_grad/Slice_4' type=Slice>,\n",
       " <tf.Operation 'CondensedGoogLeNet/gradients/CondensedGoogLeNet/inception2/concat_grad/Slice_1_1' type=Slice>,\n",
       " <tf.Operation 'CondensedGoogLeNet/gradients/CondensedGoogLeNet/inception2/concat_grad/Slice_2_1' type=Slice>,\n",
       " <tf.Operation 'CondensedGoogLeNet/gradients/CondensedGoogLeNet/inception2/concat_grad/Slice_3_1' type=Slice>,\n",
       " <tf.Operation 'CondensedGoogLeNet/gradients/CondensedGoogLeNet/inception2/concat_grad/tuple/group_deps_1' type=NoOp>,\n",
       " <tf.Operation 'CondensedGoogLeNet/gradients/CondensedGoogLeNet/inception2/concat_grad/tuple/control_dependency_4' type=Identity>,\n",
       " <tf.Operation 'CondensedGoogLeNet/gradients/CondensedGoogLeNet/inception2/concat_grad/tuple/control_dependency_1_1' type=Identity>,\n",
       " <tf.Operation 'CondensedGoogLeNet/gradients/CondensedGoogLeNet/inception2/concat_grad/tuple/control_dependency_2_1' type=Identity>,\n",
       " <tf.Operation 'CondensedGoogLeNet/gradients/CondensedGoogLeNet/inception2/concat_grad/tuple/control_dependency_3_1' type=Identity>,\n",
       " <tf.Operation 'CondensedGoogLeNet/gradients/CondensedGoogLeNet/inception2/1x1_conv/convolution/activation_func_grad/TanhGrad_1' type=TanhGrad>,\n",
       " <tf.Operation 'CondensedGoogLeNet/gradients/CondensedGoogLeNet/inception2/3x3_conv1/convolution/activation_func_grad/TanhGrad_1' type=TanhGrad>,\n",
       " <tf.Operation 'CondensedGoogLeNet/gradients/CondensedGoogLeNet/inception2/5x5_conv1/convolution/activation_func_grad/TanhGrad_1' type=TanhGrad>,\n",
       " <tf.Operation 'CondensedGoogLeNet/gradients/CondensedGoogLeNet/inception2/pooling1_conv/convolution/activation_func_grad/TanhGrad_1' type=TanhGrad>,\n",
       " <tf.Operation 'CondensedGoogLeNet/gradients/CondensedGoogLeNet/inception2/1x1_conv/convolution/bias_add_grad/BiasAddGrad_1' type=BiasAddGrad>,\n",
       " <tf.Operation 'CondensedGoogLeNet/gradients/CondensedGoogLeNet/inception2/1x1_conv/convolution/bias_add_grad/tuple/group_deps_1' type=NoOp>,\n",
       " <tf.Operation 'CondensedGoogLeNet/gradients/CondensedGoogLeNet/inception2/1x1_conv/convolution/bias_add_grad/tuple/control_dependency_2' type=Identity>,\n",
       " <tf.Operation 'CondensedGoogLeNet/gradients/CondensedGoogLeNet/inception2/1x1_conv/convolution/bias_add_grad/tuple/control_dependency_1_1' type=Identity>,\n",
       " <tf.Operation 'CondensedGoogLeNet/gradients/CondensedGoogLeNet/inception2/3x3_conv1/convolution/bias_add_grad/BiasAddGrad_1' type=BiasAddGrad>,\n",
       " <tf.Operation 'CondensedGoogLeNet/gradients/CondensedGoogLeNet/inception2/3x3_conv1/convolution/bias_add_grad/tuple/group_deps_1' type=NoOp>,\n",
       " <tf.Operation 'CondensedGoogLeNet/gradients/CondensedGoogLeNet/inception2/3x3_conv1/convolution/bias_add_grad/tuple/control_dependency_2' type=Identity>,\n",
       " <tf.Operation 'CondensedGoogLeNet/gradients/CondensedGoogLeNet/inception2/3x3_conv1/convolution/bias_add_grad/tuple/control_dependency_1_1' type=Identity>,\n",
       " <tf.Operation 'CondensedGoogLeNet/gradients/CondensedGoogLeNet/inception2/5x5_conv1/convolution/bias_add_grad/BiasAddGrad_1' type=BiasAddGrad>,\n",
       " <tf.Operation 'CondensedGoogLeNet/gradients/CondensedGoogLeNet/inception2/5x5_conv1/convolution/bias_add_grad/tuple/group_deps_1' type=NoOp>,\n",
       " <tf.Operation 'CondensedGoogLeNet/gradients/CondensedGoogLeNet/inception2/5x5_conv1/convolution/bias_add_grad/tuple/control_dependency_2' type=Identity>,\n",
       " <tf.Operation 'CondensedGoogLeNet/gradients/CondensedGoogLeNet/inception2/5x5_conv1/convolution/bias_add_grad/tuple/control_dependency_1_1' type=Identity>,\n",
       " <tf.Operation 'CondensedGoogLeNet/gradients/CondensedGoogLeNet/inception2/pooling1_conv/convolution/bias_add_grad/BiasAddGrad_1' type=BiasAddGrad>,\n",
       " <tf.Operation 'CondensedGoogLeNet/gradients/CondensedGoogLeNet/inception2/pooling1_conv/convolution/bias_add_grad/tuple/group_deps_1' type=NoOp>,\n",
       " <tf.Operation 'CondensedGoogLeNet/gradients/CondensedGoogLeNet/inception2/pooling1_conv/convolution/bias_add_grad/tuple/control_dependency_2' type=Identity>,\n",
       " <tf.Operation 'CondensedGoogLeNet/gradients/CondensedGoogLeNet/inception2/pooling1_conv/convolution/bias_add_grad/tuple/control_dependency_1_1' type=Identity>,\n",
       " <tf.Operation 'CondensedGoogLeNet/gradients/CondensedGoogLeNet/inception2/1x1_conv/convolution/conv_grad/ShapeN_1' type=ShapeN>,\n",
       " <tf.Operation 'CondensedGoogLeNet/gradients/CondensedGoogLeNet/inception2/1x1_conv/convolution/conv_grad/Conv2DBackpropInput_1' type=Conv2DBackpropInput>,\n",
       " <tf.Operation 'CondensedGoogLeNet/gradients/CondensedGoogLeNet/inception2/1x1_conv/convolution/conv_grad/Conv2DBackpropFilter_1' type=Conv2DBackpropFilter>,\n",
       " <tf.Operation 'CondensedGoogLeNet/gradients/CondensedGoogLeNet/inception2/1x1_conv/convolution/conv_grad/tuple/group_deps_1' type=NoOp>,\n",
       " <tf.Operation 'CondensedGoogLeNet/gradients/CondensedGoogLeNet/inception2/1x1_conv/convolution/conv_grad/tuple/control_dependency_2' type=Identity>,\n",
       " <tf.Operation 'CondensedGoogLeNet/gradients/CondensedGoogLeNet/inception2/1x1_conv/convolution/conv_grad/tuple/control_dependency_1_1' type=Identity>,\n",
       " <tf.Operation 'CondensedGoogLeNet/gradients/CondensedGoogLeNet/inception2/3x3_conv1/convolution/conv_grad/ShapeN_1' type=ShapeN>,\n",
       " <tf.Operation 'CondensedGoogLeNet/gradients/CondensedGoogLeNet/inception2/3x3_conv1/convolution/conv_grad/Conv2DBackpropInput_1' type=Conv2DBackpropInput>,\n",
       " <tf.Operation 'CondensedGoogLeNet/gradients/CondensedGoogLeNet/inception2/3x3_conv1/convolution/conv_grad/Conv2DBackpropFilter_1' type=Conv2DBackpropFilter>,\n",
       " <tf.Operation 'CondensedGoogLeNet/gradients/CondensedGoogLeNet/inception2/3x3_conv1/convolution/conv_grad/tuple/group_deps_1' type=NoOp>,\n",
       " <tf.Operation 'CondensedGoogLeNet/gradients/CondensedGoogLeNet/inception2/3x3_conv1/convolution/conv_grad/tuple/control_dependency_2' type=Identity>,\n",
       " <tf.Operation 'CondensedGoogLeNet/gradients/CondensedGoogLeNet/inception2/3x3_conv1/convolution/conv_grad/tuple/control_dependency_1_1' type=Identity>,\n",
       " <tf.Operation 'CondensedGoogLeNet/gradients/CondensedGoogLeNet/inception2/5x5_conv1/convolution/conv_grad/ShapeN_1' type=ShapeN>,\n",
       " <tf.Operation 'CondensedGoogLeNet/gradients/CondensedGoogLeNet/inception2/5x5_conv1/convolution/conv_grad/Conv2DBackpropInput_1' type=Conv2DBackpropInput>,\n",
       " <tf.Operation 'CondensedGoogLeNet/gradients/CondensedGoogLeNet/inception2/5x5_conv1/convolution/conv_grad/Conv2DBackpropFilter_1' type=Conv2DBackpropFilter>,\n",
       " <tf.Operation 'CondensedGoogLeNet/gradients/CondensedGoogLeNet/inception2/5x5_conv1/convolution/conv_grad/tuple/group_deps_1' type=NoOp>,\n",
       " <tf.Operation 'CondensedGoogLeNet/gradients/CondensedGoogLeNet/inception2/5x5_conv1/convolution/conv_grad/tuple/control_dependency_2' type=Identity>,\n",
       " <tf.Operation 'CondensedGoogLeNet/gradients/CondensedGoogLeNet/inception2/5x5_conv1/convolution/conv_grad/tuple/control_dependency_1_1' type=Identity>,\n",
       " <tf.Operation 'CondensedGoogLeNet/gradients/CondensedGoogLeNet/inception2/pooling1_conv/convolution/conv_grad/ShapeN_1' type=ShapeN>,\n",
       " <tf.Operation 'CondensedGoogLeNet/gradients/CondensedGoogLeNet/inception2/pooling1_conv/convolution/conv_grad/Conv2DBackpropInput_1' type=Conv2DBackpropInput>,\n",
       " <tf.Operation 'CondensedGoogLeNet/gradients/CondensedGoogLeNet/inception2/pooling1_conv/convolution/conv_grad/Conv2DBackpropFilter_1' type=Conv2DBackpropFilter>,\n",
       " <tf.Operation 'CondensedGoogLeNet/gradients/CondensedGoogLeNet/inception2/pooling1_conv/convolution/conv_grad/tuple/group_deps_1' type=NoOp>,\n",
       " <tf.Operation 'CondensedGoogLeNet/gradients/CondensedGoogLeNet/inception2/pooling1_conv/convolution/conv_grad/tuple/control_dependency_2' type=Identity>,\n",
       " <tf.Operation 'CondensedGoogLeNet/gradients/CondensedGoogLeNet/inception2/pooling1_conv/convolution/conv_grad/tuple/control_dependency_1_1' type=Identity>,\n",
       " <tf.Operation 'CondensedGoogLeNet/gradients/CondensedGoogLeNet/inception2/3x3_conv1/pre_convolution/conv_grad/ShapeN_1' type=ShapeN>,\n",
       " <tf.Operation 'CondensedGoogLeNet/gradients/CondensedGoogLeNet/inception2/3x3_conv1/pre_convolution/conv_grad/Conv2DBackpropInput_1' type=Conv2DBackpropInput>,\n",
       " <tf.Operation 'CondensedGoogLeNet/gradients/CondensedGoogLeNet/inception2/3x3_conv1/pre_convolution/conv_grad/Conv2DBackpropFilter_1' type=Conv2DBackpropFilter>,\n",
       " <tf.Operation 'CondensedGoogLeNet/gradients/CondensedGoogLeNet/inception2/3x3_conv1/pre_convolution/conv_grad/tuple/group_deps_1' type=NoOp>,\n",
       " <tf.Operation 'CondensedGoogLeNet/gradients/CondensedGoogLeNet/inception2/3x3_conv1/pre_convolution/conv_grad/tuple/control_dependency_2' type=Identity>,\n",
       " <tf.Operation 'CondensedGoogLeNet/gradients/CondensedGoogLeNet/inception2/3x3_conv1/pre_convolution/conv_grad/tuple/control_dependency_1_1' type=Identity>,\n",
       " <tf.Operation 'CondensedGoogLeNet/gradients/CondensedGoogLeNet/inception2/5x5_conv1/pre_convolution/conv_grad/ShapeN_1' type=ShapeN>,\n",
       " <tf.Operation 'CondensedGoogLeNet/gradients/CondensedGoogLeNet/inception2/5x5_conv1/pre_convolution/conv_grad/Conv2DBackpropInput_1' type=Conv2DBackpropInput>,\n",
       " <tf.Operation 'CondensedGoogLeNet/gradients/CondensedGoogLeNet/inception2/5x5_conv1/pre_convolution/conv_grad/Conv2DBackpropFilter_1' type=Conv2DBackpropFilter>,\n",
       " <tf.Operation 'CondensedGoogLeNet/gradients/CondensedGoogLeNet/inception2/5x5_conv1/pre_convolution/conv_grad/tuple/group_deps_1' type=NoOp>,\n",
       " <tf.Operation 'CondensedGoogLeNet/gradients/CondensedGoogLeNet/inception2/5x5_conv1/pre_convolution/conv_grad/tuple/control_dependency_2' type=Identity>,\n",
       " <tf.Operation 'CondensedGoogLeNet/gradients/CondensedGoogLeNet/inception2/5x5_conv1/pre_convolution/conv_grad/tuple/control_dependency_1_1' type=Identity>,\n",
       " <tf.Operation 'CondensedGoogLeNet/gradients/AddN_1_1' type=AddN>,\n",
       " <tf.Operation 'CondensedGoogLeNet/gradients/CondensedGoogLeNet/inception1_maxP_grad/MaxPoolGrad_1' type=MaxPoolGrad>,\n",
       " <tf.Operation 'CondensedGoogLeNet/gradients/CondensedGoogLeNet/inception1/Tanh_grad/TanhGrad_1' type=TanhGrad>,\n",
       " <tf.Operation 'CondensedGoogLeNet/gradients/CondensedGoogLeNet/inception1/concat_grad/Rank_1' type=Const>,\n",
       " <tf.Operation 'CondensedGoogLeNet/gradients/CondensedGoogLeNet/inception1/concat_grad/mod_1' type=FloorMod>,\n",
       " <tf.Operation 'CondensedGoogLeNet/gradients/CondensedGoogLeNet/inception1/concat_grad/Shape_1' type=Shape>,\n",
       " <tf.Operation 'CondensedGoogLeNet/gradients/CondensedGoogLeNet/inception1/concat_grad/ShapeN_1' type=ShapeN>,\n",
       " <tf.Operation 'CondensedGoogLeNet/gradients/CondensedGoogLeNet/inception1/concat_grad/ConcatOffset_1' type=ConcatOffset>,\n",
       " <tf.Operation 'CondensedGoogLeNet/gradients/CondensedGoogLeNet/inception1/concat_grad/Slice_4' type=Slice>,\n",
       " <tf.Operation 'CondensedGoogLeNet/gradients/CondensedGoogLeNet/inception1/concat_grad/Slice_1_1' type=Slice>,\n",
       " <tf.Operation 'CondensedGoogLeNet/gradients/CondensedGoogLeNet/inception1/concat_grad/Slice_2_1' type=Slice>,\n",
       " <tf.Operation 'CondensedGoogLeNet/gradients/CondensedGoogLeNet/inception1/concat_grad/Slice_3_1' type=Slice>,\n",
       " <tf.Operation 'CondensedGoogLeNet/gradients/CondensedGoogLeNet/inception1/concat_grad/tuple/group_deps_1' type=NoOp>,\n",
       " <tf.Operation 'CondensedGoogLeNet/gradients/CondensedGoogLeNet/inception1/concat_grad/tuple/control_dependency_4' type=Identity>,\n",
       " <tf.Operation 'CondensedGoogLeNet/gradients/CondensedGoogLeNet/inception1/concat_grad/tuple/control_dependency_1_1' type=Identity>,\n",
       " <tf.Operation 'CondensedGoogLeNet/gradients/CondensedGoogLeNet/inception1/concat_grad/tuple/control_dependency_2_1' type=Identity>,\n",
       " <tf.Operation 'CondensedGoogLeNet/gradients/CondensedGoogLeNet/inception1/concat_grad/tuple/control_dependency_3_1' type=Identity>,\n",
       " <tf.Operation 'CondensedGoogLeNet/gradients/CondensedGoogLeNet/inception1/1x1_conv/convolution/activation_func_grad/TanhGrad_1' type=TanhGrad>,\n",
       " <tf.Operation 'CondensedGoogLeNet/gradients/CondensedGoogLeNet/inception1/3x3_conv1/convolution/activation_func_grad/TanhGrad_1' type=TanhGrad>,\n",
       " <tf.Operation 'CondensedGoogLeNet/gradients/CondensedGoogLeNet/inception1/5x5_conv1/convolution/activation_func_grad/TanhGrad_1' type=TanhGrad>,\n",
       " <tf.Operation 'CondensedGoogLeNet/gradients/CondensedGoogLeNet/inception1/pooling1_conv/convolution/activation_func_grad/TanhGrad_1' type=TanhGrad>,\n",
       " <tf.Operation 'CondensedGoogLeNet/gradients/CondensedGoogLeNet/inception1/1x1_conv/convolution/bias_add_grad/BiasAddGrad_1' type=BiasAddGrad>,\n",
       " <tf.Operation 'CondensedGoogLeNet/gradients/CondensedGoogLeNet/inception1/1x1_conv/convolution/bias_add_grad/tuple/group_deps_1' type=NoOp>,\n",
       " <tf.Operation 'CondensedGoogLeNet/gradients/CondensedGoogLeNet/inception1/1x1_conv/convolution/bias_add_grad/tuple/control_dependency_2' type=Identity>,\n",
       " <tf.Operation 'CondensedGoogLeNet/gradients/CondensedGoogLeNet/inception1/1x1_conv/convolution/bias_add_grad/tuple/control_dependency_1_1' type=Identity>,\n",
       " <tf.Operation 'CondensedGoogLeNet/gradients/CondensedGoogLeNet/inception1/3x3_conv1/convolution/bias_add_grad/BiasAddGrad_1' type=BiasAddGrad>,\n",
       " <tf.Operation 'CondensedGoogLeNet/gradients/CondensedGoogLeNet/inception1/3x3_conv1/convolution/bias_add_grad/tuple/group_deps_1' type=NoOp>,\n",
       " <tf.Operation 'CondensedGoogLeNet/gradients/CondensedGoogLeNet/inception1/3x3_conv1/convolution/bias_add_grad/tuple/control_dependency_2' type=Identity>,\n",
       " <tf.Operation 'CondensedGoogLeNet/gradients/CondensedGoogLeNet/inception1/3x3_conv1/convolution/bias_add_grad/tuple/control_dependency_1_1' type=Identity>,\n",
       " <tf.Operation 'CondensedGoogLeNet/gradients/CondensedGoogLeNet/inception1/5x5_conv1/convolution/bias_add_grad/BiasAddGrad_1' type=BiasAddGrad>,\n",
       " <tf.Operation 'CondensedGoogLeNet/gradients/CondensedGoogLeNet/inception1/5x5_conv1/convolution/bias_add_grad/tuple/group_deps_1' type=NoOp>,\n",
       " <tf.Operation 'CondensedGoogLeNet/gradients/CondensedGoogLeNet/inception1/5x5_conv1/convolution/bias_add_grad/tuple/control_dependency_2' type=Identity>,\n",
       " <tf.Operation 'CondensedGoogLeNet/gradients/CondensedGoogLeNet/inception1/5x5_conv1/convolution/bias_add_grad/tuple/control_dependency_1_1' type=Identity>,\n",
       " <tf.Operation 'CondensedGoogLeNet/gradients/CondensedGoogLeNet/inception1/pooling1_conv/convolution/bias_add_grad/BiasAddGrad_1' type=BiasAddGrad>,\n",
       " <tf.Operation 'CondensedGoogLeNet/gradients/CondensedGoogLeNet/inception1/pooling1_conv/convolution/bias_add_grad/tuple/group_deps_1' type=NoOp>,\n",
       " <tf.Operation 'CondensedGoogLeNet/gradients/CondensedGoogLeNet/inception1/pooling1_conv/convolution/bias_add_grad/tuple/control_dependency_2' type=Identity>,\n",
       " <tf.Operation 'CondensedGoogLeNet/gradients/CondensedGoogLeNet/inception1/pooling1_conv/convolution/bias_add_grad/tuple/control_dependency_1_1' type=Identity>,\n",
       " <tf.Operation 'CondensedGoogLeNet/gradients/CondensedGoogLeNet/inception1/1x1_conv/convolution/conv_grad/ShapeN_1' type=ShapeN>,\n",
       " <tf.Operation 'CondensedGoogLeNet/gradients/CondensedGoogLeNet/inception1/1x1_conv/convolution/conv_grad/Conv2DBackpropInput_1' type=Conv2DBackpropInput>,\n",
       " <tf.Operation 'CondensedGoogLeNet/gradients/CondensedGoogLeNet/inception1/1x1_conv/convolution/conv_grad/Conv2DBackpropFilter_1' type=Conv2DBackpropFilter>,\n",
       " <tf.Operation 'CondensedGoogLeNet/gradients/CondensedGoogLeNet/inception1/1x1_conv/convolution/conv_grad/tuple/group_deps_1' type=NoOp>,\n",
       " <tf.Operation 'CondensedGoogLeNet/gradients/CondensedGoogLeNet/inception1/1x1_conv/convolution/conv_grad/tuple/control_dependency_2' type=Identity>,\n",
       " <tf.Operation 'CondensedGoogLeNet/gradients/CondensedGoogLeNet/inception1/1x1_conv/convolution/conv_grad/tuple/control_dependency_1_1' type=Identity>,\n",
       " <tf.Operation 'CondensedGoogLeNet/gradients/CondensedGoogLeNet/inception1/3x3_conv1/convolution/conv_grad/ShapeN_1' type=ShapeN>,\n",
       " <tf.Operation 'CondensedGoogLeNet/gradients/CondensedGoogLeNet/inception1/3x3_conv1/convolution/conv_grad/Conv2DBackpropInput_1' type=Conv2DBackpropInput>,\n",
       " <tf.Operation 'CondensedGoogLeNet/gradients/CondensedGoogLeNet/inception1/3x3_conv1/convolution/conv_grad/Conv2DBackpropFilter_1' type=Conv2DBackpropFilter>,\n",
       " <tf.Operation 'CondensedGoogLeNet/gradients/CondensedGoogLeNet/inception1/3x3_conv1/convolution/conv_grad/tuple/group_deps_1' type=NoOp>,\n",
       " <tf.Operation 'CondensedGoogLeNet/gradients/CondensedGoogLeNet/inception1/3x3_conv1/convolution/conv_grad/tuple/control_dependency_2' type=Identity>,\n",
       " <tf.Operation 'CondensedGoogLeNet/gradients/CondensedGoogLeNet/inception1/3x3_conv1/convolution/conv_grad/tuple/control_dependency_1_1' type=Identity>,\n",
       " <tf.Operation 'CondensedGoogLeNet/gradients/CondensedGoogLeNet/inception1/5x5_conv1/convolution/conv_grad/ShapeN_1' type=ShapeN>,\n",
       " <tf.Operation 'CondensedGoogLeNet/gradients/CondensedGoogLeNet/inception1/5x5_conv1/convolution/conv_grad/Conv2DBackpropInput_1' type=Conv2DBackpropInput>,\n",
       " <tf.Operation 'CondensedGoogLeNet/gradients/CondensedGoogLeNet/inception1/5x5_conv1/convolution/conv_grad/Conv2DBackpropFilter_1' type=Conv2DBackpropFilter>,\n",
       " <tf.Operation 'CondensedGoogLeNet/gradients/CondensedGoogLeNet/inception1/5x5_conv1/convolution/conv_grad/tuple/group_deps_1' type=NoOp>,\n",
       " <tf.Operation 'CondensedGoogLeNet/gradients/CondensedGoogLeNet/inception1/5x5_conv1/convolution/conv_grad/tuple/control_dependency_2' type=Identity>,\n",
       " <tf.Operation 'CondensedGoogLeNet/gradients/CondensedGoogLeNet/inception1/5x5_conv1/convolution/conv_grad/tuple/control_dependency_1_1' type=Identity>,\n",
       " <tf.Operation 'CondensedGoogLeNet/gradients/CondensedGoogLeNet/inception1/pooling1_conv/convolution/conv_grad/ShapeN_1' type=ShapeN>,\n",
       " <tf.Operation 'CondensedGoogLeNet/gradients/CondensedGoogLeNet/inception1/pooling1_conv/convolution/conv_grad/Conv2DBackpropInput_1' type=Conv2DBackpropInput>,\n",
       " <tf.Operation 'CondensedGoogLeNet/gradients/CondensedGoogLeNet/inception1/pooling1_conv/convolution/conv_grad/Conv2DBackpropFilter_1' type=Conv2DBackpropFilter>,\n",
       " <tf.Operation 'CondensedGoogLeNet/gradients/CondensedGoogLeNet/inception1/pooling1_conv/convolution/conv_grad/tuple/group_deps_1' type=NoOp>,\n",
       " <tf.Operation 'CondensedGoogLeNet/gradients/CondensedGoogLeNet/inception1/pooling1_conv/convolution/conv_grad/tuple/control_dependency_2' type=Identity>,\n",
       " <tf.Operation 'CondensedGoogLeNet/gradients/CondensedGoogLeNet/inception1/pooling1_conv/convolution/conv_grad/tuple/control_dependency_1_1' type=Identity>,\n",
       " <tf.Operation 'CondensedGoogLeNet/gradients/CondensedGoogLeNet/inception1/3x3_conv1/pre_convolution/conv_grad/ShapeN_1' type=ShapeN>,\n",
       " <tf.Operation 'CondensedGoogLeNet/gradients/CondensedGoogLeNet/inception1/3x3_conv1/pre_convolution/conv_grad/Conv2DBackpropInput_1' type=Conv2DBackpropInput>,\n",
       " <tf.Operation 'CondensedGoogLeNet/gradients/CondensedGoogLeNet/inception1/3x3_conv1/pre_convolution/conv_grad/Conv2DBackpropFilter_1' type=Conv2DBackpropFilter>,\n",
       " <tf.Operation 'CondensedGoogLeNet/gradients/CondensedGoogLeNet/inception1/3x3_conv1/pre_convolution/conv_grad/tuple/group_deps_1' type=NoOp>,\n",
       " <tf.Operation 'CondensedGoogLeNet/gradients/CondensedGoogLeNet/inception1/3x3_conv1/pre_convolution/conv_grad/tuple/control_dependency_2' type=Identity>,\n",
       " <tf.Operation 'CondensedGoogLeNet/gradients/CondensedGoogLeNet/inception1/3x3_conv1/pre_convolution/conv_grad/tuple/control_dependency_1_1' type=Identity>,\n",
       " <tf.Operation 'CondensedGoogLeNet/gradients/CondensedGoogLeNet/inception1/5x5_conv1/pre_convolution/conv_grad/ShapeN_1' type=ShapeN>,\n",
       " <tf.Operation 'CondensedGoogLeNet/gradients/CondensedGoogLeNet/inception1/5x5_conv1/pre_convolution/conv_grad/Conv2DBackpropInput_1' type=Conv2DBackpropInput>,\n",
       " <tf.Operation 'CondensedGoogLeNet/gradients/CondensedGoogLeNet/inception1/5x5_conv1/pre_convolution/conv_grad/Conv2DBackpropFilter_1' type=Conv2DBackpropFilter>,\n",
       " <tf.Operation 'CondensedGoogLeNet/gradients/CondensedGoogLeNet/inception1/5x5_conv1/pre_convolution/conv_grad/tuple/group_deps_1' type=NoOp>,\n",
       " <tf.Operation 'CondensedGoogLeNet/gradients/CondensedGoogLeNet/inception1/5x5_conv1/pre_convolution/conv_grad/tuple/control_dependency_2' type=Identity>,\n",
       " <tf.Operation 'CondensedGoogLeNet/gradients/CondensedGoogLeNet/inception1/5x5_conv1/pre_convolution/conv_grad/tuple/control_dependency_1_1' type=Identity>,\n",
       " <tf.Operation 'CondensedGoogLeNet/gradients/AddN_2_1' type=AddN>,\n",
       " <tf.Operation 'CondensedGoogLeNet/gradients/CondensedGoogLeNet/conv2_maxP_grad/MaxPoolGrad_1' type=MaxPoolGrad>,\n",
       " <tf.Operation 'CondensedGoogLeNet/gradients/CondensedGoogLeNet/conv2_conv/convolution/activation_func_grad/TanhGrad_1' type=TanhGrad>,\n",
       " <tf.Operation 'CondensedGoogLeNet/gradients/CondensedGoogLeNet/conv2_conv/convolution/bias_add_grad/BiasAddGrad_1' type=BiasAddGrad>,\n",
       " <tf.Operation 'CondensedGoogLeNet/gradients/CondensedGoogLeNet/conv2_conv/convolution/bias_add_grad/tuple/group_deps_1' type=NoOp>,\n",
       " <tf.Operation 'CondensedGoogLeNet/gradients/CondensedGoogLeNet/conv2_conv/convolution/bias_add_grad/tuple/control_dependency_2' type=Identity>,\n",
       " <tf.Operation 'CondensedGoogLeNet/gradients/CondensedGoogLeNet/conv2_conv/convolution/bias_add_grad/tuple/control_dependency_1_1' type=Identity>,\n",
       " <tf.Operation 'CondensedGoogLeNet/gradients/CondensedGoogLeNet/conv2_conv/convolution/conv_grad/ShapeN_1' type=ShapeN>,\n",
       " <tf.Operation 'CondensedGoogLeNet/gradients/CondensedGoogLeNet/conv2_conv/convolution/conv_grad/Conv2DBackpropInput_1' type=Conv2DBackpropInput>,\n",
       " <tf.Operation 'CondensedGoogLeNet/gradients/CondensedGoogLeNet/conv2_conv/convolution/conv_grad/Conv2DBackpropFilter_1' type=Conv2DBackpropFilter>,\n",
       " <tf.Operation 'CondensedGoogLeNet/gradients/CondensedGoogLeNet/conv2_conv/convolution/conv_grad/tuple/group_deps_1' type=NoOp>,\n",
       " <tf.Operation 'CondensedGoogLeNet/gradients/CondensedGoogLeNet/conv2_conv/convolution/conv_grad/tuple/control_dependency_2' type=Identity>,\n",
       " <tf.Operation 'CondensedGoogLeNet/gradients/CondensedGoogLeNet/conv2_conv/convolution/conv_grad/tuple/control_dependency_1_1' type=Identity>,\n",
       " <tf.Operation 'CondensedGoogLeNet/gradients/CondensedGoogLeNet/conv1_maxP_grad/MaxPoolGrad_1' type=MaxPoolGrad>,\n",
       " <tf.Operation 'CondensedGoogLeNet/gradients/CondensedGoogLeNet/conv1_conv/convolution/activation_func_grad/TanhGrad_1' type=TanhGrad>,\n",
       " <tf.Operation 'CondensedGoogLeNet/gradients/CondensedGoogLeNet/conv1_conv/convolution/bias_add_grad/BiasAddGrad_1' type=BiasAddGrad>,\n",
       " <tf.Operation 'CondensedGoogLeNet/gradients/CondensedGoogLeNet/conv1_conv/convolution/bias_add_grad/tuple/group_deps_1' type=NoOp>,\n",
       " <tf.Operation 'CondensedGoogLeNet/gradients/CondensedGoogLeNet/conv1_conv/convolution/bias_add_grad/tuple/control_dependency_2' type=Identity>,\n",
       " <tf.Operation 'CondensedGoogLeNet/gradients/CondensedGoogLeNet/conv1_conv/convolution/bias_add_grad/tuple/control_dependency_1_1' type=Identity>,\n",
       " <tf.Operation 'CondensedGoogLeNet/gradients/CondensedGoogLeNet/conv1_conv/convolution/conv_grad/ShapeN_1' type=ShapeN>,\n",
       " <tf.Operation 'CondensedGoogLeNet/gradients/CondensedGoogLeNet/conv1_conv/convolution/conv_grad/Conv2DBackpropInput_1' type=Conv2DBackpropInput>,\n",
       " <tf.Operation 'CondensedGoogLeNet/gradients/CondensedGoogLeNet/conv1_conv/convolution/conv_grad/Conv2DBackpropFilter_1' type=Conv2DBackpropFilter>,\n",
       " <tf.Operation 'CondensedGoogLeNet/gradients/CondensedGoogLeNet/conv1_conv/convolution/conv_grad/tuple/group_deps_1' type=NoOp>,\n",
       " <tf.Operation 'CondensedGoogLeNet/gradients/CondensedGoogLeNet/conv1_conv/convolution/conv_grad/tuple/control_dependency_2' type=Identity>,\n",
       " <tf.Operation 'CondensedGoogLeNet/gradients/CondensedGoogLeNet/conv1_conv/convolution/conv_grad/tuple/control_dependency_1_1' type=Identity>,\n",
       " <tf.Operation 'CondensedGoogLeNet/beta1_power/initial_value_1' type=Const>,\n",
       " <tf.Operation 'CondensedGoogLeNet/beta1_power_1' type=VariableV2>,\n",
       " <tf.Operation 'CondensedGoogLeNet/beta1_power/Assign_1' type=Assign>,\n",
       " <tf.Operation 'CondensedGoogLeNet/beta1_power/read_1' type=Identity>,\n",
       " <tf.Operation 'CondensedGoogLeNet/beta2_power/initial_value_1' type=Const>,\n",
       " <tf.Operation 'CondensedGoogLeNet/beta2_power_1' type=VariableV2>,\n",
       " <tf.Operation 'CondensedGoogLeNet/beta2_power/Assign_1' type=Assign>,\n",
       " <tf.Operation 'CondensedGoogLeNet/beta2_power/read_1' type=Identity>,\n",
       " <tf.Operation 'CondensedGoogLeNet/CondensedGoogLeNet/conv1_conv/convolution/weights/Adam/Initializer/zeros/shape_as_tensor_1' type=Const>,\n",
       " <tf.Operation 'CondensedGoogLeNet/CondensedGoogLeNet/conv1_conv/convolution/weights/Adam/Initializer/zeros/Const_1' type=Const>,\n",
       " <tf.Operation 'CondensedGoogLeNet/CondensedGoogLeNet/conv1_conv/convolution/weights/Adam/Initializer/zeros_1' type=Fill>,\n",
       " <tf.Operation 'CondensedGoogLeNet/CondensedGoogLeNet/conv1_conv/convolution/weights/Adam_2' type=VariableV2>,\n",
       " <tf.Operation 'CondensedGoogLeNet/CondensedGoogLeNet/conv1_conv/convolution/weights/Adam/Assign_1' type=Assign>,\n",
       " <tf.Operation 'CondensedGoogLeNet/CondensedGoogLeNet/conv1_conv/convolution/weights/Adam/read_1' type=Identity>,\n",
       " <tf.Operation 'CondensedGoogLeNet/CondensedGoogLeNet/conv1_conv/convolution/weights/Adam_1/Initializer/zeros/shape_as_tensor_1' type=Const>,\n",
       " <tf.Operation 'CondensedGoogLeNet/CondensedGoogLeNet/conv1_conv/convolution/weights/Adam_1/Initializer/zeros/Const_1' type=Const>,\n",
       " <tf.Operation 'CondensedGoogLeNet/CondensedGoogLeNet/conv1_conv/convolution/weights/Adam_1/Initializer/zeros_1' type=Fill>,\n",
       " <tf.Operation 'CondensedGoogLeNet/CondensedGoogLeNet/conv1_conv/convolution/weights/Adam_1_1' type=VariableV2>,\n",
       " <tf.Operation 'CondensedGoogLeNet/CondensedGoogLeNet/conv1_conv/convolution/weights/Adam_1/Assign_1' type=Assign>,\n",
       " <tf.Operation 'CondensedGoogLeNet/CondensedGoogLeNet/conv1_conv/convolution/weights/Adam_1/read_1' type=Identity>,\n",
       " <tf.Operation 'CondensedGoogLeNet/CondensedGoogLeNet/conv1_conv/convolution/biases/Adam/Initializer/zeros_1' type=Const>,\n",
       " <tf.Operation 'CondensedGoogLeNet/CondensedGoogLeNet/conv1_conv/convolution/biases/Adam_2' type=VariableV2>,\n",
       " <tf.Operation 'CondensedGoogLeNet/CondensedGoogLeNet/conv1_conv/convolution/biases/Adam/Assign_1' type=Assign>,\n",
       " <tf.Operation 'CondensedGoogLeNet/CondensedGoogLeNet/conv1_conv/convolution/biases/Adam/read_1' type=Identity>,\n",
       " <tf.Operation 'CondensedGoogLeNet/CondensedGoogLeNet/conv1_conv/convolution/biases/Adam_1/Initializer/zeros_1' type=Const>,\n",
       " <tf.Operation 'CondensedGoogLeNet/CondensedGoogLeNet/conv1_conv/convolution/biases/Adam_1_1' type=VariableV2>,\n",
       " <tf.Operation 'CondensedGoogLeNet/CondensedGoogLeNet/conv1_conv/convolution/biases/Adam_1/Assign_1' type=Assign>,\n",
       " <tf.Operation 'CondensedGoogLeNet/CondensedGoogLeNet/conv1_conv/convolution/biases/Adam_1/read_1' type=Identity>,\n",
       " <tf.Operation 'CondensedGoogLeNet/CondensedGoogLeNet/conv2_conv/convolution/weights/Adam/Initializer/zeros/shape_as_tensor_1' type=Const>,\n",
       " <tf.Operation 'CondensedGoogLeNet/CondensedGoogLeNet/conv2_conv/convolution/weights/Adam/Initializer/zeros/Const_1' type=Const>,\n",
       " <tf.Operation 'CondensedGoogLeNet/CondensedGoogLeNet/conv2_conv/convolution/weights/Adam/Initializer/zeros_1' type=Fill>,\n",
       " <tf.Operation 'CondensedGoogLeNet/CondensedGoogLeNet/conv2_conv/convolution/weights/Adam_2' type=VariableV2>,\n",
       " <tf.Operation 'CondensedGoogLeNet/CondensedGoogLeNet/conv2_conv/convolution/weights/Adam/Assign_1' type=Assign>,\n",
       " <tf.Operation 'CondensedGoogLeNet/CondensedGoogLeNet/conv2_conv/convolution/weights/Adam/read_1' type=Identity>,\n",
       " <tf.Operation 'CondensedGoogLeNet/CondensedGoogLeNet/conv2_conv/convolution/weights/Adam_1/Initializer/zeros/shape_as_tensor_1' type=Const>,\n",
       " <tf.Operation 'CondensedGoogLeNet/CondensedGoogLeNet/conv2_conv/convolution/weights/Adam_1/Initializer/zeros/Const_1' type=Const>,\n",
       " <tf.Operation 'CondensedGoogLeNet/CondensedGoogLeNet/conv2_conv/convolution/weights/Adam_1/Initializer/zeros_1' type=Fill>,\n",
       " <tf.Operation 'CondensedGoogLeNet/CondensedGoogLeNet/conv2_conv/convolution/weights/Adam_1_1' type=VariableV2>,\n",
       " <tf.Operation 'CondensedGoogLeNet/CondensedGoogLeNet/conv2_conv/convolution/weights/Adam_1/Assign_1' type=Assign>,\n",
       " <tf.Operation 'CondensedGoogLeNet/CondensedGoogLeNet/conv2_conv/convolution/weights/Adam_1/read_1' type=Identity>,\n",
       " <tf.Operation 'CondensedGoogLeNet/CondensedGoogLeNet/conv2_conv/convolution/biases/Adam/Initializer/zeros_1' type=Const>,\n",
       " <tf.Operation 'CondensedGoogLeNet/CondensedGoogLeNet/conv2_conv/convolution/biases/Adam_2' type=VariableV2>,\n",
       " <tf.Operation 'CondensedGoogLeNet/CondensedGoogLeNet/conv2_conv/convolution/biases/Adam/Assign_1' type=Assign>,\n",
       " <tf.Operation 'CondensedGoogLeNet/CondensedGoogLeNet/conv2_conv/convolution/biases/Adam/read_1' type=Identity>,\n",
       " <tf.Operation 'CondensedGoogLeNet/CondensedGoogLeNet/conv2_conv/convolution/biases/Adam_1/Initializer/zeros_1' type=Const>,\n",
       " <tf.Operation 'CondensedGoogLeNet/CondensedGoogLeNet/conv2_conv/convolution/biases/Adam_1_1' type=VariableV2>,\n",
       " <tf.Operation 'CondensedGoogLeNet/CondensedGoogLeNet/conv2_conv/convolution/biases/Adam_1/Assign_1' type=Assign>,\n",
       " <tf.Operation 'CondensedGoogLeNet/CondensedGoogLeNet/conv2_conv/convolution/biases/Adam_1/read_1' type=Identity>,\n",
       " <tf.Operation 'CondensedGoogLeNet/CondensedGoogLeNet/inception1/1x1_conv/convolution/weights/Adam/Initializer/zeros_1' type=Const>,\n",
       " <tf.Operation 'CondensedGoogLeNet/CondensedGoogLeNet/inception1/1x1_conv/convolution/weights/Adam_2' type=VariableV2>,\n",
       " <tf.Operation 'CondensedGoogLeNet/CondensedGoogLeNet/inception1/1x1_conv/convolution/weights/Adam/Assign_1' type=Assign>,\n",
       " <tf.Operation 'CondensedGoogLeNet/CondensedGoogLeNet/inception1/1x1_conv/convolution/weights/Adam/read_1' type=Identity>,\n",
       " <tf.Operation 'CondensedGoogLeNet/CondensedGoogLeNet/inception1/1x1_conv/convolution/weights/Adam_1/Initializer/zeros_1' type=Const>,\n",
       " <tf.Operation 'CondensedGoogLeNet/CondensedGoogLeNet/inception1/1x1_conv/convolution/weights/Adam_1_1' type=VariableV2>,\n",
       " <tf.Operation 'CondensedGoogLeNet/CondensedGoogLeNet/inception1/1x1_conv/convolution/weights/Adam_1/Assign_1' type=Assign>,\n",
       " <tf.Operation 'CondensedGoogLeNet/CondensedGoogLeNet/inception1/1x1_conv/convolution/weights/Adam_1/read_1' type=Identity>,\n",
       " <tf.Operation 'CondensedGoogLeNet/CondensedGoogLeNet/inception1/1x1_conv/convolution/biases/Adam/Initializer/zeros_1' type=Const>,\n",
       " <tf.Operation 'CondensedGoogLeNet/CondensedGoogLeNet/inception1/1x1_conv/convolution/biases/Adam_2' type=VariableV2>,\n",
       " <tf.Operation 'CondensedGoogLeNet/CondensedGoogLeNet/inception1/1x1_conv/convolution/biases/Adam/Assign_1' type=Assign>,\n",
       " <tf.Operation 'CondensedGoogLeNet/CondensedGoogLeNet/inception1/1x1_conv/convolution/biases/Adam/read_1' type=Identity>,\n",
       " <tf.Operation 'CondensedGoogLeNet/CondensedGoogLeNet/inception1/1x1_conv/convolution/biases/Adam_1/Initializer/zeros_1' type=Const>,\n",
       " <tf.Operation 'CondensedGoogLeNet/CondensedGoogLeNet/inception1/1x1_conv/convolution/biases/Adam_1_1' type=VariableV2>,\n",
       " <tf.Operation 'CondensedGoogLeNet/CondensedGoogLeNet/inception1/1x1_conv/convolution/biases/Adam_1/Assign_1' type=Assign>,\n",
       " <tf.Operation 'CondensedGoogLeNet/CondensedGoogLeNet/inception1/1x1_conv/convolution/biases/Adam_1/read_1' type=Identity>,\n",
       " <tf.Operation 'CondensedGoogLeNet/CondensedGoogLeNet/inception1/3x3_conv1/pre_convolution/weights_pre/Adam/Initializer/zeros_1' type=Const>,\n",
       " <tf.Operation 'CondensedGoogLeNet/CondensedGoogLeNet/inception1/3x3_conv1/pre_convolution/weights_pre/Adam_2' type=VariableV2>,\n",
       " <tf.Operation 'CondensedGoogLeNet/CondensedGoogLeNet/inception1/3x3_conv1/pre_convolution/weights_pre/Adam/Assign_1' type=Assign>,\n",
       " <tf.Operation 'CondensedGoogLeNet/CondensedGoogLeNet/inception1/3x3_conv1/pre_convolution/weights_pre/Adam/read_1' type=Identity>,\n",
       " <tf.Operation 'CondensedGoogLeNet/CondensedGoogLeNet/inception1/3x3_conv1/pre_convolution/weights_pre/Adam_1/Initializer/zeros_1' type=Const>,\n",
       " <tf.Operation 'CondensedGoogLeNet/CondensedGoogLeNet/inception1/3x3_conv1/pre_convolution/weights_pre/Adam_1_1' type=VariableV2>,\n",
       " <tf.Operation 'CondensedGoogLeNet/CondensedGoogLeNet/inception1/3x3_conv1/pre_convolution/weights_pre/Adam_1/Assign_1' type=Assign>,\n",
       " <tf.Operation 'CondensedGoogLeNet/CondensedGoogLeNet/inception1/3x3_conv1/pre_convolution/weights_pre/Adam_1/read_1' type=Identity>,\n",
       " <tf.Operation 'CondensedGoogLeNet/CondensedGoogLeNet/inception1/3x3_conv1/convolution/weights/Adam/Initializer/zeros_1' type=Const>,\n",
       " <tf.Operation 'CondensedGoogLeNet/CondensedGoogLeNet/inception1/3x3_conv1/convolution/weights/Adam_2' type=VariableV2>,\n",
       " <tf.Operation 'CondensedGoogLeNet/CondensedGoogLeNet/inception1/3x3_conv1/convolution/weights/Adam/Assign_1' type=Assign>,\n",
       " <tf.Operation 'CondensedGoogLeNet/CondensedGoogLeNet/inception1/3x3_conv1/convolution/weights/Adam/read_1' type=Identity>,\n",
       " <tf.Operation 'CondensedGoogLeNet/CondensedGoogLeNet/inception1/3x3_conv1/convolution/weights/Adam_1/Initializer/zeros_1' type=Const>,\n",
       " <tf.Operation 'CondensedGoogLeNet/CondensedGoogLeNet/inception1/3x3_conv1/convolution/weights/Adam_1_1' type=VariableV2>,\n",
       " <tf.Operation 'CondensedGoogLeNet/CondensedGoogLeNet/inception1/3x3_conv1/convolution/weights/Adam_1/Assign_1' type=Assign>,\n",
       " ...]"
      ]
     },
     "execution_count": 58,
     "metadata": {},
     "output_type": "execute_result"
    }
   ],
   "source": [
    "graph.get_operations()[1000:]"
   ]
  },
  {
   "cell_type": "markdown",
   "metadata": {},
   "source": [
    "+ CondensedGoogLeNet/loss/Mean gets the loss\n",
    "+ CondensedGoogLeNet/Adam gets the optimizer\n",
    "+ CondensedGoogLeNet/accuracy/Mean gets the accuracy\n",
    "    + we can get the validation error just after\n",
    "+ CondensedGoogLeNet/Merge/MergeSummary gets the summary op\n",
    "+ CondensedGoogLeNet/init gets init_op\n",
    "+ "
   ]
  },
  {
   "cell_type": "code",
   "execution_count": 29,
   "metadata": {},
   "outputs": [],
   "source": [
    "output = graph.get_tensor_by_name('CondensedGoogLeNet/output:0')\n",
    "train_op = graph.get_tensor_by_name('CondensedGoogLeNet/Adam:0')\n",
    "x = graph.get_tensor_by_name('CondensedGoogLeNet/x:0')\n",
    "y = graph.get_tensor_by_name('CondensedGoogLeNet/y:0')\n",
    "# loss = graph.get_tensor_by_name('CondensedGoogLeNet/loss/Mean:0')"
   ]
  },
  {
   "cell_type": "code",
   "execution_count": 46,
   "metadata": {},
   "outputs": [],
   "source": [
    "pred = sess.run(train_op,feed_dict={x:X_val1[:100],y:Y_val1[:100]})"
   ]
  },
  {
   "cell_type": "code",
   "execution_count": 53,
   "metadata": {},
   "outputs": [
    {
     "data": {
      "text/plain": [
       "<tf.Operation 'CondensedGoogLeNet/init' type=NoOp>"
      ]
     },
     "execution_count": 53,
     "metadata": {},
     "output_type": "execute_result"
    }
   ],
   "source": [
    "network.init"
   ]
  },
  {
   "cell_type": "code",
   "execution_count": 49,
   "metadata": {},
   "outputs": [
    {
     "data": {
      "text/plain": [
       "<tf.Tensor 'CondensedGoogLeNet/Adam:0' shape=() dtype=int32_ref>"
      ]
     },
     "execution_count": 49,
     "metadata": {},
     "output_type": "execute_result"
    }
   ],
   "source": [
    "train_op"
   ]
  },
  {
   "cell_type": "code",
   "execution_count": 47,
   "metadata": {},
   "outputs": [
    {
     "data": {
      "text/plain": [
       "408"
      ]
     },
     "execution_count": 47,
     "metadata": {},
     "output_type": "execute_result"
    }
   ],
   "source": [
    "pred"
   ]
  },
  {
   "cell_type": "code",
   "execution_count": 48,
   "metadata": {},
   "outputs": [
    {
     "data": {
      "text/plain": [
       "array([[0.54534346, 0.31630963, 0.13834698],\n",
       "       [0.24215752, 0.27100408, 0.48683837],\n",
       "       [0.19895326, 0.2448365 , 0.5562103 ],\n",
       "       [0.46735036, 0.3460878 , 0.18656184],\n",
       "       [0.28557023, 0.5997592 , 0.11467056],\n",
       "       [0.3116192 , 0.43605033, 0.25233048],\n",
       "       [0.21186991, 0.61546487, 0.17266521],\n",
       "       [0.23539183, 0.67194796, 0.09266017],\n",
       "       [0.12098232, 0.7968117 , 0.08220595],\n",
       "       [0.13915536, 0.7540392 , 0.10680544],\n",
       "       [0.26458594, 0.61498356, 0.1204305 ],\n",
       "       [0.2907207 , 0.5771785 , 0.13210084],\n",
       "       [0.18505928, 0.5521796 , 0.26276112],\n",
       "       [0.20635134, 0.5497223 , 0.2439263 ],\n",
       "       [0.28695482, 0.5000306 , 0.2130146 ]], dtype=float32)"
      ]
     },
     "execution_count": 48,
     "metadata": {},
     "output_type": "execute_result"
    }
   ],
   "source": [
    "pred = sess.run(output,feed_dict={x:X_val1[:15]})\n",
    "pred"
   ]
  },
  {
   "cell_type": "code",
   "execution_count": 58,
   "metadata": {},
   "outputs": [
    {
     "data": {
      "text/plain": [
       "(1885, 16, 16, 4)"
      ]
     },
     "execution_count": 58,
     "metadata": {},
     "output_type": "execute_result"
    }
   ],
   "source": [
    "X_val.shape"
   ]
  },
  {
   "cell_type": "code",
   "execution_count": 61,
   "metadata": {},
   "outputs": [
    {
     "data": {
      "text/plain": [
       "array([[<matplotlib.axes._subplots.AxesSubplot object at 0x000001EB8140E128>]],\n",
       "      dtype=object)"
      ]
     },
     "execution_count": 61,
     "metadata": {},
     "output_type": "execute_result"
    },
    {
     "data": {
      "image/png": "[encoded data removed]",
      "text/plain": [
       "<Figure size 432x288 with 1 Axes>"
      ]
     },
     "metadata": {},
     "output_type": "display_data"
    }
   ],
   "source": [
    "pd.DataFrame(np.max(pred,axis=1)).hist(bins=100)"
   ]
  },
  {
   "cell_type": "code",
   "execution_count": 46,
   "metadata": {},
   "outputs": [
    {
     "data": {
      "text/plain": [
       "array([[0.37601736, 0.38016203, 0.24382067],\n",
       "       [0.33472654, 0.37284032, 0.2924331 ],\n",
       "       [0.35309193, 0.30750227, 0.33940583],\n",
       "       [0.3471133 , 0.32821226, 0.3246745 ],\n",
       "       [0.3240848 , 0.3507759 , 0.3251393 ]], dtype=float32)"
      ]
     },
     "execution_count": 46,
     "metadata": {},
     "output_type": "execute_result"
    }
   ],
   "source": [
    "pred[:5]"
   ]
  },
  {
   "cell_type": "code",
   "execution_count": 42,
   "metadata": {},
   "outputs": [
    {
     "data": {
      "text/plain": [
       "array([[0.38847148, 0.36652684, 0.24500167],\n",
       "       [0.32993904, 0.42600474, 0.24405627],\n",
       "       [0.32316726, 0.3760524 , 0.30078036],\n",
       "       [0.33141774, 0.36307806, 0.3055042 ],\n",
       "       [0.36576766, 0.33067912, 0.30355325]], dtype=float32)"
      ]
     },
     "execution_count": 42,
     "metadata": {},
     "output_type": "execute_result"
    }
   ],
   "source": [
    "GN_pred[:5]"
   ]
  },
  {
   "cell_type": "code",
   "execution_count": 43,
   "metadata": {},
   "outputs": [
    {
     "data": {
      "text/plain": [
       "array([[0, 1, 0],\n",
       "       [0, 1, 0],\n",
       "       [0, 1, 0],\n",
       "       [1, 0, 0],\n",
       "       [0, 1, 0]])"
      ]
     },
     "execution_count": 43,
     "metadata": {},
     "output_type": "execute_result"
    }
   ],
   "source": [
    "Y_val[:5]"
   ]
  },
  {
   "cell_type": "code",
   "execution_count": 16,
   "metadata": {},
   "outputs": [
    {
     "data": {
      "text/plain": [
       "(1885, 3)"
      ]
     },
     "execution_count": 16,
     "metadata": {},
     "output_type": "execute_result"
    }
   ],
   "source": [
    "pred.shape"
   ]
  },
  {
   "cell_type": "code",
   "execution_count": null,
   "metadata": {},
   "outputs": [],
   "source": [
    "tf.reset_default_graph()\n",
    "\n",
    "# Create some variables.\n",
    "v1 = tf.get_variable(\"v1\", shape=[3])\n",
    "v2 = tf.get_variable(\"v2\", shape=[5])\n",
    "\n",
    "# Add ops to save and restore all the variables.\n",
    "saver = tf.train.Saver()\n",
    "\n",
    "# Later, launch the model, use the saver to restore variables from disk, and\n",
    "# do some work with the model.\n",
    "with tf.Session() as sess:\n",
    "  # Restore variables from disk.\n",
    "  saver.restore(sess, \"/tmp/model.ckpt\")\n",
    "  print(\"Model restored.\")\n",
    "  # Check the values of the variables\n",
    "  print(\"v1 : %s\" % v1.eval())\n",
    "  print(\"v2 : %s\" % v2.eval())"
   ]
  },
  {
   "cell_type": "code",
   "execution_count": null,
   "metadata": {},
   "outputs": [],
   "source": [
    "tf.train.latest_checkpoint"
   ]
  },
  {
   "cell_type": "code",
   "execution_count": 3,
   "metadata": {},
   "outputs": [
    {
     "data": {
      "text/plain": [
       "5"
      ]
     },
     "execution_count": 3,
     "metadata": {},
     "output_type": "execute_result"
    }
   ],
   "source": [
    "tf.train.import_meta_graph"
   ]
  }
 ],
 "metadata": {
  "kernelspec": {
   "display_name": "Python 3",
   "language": "python",
   "name": "python3"
  },
  "language_info": {
   "codemirror_mode": {
    "name": "ipython",
    "version": 3
   },
   "file_extension": ".py",
   "mimetype": "text/x-python",
   "name": "python",
   "nbconvert_exporter": "python",
   "pygments_lexer": "ipython3",
   "version": "3.6.5"
  }
 },
 "nbformat": 4,
 "nbformat_minor": 2
}
