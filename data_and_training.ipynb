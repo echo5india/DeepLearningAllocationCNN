{
 "cells": [
  {
   "cell_type": "code",
   "execution_count": 1,
   "metadata": {},
   "outputs": [
    {
     "name": "stderr",
     "output_type": "stream",
     "text": [
      "C:\\ProgramData\\Anaconda3\\lib\\site-packages\\h5py\\__init__.py:36: FutureWarning: Conversion of the second argument of issubdtype from `float` to `np.floating` is deprecated. In future, it will be treated as `np.float64 == np.dtype(float).type`.\n",
      "  from ._conv import register_converters as _register_converters\n"
     ]
    }
   ],
   "source": [
    "from models import train_predict,CondensedGoogLeNet\n",
    "from models.train_predict import get_confusion_matrix\n",
    "from data.data_processing import generate_dummy_data,DataHandler,get_training_data_from_path\n",
    "from config.hyperparams import GoogleNet_hyperparams\n",
    "\n",
    "import tensorflow as tf\n",
    "import pandas as pd\n",
    "import numpy as np\n",
    "import os\n",
    "\n",
    "%load_ext autoreload\n",
    "%autoreload 2\n",
    "%matplotlib inline"
   ]
  },
  {
   "cell_type": "code",
   "execution_count": 2,
   "metadata": {},
   "outputs": [],
   "source": [
    "folder_for_samples = 'data/cnn_samples'"
   ]
  },
  {
   "cell_type": "markdown",
   "metadata": {},
   "source": [
    "# Data Processing"
   ]
  },
  {
   "cell_type": "markdown",
   "metadata": {},
   "source": [
    "## Get stock data in Handler object"
   ]
  },
  {
   "cell_type": "code",
   "execution_count": 3,
   "metadata": {},
   "outputs": [],
   "source": [
    "path_to_dump_samples = os.path.join(folder_for_samples,'regular')\n",
    "\n",
    "handler = DataHandler(encoding_method='GADF', window_len=64, image_size=32, retrain_freq=5,\n",
    "                 start_date = 20150801, end_date= 20200102, frac_of_stocks=0.1,\n",
    "                stock_data_dir_path= 'data/stock_data',targets_methods=['close'],\n",
    "                 dir_for_samples=path_to_dump_samples, nb_of_stocks_by_file=50,\n",
    "                      kwargs_target_methods = {'up_return':0.012,'down_return':-0.012,'buy_on_last_date':True}\n",
    "                 )"
   ]
  },
  {
   "cell_type": "code",
   "execution_count": 4,
   "metadata": {},
   "outputs": [
    {
     "data": {
      "application/vnd.jupyter.widget-view+json": {
       "model_id": "da902c05aabe49b9a7e2f82f4f460279",
       "version_major": 2,
       "version_minor": 0
      },
      "text/plain": [
       "Textarea(value='', layout=Layout(border='1px solid #999999', height='200px', width='100%'))"
      ]
     },
     "metadata": {},
     "output_type": "display_data"
    }
   ],
   "source": [
    "handler.get_df_data()"
   ]
  },
  {
   "cell_type": "code",
   "execution_count": 5,
   "metadata": {},
   "outputs": [],
   "source": [
    "# handler.show_image(handler.df_data)"
   ]
  },
  {
   "cell_type": "markdown",
   "metadata": {},
   "source": [
    "## Builds images and targets and creates pickles\n",
    "+ Be careful for the folder name (specified in handler object), this function will delete all files in this folder before dumping pickles"
   ]
  },
  {
   "cell_type": "code",
   "execution_count": 11,
   "metadata": {},
   "outputs": [
    {
     "data": {
      "application/vnd.jupyter.widget-view+json": {
       "model_id": "df8a3e0a47d34a40be24dffa7a30d1de",
       "version_major": 2,
       "version_minor": 0
      },
      "text/plain": [
       "Textarea(value='', layout=Layout(border='1px solid #999999', height='200px', width='100%'))"
      ]
     },
     "metadata": {},
     "output_type": "display_data"
    },
    {
     "name": "stderr",
     "output_type": "stream",
     "text": [
      "C:\\Users\\elior illouz\\Notebooks\\Deep Learning\\DeepLearningAllocationCNN\\data\\data_processing.py:304: FutureWarning: Sorting because non-concatenation axis is not aligned. A future version\n",
      "of pandas will change to not sort by default.\n",
      "\n",
      "To accept the future behavior, pass 'sort=False'.\n",
      "\n",
      "To retain the current behavior and silence the warning, pass 'sort=True'.\n",
      "\n",
      "  df_res_one_permno['PERMNO'] = permno\n"
     ]
    }
   ],
   "source": [
    "handler.build_and_dump_images_and_targets()"
   ]
  },
  {
   "cell_type": "markdown",
   "metadata": {},
   "source": [
    "# Training"
   ]
  },
  {
   "cell_type": "markdown",
   "metadata": {},
   "source": [
    "## Retrieve data from the specified folder\n",
    "+ '/regular' is the default to retrieve samples\n",
    "+ '/VWAP_1_week_2015_2017_all_stocks' is another one"
   ]
  },
  {
   "cell_type": "code",
   "execution_count": 18,
   "metadata": {},
   "outputs": [
    {
     "data": {
      "application/vnd.jupyter.widget-view+json": {
       "model_id": "ccc7e05c9a714efeb69dfb34f90104f3",
       "version_major": 2,
       "version_minor": 0
      },
      "text/plain": [
       "Textarea(value='', layout=Layout(border='1px solid #999999', height='200px', width='100%'))"
      ]
     },
     "metadata": {},
     "output_type": "display_data"
    },
    {
     "name": "stdout",
     "output_type": "stream",
     "text": [
      "(5450, 4)\n",
      "(5450, 4)\n",
      "(5450, 4)\n",
      "Wall time: 1.6 s\n"
     ]
    }
   ],
   "source": [
    "%%time\n",
    "\n",
    "path_to_retrieve_samples = folder_for_samples+'/regular'\n",
    "\n",
    "X_train, X_val, X_test, Y_train, Y_val, Y_test = get_training_data_from_path(samples_path=path_to_retrieve_samples,\n",
    "                                targets_type='close',\n",
    "                                train_val_size=2 / 3.,\n",
    "                                train_size=0.75,\n",
    "                                logger_env='Training')\n"
   ]
  },
  {
   "cell_type": "markdown",
   "metadata": {},
   "source": [
    "## Build the neural network object and Train the network \n",
    "+ Choose your params BE CAREFUL about the path to drop the model_checkpoints\n",
    "+ Choose or update hyperparameters\n",
    "+ If you run restore = True Choose the checkpoint.meta file to use for the model to load\n",
    "\n",
    "###### Then \n",
    "\n",
    "+ Choose parameters for the train_predict function \n",
    "+ Run the next cell to build the network object and train"
   ]
  },
  {
   "cell_type": "code",
   "execution_count": 20,
   "metadata": {},
   "outputs": [],
   "source": [
    "shape_x,shape_y = list(X_train.shape),list(Y_train.shape)\n",
    "shape_x[0],shape_y[0] = None,None\n",
    "\n",
    "GoogleNet_hyperparams.update({'learning_rate':0.003,'dropout':0.20})\n",
    "\n",
    "# penalty factor assigned for misclassifying i to j. It used to combine sample prior (distribution of classes in the training\n",
    "# sample) to compute expected penalty of misclassifying i-th class\n",
    "cost_matrix=np.array([[0, 1.1, 1.4], [1.1, 0, 1.1], [1.4, 1.1, 0]])\n",
    "\n",
    "n_test = 10000\n",
    "checkpoints_folder = 'model_checkpoints'\n",
    "checkpoint_prefix = 'ckpt-VWAP-1_week-2015_2017-32_pixels'\n",
    "model_checkpoints_path = os.path.join(checkpoints_folder,checkpoint_prefix)\n",
    "\n",
    "# X_train1, X_val1, Y_train1, Y_val1 =  X_train[:n_test], X_val[:n_test], Y_train[:n_test], Y_val[:n_test]\n",
    "# X_train1, X_val1, Y_train1, Y_val1 =  X_train[n_test:], X_val[:n_test], Y_train[n_test:], Y_val[:n_test]\n",
    "X_train1, X_val1, Y_train1, Y_val1 =  X_train, X_val, Y_train, Y_val\n",
    "\n",
    "\n",
    "\n",
    "path_restore = (tf.train.latest_checkpoint('model_checkpoints') or '')+'.meta'"
   ]
  },
  {
   "cell_type": "markdown",
   "metadata": {},
   "source": [
    "#### Run the training"
   ]
  },
  {
   "cell_type": "code",
   "execution_count": 21,
   "metadata": {
    "scrolled": true
   },
   "outputs": [
    {
     "name": "stdout",
     "output_type": "stream",
     "text": [
      "INFO:tensorflow:Restoring parameters from model_checkpoints\\ckpt-VWAP-1_week-2015_2017-32_pixels-4587\n"
     ]
    },
    {
     "data": {
      "application/vnd.jupyter.widget-view+json": {
       "model_id": "1208347ccdd941ccbe80d366f33ef442",
       "version_major": 2,
       "version_minor": 0
      },
      "text/plain": [
       "Textarea(value='', layout=Layout(border='1px solid #999999', height='200px', width='100%'))"
      ]
     },
     "metadata": {},
     "output_type": "display_data"
    }
   ],
   "source": [
    "network = CondensedGoogLeNet(shape_x=shape_x,shape_y=shape_y,hyperparams=GoogleNet_hyperparams)\n",
    "\n",
    "\n",
    "GN_pred, GN_training_loss, GN_val_loss = train_predict(X=X_train1, Y=Y_train1, batch_size=60, valX=X_val1, valY=Y_val1,\n",
    "                                                       model_ckpt_path=model_checkpoints_path, is_bayesian=True,cost_matrix=cost_matrix,\n",
    "                                                       epochs=1, net=network,save_step =-1,cost_sensitive_loss=True,restore=True,\n",
    "                                                       model_ckpt_path_to_restore=path_restore)"
   ]
  },
  {
   "cell_type": "code",
   "execution_count": 10,
   "metadata": {},
   "outputs": [
    {
     "data": {
      "text/plain": [
       "<matplotlib.axes._subplots.AxesSubplot at 0x1d885712940>"
      ]
     },
     "execution_count": 10,
     "metadata": {},
     "output_type": "execute_result"
    },
    {
     "data": {
      "image/png": "[encoded data removed]",
      "text/plain": [
       "<Figure size 432x288 with 1 Axes>"
      ]
     },
     "metadata": {},
     "output_type": "display_data"
    }
   ],
   "source": [
    "pd.DataFrame([GN_training_loss,GN_val_loss]).T.plot()"
   ]
  },
  {
   "cell_type": "code",
   "execution_count": 29,
   "metadata": {},
   "outputs": [
    {
     "data": {
      "text/plain": [
       "<tf.Tensor 'CondensedGoogLeNet/x:0' shape=(?, 16, 16, 4) dtype=float32>"
      ]
     },
     "execution_count": 29,
     "metadata": {},
     "output_type": "execute_result"
    }
   ],
   "source": [
    "network.x"
   ]
  },
  {
   "cell_type": "markdown",
   "metadata": {},
   "source": [
    "# Backtest"
   ]
  },
  {
   "cell_type": "code",
   "execution_count": 22,
   "metadata": {},
   "outputs": [
    {
     "data": {
      "text/plain": [
       "((4089, 3), (8175, 3), (4086, 3))"
      ]
     },
     "execution_count": 22,
     "metadata": {},
     "output_type": "execute_result"
    }
   ],
   "source": [
    "(Y_val.shape,Y_train.shape,Y_test.shape)"
   ]
  },
  {
   "cell_type": "code",
   "execution_count": 144,
   "metadata": {},
   "outputs": [],
   "source": [
    "df_signals = pd.DataFrame(GN_pred,columns = ['long','hold','short'])\n",
    "df_signals['PRC'] = df_bckt_val['PRC'].values\n",
    "df_signals['date'] = df_bckt_val.index\n",
    "df_signals['PERMNO'] = df_bckt_val['PERMNO'].values\n",
    "df_signals = df_signals.set_index('date')\n",
    "df_signals = df_signals.sort_index().reset_index().set_index(['date','PERMNO'])"
   ]
  },
  {
   "cell_type": "code",
   "execution_count": 194,
   "metadata": {
    "scrolled": true
   },
   "outputs": [
    {
     "data": {
      "text/plain": [
       "2725.0"
      ]
     },
     "execution_count": 194,
     "metadata": {},
     "output_type": "execute_result"
    }
   ],
   "source": [
    "5450/2\n"
   ]
  },
  {
   "cell_type": "code",
   "execution_count": 197,
   "metadata": {},
   "outputs": [
    {
     "data": {
      "application/vnd.jupyter.widget-view+json": {
       "model_id": "f2661f2518454f74abc2d2000090f7b7",
       "version_major": 2,
       "version_minor": 0
      },
      "text/plain": [
       "Textarea(value='', layout=Layout(border='1px solid #999999', height='200px', width='100%'))"
      ]
     },
     "metadata": {},
     "output_type": "display_data"
    }
   ],
   "source": [
    "from utils import load_pickle\n",
    "\n",
    "df_all_data = load_pickle(os.path.join(path_to_dump_samples,'image_data_1')).iloc[round(0.75 * 2725 * 2/3):round(0.75 * 2725):][['PRC','PERMNO']]\n",
    "df_all_data = pd.concat([df_all_data,load_pickle(os.path.join(path_to_dump_samples,'image_data_2')).iloc[round(0.75 * 2725 * 2/3):round(0.75 * 2725):][['PRC','PERMNO']]])"
   ]
  },
  {
   "cell_type": "code",
   "execution_count": 210,
   "metadata": {},
   "outputs": [
    {
     "data": {
      "text/plain": [
       "50"
      ]
     },
     "execution_count": 210,
     "metadata": {},
     "output_type": "execute_result"
    }
   ],
   "source": [
    "len(np.unique(df_all_data['PERMNO']))"
   ]
  },
  {
   "cell_type": "code",
   "execution_count": 211,
   "metadata": {},
   "outputs": [
    {
     "data": {
      "text/html": [
       "<div>\n",
       "<style scoped>\n",
       "    .dataframe tbody tr th:only-of-type {\n",
       "        vertical-align: middle;\n",
       "    }\n",
       "\n",
       "    .dataframe tbody tr th {\n",
       "        vertical-align: top;\n",
       "    }\n",
       "\n",
       "    .dataframe thead th {\n",
       "        text-align: right;\n",
       "    }\n",
       "</style>\n",
       "<table border=\"1\" class=\"dataframe\">\n",
       "  <thead>\n",
       "    <tr style=\"text-align: right;\">\n",
       "      <th></th>\n",
       "      <th></th>\n",
       "      <th>PRC</th>\n",
       "      <th>long</th>\n",
       "      <th>hold</th>\n",
       "      <th>short</th>\n",
       "    </tr>\n",
       "    <tr>\n",
       "      <th>date</th>\n",
       "      <th>PERMNO</th>\n",
       "      <th></th>\n",
       "      <th></th>\n",
       "      <th></th>\n",
       "      <th></th>\n",
       "    </tr>\n",
       "  </thead>\n",
       "  <tbody>\n",
       "    <tr>\n",
       "      <th rowspan=\"26\" valign=\"top\">20161128</th>\n",
       "      <th>77066.0</th>\n",
       "      <td>13.28000</td>\n",
       "      <td>0.401298</td>\n",
       "      <td>0.204361</td>\n",
       "      <td>0.394340</td>\n",
       "    </tr>\n",
       "    <tr>\n",
       "      <th>77069.0</th>\n",
       "      <td>13.53000</td>\n",
       "      <td>0.540051</td>\n",
       "      <td>0.185258</td>\n",
       "      <td>0.274691</td>\n",
       "    </tr>\n",
       "    <tr>\n",
       "      <th>77071.0</th>\n",
       "      <td>14.81000</td>\n",
       "      <td>0.527627</td>\n",
       "      <td>0.203407</td>\n",
       "      <td>0.268966</td>\n",
       "    </tr>\n",
       "    <tr>\n",
       "      <th>77073.0</th>\n",
       "      <td>13.76000</td>\n",
       "      <td>0.429708</td>\n",
       "      <td>0.247666</td>\n",
       "      <td>0.322626</td>\n",
       "    </tr>\n",
       "    <tr>\n",
       "      <th>77078.0</th>\n",
       "      <td>46.40000</td>\n",
       "      <td>0.432216</td>\n",
       "      <td>0.294398</td>\n",
       "      <td>0.273385</td>\n",
       "    </tr>\n",
       "    <tr>\n",
       "      <th>77090.0</th>\n",
       "      <td>75.40000</td>\n",
       "      <td>0.275308</td>\n",
       "      <td>0.367900</td>\n",
       "      <td>0.356792</td>\n",
       "    </tr>\n",
       "    <tr>\n",
       "      <th>77114.0</th>\n",
       "      <td>58.17000</td>\n",
       "      <td>0.265527</td>\n",
       "      <td>0.387700</td>\n",
       "      <td>0.346772</td>\n",
       "    </tr>\n",
       "    <tr>\n",
       "      <th>77117.0</th>\n",
       "      <td>13.42000</td>\n",
       "      <td>0.345440</td>\n",
       "      <td>0.263185</td>\n",
       "      <td>0.391375</td>\n",
       "    </tr>\n",
       "    <tr>\n",
       "      <th>77120.0</th>\n",
       "      <td>39.75000</td>\n",
       "      <td>0.302770</td>\n",
       "      <td>0.384327</td>\n",
       "      <td>0.312903</td>\n",
       "    </tr>\n",
       "    <tr>\n",
       "      <th>77124.0</th>\n",
       "      <td>14.42000</td>\n",
       "      <td>0.404172</td>\n",
       "      <td>0.251088</td>\n",
       "      <td>0.344740</td>\n",
       "    </tr>\n",
       "    <tr>\n",
       "      <th>77129.0</th>\n",
       "      <td>26.25000</td>\n",
       "      <td>0.480424</td>\n",
       "      <td>0.220867</td>\n",
       "      <td>0.298709</td>\n",
       "    </tr>\n",
       "    <tr>\n",
       "      <th>77131.0</th>\n",
       "      <td>12.14000</td>\n",
       "      <td>0.515955</td>\n",
       "      <td>0.214232</td>\n",
       "      <td>0.269813</td>\n",
       "    </tr>\n",
       "    <tr>\n",
       "      <th>77152.0</th>\n",
       "      <td>14.01000</td>\n",
       "      <td>0.481184</td>\n",
       "      <td>0.226358</td>\n",
       "      <td>0.292458</td>\n",
       "    </tr>\n",
       "    <tr>\n",
       "      <th>77274.0</th>\n",
       "      <td>74.54000</td>\n",
       "      <td>0.394546</td>\n",
       "      <td>0.307601</td>\n",
       "      <td>0.297852</td>\n",
       "    </tr>\n",
       "    <tr>\n",
       "      <th>77279.0</th>\n",
       "      <td>51.93000</td>\n",
       "      <td>0.411895</td>\n",
       "      <td>0.330363</td>\n",
       "      <td>0.257742</td>\n",
       "    </tr>\n",
       "    <tr>\n",
       "      <th>77282.0</th>\n",
       "      <td>9.45000</td>\n",
       "      <td>0.293484</td>\n",
       "      <td>0.378543</td>\n",
       "      <td>0.327972</td>\n",
       "    </tr>\n",
       "    <tr>\n",
       "      <th>77292.0</th>\n",
       "      <td>2.40000</td>\n",
       "      <td>0.544599</td>\n",
       "      <td>0.192922</td>\n",
       "      <td>0.262479</td>\n",
       "    </tr>\n",
       "    <tr>\n",
       "      <th>77300.0</th>\n",
       "      <td>90.17000</td>\n",
       "      <td>0.254040</td>\n",
       "      <td>0.378325</td>\n",
       "      <td>0.367634</td>\n",
       "    </tr>\n",
       "    <tr>\n",
       "      <th>77309.0</th>\n",
       "      <td>10.57900</td>\n",
       "      <td>0.451743</td>\n",
       "      <td>0.219852</td>\n",
       "      <td>0.328405</td>\n",
       "    </tr>\n",
       "    <tr>\n",
       "      <th>77316.0</th>\n",
       "      <td>12.63000</td>\n",
       "      <td>0.477437</td>\n",
       "      <td>0.204514</td>\n",
       "      <td>0.318049</td>\n",
       "    </tr>\n",
       "    <tr>\n",
       "      <th>77338.0</th>\n",
       "      <td>182.08000</td>\n",
       "      <td>0.322391</td>\n",
       "      <td>0.324847</td>\n",
       "      <td>0.352761</td>\n",
       "    </tr>\n",
       "    <tr>\n",
       "      <th>77354.0</th>\n",
       "      <td>45.77000</td>\n",
       "      <td>0.288136</td>\n",
       "      <td>0.418540</td>\n",
       "      <td>0.293324</td>\n",
       "    </tr>\n",
       "    <tr>\n",
       "      <th>77357.0</th>\n",
       "      <td>61.30000</td>\n",
       "      <td>0.307902</td>\n",
       "      <td>0.365052</td>\n",
       "      <td>0.327046</td>\n",
       "    </tr>\n",
       "    <tr>\n",
       "      <th>77366.0</th>\n",
       "      <td>12.34000</td>\n",
       "      <td>0.315582</td>\n",
       "      <td>0.341641</td>\n",
       "      <td>0.342777</td>\n",
       "    </tr>\n",
       "    <tr>\n",
       "      <th>77369.0</th>\n",
       "      <td>16.90000</td>\n",
       "      <td>0.403948</td>\n",
       "      <td>0.273576</td>\n",
       "      <td>0.322476</td>\n",
       "    </tr>\n",
       "    <tr>\n",
       "      <th>77377.0</th>\n",
       "      <td>9.55000</td>\n",
       "      <td>0.523460</td>\n",
       "      <td>0.198571</td>\n",
       "      <td>0.277969</td>\n",
       "    </tr>\n",
       "    <tr>\n",
       "      <th rowspan=\"4\" valign=\"top\">20161205</th>\n",
       "      <th>77066.0</th>\n",
       "      <td>13.35000</td>\n",
       "      <td>0.518125</td>\n",
       "      <td>0.152034</td>\n",
       "      <td>0.329841</td>\n",
       "    </tr>\n",
       "    <tr>\n",
       "      <th>77069.0</th>\n",
       "      <td>13.18000</td>\n",
       "      <td>0.519409</td>\n",
       "      <td>0.201938</td>\n",
       "      <td>0.278654</td>\n",
       "    </tr>\n",
       "    <tr>\n",
       "      <th>77071.0</th>\n",
       "      <td>14.56000</td>\n",
       "      <td>0.509981</td>\n",
       "      <td>0.206410</td>\n",
       "      <td>0.283608</td>\n",
       "    </tr>\n",
       "    <tr>\n",
       "      <th>77073.0</th>\n",
       "      <td>13.40000</td>\n",
       "      <td>0.520846</td>\n",
       "      <td>0.193412</td>\n",
       "      <td>0.285742</td>\n",
       "    </tr>\n",
       "    <tr>\n",
       "      <th>...</th>\n",
       "      <th>...</th>\n",
       "      <td>...</td>\n",
       "      <td>...</td>\n",
       "      <td>...</td>\n",
       "      <td>...</td>\n",
       "    </tr>\n",
       "    <tr>\n",
       "      <th rowspan=\"30\" valign=\"top\">20170613</th>\n",
       "      <th>77124.0</th>\n",
       "      <td>14.75000</td>\n",
       "      <td>0.458379</td>\n",
       "      <td>0.253640</td>\n",
       "      <td>0.287981</td>\n",
       "    </tr>\n",
       "    <tr>\n",
       "      <th>77152.0</th>\n",
       "      <td>14.83000</td>\n",
       "      <td>0.355363</td>\n",
       "      <td>0.385341</td>\n",
       "      <td>0.259296</td>\n",
       "    </tr>\n",
       "    <tr>\n",
       "      <th>77178.0</th>\n",
       "      <td>57.54000</td>\n",
       "      <td>0.441620</td>\n",
       "      <td>0.341503</td>\n",
       "      <td>0.216877</td>\n",
       "    </tr>\n",
       "    <tr>\n",
       "      <th>77182.0</th>\n",
       "      <td>71.70000</td>\n",
       "      <td>0.482742</td>\n",
       "      <td>0.290642</td>\n",
       "      <td>0.226616</td>\n",
       "    </tr>\n",
       "    <tr>\n",
       "      <th>77191.0</th>\n",
       "      <td>46.50000</td>\n",
       "      <td>0.214098</td>\n",
       "      <td>0.423177</td>\n",
       "      <td>0.362725</td>\n",
       "    </tr>\n",
       "    <tr>\n",
       "      <th>77205.0</th>\n",
       "      <td>3.32000</td>\n",
       "      <td>0.617116</td>\n",
       "      <td>0.239950</td>\n",
       "      <td>0.142934</td>\n",
       "    </tr>\n",
       "    <tr>\n",
       "      <th>77235.0</th>\n",
       "      <td>1.61000</td>\n",
       "      <td>0.232648</td>\n",
       "      <td>0.431922</td>\n",
       "      <td>0.335430</td>\n",
       "    </tr>\n",
       "    <tr>\n",
       "      <th>77236.0</th>\n",
       "      <td>23.45000</td>\n",
       "      <td>0.331632</td>\n",
       "      <td>0.412514</td>\n",
       "      <td>0.255854</td>\n",
       "    </tr>\n",
       "    <tr>\n",
       "      <th>77239.0</th>\n",
       "      <td>35.58000</td>\n",
       "      <td>0.318508</td>\n",
       "      <td>0.379393</td>\n",
       "      <td>0.302099</td>\n",
       "    </tr>\n",
       "    <tr>\n",
       "      <th>77256.0</th>\n",
       "      <td>34.31000</td>\n",
       "      <td>0.313227</td>\n",
       "      <td>0.343747</td>\n",
       "      <td>0.343025</td>\n",
       "    </tr>\n",
       "    <tr>\n",
       "      <th>77259.0</th>\n",
       "      <td>2.09690</td>\n",
       "      <td>0.392964</td>\n",
       "      <td>0.324210</td>\n",
       "      <td>0.282826</td>\n",
       "    </tr>\n",
       "    <tr>\n",
       "      <th>77274.0</th>\n",
       "      <td>65.15000</td>\n",
       "      <td>0.450057</td>\n",
       "      <td>0.222203</td>\n",
       "      <td>0.327740</td>\n",
       "    </tr>\n",
       "    <tr>\n",
       "      <th>77279.0</th>\n",
       "      <td>51.67000</td>\n",
       "      <td>0.232551</td>\n",
       "      <td>0.417113</td>\n",
       "      <td>0.350337</td>\n",
       "    </tr>\n",
       "    <tr>\n",
       "      <th>77282.0</th>\n",
       "      <td>9.60000</td>\n",
       "      <td>0.490865</td>\n",
       "      <td>0.245981</td>\n",
       "      <td>0.263154</td>\n",
       "    </tr>\n",
       "    <tr>\n",
       "      <th>77292.0</th>\n",
       "      <td>2.34000</td>\n",
       "      <td>0.426247</td>\n",
       "      <td>0.349192</td>\n",
       "      <td>0.224561</td>\n",
       "    </tr>\n",
       "    <tr>\n",
       "      <th>77300.0</th>\n",
       "      <td>89.83000</td>\n",
       "      <td>0.500873</td>\n",
       "      <td>0.206692</td>\n",
       "      <td>0.292435</td>\n",
       "    </tr>\n",
       "    <tr>\n",
       "      <th>77309.0</th>\n",
       "      <td>12.34720</td>\n",
       "      <td>0.330237</td>\n",
       "      <td>0.401749</td>\n",
       "      <td>0.268014</td>\n",
       "    </tr>\n",
       "    <tr>\n",
       "      <th>77316.0</th>\n",
       "      <td>13.30000</td>\n",
       "      <td>0.265219</td>\n",
       "      <td>0.518703</td>\n",
       "      <td>0.216078</td>\n",
       "    </tr>\n",
       "    <tr>\n",
       "      <th>77338.0</th>\n",
       "      <td>228.42999</td>\n",
       "      <td>0.375727</td>\n",
       "      <td>0.377408</td>\n",
       "      <td>0.246865</td>\n",
       "    </tr>\n",
       "    <tr>\n",
       "      <th>77357.0</th>\n",
       "      <td>74.66000</td>\n",
       "      <td>0.396049</td>\n",
       "      <td>0.348526</td>\n",
       "      <td>0.255425</td>\n",
       "    </tr>\n",
       "    <tr>\n",
       "      <th>77377.0</th>\n",
       "      <td>9.84000</td>\n",
       "      <td>0.322773</td>\n",
       "      <td>0.353473</td>\n",
       "      <td>0.323753</td>\n",
       "    </tr>\n",
       "    <tr>\n",
       "      <th>77420.0</th>\n",
       "      <td>11.15000</td>\n",
       "      <td>0.560683</td>\n",
       "      <td>0.154894</td>\n",
       "      <td>0.284424</td>\n",
       "    </tr>\n",
       "    <tr>\n",
       "      <th>77425.0</th>\n",
       "      <td>6.45000</td>\n",
       "      <td>0.536118</td>\n",
       "      <td>0.215958</td>\n",
       "      <td>0.247924</td>\n",
       "    </tr>\n",
       "    <tr>\n",
       "      <th>77437.0</th>\n",
       "      <td>2.11000</td>\n",
       "      <td>0.598217</td>\n",
       "      <td>0.163214</td>\n",
       "      <td>0.238569</td>\n",
       "    </tr>\n",
       "    <tr>\n",
       "      <th>77447.0</th>\n",
       "      <td>168.39999</td>\n",
       "      <td>0.359461</td>\n",
       "      <td>0.362606</td>\n",
       "      <td>0.277933</td>\n",
       "    </tr>\n",
       "    <tr>\n",
       "      <th>77453.0</th>\n",
       "      <td>106.68000</td>\n",
       "      <td>0.371528</td>\n",
       "      <td>0.374740</td>\n",
       "      <td>0.253733</td>\n",
       "    </tr>\n",
       "    <tr>\n",
       "      <th>77458.0</th>\n",
       "      <td>8.81000</td>\n",
       "      <td>0.246783</td>\n",
       "      <td>0.501944</td>\n",
       "      <td>0.251274</td>\n",
       "    </tr>\n",
       "    <tr>\n",
       "      <th>77460.0</th>\n",
       "      <td>5.36000</td>\n",
       "      <td>0.482326</td>\n",
       "      <td>0.272441</td>\n",
       "      <td>0.245233</td>\n",
       "    </tr>\n",
       "    <tr>\n",
       "      <th>77462.0</th>\n",
       "      <td>22.26000</td>\n",
       "      <td>0.413815</td>\n",
       "      <td>0.217851</td>\n",
       "      <td>0.368334</td>\n",
       "    </tr>\n",
       "    <tr>\n",
       "      <th>77466.0</th>\n",
       "      <td>15.23000</td>\n",
       "      <td>0.268838</td>\n",
       "      <td>0.470001</td>\n",
       "      <td>0.261161</td>\n",
       "    </tr>\n",
       "  </tbody>\n",
       "</table>\n",
       "<p>1364 rows × 4 columns</p>\n",
       "</div>"
      ],
      "text/plain": [
       "                        PRC      long      hold     short\n",
       "date     PERMNO                                          \n",
       "20161128 77066.0   13.28000  0.401298  0.204361  0.394340\n",
       "         77069.0   13.53000  0.540051  0.185258  0.274691\n",
       "         77071.0   14.81000  0.527627  0.203407  0.268966\n",
       "         77073.0   13.76000  0.429708  0.247666  0.322626\n",
       "         77078.0   46.40000  0.432216  0.294398  0.273385\n",
       "         77090.0   75.40000  0.275308  0.367900  0.356792\n",
       "         77114.0   58.17000  0.265527  0.387700  0.346772\n",
       "         77117.0   13.42000  0.345440  0.263185  0.391375\n",
       "         77120.0   39.75000  0.302770  0.384327  0.312903\n",
       "         77124.0   14.42000  0.404172  0.251088  0.344740\n",
       "         77129.0   26.25000  0.480424  0.220867  0.298709\n",
       "         77131.0   12.14000  0.515955  0.214232  0.269813\n",
       "         77152.0   14.01000  0.481184  0.226358  0.292458\n",
       "         77274.0   74.54000  0.394546  0.307601  0.297852\n",
       "         77279.0   51.93000  0.411895  0.330363  0.257742\n",
       "         77282.0    9.45000  0.293484  0.378543  0.327972\n",
       "         77292.0    2.40000  0.544599  0.192922  0.262479\n",
       "         77300.0   90.17000  0.254040  0.378325  0.367634\n",
       "         77309.0   10.57900  0.451743  0.219852  0.328405\n",
       "         77316.0   12.63000  0.477437  0.204514  0.318049\n",
       "         77338.0  182.08000  0.322391  0.324847  0.352761\n",
       "         77354.0   45.77000  0.288136  0.418540  0.293324\n",
       "         77357.0   61.30000  0.307902  0.365052  0.327046\n",
       "         77366.0   12.34000  0.315582  0.341641  0.342777\n",
       "         77369.0   16.90000  0.403948  0.273576  0.322476\n",
       "         77377.0    9.55000  0.523460  0.198571  0.277969\n",
       "20161205 77066.0   13.35000  0.518125  0.152034  0.329841\n",
       "         77069.0   13.18000  0.519409  0.201938  0.278654\n",
       "         77071.0   14.56000  0.509981  0.206410  0.283608\n",
       "         77073.0   13.40000  0.520846  0.193412  0.285742\n",
       "...                     ...       ...       ...       ...\n",
       "20170613 77124.0   14.75000  0.458379  0.253640  0.287981\n",
       "         77152.0   14.83000  0.355363  0.385341  0.259296\n",
       "         77178.0   57.54000  0.441620  0.341503  0.216877\n",
       "         77182.0   71.70000  0.482742  0.290642  0.226616\n",
       "         77191.0   46.50000  0.214098  0.423177  0.362725\n",
       "         77205.0    3.32000  0.617116  0.239950  0.142934\n",
       "         77235.0    1.61000  0.232648  0.431922  0.335430\n",
       "         77236.0   23.45000  0.331632  0.412514  0.255854\n",
       "         77239.0   35.58000  0.318508  0.379393  0.302099\n",
       "         77256.0   34.31000  0.313227  0.343747  0.343025\n",
       "         77259.0    2.09690  0.392964  0.324210  0.282826\n",
       "         77274.0   65.15000  0.450057  0.222203  0.327740\n",
       "         77279.0   51.67000  0.232551  0.417113  0.350337\n",
       "         77282.0    9.60000  0.490865  0.245981  0.263154\n",
       "         77292.0    2.34000  0.426247  0.349192  0.224561\n",
       "         77300.0   89.83000  0.500873  0.206692  0.292435\n",
       "         77309.0   12.34720  0.330237  0.401749  0.268014\n",
       "         77316.0   13.30000  0.265219  0.518703  0.216078\n",
       "         77338.0  228.42999  0.375727  0.377408  0.246865\n",
       "         77357.0   74.66000  0.396049  0.348526  0.255425\n",
       "         77377.0    9.84000  0.322773  0.353473  0.323753\n",
       "         77420.0   11.15000  0.560683  0.154894  0.284424\n",
       "         77425.0    6.45000  0.536118  0.215958  0.247924\n",
       "         77437.0    2.11000  0.598217  0.163214  0.238569\n",
       "         77447.0  168.39999  0.359461  0.362606  0.277933\n",
       "         77453.0  106.68000  0.371528  0.374740  0.253733\n",
       "         77458.0    8.81000  0.246783  0.501944  0.251274\n",
       "         77460.0    5.36000  0.482326  0.272441  0.245233\n",
       "         77462.0   22.26000  0.413815  0.217851  0.368334\n",
       "         77466.0   15.23000  0.268838  0.470001  0.261161\n",
       "\n",
       "[1364 rows x 4 columns]"
      ]
     },
     "execution_count": 211,
     "metadata": {},
     "output_type": "execute_result"
    }
   ],
   "source": [
    "pd.concat([df_all_data,df_signals],axis=1).reset_index().set_index(['date','PERMNO']).sort_index()\n"
   ]
  },
  {
   "cell_type": "markdown",
   "metadata": {},
   "source": [
    "+ we need a dataframe with rebalance dates as index, permno as columns as prices as data (or inverse columns and index)\n",
    "+ Then \n",
    "\n",
    "+ Load a model in order to make the predictions within the backtest"
   ]
  },
  {
   "cell_type": "code",
   "execution_count": 43,
   "metadata": {},
   "outputs": [],
   "source": [
    "df_for_bckt = df_for_bckt[['PRC']]"
   ]
  },
  {
   "cell_type": "code",
   "execution_count": 49,
   "metadata": {},
   "outputs": [],
   "source": [
    "df_pivot = df_for_bckt.reset_index().pivot_table(columns=['PERMNO'],index='date')"
   ]
  },
  {
   "cell_type": "code",
   "execution_count": 54,
   "metadata": {},
   "outputs": [
    {
     "name": "stdout",
     "output_type": "stream",
     "text": [
      "<class 'pandas.core.frame.DataFrame'>\n",
      "Int64Index: 755 entries, 20150102 to 20171229\n",
      "Columns: 1350 entries, (PRC, 10026) to (PRC, 87952)\n",
      "dtypes: float64(1350)\n",
      "memory usage: 7.8 MB\n"
     ]
    }
   ],
   "source": [
    "df_pivot.info()"
   ]
  },
  {
   "cell_type": "code",
   "execution_count": 52,
   "metadata": {},
   "outputs": [
    {
     "data": {
      "text/html": [
       "<div>\n",
       "<style scoped>\n",
       "    .dataframe tbody tr th:only-of-type {\n",
       "        vertical-align: middle;\n",
       "    }\n",
       "\n",
       "    .dataframe tbody tr th {\n",
       "        vertical-align: top;\n",
       "    }\n",
       "\n",
       "    .dataframe thead tr th {\n",
       "        text-align: left;\n",
       "    }\n",
       "\n",
       "    .dataframe thead tr:last-of-type th {\n",
       "        text-align: right;\n",
       "    }\n",
       "</style>\n",
       "<table border=\"1\" class=\"dataframe\">\n",
       "  <thead>\n",
       "    <tr>\n",
       "      <th></th>\n",
       "      <th colspan=\"21\" halign=\"left\">PRC</th>\n",
       "    </tr>\n",
       "    <tr>\n",
       "      <th>PERMNO</th>\n",
       "      <th>10026</th>\n",
       "      <th>10032</th>\n",
       "      <th>10044</th>\n",
       "      <th>10065</th>\n",
       "      <th>10104</th>\n",
       "      <th>10107</th>\n",
       "      <th>10138</th>\n",
       "      <th>10145</th>\n",
       "      <th>10182</th>\n",
       "      <th>10200</th>\n",
       "      <th>...</th>\n",
       "      <th>85789</th>\n",
       "      <th>85914</th>\n",
       "      <th>86106</th>\n",
       "      <th>86124</th>\n",
       "      <th>86896</th>\n",
       "      <th>87055</th>\n",
       "      <th>87128</th>\n",
       "      <th>87426</th>\n",
       "      <th>87717</th>\n",
       "      <th>87952</th>\n",
       "    </tr>\n",
       "    <tr>\n",
       "      <th>date</th>\n",
       "      <th></th>\n",
       "      <th></th>\n",
       "      <th></th>\n",
       "      <th></th>\n",
       "      <th></th>\n",
       "      <th></th>\n",
       "      <th></th>\n",
       "      <th></th>\n",
       "      <th></th>\n",
       "      <th></th>\n",
       "      <th></th>\n",
       "      <th></th>\n",
       "      <th></th>\n",
       "      <th></th>\n",
       "      <th></th>\n",
       "      <th></th>\n",
       "      <th></th>\n",
       "      <th></th>\n",
       "      <th></th>\n",
       "      <th></th>\n",
       "      <th></th>\n",
       "    </tr>\n",
       "  </thead>\n",
       "  <tbody>\n",
       "    <tr>\n",
       "      <th>20150102</th>\n",
       "      <td>107.69</td>\n",
       "      <td>40.57</td>\n",
       "      <td>13.23</td>\n",
       "      <td>13.67</td>\n",
       "      <td>44.33</td>\n",
       "      <td>46.760</td>\n",
       "      <td>85.76</td>\n",
       "      <td>100.23</td>\n",
       "      <td>62.20</td>\n",
       "      <td>20.10</td>\n",
       "      <td>...</td>\n",
       "      <td>22.25</td>\n",
       "      <td>38.79</td>\n",
       "      <td>40.55</td>\n",
       "      <td>30.73</td>\n",
       "      <td>37.71</td>\n",
       "      <td>141.61000</td>\n",
       "      <td>8.01</td>\n",
       "      <td>49.97</td>\n",
       "      <td>44.42</td>\n",
       "      <td>27.47</td>\n",
       "    </tr>\n",
       "    <tr>\n",
       "      <th>20150105</th>\n",
       "      <td>107.24</td>\n",
       "      <td>39.65</td>\n",
       "      <td>13.26</td>\n",
       "      <td>13.42</td>\n",
       "      <td>43.59</td>\n",
       "      <td>46.325</td>\n",
       "      <td>83.79</td>\n",
       "      <td>98.32</td>\n",
       "      <td>60.39</td>\n",
       "      <td>20.47</td>\n",
       "      <td>...</td>\n",
       "      <td>21.45</td>\n",
       "      <td>37.79</td>\n",
       "      <td>39.18</td>\n",
       "      <td>30.14</td>\n",
       "      <td>36.76</td>\n",
       "      <td>140.00000</td>\n",
       "      <td>7.66</td>\n",
       "      <td>49.41</td>\n",
       "      <td>43.04</td>\n",
       "      <td>26.51</td>\n",
       "    </tr>\n",
       "    <tr>\n",
       "      <th>20150106</th>\n",
       "      <td>107.27</td>\n",
       "      <td>39.11</td>\n",
       "      <td>13.22</td>\n",
       "      <td>13.35</td>\n",
       "      <td>43.14</td>\n",
       "      <td>45.650</td>\n",
       "      <td>82.31</td>\n",
       "      <td>98.09</td>\n",
       "      <td>58.77</td>\n",
       "      <td>19.86</td>\n",
       "      <td>...</td>\n",
       "      <td>20.85</td>\n",
       "      <td>37.45</td>\n",
       "      <td>38.44</td>\n",
       "      <td>29.92</td>\n",
       "      <td>36.05</td>\n",
       "      <td>141.85001</td>\n",
       "      <td>7.54</td>\n",
       "      <td>48.33</td>\n",
       "      <td>42.55</td>\n",
       "      <td>25.74</td>\n",
       "    </tr>\n",
       "    <tr>\n",
       "      <th>20150107</th>\n",
       "      <td>108.73</td>\n",
       "      <td>39.44</td>\n",
       "      <td>13.27</td>\n",
       "      <td>13.47</td>\n",
       "      <td>43.15</td>\n",
       "      <td>46.230</td>\n",
       "      <td>83.52</td>\n",
       "      <td>98.80</td>\n",
       "      <td>59.09</td>\n",
       "      <td>19.92</td>\n",
       "      <td>...</td>\n",
       "      <td>20.88</td>\n",
       "      <td>38.53</td>\n",
       "      <td>38.50</td>\n",
       "      <td>30.11</td>\n",
       "      <td>36.24</td>\n",
       "      <td>144.32001</td>\n",
       "      <td>7.56</td>\n",
       "      <td>47.99</td>\n",
       "      <td>42.56</td>\n",
       "      <td>25.72</td>\n",
       "    </tr>\n",
       "    <tr>\n",
       "      <th>20150108</th>\n",
       "      <td>110.32</td>\n",
       "      <td>40.01</td>\n",
       "      <td>13.12</td>\n",
       "      <td>13.71</td>\n",
       "      <td>43.41</td>\n",
       "      <td>47.590</td>\n",
       "      <td>84.51</td>\n",
       "      <td>100.60</td>\n",
       "      <td>60.35</td>\n",
       "      <td>24.52</td>\n",
       "      <td>...</td>\n",
       "      <td>21.47</td>\n",
       "      <td>39.11</td>\n",
       "      <td>39.24</td>\n",
       "      <td>30.24</td>\n",
       "      <td>36.76</td>\n",
       "      <td>145.56000</td>\n",
       "      <td>7.60</td>\n",
       "      <td>48.95</td>\n",
       "      <td>43.72</td>\n",
       "      <td>26.40</td>\n",
       "    </tr>\n",
       "  </tbody>\n",
       "</table>\n",
       "<p>5 rows × 1350 columns</p>\n",
       "</div>"
      ],
      "text/plain": [
       "             PRC                                                            \\\n",
       "PERMNO     10026  10032  10044  10065  10104   10107  10138   10145  10182   \n",
       "date                                                                         \n",
       "20150102  107.69  40.57  13.23  13.67  44.33  46.760  85.76  100.23  62.20   \n",
       "20150105  107.24  39.65  13.26  13.42  43.59  46.325  83.79   98.32  60.39   \n",
       "20150106  107.27  39.11  13.22  13.35  43.14  45.650  82.31   98.09  58.77   \n",
       "20150107  108.73  39.44  13.27  13.47  43.15  46.230  83.52   98.80  59.09   \n",
       "20150108  110.32  40.01  13.12  13.71  43.41  47.590  84.51  100.60  60.35   \n",
       "\n",
       "                 ...                                                      \\\n",
       "PERMNO    10200  ...  85789  85914  86106  86124  86896      87055 87128   \n",
       "date             ...                                                       \n",
       "20150102  20.10  ...  22.25  38.79  40.55  30.73  37.71  141.61000  8.01   \n",
       "20150105  20.47  ...  21.45  37.79  39.18  30.14  36.76  140.00000  7.66   \n",
       "20150106  19.86  ...  20.85  37.45  38.44  29.92  36.05  141.85001  7.54   \n",
       "20150107  19.92  ...  20.88  38.53  38.50  30.11  36.24  144.32001  7.56   \n",
       "20150108  24.52  ...  21.47  39.11  39.24  30.24  36.76  145.56000  7.60   \n",
       "\n",
       "                               \n",
       "PERMNO    87426  87717  87952  \n",
       "date                           \n",
       "20150102  49.97  44.42  27.47  \n",
       "20150105  49.41  43.04  26.51  \n",
       "20150106  48.33  42.55  25.74  \n",
       "20150107  47.99  42.56  25.72  \n",
       "20150108  48.95  43.72  26.40  \n",
       "\n",
       "[5 rows x 1350 columns]"
      ]
     },
     "execution_count": 52,
     "metadata": {},
     "output_type": "execute_result"
    }
   ],
   "source": [
    "df_pivot.head()"
   ]
  },
  {
   "cell_type": "markdown",
   "metadata": {},
   "source": [
    "+ we need a dataframe for the signals with additional columsn ( or multiindex) with permno and date\n",
    "+ find a way when creating the predictions to keep the information about dates and permno\n",
    "    * For that we may need to change the function get_data from path (maybe it should return a dataframe (at least for the Y) and it would be transformed into an array\n",
    "    * For X maybe we could have a pivot table (date,permon) and the values would be arrays of (16,16,4)\n",
    "   "
   ]
  },
  {
   "cell_type": "code",
   "execution_count": 59,
   "metadata": {},
   "outputs": [
    {
     "data": {
      "text/plain": [
       "(91763, 32, 32, 4)"
      ]
     },
     "execution_count": 59,
     "metadata": {},
     "output_type": "execute_result"
    }
   ],
   "source": [
    "X_train1.shape"
   ]
  },
  {
   "cell_type": "code",
   "execution_count": 62,
   "metadata": {},
   "outputs": [
    {
     "data": {
      "text/plain": [
       "(755, 1350)"
      ]
     },
     "execution_count": 62,
     "metadata": {},
     "output_type": "execute_result"
    }
   ],
   "source": [
    "df_pivot.values.shape"
   ]
  },
  {
   "cell_type": "code",
   "execution_count": 19,
   "metadata": {},
   "outputs": [
    {
     "data": {
      "text/html": [
       "<div>\n",
       "<style scoped>\n",
       "    .dataframe tbody tr th:only-of-type {\n",
       "        vertical-align: middle;\n",
       "    }\n",
       "\n",
       "    .dataframe tbody tr th {\n",
       "        vertical-align: top;\n",
       "    }\n",
       "\n",
       "    .dataframe thead th {\n",
       "        text-align: right;\n",
       "    }\n",
       "</style>\n",
       "<table border=\"1\" class=\"dataframe\">\n",
       "  <thead>\n",
       "    <tr style=\"text-align: right;\">\n",
       "      <th></th>\n",
       "      <th></th>\n",
       "      <th>PRC</th>\n",
       "      <th>VOL</th>\n",
       "      <th>BIDLO</th>\n",
       "      <th>ASKHI</th>\n",
       "    </tr>\n",
       "    <tr>\n",
       "      <th>PERMNO</th>\n",
       "      <th>date</th>\n",
       "      <th></th>\n",
       "      <th></th>\n",
       "      <th></th>\n",
       "      <th></th>\n",
       "    </tr>\n",
       "  </thead>\n",
       "  <tbody>\n",
       "    <tr>\n",
       "      <th rowspan=\"5\" valign=\"top\">22592</th>\n",
       "      <th>20150102</th>\n",
       "      <td>164.06000</td>\n",
       "      <td>2117562.0</td>\n",
       "      <td>162.730</td>\n",
       "      <td>165.0800</td>\n",
       "    </tr>\n",
       "    <tr>\n",
       "      <th>20150105</th>\n",
       "      <td>160.36000</td>\n",
       "      <td>3692901.0</td>\n",
       "      <td>160.080</td>\n",
       "      <td>163.6400</td>\n",
       "    </tr>\n",
       "    <tr>\n",
       "      <th>20150106</th>\n",
       "      <td>158.64999</td>\n",
       "      <td>3537144.0</td>\n",
       "      <td>157.744</td>\n",
       "      <td>161.3699</td>\n",
       "    </tr>\n",
       "    <tr>\n",
       "      <th>20150107</th>\n",
       "      <td>159.80000</td>\n",
       "      <td>3081291.0</td>\n",
       "      <td>158.940</td>\n",
       "      <td>160.2800</td>\n",
       "    </tr>\n",
       "    <tr>\n",
       "      <th>20150108</th>\n",
       "      <td>163.63000</td>\n",
       "      <td>3149592.0</td>\n",
       "      <td>160.520</td>\n",
       "      <td>163.6900</td>\n",
       "    </tr>\n",
       "  </tbody>\n",
       "</table>\n",
       "</div>"
      ],
      "text/plain": [
       "                       PRC        VOL    BIDLO     ASKHI\n",
       "PERMNO date                                             \n",
       "22592  20150102  164.06000  2117562.0  162.730  165.0800\n",
       "       20150105  160.36000  3692901.0  160.080  163.6400\n",
       "       20150106  158.64999  3537144.0  157.744  161.3699\n",
       "       20150107  159.80000  3081291.0  158.940  160.2800\n",
       "       20150108  163.63000  3149592.0  160.520  163.6900"
      ]
     },
     "execution_count": 19,
     "metadata": {},
     "output_type": "execute_result"
    }
   ],
   "source": [
    "df_for_bckt = handler.df_data\n",
    "df_for_bckt = df_for_bckt.reset_index(drop=False).set_index(['PERMNO','date'])\n",
    "df_for_bckt.head()"
   ]
  },
  {
   "cell_type": "code",
   "execution_count": 20,
   "metadata": {},
   "outputs": [
    {
     "data": {
      "text/html": [
       "<div>\n",
       "<style scoped>\n",
       "    .dataframe tbody tr th:only-of-type {\n",
       "        vertical-align: middle;\n",
       "    }\n",
       "\n",
       "    .dataframe tbody tr th {\n",
       "        vertical-align: top;\n",
       "    }\n",
       "\n",
       "    .dataframe thead th {\n",
       "        text-align: right;\n",
       "    }\n",
       "</style>\n",
       "<table border=\"1\" class=\"dataframe\">\n",
       "  <thead>\n",
       "    <tr style=\"text-align: right;\">\n",
       "      <th></th>\n",
       "      <th>date</th>\n",
       "      <th>PERMNO</th>\n",
       "      <th>PRC</th>\n",
       "      <th>VOL</th>\n",
       "      <th>BIDLO</th>\n",
       "      <th>ASKHI</th>\n",
       "    </tr>\n",
       "  </thead>\n",
       "  <tbody>\n",
       "    <tr>\n",
       "      <th>0</th>\n",
       "      <td>20150102</td>\n",
       "      <td>22592</td>\n",
       "      <td>164.06000</td>\n",
       "      <td>2117562.0</td>\n",
       "      <td>162.73000</td>\n",
       "      <td>165.08000</td>\n",
       "    </tr>\n",
       "    <tr>\n",
       "      <th>1</th>\n",
       "      <td>20150105</td>\n",
       "      <td>22592</td>\n",
       "      <td>160.36000</td>\n",
       "      <td>3692901.0</td>\n",
       "      <td>160.08000</td>\n",
       "      <td>163.64000</td>\n",
       "    </tr>\n",
       "    <tr>\n",
       "      <th>2</th>\n",
       "      <td>20150106</td>\n",
       "      <td>22592</td>\n",
       "      <td>158.64999</td>\n",
       "      <td>3537144.0</td>\n",
       "      <td>157.74400</td>\n",
       "      <td>161.36990</td>\n",
       "    </tr>\n",
       "    <tr>\n",
       "      <th>3</th>\n",
       "      <td>20150107</td>\n",
       "      <td>22592</td>\n",
       "      <td>159.80000</td>\n",
       "      <td>3081291.0</td>\n",
       "      <td>158.94000</td>\n",
       "      <td>160.28000</td>\n",
       "    </tr>\n",
       "    <tr>\n",
       "      <th>4</th>\n",
       "      <td>20150108</td>\n",
       "      <td>22592</td>\n",
       "      <td>163.63000</td>\n",
       "      <td>3149592.0</td>\n",
       "      <td>160.52000</td>\n",
       "      <td>163.69000</td>\n",
       "    </tr>\n",
       "    <tr>\n",
       "      <th>5</th>\n",
       "      <td>20150109</td>\n",
       "      <td>22592</td>\n",
       "      <td>161.62000</td>\n",
       "      <td>2378568.0</td>\n",
       "      <td>161.27000</td>\n",
       "      <td>164.00000</td>\n",
       "    </tr>\n",
       "    <tr>\n",
       "      <th>6</th>\n",
       "      <td>20150112</td>\n",
       "      <td>22592</td>\n",
       "      <td>160.74001</td>\n",
       "      <td>2149230.0</td>\n",
       "      <td>160.02000</td>\n",
       "      <td>162.39000</td>\n",
       "    </tr>\n",
       "    <tr>\n",
       "      <th>7</th>\n",
       "      <td>20150113</td>\n",
       "      <td>22592</td>\n",
       "      <td>160.62000</td>\n",
       "      <td>2706698.0</td>\n",
       "      <td>159.45000</td>\n",
       "      <td>164.38400</td>\n",
       "    </tr>\n",
       "    <tr>\n",
       "      <th>8</th>\n",
       "      <td>20150114</td>\n",
       "      <td>22592</td>\n",
       "      <td>159.84000</td>\n",
       "      <td>1983535.0</td>\n",
       "      <td>158.50000</td>\n",
       "      <td>160.53000</td>\n",
       "    </tr>\n",
       "    <tr>\n",
       "      <th>9</th>\n",
       "      <td>20150115</td>\n",
       "      <td>22592</td>\n",
       "      <td>159.66000</td>\n",
       "      <td>1881406.0</td>\n",
       "      <td>159.36749</td>\n",
       "      <td>161.44000</td>\n",
       "    </tr>\n",
       "    <tr>\n",
       "      <th>10</th>\n",
       "      <td>20150116</td>\n",
       "      <td>22592</td>\n",
       "      <td>162.00000</td>\n",
       "      <td>2349676.0</td>\n",
       "      <td>159.09000</td>\n",
       "      <td>162.17999</td>\n",
       "    </tr>\n",
       "    <tr>\n",
       "      <th>11</th>\n",
       "      <td>20150120</td>\n",
       "      <td>22592</td>\n",
       "      <td>161.94000</td>\n",
       "      <td>2096201.0</td>\n",
       "      <td>160.06000</td>\n",
       "      <td>163.39999</td>\n",
       "    </tr>\n",
       "    <tr>\n",
       "      <th>12</th>\n",
       "      <td>20150121</td>\n",
       "      <td>22592</td>\n",
       "      <td>162.53999</td>\n",
       "      <td>1597680.0</td>\n",
       "      <td>161.02000</td>\n",
       "      <td>163.37000</td>\n",
       "    </tr>\n",
       "    <tr>\n",
       "      <th>13</th>\n",
       "      <td>20150122</td>\n",
       "      <td>22592</td>\n",
       "      <td>165.89000</td>\n",
       "      <td>2225819.0</td>\n",
       "      <td>162.13000</td>\n",
       "      <td>165.99001</td>\n",
       "    </tr>\n",
       "    <tr>\n",
       "      <th>14</th>\n",
       "      <td>20150123</td>\n",
       "      <td>22592</td>\n",
       "      <td>164.02000</td>\n",
       "      <td>2249181.0</td>\n",
       "      <td>163.91000</td>\n",
       "      <td>165.98000</td>\n",
       "    </tr>\n",
       "    <tr>\n",
       "      <th>15</th>\n",
       "      <td>20150126</td>\n",
       "      <td>22592</td>\n",
       "      <td>164.24001</td>\n",
       "      <td>3556293.0</td>\n",
       "      <td>161.80009</td>\n",
       "      <td>164.28000</td>\n",
       "    </tr>\n",
       "    <tr>\n",
       "      <th>16</th>\n",
       "      <td>20150127</td>\n",
       "      <td>22592</td>\n",
       "      <td>163.63000</td>\n",
       "      <td>4190749.0</td>\n",
       "      <td>160.94000</td>\n",
       "      <td>165.14000</td>\n",
       "    </tr>\n",
       "    <tr>\n",
       "      <th>17</th>\n",
       "      <td>20150128</td>\n",
       "      <td>22592</td>\n",
       "      <td>163.94000</td>\n",
       "      <td>3574594.0</td>\n",
       "      <td>163.75999</td>\n",
       "      <td>166.57001</td>\n",
       "    </tr>\n",
       "    <tr>\n",
       "      <th>18</th>\n",
       "      <td>20150129</td>\n",
       "      <td>22592</td>\n",
       "      <td>166.13000</td>\n",
       "      <td>2674618.0</td>\n",
       "      <td>162.88000</td>\n",
       "      <td>166.16000</td>\n",
       "    </tr>\n",
       "    <tr>\n",
       "      <th>19</th>\n",
       "      <td>20150130</td>\n",
       "      <td>22592</td>\n",
       "      <td>162.30000</td>\n",
       "      <td>3561892.0</td>\n",
       "      <td>162.30000</td>\n",
       "      <td>165.22000</td>\n",
       "    </tr>\n",
       "    <tr>\n",
       "      <th>20</th>\n",
       "      <td>20150202</td>\n",
       "      <td>22592</td>\n",
       "      <td>164.42000</td>\n",
       "      <td>2379692.0</td>\n",
       "      <td>160.89000</td>\n",
       "      <td>164.62000</td>\n",
       "    </tr>\n",
       "    <tr>\n",
       "      <th>21</th>\n",
       "      <td>20150203</td>\n",
       "      <td>22592</td>\n",
       "      <td>165.94000</td>\n",
       "      <td>2604773.0</td>\n",
       "      <td>164.71001</td>\n",
       "      <td>166.19000</td>\n",
       "    </tr>\n",
       "    <tr>\n",
       "      <th>22</th>\n",
       "      <td>20150204</td>\n",
       "      <td>22592</td>\n",
       "      <td>164.81000</td>\n",
       "      <td>2363803.0</td>\n",
       "      <td>164.24001</td>\n",
       "      <td>165.83000</td>\n",
       "    </tr>\n",
       "    <tr>\n",
       "      <th>23</th>\n",
       "      <td>20150205</td>\n",
       "      <td>22592</td>\n",
       "      <td>166.55000</td>\n",
       "      <td>2050539.0</td>\n",
       "      <td>164.75000</td>\n",
       "      <td>166.59000</td>\n",
       "    </tr>\n",
       "    <tr>\n",
       "      <th>24</th>\n",
       "      <td>20150206</td>\n",
       "      <td>22592</td>\n",
       "      <td>166.07001</td>\n",
       "      <td>1826929.0</td>\n",
       "      <td>165.56000</td>\n",
       "      <td>167.67999</td>\n",
       "    </tr>\n",
       "    <tr>\n",
       "      <th>25</th>\n",
       "      <td>20150209</td>\n",
       "      <td>22592</td>\n",
       "      <td>164.84000</td>\n",
       "      <td>2072981.0</td>\n",
       "      <td>163.84000</td>\n",
       "      <td>165.53999</td>\n",
       "    </tr>\n",
       "    <tr>\n",
       "      <th>26</th>\n",
       "      <td>20150210</td>\n",
       "      <td>22592</td>\n",
       "      <td>165.82001</td>\n",
       "      <td>1885097.0</td>\n",
       "      <td>164.60001</td>\n",
       "      <td>166.14000</td>\n",
       "    </tr>\n",
       "    <tr>\n",
       "      <th>27</th>\n",
       "      <td>20150211</td>\n",
       "      <td>22592</td>\n",
       "      <td>164.48000</td>\n",
       "      <td>1695064.0</td>\n",
       "      <td>163.47000</td>\n",
       "      <td>164.97000</td>\n",
       "    </tr>\n",
       "    <tr>\n",
       "      <th>28</th>\n",
       "      <td>20150212</td>\n",
       "      <td>22592</td>\n",
       "      <td>165.91000</td>\n",
       "      <td>1615661.0</td>\n",
       "      <td>164.85001</td>\n",
       "      <td>165.95000</td>\n",
       "    </tr>\n",
       "    <tr>\n",
       "      <th>29</th>\n",
       "      <td>20150213</td>\n",
       "      <td>22592</td>\n",
       "      <td>165.94000</td>\n",
       "      <td>1792069.0</td>\n",
       "      <td>165.33000</td>\n",
       "      <td>166.62000</td>\n",
       "    </tr>\n",
       "    <tr>\n",
       "      <th>...</th>\n",
       "      <td>...</td>\n",
       "      <td>...</td>\n",
       "      <td>...</td>\n",
       "      <td>...</td>\n",
       "      <td>...</td>\n",
       "      <td>...</td>\n",
       "    </tr>\n",
       "    <tr>\n",
       "      <th>1019220</th>\n",
       "      <td>20171116</td>\n",
       "      <td>87952</td>\n",
       "      <td>36.63000</td>\n",
       "      <td>286606.0</td>\n",
       "      <td>36.38000</td>\n",
       "      <td>36.91000</td>\n",
       "    </tr>\n",
       "    <tr>\n",
       "      <th>1019221</th>\n",
       "      <td>20171117</td>\n",
       "      <td>87952</td>\n",
       "      <td>37.02000</td>\n",
       "      <td>411453.0</td>\n",
       "      <td>36.23940</td>\n",
       "      <td>37.12000</td>\n",
       "    </tr>\n",
       "    <tr>\n",
       "      <th>1019222</th>\n",
       "      <td>20171120</td>\n",
       "      <td>87952</td>\n",
       "      <td>37.59000</td>\n",
       "      <td>176356.0</td>\n",
       "      <td>37.01000</td>\n",
       "      <td>37.60000</td>\n",
       "    </tr>\n",
       "    <tr>\n",
       "      <th>1019223</th>\n",
       "      <td>20171121</td>\n",
       "      <td>87952</td>\n",
       "      <td>38.09000</td>\n",
       "      <td>363144.0</td>\n",
       "      <td>37.51000</td>\n",
       "      <td>38.10000</td>\n",
       "    </tr>\n",
       "    <tr>\n",
       "      <th>1019224</th>\n",
       "      <td>20171122</td>\n",
       "      <td>87952</td>\n",
       "      <td>37.54000</td>\n",
       "      <td>343585.0</td>\n",
       "      <td>37.52000</td>\n",
       "      <td>38.30000</td>\n",
       "    </tr>\n",
       "    <tr>\n",
       "      <th>1019225</th>\n",
       "      <td>20171124</td>\n",
       "      <td>87952</td>\n",
       "      <td>37.28000</td>\n",
       "      <td>124285.0</td>\n",
       "      <td>37.20000</td>\n",
       "      <td>37.84000</td>\n",
       "    </tr>\n",
       "    <tr>\n",
       "      <th>1019226</th>\n",
       "      <td>20171127</td>\n",
       "      <td>87952</td>\n",
       "      <td>37.29000</td>\n",
       "      <td>145788.0</td>\n",
       "      <td>37.29000</td>\n",
       "      <td>37.80000</td>\n",
       "    </tr>\n",
       "    <tr>\n",
       "      <th>1019227</th>\n",
       "      <td>20171128</td>\n",
       "      <td>87952</td>\n",
       "      <td>38.77000</td>\n",
       "      <td>548541.0</td>\n",
       "      <td>37.34000</td>\n",
       "      <td>38.84000</td>\n",
       "    </tr>\n",
       "    <tr>\n",
       "      <th>1019228</th>\n",
       "      <td>20171129</td>\n",
       "      <td>87952</td>\n",
       "      <td>40.31000</td>\n",
       "      <td>528975.0</td>\n",
       "      <td>38.84000</td>\n",
       "      <td>40.48000</td>\n",
       "    </tr>\n",
       "    <tr>\n",
       "      <th>1019229</th>\n",
       "      <td>20171130</td>\n",
       "      <td>87952</td>\n",
       "      <td>40.05000</td>\n",
       "      <td>433461.0</td>\n",
       "      <td>39.85000</td>\n",
       "      <td>40.72000</td>\n",
       "    </tr>\n",
       "    <tr>\n",
       "      <th>1019230</th>\n",
       "      <td>20171201</td>\n",
       "      <td>87952</td>\n",
       "      <td>40.24000</td>\n",
       "      <td>466614.0</td>\n",
       "      <td>38.62000</td>\n",
       "      <td>40.35000</td>\n",
       "    </tr>\n",
       "    <tr>\n",
       "      <th>1019231</th>\n",
       "      <td>20171204</td>\n",
       "      <td>87952</td>\n",
       "      <td>40.08000</td>\n",
       "      <td>493209.0</td>\n",
       "      <td>39.98500</td>\n",
       "      <td>41.23000</td>\n",
       "    </tr>\n",
       "    <tr>\n",
       "      <th>1019232</th>\n",
       "      <td>20171205</td>\n",
       "      <td>87952</td>\n",
       "      <td>38.90000</td>\n",
       "      <td>357782.0</td>\n",
       "      <td>38.88000</td>\n",
       "      <td>40.30000</td>\n",
       "    </tr>\n",
       "    <tr>\n",
       "      <th>1019233</th>\n",
       "      <td>20171206</td>\n",
       "      <td>87952</td>\n",
       "      <td>38.55000</td>\n",
       "      <td>205723.0</td>\n",
       "      <td>38.51000</td>\n",
       "      <td>39.12000</td>\n",
       "    </tr>\n",
       "    <tr>\n",
       "      <th>1019234</th>\n",
       "      <td>20171207</td>\n",
       "      <td>87952</td>\n",
       "      <td>38.44000</td>\n",
       "      <td>290934.0</td>\n",
       "      <td>37.64000</td>\n",
       "      <td>38.86000</td>\n",
       "    </tr>\n",
       "    <tr>\n",
       "      <th>1019235</th>\n",
       "      <td>20171208</td>\n",
       "      <td>87952</td>\n",
       "      <td>38.04000</td>\n",
       "      <td>332153.0</td>\n",
       "      <td>37.93000</td>\n",
       "      <td>38.77000</td>\n",
       "    </tr>\n",
       "    <tr>\n",
       "      <th>1019236</th>\n",
       "      <td>20171211</td>\n",
       "      <td>87952</td>\n",
       "      <td>37.72000</td>\n",
       "      <td>312616.0</td>\n",
       "      <td>37.59000</td>\n",
       "      <td>38.20000</td>\n",
       "    </tr>\n",
       "    <tr>\n",
       "      <th>1019237</th>\n",
       "      <td>20171212</td>\n",
       "      <td>87952</td>\n",
       "      <td>38.13000</td>\n",
       "      <td>333167.0</td>\n",
       "      <td>37.83000</td>\n",
       "      <td>38.43000</td>\n",
       "    </tr>\n",
       "    <tr>\n",
       "      <th>1019238</th>\n",
       "      <td>20171213</td>\n",
       "      <td>87952</td>\n",
       "      <td>37.91000</td>\n",
       "      <td>333716.0</td>\n",
       "      <td>37.80000</td>\n",
       "      <td>38.73500</td>\n",
       "    </tr>\n",
       "    <tr>\n",
       "      <th>1019239</th>\n",
       "      <td>20171214</td>\n",
       "      <td>87952</td>\n",
       "      <td>37.65000</td>\n",
       "      <td>545330.0</td>\n",
       "      <td>37.51000</td>\n",
       "      <td>38.29000</td>\n",
       "    </tr>\n",
       "    <tr>\n",
       "      <th>1019240</th>\n",
       "      <td>20171215</td>\n",
       "      <td>87952</td>\n",
       "      <td>38.76000</td>\n",
       "      <td>1420531.0</td>\n",
       "      <td>37.74000</td>\n",
       "      <td>39.17500</td>\n",
       "    </tr>\n",
       "    <tr>\n",
       "      <th>1019241</th>\n",
       "      <td>20171218</td>\n",
       "      <td>87952</td>\n",
       "      <td>39.72000</td>\n",
       "      <td>485981.0</td>\n",
       "      <td>39.18000</td>\n",
       "      <td>39.85000</td>\n",
       "    </tr>\n",
       "    <tr>\n",
       "      <th>1019242</th>\n",
       "      <td>20171219</td>\n",
       "      <td>87952</td>\n",
       "      <td>39.45000</td>\n",
       "      <td>519063.0</td>\n",
       "      <td>39.23000</td>\n",
       "      <td>40.22990</td>\n",
       "    </tr>\n",
       "    <tr>\n",
       "      <th>1019243</th>\n",
       "      <td>20171220</td>\n",
       "      <td>87952</td>\n",
       "      <td>39.20000</td>\n",
       "      <td>202773.0</td>\n",
       "      <td>38.72000</td>\n",
       "      <td>39.84000</td>\n",
       "    </tr>\n",
       "    <tr>\n",
       "      <th>1019244</th>\n",
       "      <td>20171221</td>\n",
       "      <td>87952</td>\n",
       "      <td>39.71000</td>\n",
       "      <td>194713.0</td>\n",
       "      <td>39.18000</td>\n",
       "      <td>39.83000</td>\n",
       "    </tr>\n",
       "    <tr>\n",
       "      <th>1019245</th>\n",
       "      <td>20171222</td>\n",
       "      <td>87952</td>\n",
       "      <td>39.53000</td>\n",
       "      <td>182311.0</td>\n",
       "      <td>39.14000</td>\n",
       "      <td>39.67000</td>\n",
       "    </tr>\n",
       "    <tr>\n",
       "      <th>1019246</th>\n",
       "      <td>20171226</td>\n",
       "      <td>87952</td>\n",
       "      <td>39.26000</td>\n",
       "      <td>160013.0</td>\n",
       "      <td>38.98500</td>\n",
       "      <td>39.62000</td>\n",
       "    </tr>\n",
       "    <tr>\n",
       "      <th>1019247</th>\n",
       "      <td>20171227</td>\n",
       "      <td>87952</td>\n",
       "      <td>39.21000</td>\n",
       "      <td>347964.0</td>\n",
       "      <td>38.95000</td>\n",
       "      <td>39.44000</td>\n",
       "    </tr>\n",
       "    <tr>\n",
       "      <th>1019248</th>\n",
       "      <td>20171228</td>\n",
       "      <td>87952</td>\n",
       "      <td>39.60000</td>\n",
       "      <td>212977.0</td>\n",
       "      <td>39.06000</td>\n",
       "      <td>39.60000</td>\n",
       "    </tr>\n",
       "    <tr>\n",
       "      <th>1019249</th>\n",
       "      <td>20171229</td>\n",
       "      <td>87952</td>\n",
       "      <td>39.39000</td>\n",
       "      <td>446463.0</td>\n",
       "      <td>39.35000</td>\n",
       "      <td>39.76000</td>\n",
       "    </tr>\n",
       "  </tbody>\n",
       "</table>\n",
       "<p>1019250 rows × 6 columns</p>\n",
       "</div>"
      ],
      "text/plain": [
       "             date  PERMNO        PRC        VOL      BIDLO      ASKHI\n",
       "0        20150102   22592  164.06000  2117562.0  162.73000  165.08000\n",
       "1        20150105   22592  160.36000  3692901.0  160.08000  163.64000\n",
       "2        20150106   22592  158.64999  3537144.0  157.74400  161.36990\n",
       "3        20150107   22592  159.80000  3081291.0  158.94000  160.28000\n",
       "4        20150108   22592  163.63000  3149592.0  160.52000  163.69000\n",
       "5        20150109   22592  161.62000  2378568.0  161.27000  164.00000\n",
       "6        20150112   22592  160.74001  2149230.0  160.02000  162.39000\n",
       "7        20150113   22592  160.62000  2706698.0  159.45000  164.38400\n",
       "8        20150114   22592  159.84000  1983535.0  158.50000  160.53000\n",
       "9        20150115   22592  159.66000  1881406.0  159.36749  161.44000\n",
       "10       20150116   22592  162.00000  2349676.0  159.09000  162.17999\n",
       "11       20150120   22592  161.94000  2096201.0  160.06000  163.39999\n",
       "12       20150121   22592  162.53999  1597680.0  161.02000  163.37000\n",
       "13       20150122   22592  165.89000  2225819.0  162.13000  165.99001\n",
       "14       20150123   22592  164.02000  2249181.0  163.91000  165.98000\n",
       "15       20150126   22592  164.24001  3556293.0  161.80009  164.28000\n",
       "16       20150127   22592  163.63000  4190749.0  160.94000  165.14000\n",
       "17       20150128   22592  163.94000  3574594.0  163.75999  166.57001\n",
       "18       20150129   22592  166.13000  2674618.0  162.88000  166.16000\n",
       "19       20150130   22592  162.30000  3561892.0  162.30000  165.22000\n",
       "20       20150202   22592  164.42000  2379692.0  160.89000  164.62000\n",
       "21       20150203   22592  165.94000  2604773.0  164.71001  166.19000\n",
       "22       20150204   22592  164.81000  2363803.0  164.24001  165.83000\n",
       "23       20150205   22592  166.55000  2050539.0  164.75000  166.59000\n",
       "24       20150206   22592  166.07001  1826929.0  165.56000  167.67999\n",
       "25       20150209   22592  164.84000  2072981.0  163.84000  165.53999\n",
       "26       20150210   22592  165.82001  1885097.0  164.60001  166.14000\n",
       "27       20150211   22592  164.48000  1695064.0  163.47000  164.97000\n",
       "28       20150212   22592  165.91000  1615661.0  164.85001  165.95000\n",
       "29       20150213   22592  165.94000  1792069.0  165.33000  166.62000\n",
       "...           ...     ...        ...        ...        ...        ...\n",
       "1019220  20171116   87952   36.63000   286606.0   36.38000   36.91000\n",
       "1019221  20171117   87952   37.02000   411453.0   36.23940   37.12000\n",
       "1019222  20171120   87952   37.59000   176356.0   37.01000   37.60000\n",
       "1019223  20171121   87952   38.09000   363144.0   37.51000   38.10000\n",
       "1019224  20171122   87952   37.54000   343585.0   37.52000   38.30000\n",
       "1019225  20171124   87952   37.28000   124285.0   37.20000   37.84000\n",
       "1019226  20171127   87952   37.29000   145788.0   37.29000   37.80000\n",
       "1019227  20171128   87952   38.77000   548541.0   37.34000   38.84000\n",
       "1019228  20171129   87952   40.31000   528975.0   38.84000   40.48000\n",
       "1019229  20171130   87952   40.05000   433461.0   39.85000   40.72000\n",
       "1019230  20171201   87952   40.24000   466614.0   38.62000   40.35000\n",
       "1019231  20171204   87952   40.08000   493209.0   39.98500   41.23000\n",
       "1019232  20171205   87952   38.90000   357782.0   38.88000   40.30000\n",
       "1019233  20171206   87952   38.55000   205723.0   38.51000   39.12000\n",
       "1019234  20171207   87952   38.44000   290934.0   37.64000   38.86000\n",
       "1019235  20171208   87952   38.04000   332153.0   37.93000   38.77000\n",
       "1019236  20171211   87952   37.72000   312616.0   37.59000   38.20000\n",
       "1019237  20171212   87952   38.13000   333167.0   37.83000   38.43000\n",
       "1019238  20171213   87952   37.91000   333716.0   37.80000   38.73500\n",
       "1019239  20171214   87952   37.65000   545330.0   37.51000   38.29000\n",
       "1019240  20171215   87952   38.76000  1420531.0   37.74000   39.17500\n",
       "1019241  20171218   87952   39.72000   485981.0   39.18000   39.85000\n",
       "1019242  20171219   87952   39.45000   519063.0   39.23000   40.22990\n",
       "1019243  20171220   87952   39.20000   202773.0   38.72000   39.84000\n",
       "1019244  20171221   87952   39.71000   194713.0   39.18000   39.83000\n",
       "1019245  20171222   87952   39.53000   182311.0   39.14000   39.67000\n",
       "1019246  20171226   87952   39.26000   160013.0   38.98500   39.62000\n",
       "1019247  20171227   87952   39.21000   347964.0   38.95000   39.44000\n",
       "1019248  20171228   87952   39.60000   212977.0   39.06000   39.60000\n",
       "1019249  20171229   87952   39.39000   446463.0   39.35000   39.76000\n",
       "\n",
       "[1019250 rows x 6 columns]"
      ]
     },
     "execution_count": 20,
     "metadata": {},
     "output_type": "execute_result"
    }
   ],
   "source": [
    "df_for_bckt.reset_index(level=0, drop=False).reset_index(drop=False)"
   ]
  },
  {
   "cell_type": "code",
   "execution_count": 35,
   "metadata": {},
   "outputs": [
    {
     "name": "stdout",
     "output_type": "stream",
     "text": [
      "The autoreload extension is already loaded. To reload it, use:\n",
      "  %reload_ext autoreload\n"
     ]
    }
   ],
   "source": [
    "import numpy as np\n",
    "import pandas as pd\n",
    "import pickle\n",
    "import numexpr as ne\n",
    "import matplotlib.pyplot as plt\n",
    "from functools import partial\n",
    "import os \n",
    "import re\n",
    "from data.data_processing import generate_dummy_data,DataHandler,get_training_data_from_path\n",
    "\n",
    "\n",
    "%load_ext autoreload\n",
    "%autoreload 2\n",
    "%matplotlib inline"
   ]
  },
  {
   "cell_type": "code",
   "execution_count": 66,
   "metadata": {},
   "outputs": [
    {
     "data": {
      "application/vnd.jupyter.widget-view+json": {
       "model_id": "8ea00453573d49ccaf4a5ad3676b2fa1",
       "version_major": 2,
       "version_minor": 0
      },
      "text/plain": [
       "Textarea(value='', layout=Layout(border='1px solid #999999', height='200px', width='100%'))"
      ]
     },
     "metadata": {},
     "output_type": "display_data"
    }
   ],
   "source": [
    "folder_for_samples = 'data/cnn_samples'\n",
    "path_to_dump_samples = os.path.join(folder_for_samples,'VWAP-1_week-2015_2017-all_stocks-32_pixels')\n",
    "\n",
    "\n",
    "handler = DataHandler(encoding_method='GADF', window_len=64, image_size=32, retrain_freq=5,\n",
    "                 start_date = 20150102, end_date= 20200102, frac_of_stocks=1.,\n",
    "                stock_data_dir_path= 'data/stock_data',\n",
    "                 dir_for_samples=path_to_dump_samples, nb_of_stocks_by_file=50,\n",
    "                      kwargs_target_methods = {'up_return':0.011,'down_return':-0.010}\n",
    "                 )\n",
    "\n",
    "handler.get_df_data()\n",
    "df = handler.df_data\n",
    "\n",
    "\n",
    "df = df.reset_index(drop=False).set_index(['PERMNO','date'])\n",
    "all_permno = np.unique([x[0] for x in df.index.values])[:1350]\n",
    "all_dates = np.unique([x[1] for x in df.index.values])"
   ]
  },
  {
   "cell_type": "code",
   "execution_count": 73,
   "metadata": {},
   "outputs": [],
   "source": [
    "from utils import load_pickle"
   ]
  },
  {
   "cell_type": "code",
   "execution_count": 76,
   "metadata": {},
   "outputs": [
    {
     "data": {
      "application/vnd.jupyter.widget-view+json": {
       "model_id": "fc08c517485b4e7f9f28c3f33056a307",
       "version_major": 2,
       "version_minor": 0
      },
      "text/plain": [
       "Textarea(value='', layout=Layout(border='1px solid #999999', height='200px', width='100%'))"
      ]
     },
     "metadata": {},
     "output_type": "display_data"
    }
   ],
   "source": [
    "dict_pickle = load_pickle('data/cnn_samples/VWAP-1_week-2015_2017-all_stocks-32_pixels/image_data_1')"
   ]
  },
  {
   "cell_type": "code",
   "execution_count": 83,
   "metadata": {},
   "outputs": [
    {
     "data": {
      "text/plain": [
       "(7538, 3)"
      ]
     },
     "execution_count": 83,
     "metadata": {},
     "output_type": "execute_result"
    }
   ],
   "source": [
    "dict_pickle['VWAP_targets'].shape"
   ]
  },
  {
   "cell_type": "code",
   "execution_count": 85,
   "metadata": {},
   "outputs": [
    {
     "data": {
      "text/plain": [
       "7550.0"
      ]
     },
     "execution_count": 85,
     "metadata": {},
     "output_type": "execute_result"
    }
   ],
   "source": [
    "37750/5"
   ]
  },
  {
   "cell_type": "markdown",
   "metadata": {},
   "source": [
    "## We need to have a key df_data_for_backtest in the pickle with exactly the same shape as _targets\n",
    "## Thus we will be able to put the predictions directly into a dataframe with corresponding permno and dates"
   ]
  },
  {
   "cell_type": "code",
   "execution_count": 84,
   "metadata": {},
   "outputs": [
    {
     "data": {
      "text/plain": [
       "(37750, 2)"
      ]
     },
     "execution_count": 84,
     "metadata": {},
     "output_type": "execute_result"
    }
   ],
   "source": [
    "dict_pickle['df_original_data'][['PRC','PERMNO']].shape"
   ]
  },
  {
   "cell_type": "code",
   "execution_count": 72,
   "metadata": {},
   "outputs": [
    {
     "data": {
      "text/html": [
       "<div>\n",
       "<style scoped>\n",
       "    .dataframe tbody tr th:only-of-type {\n",
       "        vertical-align: middle;\n",
       "    }\n",
       "\n",
       "    .dataframe tbody tr th {\n",
       "        vertical-align: top;\n",
       "    }\n",
       "\n",
       "    .dataframe thead th {\n",
       "        text-align: right;\n",
       "    }\n",
       "</style>\n",
       "<table border=\"1\" class=\"dataframe\">\n",
       "  <thead>\n",
       "    <tr style=\"text-align: right;\">\n",
       "      <th></th>\n",
       "      <th>date</th>\n",
       "      <th>PRC</th>\n",
       "      <th>VOL</th>\n",
       "      <th>BIDLO</th>\n",
       "      <th>ASKHI</th>\n",
       "    </tr>\n",
       "    <tr>\n",
       "      <th>PERMNO</th>\n",
       "      <th></th>\n",
       "      <th></th>\n",
       "      <th></th>\n",
       "      <th></th>\n",
       "      <th></th>\n",
       "    </tr>\n",
       "  </thead>\n",
       "  <tbody>\n",
       "    <tr>\n",
       "      <th>80320</th>\n",
       "      <td>20150102</td>\n",
       "      <td>36.58</td>\n",
       "      <td>624950.0</td>\n",
       "      <td>36.10</td>\n",
       "      <td>36.82</td>\n",
       "    </tr>\n",
       "    <tr>\n",
       "      <th>80320</th>\n",
       "      <td>20150105</td>\n",
       "      <td>36.22</td>\n",
       "      <td>537218.0</td>\n",
       "      <td>35.96</td>\n",
       "      <td>36.59</td>\n",
       "    </tr>\n",
       "    <tr>\n",
       "      <th>80320</th>\n",
       "      <td>20150106</td>\n",
       "      <td>35.81</td>\n",
       "      <td>393701.0</td>\n",
       "      <td>35.44</td>\n",
       "      <td>36.40</td>\n",
       "    </tr>\n",
       "    <tr>\n",
       "      <th>80320</th>\n",
       "      <td>20150107</td>\n",
       "      <td>35.92</td>\n",
       "      <td>355461.0</td>\n",
       "      <td>35.60</td>\n",
       "      <td>36.07</td>\n",
       "    </tr>\n",
       "    <tr>\n",
       "      <th>80320</th>\n",
       "      <td>20150108</td>\n",
       "      <td>36.29</td>\n",
       "      <td>510670.0</td>\n",
       "      <td>36.03</td>\n",
       "      <td>36.45</td>\n",
       "    </tr>\n",
       "  </tbody>\n",
       "</table>\n",
       "</div>"
      ],
      "text/plain": [
       "            date    PRC       VOL  BIDLO  ASKHI\n",
       "PERMNO                                         \n",
       "80320   20150102  36.58  624950.0  36.10  36.82\n",
       "80320   20150105  36.22  537218.0  35.96  36.59\n",
       "80320   20150106  35.81  393701.0  35.44  36.40\n",
       "80320   20150107  35.92  355461.0  35.60  36.07\n",
       "80320   20150108  36.29  510670.0  36.03  36.45"
      ]
     },
     "execution_count": 72,
     "metadata": {},
     "output_type": "execute_result"
    }
   ],
   "source": [
    "handler.df_data.head()"
   ]
  },
  {
   "cell_type": "code",
   "execution_count": 65,
   "metadata": {},
   "outputs": [
    {
     "data": {
      "text/plain": [
       "(10000, 3)"
      ]
     },
     "execution_count": 65,
     "metadata": {},
     "output_type": "execute_result"
    }
   ],
   "source": [
    "signals.shape"
   ]
  },
  {
   "cell_type": "code",
   "execution_count": 37,
   "metadata": {},
   "outputs": [
    {
     "ename": "ValueError",
     "evalue": "Length of values does not match length of index",
     "output_type": "error",
     "traceback": [
      "\u001b[1;31m---------------------------------------------------------------------------\u001b[0m",
      "\u001b[1;31mValueError\u001b[0m                                Traceback (most recent call last)",
      "\u001b[1;32m<ipython-input-37-7c968d77bc27>\u001b[0m in \u001b[0;36m<module>\u001b[1;34m()\u001b[0m\n\u001b[0;32m     13\u001b[0m \u001b[1;33m\u001b[0m\u001b[0m\n\u001b[0;32m     14\u001b[0m \u001b[1;33m\u001b[0m\u001b[0m\n\u001b[1;32m---> 15\u001b[1;33m \u001b[0msignals\u001b[0m\u001b[1;33m[\u001b[0m\u001b[1;34m'PERMNO'\u001b[0m\u001b[1;33m]\u001b[0m \u001b[1;33m=\u001b[0m \u001b[0mnp\u001b[0m\u001b[1;33m.\u001b[0m\u001b[0marray\u001b[0m\u001b[1;33m(\u001b[0m\u001b[1;33m[\u001b[0m\u001b[1;33m[\u001b[0m\u001b[0mx\u001b[0m\u001b[1;33m]\u001b[0m\u001b[1;33m*\u001b[0m\u001b[0mn\u001b[0m \u001b[1;32mfor\u001b[0m \u001b[0mx\u001b[0m \u001b[1;32min\u001b[0m \u001b[0mall_permno\u001b[0m\u001b[1;33m]\u001b[0m\u001b[1;33m)\u001b[0m\u001b[1;33m.\u001b[0m\u001b[0mravel\u001b[0m\u001b[1;33m(\u001b[0m\u001b[1;33m)\u001b[0m\u001b[1;33m\u001b[0m\u001b[0m\n\u001b[0m\u001b[0;32m     16\u001b[0m \u001b[0msignals\u001b[0m\u001b[1;33m[\u001b[0m\u001b[1;34m'rebalance_dates'\u001b[0m\u001b[1;33m]\u001b[0m \u001b[1;33m=\u001b[0m \u001b[0mrebalance_dates\u001b[0m\u001b[1;33m*\u001b[0m\u001b[1;36m1350\u001b[0m\u001b[1;33m\u001b[0m\u001b[0m\n\u001b[0;32m     17\u001b[0m \u001b[1;33m\u001b[0m\u001b[0m\n",
      "\u001b[1;32m~\\AppData\\Roaming\\Python\\Python36\\site-packages\\pandas\\core\\frame.py\u001b[0m in \u001b[0;36m__setitem__\u001b[1;34m(self, key, value)\u001b[0m\n\u001b[0;32m   3368\u001b[0m         \u001b[1;32melse\u001b[0m\u001b[1;33m:\u001b[0m\u001b[1;33m\u001b[0m\u001b[0m\n\u001b[0;32m   3369\u001b[0m             \u001b[1;31m# set column\u001b[0m\u001b[1;33m\u001b[0m\u001b[1;33m\u001b[0m\u001b[0m\n\u001b[1;32m-> 3370\u001b[1;33m             \u001b[0mself\u001b[0m\u001b[1;33m.\u001b[0m\u001b[0m_set_item\u001b[0m\u001b[1;33m(\u001b[0m\u001b[0mkey\u001b[0m\u001b[1;33m,\u001b[0m \u001b[0mvalue\u001b[0m\u001b[1;33m)\u001b[0m\u001b[1;33m\u001b[0m\u001b[0m\n\u001b[0m\u001b[0;32m   3371\u001b[0m \u001b[1;33m\u001b[0m\u001b[0m\n\u001b[0;32m   3372\u001b[0m     \u001b[1;32mdef\u001b[0m \u001b[0m_setitem_slice\u001b[0m\u001b[1;33m(\u001b[0m\u001b[0mself\u001b[0m\u001b[1;33m,\u001b[0m \u001b[0mkey\u001b[0m\u001b[1;33m,\u001b[0m \u001b[0mvalue\u001b[0m\u001b[1;33m)\u001b[0m\u001b[1;33m:\u001b[0m\u001b[1;33m\u001b[0m\u001b[0m\n",
      "\u001b[1;32m~\\AppData\\Roaming\\Python\\Python36\\site-packages\\pandas\\core\\frame.py\u001b[0m in \u001b[0;36m_set_item\u001b[1;34m(self, key, value)\u001b[0m\n\u001b[0;32m   3443\u001b[0m \u001b[1;33m\u001b[0m\u001b[0m\n\u001b[0;32m   3444\u001b[0m         \u001b[0mself\u001b[0m\u001b[1;33m.\u001b[0m\u001b[0m_ensure_valid_index\u001b[0m\u001b[1;33m(\u001b[0m\u001b[0mvalue\u001b[0m\u001b[1;33m)\u001b[0m\u001b[1;33m\u001b[0m\u001b[0m\n\u001b[1;32m-> 3445\u001b[1;33m         \u001b[0mvalue\u001b[0m \u001b[1;33m=\u001b[0m \u001b[0mself\u001b[0m\u001b[1;33m.\u001b[0m\u001b[0m_sanitize_column\u001b[0m\u001b[1;33m(\u001b[0m\u001b[0mkey\u001b[0m\u001b[1;33m,\u001b[0m \u001b[0mvalue\u001b[0m\u001b[1;33m)\u001b[0m\u001b[1;33m\u001b[0m\u001b[0m\n\u001b[0m\u001b[0;32m   3446\u001b[0m         \u001b[0mNDFrame\u001b[0m\u001b[1;33m.\u001b[0m\u001b[0m_set_item\u001b[0m\u001b[1;33m(\u001b[0m\u001b[0mself\u001b[0m\u001b[1;33m,\u001b[0m \u001b[0mkey\u001b[0m\u001b[1;33m,\u001b[0m \u001b[0mvalue\u001b[0m\u001b[1;33m)\u001b[0m\u001b[1;33m\u001b[0m\u001b[0m\n\u001b[0;32m   3447\u001b[0m \u001b[1;33m\u001b[0m\u001b[0m\n",
      "\u001b[1;32m~\\AppData\\Roaming\\Python\\Python36\\site-packages\\pandas\\core\\frame.py\u001b[0m in \u001b[0;36m_sanitize_column\u001b[1;34m(self, key, value, broadcast)\u001b[0m\n\u001b[0;32m   3628\u001b[0m \u001b[1;33m\u001b[0m\u001b[0m\n\u001b[0;32m   3629\u001b[0m             \u001b[1;31m# turn me into an ndarray\u001b[0m\u001b[1;33m\u001b[0m\u001b[1;33m\u001b[0m\u001b[0m\n\u001b[1;32m-> 3630\u001b[1;33m             \u001b[0mvalue\u001b[0m \u001b[1;33m=\u001b[0m \u001b[0msanitize_index\u001b[0m\u001b[1;33m(\u001b[0m\u001b[0mvalue\u001b[0m\u001b[1;33m,\u001b[0m \u001b[0mself\u001b[0m\u001b[1;33m.\u001b[0m\u001b[0mindex\u001b[0m\u001b[1;33m,\u001b[0m \u001b[0mcopy\u001b[0m\u001b[1;33m=\u001b[0m\u001b[1;32mFalse\u001b[0m\u001b[1;33m)\u001b[0m\u001b[1;33m\u001b[0m\u001b[0m\n\u001b[0m\u001b[0;32m   3631\u001b[0m             \u001b[1;32mif\u001b[0m \u001b[1;32mnot\u001b[0m \u001b[0misinstance\u001b[0m\u001b[1;33m(\u001b[0m\u001b[0mvalue\u001b[0m\u001b[1;33m,\u001b[0m \u001b[1;33m(\u001b[0m\u001b[0mnp\u001b[0m\u001b[1;33m.\u001b[0m\u001b[0mndarray\u001b[0m\u001b[1;33m,\u001b[0m \u001b[0mIndex\u001b[0m\u001b[1;33m)\u001b[0m\u001b[1;33m)\u001b[0m\u001b[1;33m:\u001b[0m\u001b[1;33m\u001b[0m\u001b[0m\n\u001b[0;32m   3632\u001b[0m                 \u001b[1;32mif\u001b[0m \u001b[0misinstance\u001b[0m\u001b[1;33m(\u001b[0m\u001b[0mvalue\u001b[0m\u001b[1;33m,\u001b[0m \u001b[0mlist\u001b[0m\u001b[1;33m)\u001b[0m \u001b[1;32mand\u001b[0m \u001b[0mlen\u001b[0m\u001b[1;33m(\u001b[0m\u001b[0mvalue\u001b[0m\u001b[1;33m)\u001b[0m \u001b[1;33m>\u001b[0m \u001b[1;36m0\u001b[0m\u001b[1;33m:\u001b[0m\u001b[1;33m\u001b[0m\u001b[0m\n",
      "\u001b[1;32m~\\AppData\\Roaming\\Python\\Python36\\site-packages\\pandas\\core\\internals\\construction.py\u001b[0m in \u001b[0;36msanitize_index\u001b[1;34m(data, index, copy)\u001b[0m\n\u001b[0;32m    517\u001b[0m \u001b[1;33m\u001b[0m\u001b[0m\n\u001b[0;32m    518\u001b[0m     \u001b[1;32mif\u001b[0m \u001b[0mlen\u001b[0m\u001b[1;33m(\u001b[0m\u001b[0mdata\u001b[0m\u001b[1;33m)\u001b[0m \u001b[1;33m!=\u001b[0m \u001b[0mlen\u001b[0m\u001b[1;33m(\u001b[0m\u001b[0mindex\u001b[0m\u001b[1;33m)\u001b[0m\u001b[1;33m:\u001b[0m\u001b[1;33m\u001b[0m\u001b[0m\n\u001b[1;32m--> 519\u001b[1;33m         \u001b[1;32mraise\u001b[0m \u001b[0mValueError\u001b[0m\u001b[1;33m(\u001b[0m\u001b[1;34m'Length of values does not match length of index'\u001b[0m\u001b[1;33m)\u001b[0m\u001b[1;33m\u001b[0m\u001b[0m\n\u001b[0m\u001b[0;32m    520\u001b[0m \u001b[1;33m\u001b[0m\u001b[0m\n\u001b[0;32m    521\u001b[0m     \u001b[1;32mif\u001b[0m \u001b[0misinstance\u001b[0m\u001b[1;33m(\u001b[0m\u001b[0mdata\u001b[0m\u001b[1;33m,\u001b[0m \u001b[0mABCIndexClass\u001b[0m\u001b[1;33m)\u001b[0m \u001b[1;32mand\u001b[0m \u001b[1;32mnot\u001b[0m \u001b[0mcopy\u001b[0m\u001b[1;33m:\u001b[0m\u001b[1;33m\u001b[0m\u001b[0m\n",
      "\u001b[1;31mValueError\u001b[0m: Length of values does not match length of index"
     ]
    }
   ],
   "source": [
    "image_size = 16 # Compress information for every 4 days;\n",
    "data_len = int(252/4)+1\n",
    "retrain_freq = 5\n",
    "nDays = len(all_dates)\n",
    "\n",
    "signals = pd.DataFrame(GN_pred)\n",
    "signals.columns = [['long', 'hold', 'short']]\n",
    "\n",
    "\n",
    "rebalance_dates = [all_dates[i] for i in range(data_len, nDays, retrain_freq)]\n",
    "rebalance_dates = rebalance_dates[int(len(rebalance_dates)*2/3)+1:]\n",
    "n = len(rebalance_dates)\n",
    "\n",
    "\n",
    "signals['PERMNO'] = np.array([[x]*n for x in all_permno]).ravel()\n",
    "signals['rebalance_dates'] = rebalance_dates*1350\n",
    "\n",
    "df1 = df.reset_index(level=0, drop=False).reset_index(drop=False)\n",
    "iv = df1.date\n",
    "prc_dict = {x: df1[ne.evaluate('iv==x')][['PRC', 'PERMNO']] for x in rebalance_dates}"
   ]
  },
  {
   "cell_type": "code",
   "execution_count": null,
   "metadata": {},
   "outputs": [],
   "source": [
    "iv = signals.rebalance_dates\n",
    "signal_dict = {x: signals[ne.evaluate('iv==x')][['long', 'hold', 'short', 'PERMNO']] for x in rebalance_dates}"
   ]
  },
  {
   "cell_type": "markdown",
   "metadata": {},
   "source": [
    "# Little tests section"
   ]
  },
  {
   "cell_type": "code",
   "execution_count": 45,
   "metadata": {},
   "outputs": [
    {
     "data": {
      "text/plain": [
       "<function tensorflow.python.framework.ops.device(device_name_or_function)>"
      ]
     },
     "execution_count": 45,
     "metadata": {},
     "output_type": "execute_result"
    }
   ],
   "source": [
    "tf.device"
   ]
  },
  {
   "cell_type": "code",
   "execution_count": 47,
   "metadata": {},
   "outputs": [
    {
     "name": "stdout",
     "output_type": "stream",
     "text": [
      "[name: \"/device:CPU:0\"\n",
      "device_type: \"CPU\"\n",
      "memory_limit: 268435456\n",
      "locality {\n",
      "}\n",
      "incarnation: 6690035029401750070\n",
      "]\n"
     ]
    }
   ],
   "source": [
    "from tensorflow.python.client import device_lib \n",
    "print(device_lib.list_local_devices())"
   ]
  },
  {
   "cell_type": "code",
   "execution_count": null,
   "metadata": {},
   "outputs": [],
   "source": []
  },
  {
   "cell_type": "code",
   "execution_count": null,
   "metadata": {},
   "outputs": [],
   "source": []
  },
  {
   "cell_type": "code",
   "execution_count": 30,
   "metadata": {},
   "outputs": [],
   "source": [
    "import tensorflow as tf"
   ]
  },
  {
   "cell_type": "code",
   "execution_count": 8,
   "metadata": {},
   "outputs": [
    {
     "data": {
      "text/plain": [
       "'model_checkpoints\\\\ckpt-266'"
      ]
     },
     "execution_count": 8,
     "metadata": {},
     "output_type": "execute_result"
    }
   ],
   "source": [
    "tf.train.latest_checkpoint('model_checkpoints')"
   ]
  },
  {
   "cell_type": "code",
   "execution_count": 13,
   "metadata": {
    "scrolled": false
   },
   "outputs": [
    {
     "name": "stdout",
     "output_type": "stream",
     "text": [
      "INFO:tensorflow:Restoring parameters from model_checkpoints\\ckpt-26\n"
     ]
    }
   ],
   "source": [
    "\n",
    "# with tf.variable_scope('test',reuse=tf.AUTO_REUSE):\n",
    "#     network2 = CondensedGoogLeNet(shape_x=shape_x,shape_y=shape_y,hyperparams=GoogleNet_hyperparams)\n",
    "#     network2.build_operations()\n",
    "sess=tf.Session()    \n",
    "#First let's load meta graph and restore weights\n",
    "# saver = tf.train.import_meta_graph('model_checkpoints/ckpt1-266.meta')\n",
    "saver = tf.train.import_meta_graph('model_checkpoints/ckpt-26.meta')\n",
    "saver.restore(sess,tf.train.latest_checkpoint('model_checkpoints'))"
   ]
  },
  {
   "cell_type": "code",
   "execution_count": 14,
   "metadata": {},
   "outputs": [],
   "source": [
    "graph = tf.get_default_graph()\n",
    "# w1 = graph.get_tensor_by_name(\"w1:0\")\n",
    "# w2 = graph.get_tensor_by_name(\"w2:0\")\n",
    "# feed_dict ={w1:13.0,w2:17.0}\n",
    "\n"
   ]
  },
  {
   "cell_type": "markdown",
   "metadata": {},
   "source": [
    "+ CondensedGoogLeNet/loss/Mean gets the loss\n",
    "+ CondensedGoogLeNet/Adam gets the optimizer\n",
    "+ CondensedGoogLeNet/accuracy/Mean gets the accuracy\n",
    "    + we can get the validation error just after\n",
    "+ CondensedGoogLeNet/Merge/MergeSummary gets the summary op\n",
    "+ CondensedGoogLeNet/init gets init_op\n",
    "+ "
   ]
  },
  {
   "cell_type": "code",
   "execution_count": 15,
   "metadata": {},
   "outputs": [],
   "source": [
    "output = graph.get_tensor_by_name('CondensedGoogLeNet/output:0')\n",
    "train_op = graph.get_tensor_by_name('CondensedGoogLeNet/minimize:0')\n",
    "x = graph.get_tensor_by_name('CondensedGoogLeNet/x:0')\n",
    "y = graph.get_tensor_by_name('CondensedGoogLeNet/y:0')\n",
    "global_step = graph.get_tensor_by_name('CondensedGoogLeNet/global_step:0')\n",
    "# loss = graph.get_tensor_by_name('CondensedGoogLeNet/loss/Mean:0')"
   ]
  },
  {
   "cell_type": "code",
   "execution_count": 18,
   "metadata": {},
   "outputs": [],
   "source": [
    "pred = sess.run([train_op,global_step],feed_dict={x:X_val[:100],y:Y_val[:100]})"
   ]
  },
  {
   "cell_type": "code",
   "execution_count": 19,
   "metadata": {},
   "outputs": [
    {
     "data": {
      "text/plain": [
       "[28, 28]"
      ]
     },
     "execution_count": 19,
     "metadata": {},
     "output_type": "execute_result"
    }
   ],
   "source": [
    "pred"
   ]
  },
  {
   "cell_type": "code",
   "execution_count": 62,
   "metadata": {},
   "outputs": [
    {
     "data": {
      "text/plain": [
       "<tf.Operation 'CondensedGoogLeNet/minimize' type=AssignAdd>"
      ]
     },
     "execution_count": 62,
     "metadata": {},
     "output_type": "execute_result"
    }
   ],
   "source": [
    "network.optimizer"
   ]
  },
  {
   "cell_type": "code",
   "execution_count": 99,
   "metadata": {},
   "outputs": [],
   "source": [
    "# train_op = graph.get_tensor_by_name('CondensedGoogLeNet/minimize:0')\n"
   ]
  },
  {
   "cell_type": "code",
   "execution_count": 49,
   "metadata": {},
   "outputs": [
    {
     "data": {
      "text/plain": [
       "<tf.Tensor 'CondensedGoogLeNet/Adam:0' shape=() dtype=int32_ref>"
      ]
     },
     "execution_count": 49,
     "metadata": {},
     "output_type": "execute_result"
    }
   ],
   "source": [
    "train_op"
   ]
  },
  {
   "cell_type": "code",
   "execution_count": 47,
   "metadata": {},
   "outputs": [
    {
     "data": {
      "text/plain": [
       "408"
      ]
     },
     "execution_count": 47,
     "metadata": {},
     "output_type": "execute_result"
    }
   ],
   "source": [
    "pred"
   ]
  },
  {
   "cell_type": "code",
   "execution_count": 48,
   "metadata": {},
   "outputs": [
    {
     "data": {
      "text/plain": [
       "array([[0.54534346, 0.31630963, 0.13834698],\n",
       "       [0.24215752, 0.27100408, 0.48683837],\n",
       "       [0.19895326, 0.2448365 , 0.5562103 ],\n",
       "       [0.46735036, 0.3460878 , 0.18656184],\n",
       "       [0.28557023, 0.5997592 , 0.11467056],\n",
       "       [0.3116192 , 0.43605033, 0.25233048],\n",
       "       [0.21186991, 0.61546487, 0.17266521],\n",
       "       [0.23539183, 0.67194796, 0.09266017],\n",
       "       [0.12098232, 0.7968117 , 0.08220595],\n",
       "       [0.13915536, 0.7540392 , 0.10680544],\n",
       "       [0.26458594, 0.61498356, 0.1204305 ],\n",
       "       [0.2907207 , 0.5771785 , 0.13210084],\n",
       "       [0.18505928, 0.5521796 , 0.26276112],\n",
       "       [0.20635134, 0.5497223 , 0.2439263 ],\n",
       "       [0.28695482, 0.5000306 , 0.2130146 ]], dtype=float32)"
      ]
     },
     "execution_count": 48,
     "metadata": {},
     "output_type": "execute_result"
    }
   ],
   "source": [
    "pred = sess.run(output,feed_dict={x:X_val1[:15]})\n",
    "pred"
   ]
  },
  {
   "cell_type": "code",
   "execution_count": 20,
   "metadata": {},
   "outputs": [
    {
     "data": {
      "text/plain": [
       "'model_checkpoints/test_restore'"
      ]
     },
     "execution_count": 20,
     "metadata": {},
     "output_type": "execute_result"
    }
   ],
   "source": [
    "saver.save(sess,'model_checkpoints/test_restore')"
   ]
  },
  {
   "cell_type": "code",
   "execution_count": 61,
   "metadata": {},
   "outputs": [
    {
     "data": {
      "text/plain": [
       "array([[<matplotlib.axes._subplots.AxesSubplot object at 0x000001EB8140E128>]],\n",
       "      dtype=object)"
      ]
     },
     "execution_count": 61,
     "metadata": {},
     "output_type": "execute_result"
    },
    {
     "data": {
      "image/png": "[encoded data removed]",
      "text/plain": [
       "<Figure size 432x288 with 1 Axes>"
      ]
     },
     "metadata": {},
     "output_type": "display_data"
    }
   ],
   "source": [
    "pd.DataFrame(np.max(pred,axis=1)).hist(bins=100)"
   ]
  },
  {
   "cell_type": "code",
   "execution_count": 46,
   "metadata": {},
   "outputs": [
    {
     "data": {
      "text/plain": [
       "array([[0.37601736, 0.38016203, 0.24382067],\n",
       "       [0.33472654, 0.37284032, 0.2924331 ],\n",
       "       [0.35309193, 0.30750227, 0.33940583],\n",
       "       [0.3471133 , 0.32821226, 0.3246745 ],\n",
       "       [0.3240848 , 0.3507759 , 0.3251393 ]], dtype=float32)"
      ]
     },
     "execution_count": 46,
     "metadata": {},
     "output_type": "execute_result"
    }
   ],
   "source": [
    "pred[:5]"
   ]
  },
  {
   "cell_type": "code",
   "execution_count": 42,
   "metadata": {},
   "outputs": [
    {
     "data": {
      "text/plain": [
       "array([[0.38847148, 0.36652684, 0.24500167],\n",
       "       [0.32993904, 0.42600474, 0.24405627],\n",
       "       [0.32316726, 0.3760524 , 0.30078036],\n",
       "       [0.33141774, 0.36307806, 0.3055042 ],\n",
       "       [0.36576766, 0.33067912, 0.30355325]], dtype=float32)"
      ]
     },
     "execution_count": 42,
     "metadata": {},
     "output_type": "execute_result"
    }
   ],
   "source": [
    "GN_pred[:5]"
   ]
  },
  {
   "cell_type": "code",
   "execution_count": 43,
   "metadata": {},
   "outputs": [
    {
     "data": {
      "text/plain": [
       "array([[0, 1, 0],\n",
       "       [0, 1, 0],\n",
       "       [0, 1, 0],\n",
       "       [1, 0, 0],\n",
       "       [0, 1, 0]])"
      ]
     },
     "execution_count": 43,
     "metadata": {},
     "output_type": "execute_result"
    }
   ],
   "source": [
    "Y_val[:5]"
   ]
  },
  {
   "cell_type": "code",
   "execution_count": 16,
   "metadata": {},
   "outputs": [
    {
     "data": {
      "text/plain": [
       "(1885, 3)"
      ]
     },
     "execution_count": 16,
     "metadata": {},
     "output_type": "execute_result"
    }
   ],
   "source": [
    "pred.shape"
   ]
  },
  {
   "cell_type": "code",
   "execution_count": null,
   "metadata": {},
   "outputs": [],
   "source": [
    "tf.reset_default_graph()\n",
    "\n",
    "# Create some variables.\n",
    "v1 = tf.get_variable(\"v1\", shape=[3])\n",
    "v2 = tf.get_variable(\"v2\", shape=[5])\n",
    "\n",
    "# Add ops to save and restore all the variables.\n",
    "saver = tf.train.Saver()\n",
    "\n",
    "# Later, launch the model, use the saver to restore variables from disk, and\n",
    "# do some work with the model.\n",
    "with tf.Session() as sess:\n",
    "  # Restore variables from disk.\n",
    "  saver.restore(sess, \"/tmp/model.ckpt\")\n",
    "  print(\"Model restored.\")\n",
    "  # Check the values of the variables\n",
    "  print(\"v1 : %s\" % v1.eval())\n",
    "  print(\"v2 : %s\" % v2.eval())"
   ]
  },
  {
   "cell_type": "code",
   "execution_count": null,
   "metadata": {},
   "outputs": [],
   "source": [
    "tf.train.latest_checkpoint"
   ]
  },
  {
   "cell_type": "code",
   "execution_count": 3,
   "metadata": {},
   "outputs": [
    {
     "data": {
      "text/plain": [
       "5"
      ]
     },
     "execution_count": 3,
     "metadata": {},
     "output_type": "execute_result"
    }
   ],
   "source": [
    "tf.train.import_meta_graph"
   ]
  }
 ],
 "metadata": {
  "kernelspec": {
   "display_name": "Python 3",
   "language": "python",
   "name": "python3"
  },
  "language_info": {
   "codemirror_mode": {
    "name": "ipython",
    "version": 3
   },
   "file_extension": ".py",
   "mimetype": "text/x-python",
   "name": "python",
   "nbconvert_exporter": "python",
   "pygments_lexer": "ipython3",
   "version": "3.6.5"
  }
 },
 "nbformat": 4,
 "nbformat_minor": 2
}
